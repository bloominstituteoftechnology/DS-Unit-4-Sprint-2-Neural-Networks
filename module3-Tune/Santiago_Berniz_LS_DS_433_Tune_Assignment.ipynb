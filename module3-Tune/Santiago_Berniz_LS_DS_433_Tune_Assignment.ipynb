{
  "nbformat": 4,
  "nbformat_minor": 0,
  "metadata": {
    "colab": {
      "name": "Santiago_Berniz_LS_DS_433_Tune_Assignment.ipynb",
      "provenance": [],
      "collapsed_sections": [],
      "toc_visible": true,
      "include_colab_link": true
    },
    "kernelspec": {
      "display_name": "Python 3",
      "language": "python",
      "name": "python3"
    },
    "language_info": {
      "codemirror_mode": {
        "name": "ipython",
        "version": 3
      },
      "file_extension": ".py",
      "mimetype": "text/x-python",
      "name": "python",
      "nbconvert_exporter": "python",
      "pygments_lexer": "ipython3",
      "version": "3.7.3"
    },
    "nteract": {
      "version": "0.22.4"
    },
    "accelerator": "GPU"
  },
  "cells": [
    {
      "cell_type": "markdown",
      "metadata": {
        "id": "view-in-github",
        "colab_type": "text"
      },
      "source": [
        "<a href=\"https://colab.research.google.com/github/sberniz/DS-Unit-4-Sprint-2-Neural-Networks/blob/main/module3-Tune/Santiago_Berniz_LS_DS_433_Tune_Assignment.ipynb\" target=\"_parent\"><img src=\"https://colab.research.google.com/assets/colab-badge.svg\" alt=\"Open In Colab\"/></a>"
      ]
    },
    {
      "cell_type": "markdown",
      "metadata": {
        "colab_type": "text",
        "id": "NGGrt9EYlCqY"
      },
      "source": [
        "<img align=\"left\" src=\"https://lever-client-logos.s3.amazonaws.com/864372b1-534c-480e-acd5-9711f850815c-1524247202159.png\" width=200>\n",
        "<br></br>\n",
        "<br></br>\n",
        "\n",
        "# Train Practice\n",
        "\n",
        "## *Data Science Unit 4 Sprint 2 Assignment 3*\n",
        "\n",
        "Continue to use TensorFlow Keras & a sample of the [Quickdraw dataset](https://github.com/googlecreativelab/quickdraw-dataset) to build a sketch classification model. The dataset has been sampled to only 10 classes and 10000 observations per class. Using your baseline model from yesterday, hyperparameter tune it and report on your highest validation accuracy. Your singular goal today is to achieve the highest accuracy possible.\n",
        "\n",
        "*Don't forgot to switch to GPU on Colab!*"
      ]
    },
    {
      "cell_type": "markdown",
      "metadata": {
        "id": "ptJ2b3wk62Ud",
        "colab_type": "text"
      },
      "source": [
        "### Hyperparameters to Tune\n",
        "\n",
        "At a minimum, tune each of these hyperparameters using any strategy we discussed during lecture today: \n",
        "- Optimizer\n",
        "- Learning Rate\n",
        "- Activiation Function\n",
        "  - At least 1 subparameter within the Relu activation function\n",
        "- Number of Neurons in Hidden Layers\n",
        "- Number of Hidden Layers\n",
        "- Weight Initialization"
      ]
    },
    {
      "cell_type": "code",
      "metadata": {
        "id": "Z4G35hL1UQSX",
        "colab_type": "code",
        "colab": {}
      },
      "source": [
        "# Imports\n",
        "from pathlib import Path\n",
        "import tensorflow as tf\n",
        "import pandas as pd\n",
        "import numpy as np\n",
        "from sklearn.model_selection import train_test_split\n",
        "from tensorflow.keras import Sequential\n",
        "from tensorflow.keras.layers import Dense\n",
        "from tensorflow.keras.optimizers import SGD,Adam, Adadelta, Adamax, Ftrl, Nadam\n",
        "from sklearn.model_selection import GridSearchCV\n",
        "from tensorflow.keras.wrappers.scikit_learn import KerasClassifier"
      ],
      "execution_count": 2,
      "outputs": []
    },
    {
      "cell_type": "code",
      "metadata": {
        "id": "USXjs7Hk71Hy",
        "colab_type": "code",
        "colab": {
          "base_uri": "https://localhost:8080/",
          "height": 35
        },
        "outputId": "e665a5d3-afe3-4476-f843-f2458d813466"
      },
      "source": [
        "#Load Dataset\n",
        "\n",
        "def load_quickdraw10(path):\n",
        "  data = np.load(path)\n",
        "  X = data['arr_0']\n",
        "  y = data['arr_1']\n",
        "  X = X.astype('float32') / 255.\n",
        "\n",
        "  return train_test_split(X,y,test_size=0.2, train_size=0.8, random_state=42)\n",
        "\n",
        "\n",
        "X_train, X_test, y_train, y_test = load_quickdraw10('quickdraw10.npz')\n",
        "X_train.shape,y_train.shape,X_test.shape,y_test.shape"
      ],
      "execution_count": 4,
      "outputs": [
        {
          "output_type": "execute_result",
          "data": {
            "text/plain": [
              "((80000, 784), (80000,), (20000, 784), (20000,))"
            ]
          },
          "metadata": {
            "tags": []
          },
          "execution_count": 4
        }
      ]
    },
    {
      "cell_type": "code",
      "metadata": {
        "id": "ZzQgMI54V2rU",
        "colab_type": "code",
        "colab": {}
      },
      "source": [
        "# At a minimum, tune each of these hyperparameters using any strategy we discussed during lecture today:\n",
        "\n",
        "# Optimizer\n",
        "# Learning Rate\n",
        "# Activiation Function\n",
        "# At least 1 subparameter within the Relu activation function\n",
        "# Number of Neurons in Hidden Layers\n",
        "# Number of Hidden Layers\n",
        "# Weight Initialization"
      ],
      "execution_count": 5,
      "outputs": []
    },
    {
      "cell_type": "code",
      "metadata": {
        "id": "Qnf5G1Zas_EQ",
        "colab_type": "code",
        "colab": {}
      },
      "source": [
        "# Function to create model, required for KerasClassifier\n",
        "def create_model(opt_name,lr,activation,n_neurons,layers,weights,bias):\n",
        "    # create model\n",
        "    model = Sequential()\n",
        "# Optimizers\n",
        "    if opt_name == 'adam':\n",
        "      opt = tf.keras.optimizers.Adam(learning_rate=lr)\n",
        "    elif opt_name == 'sgd':\n",
        "      opt = tf.keras.optimizers.SGD(learning_rate=lr)\n",
        "    else:\n",
        "      raise ValueError(f'Unexpected Optimizer: {opt_name}')\n",
        "\n",
        "# Number of Layers\n",
        "    for _ in range(layers):\n",
        "      model.add(Dense(n_neurons, input_dim=784, activation=activation,kernel_initializer=weights,bias_initializer=bias))\n",
        "\n",
        "# Output\n",
        "    model.add(Dense(10, activation='softmax'))\n",
        "\n",
        "    # Compile model\n",
        "    model.compile(loss='sparse_categorical_crossentropy', optimizer=opt, metrics=['accuracy'])\n",
        "    return model\n"
      ],
      "execution_count": 6,
      "outputs": []
    },
    {
      "cell_type": "code",
      "metadata": {
        "id": "nFuiGi522cGt",
        "colab_type": "code",
        "colab": {
          "base_uri": "https://localhost:8080/",
          "height": 961
        },
        "outputId": "ec503bb1-2492-44ff-8ed2-0e5f393819fb"
      },
      "source": [
        "\n",
        "# create model\n",
        "model = KerasClassifier(build_fn=create_model, verbose=10)\n",
        "\n",
        "# define the grid search parameters\n",
        "param_grid = {'batch_size': [32],\n",
        "              'epochs': [5],\n",
        "              'opt_name':['adam','sgd'],\n",
        "              'lr':[1,.01,.001,.0001],\n",
        "              'activation':['sigmoid','relu'],\n",
        "              'n_neurons':[16,32],\n",
        "              'layers':[1,2],\n",
        "              'weights':['random_uniform','random_normal'],\n",
        "              'bias':['zeros','ones']\n",
        "              }\n",
        "\n",
        "# Create Grid Search\n",
        "grid = GridSearchCV(estimator=model, param_grid=param_grid, n_jobs=1,verbose=10)\n",
        "grid_result = grid.fit(X_train, y_train)\n",
        "\n",
        "# Report Results\n",
        "print(f\"Best: {grid_result.best_score_} using {grid_result.best_params_}\")\n",
        "means = grid_result.cv_results_['mean_test_score']\n",
        "stds = grid_result.cv_results_['std_test_score']\n",
        "params = grid_result.cv_results_['params']\n",
        "for mean, stdev, param in zip(means, stds, params):\n",
        "    print(f\"Means: {mean}, Stdev: {stdev} with: {param}\") "
      ],
      "execution_count": null,
      "outputs": [
        {
          "output_type": "stream",
          "text": [
            "Fitting 5 folds for each of 256 candidates, totalling 1280 fits\n",
            "[CV] activation=sigmoid, batch_size=32, bias=zeros, epochs=5, layers=1, lr=1, n_neurons=16, opt_name=adam, weights=random_uniform \n"
          ],
          "name": "stdout"
        },
        {
          "output_type": "stream",
          "text": [
            "[Parallel(n_jobs=1)]: Using backend SequentialBackend with 1 concurrent workers.\n"
          ],
          "name": "stderr"
        },
        {
          "output_type": "stream",
          "text": [
            "Epoch 1/5\n",
            "Epoch 2/5\n",
            "Epoch 3/5\n",
            "Epoch 4/5\n",
            "Epoch 5/5\n",
            "[CV]  activation=sigmoid, batch_size=32, bias=zeros, epochs=5, layers=1, lr=1, n_neurons=16, opt_name=adam, weights=random_uniform, score=0.297, total=  10.9s\n",
            "[CV] activation=sigmoid, batch_size=32, bias=zeros, epochs=5, layers=1, lr=1, n_neurons=16, opt_name=adam, weights=random_uniform \n"
          ],
          "name": "stdout"
        },
        {
          "output_type": "stream",
          "text": [
            "[Parallel(n_jobs=1)]: Done   1 out of   1 | elapsed:   10.9s remaining:    0.0s\n"
          ],
          "name": "stderr"
        },
        {
          "output_type": "stream",
          "text": [
            "Epoch 1/5\n",
            "Epoch 2/5\n",
            "Epoch 3/5\n",
            "Epoch 4/5\n",
            "Epoch 5/5\n",
            "[CV]  activation=sigmoid, batch_size=32, bias=zeros, epochs=5, layers=1, lr=1, n_neurons=16, opt_name=adam, weights=random_uniform, score=0.370, total=  10.5s\n",
            "[CV] activation=sigmoid, batch_size=32, bias=zeros, epochs=5, layers=1, lr=1, n_neurons=16, opt_name=adam, weights=random_uniform \n",
            "Epoch 1/5\n"
          ],
          "name": "stdout"
        },
        {
          "output_type": "stream",
          "text": [
            "[Parallel(n_jobs=1)]: Done   2 out of   2 | elapsed:   21.4s remaining:    0.0s\n"
          ],
          "name": "stderr"
        },
        {
          "output_type": "stream",
          "text": [
            "Epoch 2/5\n",
            "Epoch 3/5\n",
            "Epoch 4/5\n",
            "Epoch 5/5\n",
            "[CV]  activation=sigmoid, batch_size=32, bias=zeros, epochs=5, layers=1, lr=1, n_neurons=16, opt_name=adam, weights=random_uniform, score=0.375, total=  10.3s\n",
            "[CV] activation=sigmoid, batch_size=32, bias=zeros, epochs=5, layers=1, lr=1, n_neurons=16, opt_name=adam, weights=random_uniform \n"
          ],
          "name": "stdout"
        },
        {
          "output_type": "stream",
          "text": [
            "[Parallel(n_jobs=1)]: Done   3 out of   3 | elapsed:   31.7s remaining:    0.0s\n"
          ],
          "name": "stderr"
        },
        {
          "output_type": "stream",
          "text": [
            "Epoch 1/5\n",
            "Epoch 2/5\n",
            "Epoch 3/5\n",
            "Epoch 4/5\n",
            "Epoch 5/5\n",
            "[CV]  activation=sigmoid, batch_size=32, bias=zeros, epochs=5, layers=1, lr=1, n_neurons=16, opt_name=adam, weights=random_uniform, score=0.300, total=  10.5s\n",
            "[CV] activation=sigmoid, batch_size=32, bias=zeros, epochs=5, layers=1, lr=1, n_neurons=16, opt_name=adam, weights=random_uniform \n",
            "Epoch 1/5\n"
          ],
          "name": "stdout"
        },
        {
          "output_type": "stream",
          "text": [
            "[Parallel(n_jobs=1)]: Done   4 out of   4 | elapsed:   42.2s remaining:    0.0s\n"
          ],
          "name": "stderr"
        },
        {
          "output_type": "stream",
          "text": [
            "Epoch 2/5\n",
            "Epoch 3/5\n",
            "Epoch 4/5\n",
            "Epoch 5/5\n",
            "[CV]  activation=sigmoid, batch_size=32, bias=zeros, epochs=5, layers=1, lr=1, n_neurons=16, opt_name=adam, weights=random_uniform, score=0.431, total=  10.4s\n",
            "[CV] activation=sigmoid, batch_size=32, bias=zeros, epochs=5, layers=1, lr=1, n_neurons=16, opt_name=adam, weights=random_normal \n",
            "Epoch 1/5\n"
          ],
          "name": "stdout"
        },
        {
          "output_type": "stream",
          "text": [
            "[Parallel(n_jobs=1)]: Done   5 out of   5 | elapsed:   52.6s remaining:    0.0s\n"
          ],
          "name": "stderr"
        },
        {
          "output_type": "stream",
          "text": [
            "Epoch 2/5\n",
            "Epoch 3/5\n",
            "Epoch 4/5\n",
            "Epoch 5/5\n",
            "[CV]  activation=sigmoid, batch_size=32, bias=zeros, epochs=5, layers=1, lr=1, n_neurons=16, opt_name=adam, weights=random_normal, score=0.187, total=  10.4s\n",
            "[CV] activation=sigmoid, batch_size=32, bias=zeros, epochs=5, layers=1, lr=1, n_neurons=16, opt_name=adam, weights=random_normal \n",
            "Epoch 1/5\n"
          ],
          "name": "stdout"
        },
        {
          "output_type": "stream",
          "text": [
            "[Parallel(n_jobs=1)]: Done   6 out of   6 | elapsed:  1.0min remaining:    0.0s\n"
          ],
          "name": "stderr"
        }
      ]
    },
    {
      "cell_type": "markdown",
      "metadata": {
        "id": "LKbr1gRg9BXs",
        "colab_type": "text"
      },
      "source": [
        "### Stretch Goals\n",
        "- Implement Bayesian Hyper-parameter Optimization\n",
        "- Select a new dataset and apply a neural network to it.\n",
        "- Use a cloud base experiment tracking framework such as weights and biases\n",
        "- Research potential architecture ideas for this problem. Try Lenet-10 for example. "
      ]
    }
  ]
}