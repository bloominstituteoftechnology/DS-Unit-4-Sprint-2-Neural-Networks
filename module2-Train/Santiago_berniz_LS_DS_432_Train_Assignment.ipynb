{
  "nbformat": 4,
  "nbformat_minor": 0,
  "metadata": {
    "colab": {
      "name": "Santiago_berniz_LS_DS_432_Train_Assignment.ipynb",
      "provenance": [],
      "collapsed_sections": [],
      "toc_visible": true,
      "include_colab_link": true
    },
    "kernelspec": {
      "display_name": "Python 3",
      "language": "python",
      "name": "python3"
    },
    "language_info": {
      "codemirror_mode": {
        "name": "ipython",
        "version": 3
      },
      "file_extension": ".py",
      "mimetype": "text/x-python",
      "name": "python",
      "nbconvert_exporter": "python",
      "pygments_lexer": "ipython3",
      "version": "3.7.3"
    },
    "nteract": {
      "version": "0.22.4"
    },
    "accelerator": "GPU"
  },
  "cells": [
    {
      "cell_type": "markdown",
      "metadata": {
        "id": "view-in-github",
        "colab_type": "text"
      },
      "source": [
        "<a href=\"https://colab.research.google.com/github/sberniz/DS-Unit-4-Sprint-2-Neural-Networks/blob/main/module2-Train/Santiago_berniz_LS_DS_432_Train_Assignment.ipynb\" target=\"_parent\"><img src=\"https://colab.research.google.com/assets/colab-badge.svg\" alt=\"Open In Colab\"/></a>"
      ]
    },
    {
      "cell_type": "markdown",
      "metadata": {
        "colab_type": "text",
        "id": "NGGrt9EYlCqY"
      },
      "source": [
        "<img align=\"left\" src=\"https://lever-client-logos.s3.amazonaws.com/864372b1-534c-480e-acd5-9711f850815c-1524247202159.png\" width=200>\n",
        "<br></br>\n",
        "<br></br>\n",
        "\n",
        "# Train Practice\n",
        "\n",
        "## *Data Science Unit 4 Sprint 2 Assignment 2*\n",
        "\n",
        "Continue to use TensorFlow Keras & a sample of the [Quickdraw dataset](https://github.com/googlecreativelab/quickdraw-dataset) to build a sketch classification model. The dataset has been sampled to only 10 classes and 10000 observations per class. Please build a baseline classification model then run a few experiments with different optimizers and learning rates. \n",
        "\n",
        "*Don't forgot to switch to GPU on Colab!*"
      ]
    },
    {
      "cell_type": "markdown",
      "metadata": {
        "id": "ptJ2b3wk62Ud",
        "colab_type": "text"
      },
      "source": [
        "### Write a function to load your data\n",
        "\n",
        "Wrap yesterday's preprocessing steps into a function that returns four items:\n",
        "* X_train\n",
        "* y_train\n",
        "* X_test\n",
        "* y_test\n",
        "\n",
        "Your function should accept a `path` to the data as a argument."
      ]
    },
    {
      "cell_type": "code",
      "metadata": {
        "id": "dI1P4Jbekc_4",
        "colab_type": "code",
        "colab": {}
      },
      "source": [
        "from pathlib import Path\n",
        "import tensorflow as tf\n",
        "import pandas as pd\n",
        "import numpy as np\n",
        "from sklearn.model_selection import train_test_split\n",
        "from tensorflow.keras import Sequential\n",
        "from tensorflow.keras.layers import Dense\n",
        "from tensorflow.keras.optimizers import SGD,Adam, Adadelta, Adamax, Ftrl, Nadam\n"
      ],
      "execution_count": 108,
      "outputs": []
    },
    {
      "cell_type": "code",
      "metadata": {
        "id": "Y75VakDMol3w",
        "colab_type": "code",
        "colab": {
          "base_uri": "https://localhost:8080/",
          "height": 52
        },
        "outputId": "ab4f722d-ced1-4b28-85ed-f437109fbd37"
      },
      "source": [
        "import numpy as np\n",
        "\n",
        "data = np.load('quickdraw10.npz')\n",
        "X = data['arr_0']\n",
        "y = data['arr_1']\n",
        "\n",
        "print(X.shape)\n",
        "print(y.shape)"
      ],
      "execution_count": 38,
      "outputs": [
        {
          "output_type": "stream",
          "text": [
            "(100000, 784)\n",
            "(100000,)\n"
          ],
          "name": "stdout"
        }
      ]
    },
    {
      "cell_type": "code",
      "metadata": {
        "id": "nJsIsrvp7O3e",
        "colab_type": "code",
        "colab": {}
      },
      "source": [
        "def load_quickdraw10(path):\n",
        "  data = np.load(path)\n",
        "  X = data['arr_0']\n",
        "  y = data['arr_1']\n",
        "  X = X.astype('float32') / 255.\n",
        "\n",
        "  return train_test_split(X,y,test_size=0.2, train_size=0.8, random_state=42)"
      ],
      "execution_count": 39,
      "outputs": []
    },
    {
      "cell_type": "code",
      "metadata": {
        "id": "a3PygA6emua0",
        "colab_type": "code",
        "colab": {}
      },
      "source": [
        "X_train, X_test, y_train, y_test = load_quickdraw10('quickdraw10.npz')"
      ],
      "execution_count": 40,
      "outputs": []
    },
    {
      "cell_type": "code",
      "metadata": {
        "id": "JFCD-sFum43X",
        "colab_type": "code",
        "colab": {
          "base_uri": "https://localhost:8080/",
          "height": 35
        },
        "outputId": "9c4f3fd0-073b-4f3b-99d1-d68320160bfb"
      },
      "source": [
        "X_train.shape,y_train.shape,X_test.shape,y_test.shape"
      ],
      "execution_count": 41,
      "outputs": [
        {
          "output_type": "execute_result",
          "data": {
            "text/plain": [
              "((80000, 784), (80000,), (20000, 784), (20000,))"
            ]
          },
          "metadata": {
            "tags": []
          },
          "execution_count": 41
        }
      ]
    },
    {
      "cell_type": "markdown",
      "metadata": {
        "id": "l-6PxI6H5__2",
        "colab_type": "text"
      },
      "source": [
        "### Write a Model Function\n",
        "Using your model from yesterday, write a function called `create_model` which returns a compiled TensorFlow Keras Sequential Model suitable for classifying the QuickDraw-10 dataset. Include parameters for the following: \n",
        "* Learning Rate\n",
        "* Optimizer"
      ]
    },
    {
      "cell_type": "code",
      "metadata": {
        "colab_type": "code",
        "id": "nEREYT-3wI1f",
        "colab": {}
      },
      "source": [
        "##### Your Code Here #####\n",
        "\n",
        "def create_model(lr=0.1,opt=SGD):\n",
        "  optimizer = opt(learning_rate=lr)\n",
        "  model = Sequential(\n",
        "      [\n",
        "       Dense(32, activation='relu', input_dim=784),\n",
        "       Dense(32, activation='relu'),\n",
        "       Dense(10, activation='softmax')\n",
        "\n",
        "      ]\n",
        "  )\n",
        "  model.compile(optimizer=optimizer, loss='sparse_categorical_crossentropy', metrics=['accuracy'])\n",
        "  \n",
        "  return model"
      ],
      "execution_count": 42,
      "outputs": []
    },
    {
      "cell_type": "markdown",
      "metadata": {
        "id": "f0pCkh8C7eGL",
        "colab_type": "text"
      },
      "source": [
        "### Experiment with Batch Size\n",
        "* Run 5 experiments with various batch sizes of your choice. \n",
        "* Visualize the results\n",
        "* Write up an analysis of the experiments and select the \"best\" performing model among your experiments. Make sure to compare against your model's performance yesterday. "
      ]
    },
    {
      "cell_type": "code",
      "metadata": {
        "id": "USXjs7Hk71Hy",
        "colab_type": "code",
        "colab": {
          "base_uri": "https://localhost:8080/",
          "height": 1000
        },
        "outputId": "0f43a3bd-ef84-4e12-cd6d-1b73c74e5ebc"
      },
      "source": [
        "default_model = create_model()\n",
        "batch_default_32 = default_model.fit(X_train,y_train, epochs=30,batch_size=32,validation_data=(X_test,y_test))"
      ],
      "execution_count": 60,
      "outputs": [
        {
          "output_type": "stream",
          "text": [
            "Epoch 1/30\n",
            "2500/2500 [==============================] - 5s 2ms/step - loss: 0.7641 - accuracy: 0.7646 - val_loss: 0.6244 - val_accuracy: 0.8110\n",
            "Epoch 2/30\n",
            "2500/2500 [==============================] - 5s 2ms/step - loss: 0.5760 - accuracy: 0.8258 - val_loss: 0.5642 - val_accuracy: 0.8263\n",
            "Epoch 3/30\n",
            "2500/2500 [==============================] - 5s 2ms/step - loss: 0.5286 - accuracy: 0.8392 - val_loss: 0.5350 - val_accuracy: 0.8394\n",
            "Epoch 4/30\n",
            "2500/2500 [==============================] - 5s 2ms/step - loss: 0.4998 - accuracy: 0.8477 - val_loss: 0.5158 - val_accuracy: 0.8444\n",
            "Epoch 5/30\n",
            "2500/2500 [==============================] - 5s 2ms/step - loss: 0.4801 - accuracy: 0.8540 - val_loss: 0.5112 - val_accuracy: 0.8435\n",
            "Epoch 6/30\n",
            "2500/2500 [==============================] - 5s 2ms/step - loss: 0.4652 - accuracy: 0.8583 - val_loss: 0.5107 - val_accuracy: 0.8454\n",
            "Epoch 7/30\n",
            "2500/2500 [==============================] - 5s 2ms/step - loss: 0.4535 - accuracy: 0.8613 - val_loss: 0.5109 - val_accuracy: 0.8471\n",
            "Epoch 8/30\n",
            "2500/2500 [==============================] - 5s 2ms/step - loss: 0.4428 - accuracy: 0.8650 - val_loss: 0.5133 - val_accuracy: 0.8457\n",
            "Epoch 9/30\n",
            "2500/2500 [==============================] - 5s 2ms/step - loss: 0.4359 - accuracy: 0.8675 - val_loss: 0.5152 - val_accuracy: 0.8451\n",
            "Epoch 10/30\n",
            "2500/2500 [==============================] - 5s 2ms/step - loss: 0.4295 - accuracy: 0.8685 - val_loss: 0.5080 - val_accuracy: 0.8485\n",
            "Epoch 11/30\n",
            "2500/2500 [==============================] - 5s 2ms/step - loss: 0.4228 - accuracy: 0.8700 - val_loss: 0.5091 - val_accuracy: 0.8478\n",
            "Epoch 12/30\n",
            "2500/2500 [==============================] - 5s 2ms/step - loss: 0.4171 - accuracy: 0.8723 - val_loss: 0.5079 - val_accuracy: 0.8494\n",
            "Epoch 13/30\n",
            "2500/2500 [==============================] - 6s 2ms/step - loss: 0.4120 - accuracy: 0.8732 - val_loss: 0.5026 - val_accuracy: 0.8490\n",
            "Epoch 14/30\n",
            "2500/2500 [==============================] - 5s 2ms/step - loss: 0.4070 - accuracy: 0.8751 - val_loss: 0.5079 - val_accuracy: 0.8502\n",
            "Epoch 15/30\n",
            "2500/2500 [==============================] - 5s 2ms/step - loss: 0.4043 - accuracy: 0.8755 - val_loss: 0.5070 - val_accuracy: 0.8479\n",
            "Epoch 16/30\n",
            "2500/2500 [==============================] - 5s 2ms/step - loss: 0.3993 - accuracy: 0.8776 - val_loss: 0.5100 - val_accuracy: 0.8468\n",
            "Epoch 17/30\n",
            "2500/2500 [==============================] - 5s 2ms/step - loss: 0.3961 - accuracy: 0.8782 - val_loss: 0.5087 - val_accuracy: 0.8521\n",
            "Epoch 18/30\n",
            "2500/2500 [==============================] - 5s 2ms/step - loss: 0.3922 - accuracy: 0.8802 - val_loss: 0.5244 - val_accuracy: 0.8476\n",
            "Epoch 19/30\n",
            "2500/2500 [==============================] - 5s 2ms/step - loss: 0.3886 - accuracy: 0.8812 - val_loss: 0.5055 - val_accuracy: 0.8517\n",
            "Epoch 20/30\n",
            "2500/2500 [==============================] - 5s 2ms/step - loss: 0.3851 - accuracy: 0.8818 - val_loss: 0.5005 - val_accuracy: 0.8531\n",
            "Epoch 21/30\n",
            "2500/2500 [==============================] - 5s 2ms/step - loss: 0.3817 - accuracy: 0.8819 - val_loss: 0.5241 - val_accuracy: 0.8471\n",
            "Epoch 22/30\n",
            "2500/2500 [==============================] - 5s 2ms/step - loss: 0.3793 - accuracy: 0.8836 - val_loss: 0.5194 - val_accuracy: 0.8480\n",
            "Epoch 23/30\n",
            "2500/2500 [==============================] - 5s 2ms/step - loss: 0.3758 - accuracy: 0.8840 - val_loss: 0.5174 - val_accuracy: 0.8504\n",
            "Epoch 24/30\n",
            "2500/2500 [==============================] - 5s 2ms/step - loss: 0.3745 - accuracy: 0.8845 - val_loss: 0.5289 - val_accuracy: 0.8477\n",
            "Epoch 25/30\n",
            "2500/2500 [==============================] - 5s 2ms/step - loss: 0.3710 - accuracy: 0.8859 - val_loss: 0.5291 - val_accuracy: 0.8505\n",
            "Epoch 26/30\n",
            "2500/2500 [==============================] - 5s 2ms/step - loss: 0.3687 - accuracy: 0.8870 - val_loss: 0.5195 - val_accuracy: 0.8496\n",
            "Epoch 27/30\n",
            "2500/2500 [==============================] - 5s 2ms/step - loss: 0.3667 - accuracy: 0.8871 - val_loss: 0.5381 - val_accuracy: 0.8482\n",
            "Epoch 28/30\n",
            "2500/2500 [==============================] - 5s 2ms/step - loss: 0.3629 - accuracy: 0.8882 - val_loss: 0.5380 - val_accuracy: 0.8474\n",
            "Epoch 29/30\n",
            "2500/2500 [==============================] - 5s 2ms/step - loss: 0.3625 - accuracy: 0.8879 - val_loss: 0.5321 - val_accuracy: 0.8472\n",
            "Epoch 30/30\n",
            "2500/2500 [==============================] - 5s 2ms/step - loss: 0.3603 - accuracy: 0.8886 - val_loss: 0.5438 - val_accuracy: 0.8438\n"
          ],
          "name": "stdout"
        }
      ]
    },
    {
      "cell_type": "code",
      "metadata": {
        "id": "bNpmcM62s0lW",
        "colab_type": "code",
        "colab": {
          "base_uri": "https://localhost:8080/",
          "height": 1000
        },
        "outputId": "0af34944-385f-4eed-ed02-cd0d8d0a9960"
      },
      "source": [
        "model_small_5 = create_model()\n",
        "batch_small_5 = model_small_5.fit(X_train,y_train, epochs=30,batch_size=5,validation_data=(X_test,y_test))"
      ],
      "execution_count": 61,
      "outputs": [
        {
          "output_type": "stream",
          "text": [
            "Epoch 1/30\n",
            "16000/16000 [==============================] - 30s 2ms/step - loss: 0.7817 - accuracy: 0.7609 - val_loss: 0.6655 - val_accuracy: 0.8094\n",
            "Epoch 2/30\n",
            "16000/16000 [==============================] - 29s 2ms/step - loss: 0.6475 - accuracy: 0.8057 - val_loss: 0.6403 - val_accuracy: 0.8066\n",
            "Epoch 3/30\n",
            "16000/16000 [==============================] - 30s 2ms/step - loss: 0.6182 - accuracy: 0.8141 - val_loss: 0.6406 - val_accuracy: 0.8081\n",
            "Epoch 4/30\n",
            "16000/16000 [==============================] - 29s 2ms/step - loss: 0.6024 - accuracy: 0.8206 - val_loss: 0.6496 - val_accuracy: 0.8138\n",
            "Epoch 5/30\n",
            "16000/16000 [==============================] - 30s 2ms/step - loss: 0.5846 - accuracy: 0.8247 - val_loss: 0.6218 - val_accuracy: 0.8163\n",
            "Epoch 6/30\n",
            "16000/16000 [==============================] - 30s 2ms/step - loss: 0.5777 - accuracy: 0.8255 - val_loss: 0.6274 - val_accuracy: 0.8208\n",
            "Epoch 7/30\n",
            "16000/16000 [==============================] - 29s 2ms/step - loss: 0.5698 - accuracy: 0.8292 - val_loss: 0.6270 - val_accuracy: 0.8188\n",
            "Epoch 8/30\n",
            "16000/16000 [==============================] - 30s 2ms/step - loss: 0.5569 - accuracy: 0.8332 - val_loss: 0.6561 - val_accuracy: 0.8161\n",
            "Epoch 9/30\n",
            "16000/16000 [==============================] - 30s 2ms/step - loss: 0.5476 - accuracy: 0.8366 - val_loss: 0.6357 - val_accuracy: 0.8251\n",
            "Epoch 10/30\n",
            "16000/16000 [==============================] - 29s 2ms/step - loss: 0.5440 - accuracy: 0.8379 - val_loss: 0.6415 - val_accuracy: 0.8219\n",
            "Epoch 11/30\n",
            "16000/16000 [==============================] - 30s 2ms/step - loss: 0.5400 - accuracy: 0.8381 - val_loss: 0.6631 - val_accuracy: 0.8062\n",
            "Epoch 12/30\n",
            "16000/16000 [==============================] - 30s 2ms/step - loss: 0.5346 - accuracy: 0.8415 - val_loss: 0.6294 - val_accuracy: 0.8235\n",
            "Epoch 13/30\n",
            "16000/16000 [==============================] - 29s 2ms/step - loss: 0.5316 - accuracy: 0.8423 - val_loss: 0.7014 - val_accuracy: 0.8103\n",
            "Epoch 14/30\n",
            "16000/16000 [==============================] - 30s 2ms/step - loss: 0.5274 - accuracy: 0.8432 - val_loss: 0.6420 - val_accuracy: 0.8253\n",
            "Epoch 15/30\n",
            "16000/16000 [==============================] - 29s 2ms/step - loss: 0.5212 - accuracy: 0.8444 - val_loss: 0.6940 - val_accuracy: 0.8141\n",
            "Epoch 16/30\n",
            "16000/16000 [==============================] - 30s 2ms/step - loss: 0.5212 - accuracy: 0.8459 - val_loss: 0.6535 - val_accuracy: 0.8189\n",
            "Epoch 17/30\n",
            "16000/16000 [==============================] - 30s 2ms/step - loss: 0.5178 - accuracy: 0.8457 - val_loss: 0.6447 - val_accuracy: 0.8247\n",
            "Epoch 18/30\n",
            "16000/16000 [==============================] - 30s 2ms/step - loss: 0.5140 - accuracy: 0.8483 - val_loss: 0.6517 - val_accuracy: 0.8231\n",
            "Epoch 19/30\n",
            "16000/16000 [==============================] - 30s 2ms/step - loss: 0.5102 - accuracy: 0.8489 - val_loss: 0.6497 - val_accuracy: 0.8183\n",
            "Epoch 20/30\n",
            "16000/16000 [==============================] - 29s 2ms/step - loss: 0.5103 - accuracy: 0.8479 - val_loss: 0.6455 - val_accuracy: 0.8235\n",
            "Epoch 21/30\n",
            "16000/16000 [==============================] - 30s 2ms/step - loss: 0.5075 - accuracy: 0.8489 - val_loss: 0.7614 - val_accuracy: 0.8196\n",
            "Epoch 22/30\n",
            "16000/16000 [==============================] - 29s 2ms/step - loss: 0.5118 - accuracy: 0.8479 - val_loss: 0.6601 - val_accuracy: 0.8249\n",
            "Epoch 23/30\n",
            "16000/16000 [==============================] - 29s 2ms/step - loss: 0.5054 - accuracy: 0.8503 - val_loss: 0.6759 - val_accuracy: 0.8223\n",
            "Epoch 24/30\n",
            "16000/16000 [==============================] - 30s 2ms/step - loss: 0.5038 - accuracy: 0.8511 - val_loss: 0.6777 - val_accuracy: 0.8212\n",
            "Epoch 25/30\n",
            "16000/16000 [==============================] - 30s 2ms/step - loss: 0.5021 - accuracy: 0.8501 - val_loss: 0.7031 - val_accuracy: 0.8209\n",
            "Epoch 26/30\n",
            "16000/16000 [==============================] - 29s 2ms/step - loss: 0.5001 - accuracy: 0.8500 - val_loss: 0.6866 - val_accuracy: 0.8190\n",
            "Epoch 27/30\n",
            "16000/16000 [==============================] - 30s 2ms/step - loss: 0.5022 - accuracy: 0.8501 - val_loss: 0.6813 - val_accuracy: 0.8158\n",
            "Epoch 28/30\n",
            "16000/16000 [==============================] - 29s 2ms/step - loss: 0.5006 - accuracy: 0.8503 - val_loss: 0.7261 - val_accuracy: 0.8036\n",
            "Epoch 29/30\n",
            "16000/16000 [==============================] - 30s 2ms/step - loss: 0.4982 - accuracy: 0.8517 - val_loss: 0.6998 - val_accuracy: 0.8153\n",
            "Epoch 30/30\n",
            "16000/16000 [==============================] - 29s 2ms/step - loss: 0.4985 - accuracy: 0.8524 - val_loss: 0.6928 - val_accuracy: 0.8238\n"
          ],
          "name": "stdout"
        }
      ]
    },
    {
      "cell_type": "code",
      "metadata": {
        "id": "Cd7DSXFQtAmi",
        "colab_type": "code",
        "colab": {
          "base_uri": "https://localhost:8080/",
          "height": 1000
        },
        "outputId": "8395c14d-cd7a-4878-c2a5-860dded7619a"
      },
      "source": [
        "model_medium_21 = create_model()\n",
        "batch_medium_21 = model_medium_21.fit(X_train,y_train, epochs=30,batch_size=21,validation_data=(X_test,y_test))"
      ],
      "execution_count": 62,
      "outputs": [
        {
          "output_type": "stream",
          "text": [
            "Epoch 1/30\n",
            "3810/3810 [==============================] - 9s 2ms/step - loss: 0.7449 - accuracy: 0.7698 - val_loss: 0.6276 - val_accuracy: 0.8083\n",
            "Epoch 2/30\n",
            "3810/3810 [==============================] - 8s 2ms/step - loss: 0.5697 - accuracy: 0.8267 - val_loss: 0.6135 - val_accuracy: 0.8099\n",
            "Epoch 3/30\n",
            "3810/3810 [==============================] - 9s 2ms/step - loss: 0.5226 - accuracy: 0.8400 - val_loss: 0.5440 - val_accuracy: 0.8345\n",
            "Epoch 4/30\n",
            "3810/3810 [==============================] - 8s 2ms/step - loss: 0.4955 - accuracy: 0.8471 - val_loss: 0.5431 - val_accuracy: 0.8336\n",
            "Epoch 5/30\n",
            "3810/3810 [==============================] - 8s 2ms/step - loss: 0.4784 - accuracy: 0.8530 - val_loss: 0.5180 - val_accuracy: 0.8421\n",
            "Epoch 6/30\n",
            "3810/3810 [==============================] - 9s 2ms/step - loss: 0.4646 - accuracy: 0.8569 - val_loss: 0.5139 - val_accuracy: 0.8433\n",
            "Epoch 7/30\n",
            "3810/3810 [==============================] - 8s 2ms/step - loss: 0.4542 - accuracy: 0.8597 - val_loss: 0.5187 - val_accuracy: 0.8456\n",
            "Epoch 8/30\n",
            "3810/3810 [==============================] - 8s 2ms/step - loss: 0.4451 - accuracy: 0.8631 - val_loss: 0.5257 - val_accuracy: 0.8392\n",
            "Epoch 9/30\n",
            "3810/3810 [==============================] - 8s 2ms/step - loss: 0.4373 - accuracy: 0.8652 - val_loss: 0.5167 - val_accuracy: 0.8454\n",
            "Epoch 10/30\n",
            "3810/3810 [==============================] - 8s 2ms/step - loss: 0.4305 - accuracy: 0.8672 - val_loss: 0.5603 - val_accuracy: 0.8374\n",
            "Epoch 11/30\n",
            "3810/3810 [==============================] - 8s 2ms/step - loss: 0.4263 - accuracy: 0.8690 - val_loss: 0.5356 - val_accuracy: 0.8382\n",
            "Epoch 12/30\n",
            "3810/3810 [==============================] - 8s 2ms/step - loss: 0.4206 - accuracy: 0.8706 - val_loss: 0.5325 - val_accuracy: 0.8418\n",
            "Epoch 13/30\n",
            "3810/3810 [==============================] - 8s 2ms/step - loss: 0.4138 - accuracy: 0.8723 - val_loss: 0.5269 - val_accuracy: 0.8437\n",
            "Epoch 14/30\n",
            "3810/3810 [==============================] - 8s 2ms/step - loss: 0.4122 - accuracy: 0.8725 - val_loss: 0.5287 - val_accuracy: 0.8413\n",
            "Epoch 15/30\n",
            "3810/3810 [==============================] - 8s 2ms/step - loss: 0.4062 - accuracy: 0.8749 - val_loss: 0.5409 - val_accuracy: 0.8410\n",
            "Epoch 16/30\n",
            "3810/3810 [==============================] - 8s 2ms/step - loss: 0.4028 - accuracy: 0.8749 - val_loss: 0.5346 - val_accuracy: 0.8433\n",
            "Epoch 17/30\n",
            "3810/3810 [==============================] - 8s 2ms/step - loss: 0.3999 - accuracy: 0.8751 - val_loss: 0.5310 - val_accuracy: 0.8453\n",
            "Epoch 18/30\n",
            "3810/3810 [==============================] - 8s 2ms/step - loss: 0.3964 - accuracy: 0.8762 - val_loss: 0.5581 - val_accuracy: 0.8441\n",
            "Epoch 19/30\n",
            "3810/3810 [==============================] - 8s 2ms/step - loss: 0.3923 - accuracy: 0.8786 - val_loss: 0.5495 - val_accuracy: 0.8411\n",
            "Epoch 20/30\n",
            "3810/3810 [==============================] - 8s 2ms/step - loss: 0.3907 - accuracy: 0.8784 - val_loss: 0.5777 - val_accuracy: 0.8379\n",
            "Epoch 21/30\n",
            "3810/3810 [==============================] - 8s 2ms/step - loss: 0.3881 - accuracy: 0.8788 - val_loss: 0.5548 - val_accuracy: 0.8397\n",
            "Epoch 22/30\n",
            "3810/3810 [==============================] - 8s 2ms/step - loss: 0.3856 - accuracy: 0.8795 - val_loss: 0.5478 - val_accuracy: 0.8401\n",
            "Epoch 23/30\n",
            "3810/3810 [==============================] - 8s 2ms/step - loss: 0.3826 - accuracy: 0.8811 - val_loss: 0.5467 - val_accuracy: 0.8439\n",
            "Epoch 24/30\n",
            "3810/3810 [==============================] - 9s 2ms/step - loss: 0.3798 - accuracy: 0.8810 - val_loss: 0.5688 - val_accuracy: 0.8392\n",
            "Epoch 25/30\n",
            "3810/3810 [==============================] - 9s 2ms/step - loss: 0.3787 - accuracy: 0.8821 - val_loss: 0.5642 - val_accuracy: 0.8413\n",
            "Epoch 26/30\n",
            "3810/3810 [==============================] - 9s 2ms/step - loss: 0.3758 - accuracy: 0.8839 - val_loss: 0.5674 - val_accuracy: 0.8387\n",
            "Epoch 27/30\n",
            "3810/3810 [==============================] - 8s 2ms/step - loss: 0.3745 - accuracy: 0.8832 - val_loss: 0.5725 - val_accuracy: 0.8357\n",
            "Epoch 28/30\n",
            "3810/3810 [==============================] - 8s 2ms/step - loss: 0.3725 - accuracy: 0.8832 - val_loss: 0.5944 - val_accuracy: 0.8303\n",
            "Epoch 29/30\n",
            "3810/3810 [==============================] - 8s 2ms/step - loss: 0.3695 - accuracy: 0.8857 - val_loss: 0.5808 - val_accuracy: 0.8427\n",
            "Epoch 30/30\n",
            "3810/3810 [==============================] - 9s 2ms/step - loss: 0.3678 - accuracy: 0.8846 - val_loss: 0.5832 - val_accuracy: 0.8389\n"
          ],
          "name": "stdout"
        }
      ]
    },
    {
      "cell_type": "code",
      "metadata": {
        "id": "R6fuGR_CtKAO",
        "colab_type": "code",
        "colab": {
          "base_uri": "https://localhost:8080/",
          "height": 1000
        },
        "outputId": "51282dcf-b2d6-4317-e55f-6ffd4bd830ca"
      },
      "source": [
        "model_medium_large_300 = create_model()\n",
        "batch_medium_large_300 = model_medium_large_300.fit(X_train,y_train, epochs=30,batch_size=300,validation_data=(X_test,y_test))"
      ],
      "execution_count": 63,
      "outputs": [
        {
          "output_type": "stream",
          "text": [
            "Epoch 1/30\n",
            "267/267 [==============================] - 1s 3ms/step - loss: 1.1379 - accuracy: 0.6497 - val_loss: 0.8475 - val_accuracy: 0.7466\n",
            "Epoch 2/30\n",
            "267/267 [==============================] - 1s 3ms/step - loss: 0.7967 - accuracy: 0.7647 - val_loss: 0.7617 - val_accuracy: 0.7770\n",
            "Epoch 3/30\n",
            "267/267 [==============================] - 1s 3ms/step - loss: 0.7173 - accuracy: 0.7904 - val_loss: 0.7034 - val_accuracy: 0.7890\n",
            "Epoch 4/30\n",
            "267/267 [==============================] - 1s 3ms/step - loss: 0.6662 - accuracy: 0.8034 - val_loss: 0.6537 - val_accuracy: 0.8076\n",
            "Epoch 5/30\n",
            "267/267 [==============================] - 1s 3ms/step - loss: 0.6289 - accuracy: 0.8140 - val_loss: 0.6304 - val_accuracy: 0.8137\n",
            "Epoch 6/30\n",
            "267/267 [==============================] - 1s 3ms/step - loss: 0.5996 - accuracy: 0.8231 - val_loss: 0.6238 - val_accuracy: 0.8127\n",
            "Epoch 7/30\n",
            "267/267 [==============================] - 1s 3ms/step - loss: 0.5758 - accuracy: 0.8293 - val_loss: 0.6008 - val_accuracy: 0.8184\n",
            "Epoch 8/30\n",
            "267/267 [==============================] - 1s 3ms/step - loss: 0.5550 - accuracy: 0.8360 - val_loss: 0.5802 - val_accuracy: 0.8258\n",
            "Epoch 9/30\n",
            "267/267 [==============================] - 1s 3ms/step - loss: 0.5372 - accuracy: 0.8415 - val_loss: 0.5561 - val_accuracy: 0.8342\n",
            "Epoch 10/30\n",
            "267/267 [==============================] - 1s 3ms/step - loss: 0.5222 - accuracy: 0.8458 - val_loss: 0.5653 - val_accuracy: 0.8315\n",
            "Epoch 11/30\n",
            "267/267 [==============================] - 1s 3ms/step - loss: 0.5114 - accuracy: 0.8484 - val_loss: 0.5534 - val_accuracy: 0.8342\n",
            "Epoch 12/30\n",
            "267/267 [==============================] - 1s 3ms/step - loss: 0.5009 - accuracy: 0.8513 - val_loss: 0.5368 - val_accuracy: 0.8400\n",
            "Epoch 13/30\n",
            "267/267 [==============================] - 1s 3ms/step - loss: 0.4918 - accuracy: 0.8546 - val_loss: 0.5469 - val_accuracy: 0.8364\n",
            "Epoch 14/30\n",
            "267/267 [==============================] - 1s 3ms/step - loss: 0.4827 - accuracy: 0.8570 - val_loss: 0.5672 - val_accuracy: 0.8281\n",
            "Epoch 15/30\n",
            "267/267 [==============================] - 1s 3ms/step - loss: 0.4760 - accuracy: 0.8600 - val_loss: 0.5303 - val_accuracy: 0.8441\n",
            "Epoch 16/30\n",
            "267/267 [==============================] - 1s 3ms/step - loss: 0.4686 - accuracy: 0.8607 - val_loss: 0.5203 - val_accuracy: 0.8447\n",
            "Epoch 17/30\n",
            "267/267 [==============================] - 1s 3ms/step - loss: 0.4625 - accuracy: 0.8624 - val_loss: 0.5285 - val_accuracy: 0.8450\n",
            "Epoch 18/30\n",
            "267/267 [==============================] - 1s 3ms/step - loss: 0.4582 - accuracy: 0.8638 - val_loss: 0.5279 - val_accuracy: 0.8423\n",
            "Epoch 19/30\n",
            "267/267 [==============================] - 1s 3ms/step - loss: 0.4525 - accuracy: 0.8660 - val_loss: 0.5113 - val_accuracy: 0.8469\n",
            "Epoch 20/30\n",
            "267/267 [==============================] - 1s 3ms/step - loss: 0.4478 - accuracy: 0.8667 - val_loss: 0.5162 - val_accuracy: 0.8465\n",
            "Epoch 21/30\n",
            "267/267 [==============================] - 1s 3ms/step - loss: 0.4435 - accuracy: 0.8685 - val_loss: 0.5201 - val_accuracy: 0.8463\n",
            "Epoch 22/30\n",
            "267/267 [==============================] - 1s 3ms/step - loss: 0.4395 - accuracy: 0.8692 - val_loss: 0.5147 - val_accuracy: 0.8498\n",
            "Epoch 23/30\n",
            "267/267 [==============================] - 1s 3ms/step - loss: 0.4357 - accuracy: 0.8700 - val_loss: 0.5159 - val_accuracy: 0.8475\n",
            "Epoch 24/30\n",
            "267/267 [==============================] - 1s 3ms/step - loss: 0.4324 - accuracy: 0.8707 - val_loss: 0.5103 - val_accuracy: 0.8484\n",
            "Epoch 25/30\n",
            "267/267 [==============================] - 1s 3ms/step - loss: 0.4295 - accuracy: 0.8715 - val_loss: 0.5112 - val_accuracy: 0.8468\n",
            "Epoch 26/30\n",
            "267/267 [==============================] - 1s 3ms/step - loss: 0.4244 - accuracy: 0.8732 - val_loss: 0.5151 - val_accuracy: 0.8472\n",
            "Epoch 27/30\n",
            "267/267 [==============================] - 1s 3ms/step - loss: 0.4213 - accuracy: 0.8741 - val_loss: 0.5111 - val_accuracy: 0.8486\n",
            "Epoch 28/30\n",
            "267/267 [==============================] - 1s 3ms/step - loss: 0.4186 - accuracy: 0.8745 - val_loss: 0.5174 - val_accuracy: 0.8491\n",
            "Epoch 29/30\n",
            "267/267 [==============================] - 1s 3ms/step - loss: 0.4150 - accuracy: 0.8762 - val_loss: 0.5112 - val_accuracy: 0.8476\n",
            "Epoch 30/30\n",
            "267/267 [==============================] - 1s 3ms/step - loss: 0.4136 - accuracy: 0.8767 - val_loss: 0.5573 - val_accuracy: 0.8374\n"
          ],
          "name": "stdout"
        }
      ]
    },
    {
      "cell_type": "code",
      "metadata": {
        "id": "l0URdmMrtfCI",
        "colab_type": "code",
        "colab": {
          "base_uri": "https://localhost:8080/",
          "height": 1000
        },
        "outputId": "25c26ee6-23b0-4871-eb47-49bd9bfcb9d7"
      },
      "source": [
        "model_large_512 = create_model()\n",
        "batch_large_512 = model_large_512.fit(X_train,y_train, epochs=30,batch_size=512,validation_data=(X_test,y_test))"
      ],
      "execution_count": 64,
      "outputs": [
        {
          "output_type": "stream",
          "text": [
            "Epoch 1/30\n",
            "157/157 [==============================] - 1s 4ms/step - loss: 1.2631 - accuracy: 0.6078 - val_loss: 0.9310 - val_accuracy: 0.7218\n",
            "Epoch 2/30\n",
            "157/157 [==============================] - 0s 3ms/step - loss: 0.8617 - accuracy: 0.7433 - val_loss: 0.8873 - val_accuracy: 0.7224\n",
            "Epoch 3/30\n",
            "157/157 [==============================] - 1s 3ms/step - loss: 0.7842 - accuracy: 0.7685 - val_loss: 0.7610 - val_accuracy: 0.7782\n",
            "Epoch 4/30\n",
            "157/157 [==============================] - 1s 3ms/step - loss: 0.7337 - accuracy: 0.7841 - val_loss: 0.7512 - val_accuracy: 0.7763\n",
            "Epoch 5/30\n",
            "157/157 [==============================] - 0s 3ms/step - loss: 0.6967 - accuracy: 0.7952 - val_loss: 0.7136 - val_accuracy: 0.7886\n",
            "Epoch 6/30\n",
            "157/157 [==============================] - 0s 3ms/step - loss: 0.6652 - accuracy: 0.8041 - val_loss: 0.6631 - val_accuracy: 0.8051\n",
            "Epoch 7/30\n",
            "157/157 [==============================] - 0s 3ms/step - loss: 0.6393 - accuracy: 0.8122 - val_loss: 0.6623 - val_accuracy: 0.8043\n",
            "Epoch 8/30\n",
            "157/157 [==============================] - 0s 3ms/step - loss: 0.6190 - accuracy: 0.8168 - val_loss: 0.6798 - val_accuracy: 0.7917\n",
            "Epoch 9/30\n",
            "157/157 [==============================] - 0s 3ms/step - loss: 0.6007 - accuracy: 0.8221 - val_loss: 0.6430 - val_accuracy: 0.8074\n",
            "Epoch 10/30\n",
            "157/157 [==============================] - 0s 3ms/step - loss: 0.5849 - accuracy: 0.8273 - val_loss: 0.6351 - val_accuracy: 0.8077\n",
            "Epoch 11/30\n",
            "157/157 [==============================] - 1s 3ms/step - loss: 0.5718 - accuracy: 0.8298 - val_loss: 0.6046 - val_accuracy: 0.8206\n",
            "Epoch 12/30\n",
            "157/157 [==============================] - 0s 3ms/step - loss: 0.5591 - accuracy: 0.8348 - val_loss: 0.5977 - val_accuracy: 0.8212\n",
            "Epoch 13/30\n",
            "157/157 [==============================] - 0s 3ms/step - loss: 0.5482 - accuracy: 0.8369 - val_loss: 0.6017 - val_accuracy: 0.8186\n",
            "Epoch 14/30\n",
            "157/157 [==============================] - 0s 3ms/step - loss: 0.5390 - accuracy: 0.8401 - val_loss: 0.5727 - val_accuracy: 0.8288\n",
            "Epoch 15/30\n",
            "157/157 [==============================] - 0s 3ms/step - loss: 0.5306 - accuracy: 0.8431 - val_loss: 0.5662 - val_accuracy: 0.8326\n",
            "Epoch 16/30\n",
            "157/157 [==============================] - 0s 3ms/step - loss: 0.5235 - accuracy: 0.8445 - val_loss: 0.5782 - val_accuracy: 0.8284\n",
            "Epoch 17/30\n",
            "157/157 [==============================] - 0s 3ms/step - loss: 0.5154 - accuracy: 0.8470 - val_loss: 0.5766 - val_accuracy: 0.8252\n",
            "Epoch 18/30\n",
            "157/157 [==============================] - 0s 3ms/step - loss: 0.5098 - accuracy: 0.8491 - val_loss: 0.5658 - val_accuracy: 0.8317\n",
            "Epoch 19/30\n",
            "157/157 [==============================] - 1s 3ms/step - loss: 0.5024 - accuracy: 0.8518 - val_loss: 0.5529 - val_accuracy: 0.8353\n",
            "Epoch 20/30\n",
            "157/157 [==============================] - 0s 3ms/step - loss: 0.4980 - accuracy: 0.8516 - val_loss: 0.5815 - val_accuracy: 0.8253\n",
            "Epoch 21/30\n",
            "157/157 [==============================] - 0s 3ms/step - loss: 0.4912 - accuracy: 0.8545 - val_loss: 0.5593 - val_accuracy: 0.8329\n",
            "Epoch 22/30\n",
            "157/157 [==============================] - 0s 3ms/step - loss: 0.4855 - accuracy: 0.8563 - val_loss: 0.5463 - val_accuracy: 0.8368\n",
            "Epoch 23/30\n",
            "157/157 [==============================] - 0s 3ms/step - loss: 0.4810 - accuracy: 0.8574 - val_loss: 0.5400 - val_accuracy: 0.8418\n",
            "Epoch 24/30\n",
            "157/157 [==============================] - 0s 3ms/step - loss: 0.4752 - accuracy: 0.8598 - val_loss: 0.5500 - val_accuracy: 0.8340\n",
            "Epoch 25/30\n",
            "157/157 [==============================] - 1s 3ms/step - loss: 0.4708 - accuracy: 0.8611 - val_loss: 0.5658 - val_accuracy: 0.8333\n",
            "Epoch 26/30\n",
            "157/157 [==============================] - 1s 3ms/step - loss: 0.4685 - accuracy: 0.8610 - val_loss: 0.5537 - val_accuracy: 0.8329\n",
            "Epoch 27/30\n",
            "157/157 [==============================] - 1s 3ms/step - loss: 0.4643 - accuracy: 0.8624 - val_loss: 0.5967 - val_accuracy: 0.8163\n",
            "Epoch 28/30\n",
            "157/157 [==============================] - 0s 3ms/step - loss: 0.4617 - accuracy: 0.8640 - val_loss: 0.5362 - val_accuracy: 0.8406\n",
            "Epoch 29/30\n",
            "157/157 [==============================] - 0s 3ms/step - loss: 0.4573 - accuracy: 0.8645 - val_loss: 0.5448 - val_accuracy: 0.8400\n",
            "Epoch 30/30\n",
            "157/157 [==============================] - 0s 3ms/step - loss: 0.4528 - accuracy: 0.8653 - val_loss: 0.5335 - val_accuracy: 0.8425\n"
          ],
          "name": "stdout"
        }
      ]
    },
    {
      "cell_type": "code",
      "metadata": {
        "id": "W4PsBkS22M7i",
        "colab_type": "code",
        "colab": {
          "base_uri": "https://localhost:8080/",
          "height": 200
        },
        "outputId": "42d87d04-cbe1-4457-86fd-40a6db814e89"
      },
      "source": [
        "import seaborn as sns\n",
        "import pandas as pd\n",
        "\n",
        "batch_sizes = []\n",
        "\n",
        "for exp, result in zip([batch_default_32,batch_small_5, batch_medium_21,batch_medium_large_300, batch_large_512], [\"32_\", \"5_\",\"21_\",\"300_\",\"512_\"]):\n",
        "\n",
        "  df = pd.DataFrame.from_dict(exp.history)\n",
        "  df['epoch'] = df.index.values\n",
        "  df['Batch Size'] = result\n",
        "\n",
        "  batch_sizes.append(df)\n",
        "\n",
        "df = pd.concat(batch_sizes)\n",
        "df['Batch Size'] = df['Batch Size'].astype('str')\n",
        "df.head()"
      ],
      "execution_count": 65,
      "outputs": [
        {
          "output_type": "execute_result",
          "data": {
            "text/html": [
              "<div>\n",
              "<style scoped>\n",
              "    .dataframe tbody tr th:only-of-type {\n",
              "        vertical-align: middle;\n",
              "    }\n",
              "\n",
              "    .dataframe tbody tr th {\n",
              "        vertical-align: top;\n",
              "    }\n",
              "\n",
              "    .dataframe thead th {\n",
              "        text-align: right;\n",
              "    }\n",
              "</style>\n",
              "<table border=\"1\" class=\"dataframe\">\n",
              "  <thead>\n",
              "    <tr style=\"text-align: right;\">\n",
              "      <th></th>\n",
              "      <th>loss</th>\n",
              "      <th>accuracy</th>\n",
              "      <th>val_loss</th>\n",
              "      <th>val_accuracy</th>\n",
              "      <th>epoch</th>\n",
              "      <th>Batch Size</th>\n",
              "    </tr>\n",
              "  </thead>\n",
              "  <tbody>\n",
              "    <tr>\n",
              "      <th>0</th>\n",
              "      <td>0.764104</td>\n",
              "      <td>0.764637</td>\n",
              "      <td>0.624442</td>\n",
              "      <td>0.81105</td>\n",
              "      <td>0</td>\n",
              "      <td>32_</td>\n",
              "    </tr>\n",
              "    <tr>\n",
              "      <th>1</th>\n",
              "      <td>0.575955</td>\n",
              "      <td>0.825800</td>\n",
              "      <td>0.564246</td>\n",
              "      <td>0.82625</td>\n",
              "      <td>1</td>\n",
              "      <td>32_</td>\n",
              "    </tr>\n",
              "    <tr>\n",
              "      <th>2</th>\n",
              "      <td>0.528588</td>\n",
              "      <td>0.839163</td>\n",
              "      <td>0.534969</td>\n",
              "      <td>0.83940</td>\n",
              "      <td>2</td>\n",
              "      <td>32_</td>\n",
              "    </tr>\n",
              "    <tr>\n",
              "      <th>3</th>\n",
              "      <td>0.499833</td>\n",
              "      <td>0.847700</td>\n",
              "      <td>0.515823</td>\n",
              "      <td>0.84440</td>\n",
              "      <td>3</td>\n",
              "      <td>32_</td>\n",
              "    </tr>\n",
              "    <tr>\n",
              "      <th>4</th>\n",
              "      <td>0.480090</td>\n",
              "      <td>0.854038</td>\n",
              "      <td>0.511203</td>\n",
              "      <td>0.84345</td>\n",
              "      <td>4</td>\n",
              "      <td>32_</td>\n",
              "    </tr>\n",
              "  </tbody>\n",
              "</table>\n",
              "</div>"
            ],
            "text/plain": [
              "       loss  accuracy  val_loss  val_accuracy  epoch Batch Size\n",
              "0  0.764104  0.764637  0.624442       0.81105      0        32_\n",
              "1  0.575955  0.825800  0.564246       0.82625      1        32_\n",
              "2  0.528588  0.839163  0.534969       0.83940      2        32_\n",
              "3  0.499833  0.847700  0.515823       0.84440      3        32_\n",
              "4  0.480090  0.854038  0.511203       0.84345      4        32_"
            ]
          },
          "metadata": {
            "tags": []
          },
          "execution_count": 65
        }
      ]
    },
    {
      "cell_type": "code",
      "metadata": {
        "id": "qNKKy0rz3Ai-",
        "colab_type": "code",
        "colab": {
          "base_uri": "https://localhost:8080/",
          "height": 279
        },
        "outputId": "1dec4c00-07e3-44a5-ea11-c918935eb0c7"
      },
      "source": [
        "sns.lineplot(x='epoch', y='val_accuracy', hue='Batch Size', data=df);"
      ],
      "execution_count": 66,
      "outputs": [
        {
          "output_type": "display_data",
          "data": {
            "image/png": "[encoded data removed]",
            "text/plain": [
              "<Figure size 432x288 with 1 Axes>"
            ]
          },
          "metadata": {
            "tags": [],
            "needs_background": "light"
          }
        }
      ]
    },
    {
      "cell_type": "code",
      "metadata": {
        "id": "0U6ZeBI13Kde",
        "colab_type": "code",
        "colab": {
          "base_uri": "https://localhost:8080/",
          "height": 279
        },
        "outputId": "adffbfe4-acd0-4b90-8d28-a3f23d94cc14"
      },
      "source": [
        "sns.lineplot(x='epoch', y='val_loss', hue='Batch Size', data=df);"
      ],
      "execution_count": 67,
      "outputs": [
        {
          "output_type": "display_data",
          "data": {
            "image/png": "[encoded data removed]",
            "text/plain": [
              "<Figure size 432x288 with 1 Axes>"
            ]
          },
          "metadata": {
            "tags": [],
            "needs_background": "light"
          }
        }
      ]
    },
    {
      "cell_type": "markdown",
      "metadata": {
        "id": "74PosnFEfCGK",
        "colab_type": "text"
      },
      "source": [
        "Batch Size of 32 perform the best  wand comparable to yesterday's assignment within the 84 accuracy"
      ]
    },
    {
      "cell_type": "code",
      "metadata": {
        "id": "kBMbfDiNe7GD",
        "colab_type": "code",
        "colab": {}
      },
      "source": [
        ""
      ],
      "execution_count": null,
      "outputs": []
    },
    {
      "cell_type": "markdown",
      "metadata": {
        "colab_type": "text",
        "id": "8b-r70o8p2Dm"
      },
      "source": [
        "### Experiment with Learning Rate\n",
        "* Run 5 experiments with various learning rate magnitudes: 1, .1, .01, .001, .0001.\n",
        "* Use the \"best\" batch size from the previous experiment\n",
        "* Visualize the results\n",
        "* Write up an analysis of the experiments and select the \"best\" performing model among your experiments. Make sure to compare against the previous experiments and your model's performance yesterday. "
      ]
    },
    {
      "cell_type": "code",
      "metadata": {
        "id": "_SA144xx8Luf",
        "colab_type": "code",
        "colab": {
          "base_uri": "https://localhost:8080/",
          "height": 1000
        },
        "outputId": "73683077-df01-4e7d-eae2-388bf7bd28c2"
      },
      "source": [
        "default_model_lr1 = create_model(lr=1)\n",
        "batch_default_32_lr1 = default_model_lr1.fit(X_train,y_train, epochs=30,batch_size=32,validation_data=(X_test,y_test))"
      ],
      "execution_count": 68,
      "outputs": [
        {
          "output_type": "stream",
          "text": [
            "Epoch 1/30\n",
            "2500/2500 [==============================] - 5s 2ms/step - loss: 1.8688 - accuracy: 0.2770 - val_loss: 2.2450 - val_accuracy: 0.1373\n",
            "Epoch 2/30\n",
            "2500/2500 [==============================] - 5s 2ms/step - loss: 1.9497 - accuracy: 0.2157 - val_loss: 1.9056 - val_accuracy: 0.2323\n",
            "Epoch 3/30\n",
            "2500/2500 [==============================] - 5s 2ms/step - loss: 2.0101 - accuracy: 0.1916 - val_loss: 1.9881 - val_accuracy: 0.1809\n",
            "Epoch 4/30\n",
            "2500/2500 [==============================] - 5s 2ms/step - loss: 2.0269 - accuracy: 0.1815 - val_loss: 2.0209 - val_accuracy: 0.1883\n",
            "Epoch 5/30\n",
            "2500/2500 [==============================] - 5s 2ms/step - loss: 2.0109 - accuracy: 0.1850 - val_loss: 1.9862 - val_accuracy: 0.1931\n",
            "Epoch 6/30\n",
            "2500/2500 [==============================] - 5s 2ms/step - loss: 2.0075 - accuracy: 0.1849 - val_loss: 1.9844 - val_accuracy: 0.1885\n",
            "Epoch 7/30\n",
            "2500/2500 [==============================] - 5s 2ms/step - loss: 1.9993 - accuracy: 0.1846 - val_loss: 2.0002 - val_accuracy: 0.1906\n",
            "Epoch 8/30\n",
            "2500/2500 [==============================] - 6s 2ms/step - loss: 1.9863 - accuracy: 0.1910 - val_loss: 2.0161 - val_accuracy: 0.1824\n",
            "Epoch 9/30\n",
            "2500/2500 [==============================] - 5s 2ms/step - loss: 2.0023 - accuracy: 0.1859 - val_loss: 1.9878 - val_accuracy: 0.1900\n",
            "Epoch 10/30\n",
            "2500/2500 [==============================] - 5s 2ms/step - loss: 1.9900 - accuracy: 0.1842 - val_loss: 1.9504 - val_accuracy: 0.1830\n",
            "Epoch 11/30\n",
            "2500/2500 [==============================] - 5s 2ms/step - loss: 2.0143 - accuracy: 0.1767 - val_loss: 1.9741 - val_accuracy: 0.1901\n",
            "Epoch 12/30\n",
            "2500/2500 [==============================] - 5s 2ms/step - loss: 1.9796 - accuracy: 0.1872 - val_loss: 1.9780 - val_accuracy: 0.1778\n",
            "Epoch 13/30\n",
            "2500/2500 [==============================] - 5s 2ms/step - loss: 1.9697 - accuracy: 0.1851 - val_loss: 1.9986 - val_accuracy: 0.1909\n",
            "Epoch 14/30\n",
            "2500/2500 [==============================] - 5s 2ms/step - loss: 2.0104 - accuracy: 0.1825 - val_loss: 1.9861 - val_accuracy: 0.1913\n",
            "Epoch 15/30\n",
            "2500/2500 [==============================] - 5s 2ms/step - loss: 1.9786 - accuracy: 0.1846 - val_loss: 1.9767 - val_accuracy: 0.1912\n",
            "Epoch 16/30\n",
            "2500/2500 [==============================] - 5s 2ms/step - loss: 1.9842 - accuracy: 0.1833 - val_loss: 1.9608 - val_accuracy: 0.1829\n",
            "Epoch 17/30\n",
            "2500/2500 [==============================] - 5s 2ms/step - loss: 2.0135 - accuracy: 0.1786 - val_loss: 2.0275 - val_accuracy: 0.1872\n",
            "Epoch 18/30\n",
            "2500/2500 [==============================] - 5s 2ms/step - loss: 2.0080 - accuracy: 0.1814 - val_loss: 1.9996 - val_accuracy: 0.1866\n",
            "Epoch 19/30\n",
            "2500/2500 [==============================] - 5s 2ms/step - loss: 2.0066 - accuracy: 0.1806 - val_loss: 1.9979 - val_accuracy: 0.1862\n",
            "Epoch 20/30\n",
            "2500/2500 [==============================] - 5s 2ms/step - loss: 2.0096 - accuracy: 0.1796 - val_loss: 2.0712 - val_accuracy: 0.1822\n",
            "Epoch 21/30\n",
            "2500/2500 [==============================] - 5s 2ms/step - loss: 1.9960 - accuracy: 0.1811 - val_loss: 1.9946 - val_accuracy: 0.1883\n",
            "Epoch 22/30\n",
            "2500/2500 [==============================] - 5s 2ms/step - loss: 1.9916 - accuracy: 0.1822 - val_loss: 1.9672 - val_accuracy: 0.1646\n",
            "Epoch 23/30\n",
            "2500/2500 [==============================] - 5s 2ms/step - loss: 1.9953 - accuracy: 0.1847 - val_loss: 2.0142 - val_accuracy: 0.1735\n",
            "Epoch 24/30\n",
            "2500/2500 [==============================] - 5s 2ms/step - loss: 1.9895 - accuracy: 0.1855 - val_loss: 1.9822 - val_accuracy: 0.1920\n",
            "Epoch 25/30\n",
            "2500/2500 [==============================] - 5s 2ms/step - loss: 2.0006 - accuracy: 0.1817 - val_loss: 1.9959 - val_accuracy: 0.1737\n",
            "Epoch 26/30\n",
            "2500/2500 [==============================] - 5s 2ms/step - loss: 1.9887 - accuracy: 0.1837 - val_loss: 1.9802 - val_accuracy: 0.1807\n",
            "Epoch 27/30\n",
            "2500/2500 [==============================] - 5s 2ms/step - loss: 1.9845 - accuracy: 0.1841 - val_loss: 2.0524 - val_accuracy: 0.1853\n",
            "Epoch 28/30\n",
            "2500/2500 [==============================] - 5s 2ms/step - loss: 1.9786 - accuracy: 0.1854 - val_loss: 1.9714 - val_accuracy: 0.1911\n",
            "Epoch 29/30\n",
            "2500/2500 [==============================] - 5s 2ms/step - loss: 1.9769 - accuracy: 0.1860 - val_loss: 1.9797 - val_accuracy: 0.1901\n",
            "Epoch 30/30\n",
            "2500/2500 [==============================] - 5s 2ms/step - loss: 1.9801 - accuracy: 0.1836 - val_loss: 1.9729 - val_accuracy: 0.1891\n"
          ],
          "name": "stdout"
        }
      ]
    },
    {
      "cell_type": "code",
      "metadata": {
        "id": "BDNqMnWZ3q4c",
        "colab_type": "code",
        "colab": {
          "base_uri": "https://localhost:8080/",
          "height": 1000
        },
        "outputId": "6ca75b92-92a4-4ab7-d9d5-8af0c6f16bd5"
      },
      "source": [
        "default_model_lr0_1 = create_model(lr=0.1)\n",
        "batch_default_32_lr0_1 = default_model_lr0_1.fit(X_train,y_train, epochs=30,batch_size=32,validation_data=(X_test,y_test))"
      ],
      "execution_count": 69,
      "outputs": [
        {
          "output_type": "stream",
          "text": [
            "Epoch 1/30\n",
            "2500/2500 [==============================] - 5s 2ms/step - loss: 0.7789 - accuracy: 0.7594 - val_loss: 0.6102 - val_accuracy: 0.8179\n",
            "Epoch 2/30\n",
            "2500/2500 [==============================] - 5s 2ms/step - loss: 0.5806 - accuracy: 0.8240 - val_loss: 0.5727 - val_accuracy: 0.8260\n",
            "Epoch 3/30\n",
            "2500/2500 [==============================] - 5s 2ms/step - loss: 0.5308 - accuracy: 0.8385 - val_loss: 0.5335 - val_accuracy: 0.8372\n",
            "Epoch 4/30\n",
            "2500/2500 [==============================] - 5s 2ms/step - loss: 0.4988 - accuracy: 0.8483 - val_loss: 0.5322 - val_accuracy: 0.8375\n",
            "Epoch 5/30\n",
            "2500/2500 [==============================] - 5s 2ms/step - loss: 0.4771 - accuracy: 0.8546 - val_loss: 0.5435 - val_accuracy: 0.8351\n",
            "Epoch 6/30\n",
            "2500/2500 [==============================] - 5s 2ms/step - loss: 0.4626 - accuracy: 0.8579 - val_loss: 0.5091 - val_accuracy: 0.8443\n",
            "Epoch 7/30\n",
            "2500/2500 [==============================] - 5s 2ms/step - loss: 0.4503 - accuracy: 0.8611 - val_loss: 0.5038 - val_accuracy: 0.8480\n",
            "Epoch 8/30\n",
            "2500/2500 [==============================] - 5s 2ms/step - loss: 0.4381 - accuracy: 0.8647 - val_loss: 0.5183 - val_accuracy: 0.8475\n",
            "Epoch 9/30\n",
            "2500/2500 [==============================] - 5s 2ms/step - loss: 0.4307 - accuracy: 0.8668 - val_loss: 0.5029 - val_accuracy: 0.8489\n",
            "Epoch 10/30\n",
            "2500/2500 [==============================] - 5s 2ms/step - loss: 0.4233 - accuracy: 0.8700 - val_loss: 0.5011 - val_accuracy: 0.8468\n",
            "Epoch 11/30\n",
            "2500/2500 [==============================] - 5s 2ms/step - loss: 0.4159 - accuracy: 0.8719 - val_loss: 0.5015 - val_accuracy: 0.8493\n",
            "Epoch 12/30\n",
            "2500/2500 [==============================] - 5s 2ms/step - loss: 0.4092 - accuracy: 0.8729 - val_loss: 0.5279 - val_accuracy: 0.8467\n",
            "Epoch 13/30\n",
            "2500/2500 [==============================] - 5s 2ms/step - loss: 0.4044 - accuracy: 0.8739 - val_loss: 0.5230 - val_accuracy: 0.8457\n",
            "Epoch 14/30\n",
            "2500/2500 [==============================] - 5s 2ms/step - loss: 0.4011 - accuracy: 0.8759 - val_loss: 0.5101 - val_accuracy: 0.8492\n",
            "Epoch 15/30\n",
            "2500/2500 [==============================] - 5s 2ms/step - loss: 0.3961 - accuracy: 0.8766 - val_loss: 0.5092 - val_accuracy: 0.8508\n",
            "Epoch 16/30\n",
            "2500/2500 [==============================] - 5s 2ms/step - loss: 0.3924 - accuracy: 0.8778 - val_loss: 0.5150 - val_accuracy: 0.8505\n",
            "Epoch 17/30\n",
            "2500/2500 [==============================] - 5s 2ms/step - loss: 0.3878 - accuracy: 0.8793 - val_loss: 0.5231 - val_accuracy: 0.8469\n",
            "Epoch 18/30\n",
            "2500/2500 [==============================] - 5s 2ms/step - loss: 0.3845 - accuracy: 0.8807 - val_loss: 0.5293 - val_accuracy: 0.8436\n",
            "Epoch 19/30\n",
            "2500/2500 [==============================] - 5s 2ms/step - loss: 0.3808 - accuracy: 0.8817 - val_loss: 0.5168 - val_accuracy: 0.8501\n",
            "Epoch 20/30\n",
            "2500/2500 [==============================] - 5s 2ms/step - loss: 0.3795 - accuracy: 0.8813 - val_loss: 0.5279 - val_accuracy: 0.8482\n",
            "Epoch 21/30\n",
            "2500/2500 [==============================] - 5s 2ms/step - loss: 0.3756 - accuracy: 0.8833 - val_loss: 0.5410 - val_accuracy: 0.8433\n",
            "Epoch 22/30\n",
            "2500/2500 [==============================] - 5s 2ms/step - loss: 0.3735 - accuracy: 0.8834 - val_loss: 0.5439 - val_accuracy: 0.8443\n",
            "Epoch 23/30\n",
            "2500/2500 [==============================] - 5s 2ms/step - loss: 0.3709 - accuracy: 0.8839 - val_loss: 0.5598 - val_accuracy: 0.8409\n",
            "Epoch 24/30\n",
            "2500/2500 [==============================] - 5s 2ms/step - loss: 0.3657 - accuracy: 0.8852 - val_loss: 0.5295 - val_accuracy: 0.8469\n",
            "Epoch 25/30\n",
            "2500/2500 [==============================] - 5s 2ms/step - loss: 0.3653 - accuracy: 0.8858 - val_loss: 0.5570 - val_accuracy: 0.8432\n",
            "Epoch 26/30\n",
            "2500/2500 [==============================] - 5s 2ms/step - loss: 0.3638 - accuracy: 0.8851 - val_loss: 0.5468 - val_accuracy: 0.8476\n",
            "Epoch 27/30\n",
            "2500/2500 [==============================] - 5s 2ms/step - loss: 0.3609 - accuracy: 0.8874 - val_loss: 0.5406 - val_accuracy: 0.8461\n",
            "Epoch 28/30\n",
            "2500/2500 [==============================] - 5s 2ms/step - loss: 0.3589 - accuracy: 0.8877 - val_loss: 0.5414 - val_accuracy: 0.8460\n",
            "Epoch 29/30\n",
            "2500/2500 [==============================] - 6s 2ms/step - loss: 0.3573 - accuracy: 0.8879 - val_loss: 0.5526 - val_accuracy: 0.8432\n",
            "Epoch 30/30\n",
            "2500/2500 [==============================] - 5s 2ms/step - loss: 0.3545 - accuracy: 0.8892 - val_loss: 0.5862 - val_accuracy: 0.8359\n"
          ],
          "name": "stdout"
        }
      ]
    },
    {
      "cell_type": "code",
      "metadata": {
        "id": "pfnxuXU63rvf",
        "colab_type": "code",
        "colab": {
          "base_uri": "https://localhost:8080/",
          "height": 1000
        },
        "outputId": "6ae9b08e-5723-410b-d51e-61022961f455"
      },
      "source": [
        "default_model_lr0_01 = create_model(lr=0.01)\n",
        "batch_default_32_lr0_01 = default_model_lr0_01.fit(X_train,y_train, epochs=30,batch_size=32,validation_data=(X_test,y_test))"
      ],
      "execution_count": 70,
      "outputs": [
        {
          "output_type": "stream",
          "text": [
            "Epoch 1/30\n",
            "2500/2500 [==============================] - 5s 2ms/step - loss: 1.1796 - accuracy: 0.6304 - val_loss: 0.8700 - val_accuracy: 0.7443\n",
            "Epoch 2/30\n",
            "2500/2500 [==============================] - 5s 2ms/step - loss: 0.8226 - accuracy: 0.7568 - val_loss: 0.7772 - val_accuracy: 0.7747\n",
            "Epoch 3/30\n",
            "2500/2500 [==============================] - 5s 2ms/step - loss: 0.7433 - accuracy: 0.7805 - val_loss: 0.7196 - val_accuracy: 0.7883\n",
            "Epoch 4/30\n",
            "2500/2500 [==============================] - 5s 2ms/step - loss: 0.6880 - accuracy: 0.7951 - val_loss: 0.6778 - val_accuracy: 0.7998\n",
            "Epoch 5/30\n",
            "2500/2500 [==============================] - 5s 2ms/step - loss: 0.6475 - accuracy: 0.8086 - val_loss: 0.6462 - val_accuracy: 0.8080\n",
            "Epoch 6/30\n",
            "2500/2500 [==============================] - 5s 2ms/step - loss: 0.6164 - accuracy: 0.8165 - val_loss: 0.6212 - val_accuracy: 0.8138\n",
            "Epoch 7/30\n",
            "2500/2500 [==============================] - 5s 2ms/step - loss: 0.5930 - accuracy: 0.8231 - val_loss: 0.6043 - val_accuracy: 0.8171\n",
            "Epoch 8/30\n",
            "2500/2500 [==============================] - 5s 2ms/step - loss: 0.5732 - accuracy: 0.8286 - val_loss: 0.5929 - val_accuracy: 0.8210\n",
            "Epoch 9/30\n",
            "2500/2500 [==============================] - 5s 2ms/step - loss: 0.5565 - accuracy: 0.8332 - val_loss: 0.5899 - val_accuracy: 0.8214\n",
            "Epoch 10/30\n",
            "2500/2500 [==============================] - 5s 2ms/step - loss: 0.5416 - accuracy: 0.8399 - val_loss: 0.5708 - val_accuracy: 0.8282\n",
            "Epoch 11/30\n",
            "2500/2500 [==============================] - 5s 2ms/step - loss: 0.5293 - accuracy: 0.8429 - val_loss: 0.5732 - val_accuracy: 0.8280\n",
            "Epoch 12/30\n",
            "2500/2500 [==============================] - 5s 2ms/step - loss: 0.5178 - accuracy: 0.8462 - val_loss: 0.5626 - val_accuracy: 0.8321\n",
            "Epoch 13/30\n",
            "2500/2500 [==============================] - 5s 2ms/step - loss: 0.5077 - accuracy: 0.8502 - val_loss: 0.5470 - val_accuracy: 0.8365\n",
            "Epoch 14/30\n",
            "2500/2500 [==============================] - 5s 2ms/step - loss: 0.4983 - accuracy: 0.8528 - val_loss: 0.5418 - val_accuracy: 0.8395\n",
            "Epoch 15/30\n",
            "2500/2500 [==============================] - 5s 2ms/step - loss: 0.4896 - accuracy: 0.8553 - val_loss: 0.5449 - val_accuracy: 0.8372\n",
            "Epoch 16/30\n",
            "2500/2500 [==============================] - 5s 2ms/step - loss: 0.4822 - accuracy: 0.8577 - val_loss: 0.5353 - val_accuracy: 0.8393\n",
            "Epoch 17/30\n",
            "2500/2500 [==============================] - 5s 2ms/step - loss: 0.4748 - accuracy: 0.8597 - val_loss: 0.5334 - val_accuracy: 0.8403\n",
            "Epoch 18/30\n",
            "2500/2500 [==============================] - 5s 2ms/step - loss: 0.4691 - accuracy: 0.8613 - val_loss: 0.5283 - val_accuracy: 0.8422\n",
            "Epoch 19/30\n",
            "2500/2500 [==============================] - 5s 2ms/step - loss: 0.4627 - accuracy: 0.8630 - val_loss: 0.5325 - val_accuracy: 0.8404\n",
            "Epoch 20/30\n",
            "2500/2500 [==============================] - 5s 2ms/step - loss: 0.4569 - accuracy: 0.8648 - val_loss: 0.5369 - val_accuracy: 0.8388\n",
            "Epoch 21/30\n",
            "2500/2500 [==============================] - 5s 2ms/step - loss: 0.4518 - accuracy: 0.8657 - val_loss: 0.5216 - val_accuracy: 0.8457\n",
            "Epoch 22/30\n",
            "2500/2500 [==============================] - 5s 2ms/step - loss: 0.4477 - accuracy: 0.8675 - val_loss: 0.5193 - val_accuracy: 0.8436\n",
            "Epoch 23/30\n",
            "2500/2500 [==============================] - 5s 2ms/step - loss: 0.4426 - accuracy: 0.8685 - val_loss: 0.5248 - val_accuracy: 0.8436\n",
            "Epoch 24/30\n",
            "2500/2500 [==============================] - 5s 2ms/step - loss: 0.4384 - accuracy: 0.8705 - val_loss: 0.5279 - val_accuracy: 0.8411\n",
            "Epoch 25/30\n",
            "2500/2500 [==============================] - 5s 2ms/step - loss: 0.4345 - accuracy: 0.8711 - val_loss: 0.5163 - val_accuracy: 0.8467\n",
            "Epoch 26/30\n",
            "2500/2500 [==============================] - 5s 2ms/step - loss: 0.4308 - accuracy: 0.8722 - val_loss: 0.5176 - val_accuracy: 0.8450\n",
            "Epoch 27/30\n",
            "2500/2500 [==============================] - 5s 2ms/step - loss: 0.4270 - accuracy: 0.8734 - val_loss: 0.5195 - val_accuracy: 0.8456\n",
            "Epoch 28/30\n",
            "2500/2500 [==============================] - 5s 2ms/step - loss: 0.4243 - accuracy: 0.8739 - val_loss: 0.5213 - val_accuracy: 0.8458\n",
            "Epoch 29/30\n",
            "2500/2500 [==============================] - 5s 2ms/step - loss: 0.4212 - accuracy: 0.8745 - val_loss: 0.5173 - val_accuracy: 0.8457\n",
            "Epoch 30/30\n",
            "2500/2500 [==============================] - 5s 2ms/step - loss: 0.4183 - accuracy: 0.8756 - val_loss: 0.5134 - val_accuracy: 0.8479\n"
          ],
          "name": "stdout"
        }
      ]
    },
    {
      "cell_type": "code",
      "metadata": {
        "id": "6-qdRfBS3sTY",
        "colab_type": "code",
        "colab": {
          "base_uri": "https://localhost:8080/",
          "height": 1000
        },
        "outputId": "62df5b01-9d2f-4839-f86e-a37121b557e2"
      },
      "source": [
        "default_model_lr0_001 = create_model(lr=0.001)\n",
        "batch_default_32_lr0_001 = default_model_lr0_001.fit(X_train,y_train, epochs=30,batch_size=32,validation_data=(X_test,y_test))"
      ],
      "execution_count": 75,
      "outputs": [
        {
          "output_type": "stream",
          "text": [
            "Epoch 1/30\n",
            "2500/2500 [==============================] - 5s 2ms/step - loss: 2.1317 - accuracy: 0.2672 - val_loss: 1.8837 - val_accuracy: 0.4065\n",
            "Epoch 2/30\n",
            "2500/2500 [==============================] - 5s 2ms/step - loss: 1.6167 - accuracy: 0.4896 - val_loss: 1.4143 - val_accuracy: 0.5601\n",
            "Epoch 3/30\n",
            "2500/2500 [==============================] - 5s 2ms/step - loss: 1.3022 - accuracy: 0.5993 - val_loss: 1.2123 - val_accuracy: 0.6277\n",
            "Epoch 4/30\n",
            "2500/2500 [==============================] - 5s 2ms/step - loss: 1.1475 - accuracy: 0.6483 - val_loss: 1.0921 - val_accuracy: 0.6651\n",
            "Epoch 5/30\n",
            "2500/2500 [==============================] - 5s 2ms/step - loss: 1.0487 - accuracy: 0.6823 - val_loss: 1.0116 - val_accuracy: 0.6944\n",
            "Epoch 6/30\n",
            "2500/2500 [==============================] - 5s 2ms/step - loss: 0.9811 - accuracy: 0.7057 - val_loss: 0.9556 - val_accuracy: 0.7138\n",
            "Epoch 7/30\n",
            "2500/2500 [==============================] - 5s 2ms/step - loss: 0.9334 - accuracy: 0.7223 - val_loss: 0.9160 - val_accuracy: 0.7250\n",
            "Epoch 8/30\n",
            "2500/2500 [==============================] - 5s 2ms/step - loss: 0.8986 - accuracy: 0.7335 - val_loss: 0.8857 - val_accuracy: 0.7386\n",
            "Epoch 9/30\n",
            "2500/2500 [==============================] - 5s 2ms/step - loss: 0.8721 - accuracy: 0.7420 - val_loss: 0.8627 - val_accuracy: 0.7451\n",
            "Epoch 10/30\n",
            "2500/2500 [==============================] - 5s 2ms/step - loss: 0.8510 - accuracy: 0.7492 - val_loss: 0.8433 - val_accuracy: 0.7529\n",
            "Epoch 11/30\n",
            "2500/2500 [==============================] - 5s 2ms/step - loss: 0.8337 - accuracy: 0.7544 - val_loss: 0.8280 - val_accuracy: 0.7572\n",
            "Epoch 12/30\n",
            "2500/2500 [==============================] - 5s 2ms/step - loss: 0.8192 - accuracy: 0.7592 - val_loss: 0.8152 - val_accuracy: 0.7613\n",
            "Epoch 13/30\n",
            "2500/2500 [==============================] - 5s 2ms/step - loss: 0.8068 - accuracy: 0.7633 - val_loss: 0.8050 - val_accuracy: 0.7647\n",
            "Epoch 14/30\n",
            "2500/2500 [==============================] - 5s 2ms/step - loss: 0.7957 - accuracy: 0.7673 - val_loss: 0.7942 - val_accuracy: 0.7691\n",
            "Epoch 15/30\n",
            "2500/2500 [==============================] - 5s 2ms/step - loss: 0.7855 - accuracy: 0.7704 - val_loss: 0.7859 - val_accuracy: 0.7717\n",
            "Epoch 16/30\n",
            "2500/2500 [==============================] - 5s 2ms/step - loss: 0.7759 - accuracy: 0.7747 - val_loss: 0.7763 - val_accuracy: 0.7749\n",
            "Epoch 17/30\n",
            "2500/2500 [==============================] - 5s 2ms/step - loss: 0.7672 - accuracy: 0.7762 - val_loss: 0.7692 - val_accuracy: 0.7763\n",
            "Epoch 18/30\n",
            "2500/2500 [==============================] - 5s 2ms/step - loss: 0.7593 - accuracy: 0.7797 - val_loss: 0.7619 - val_accuracy: 0.7794\n",
            "Epoch 19/30\n",
            "2500/2500 [==============================] - 5s 2ms/step - loss: 0.7516 - accuracy: 0.7823 - val_loss: 0.7550 - val_accuracy: 0.7804\n",
            "Epoch 20/30\n",
            "2500/2500 [==============================] - 5s 2ms/step - loss: 0.7443 - accuracy: 0.7848 - val_loss: 0.7480 - val_accuracy: 0.7836\n",
            "Epoch 21/30\n",
            "2500/2500 [==============================] - 5s 2ms/step - loss: 0.7374 - accuracy: 0.7870 - val_loss: 0.7437 - val_accuracy: 0.7846\n",
            "Epoch 22/30\n",
            "2500/2500 [==============================] - 5s 2ms/step - loss: 0.7308 - accuracy: 0.7890 - val_loss: 0.7364 - val_accuracy: 0.7861\n",
            "Epoch 23/30\n",
            "2500/2500 [==============================] - 5s 2ms/step - loss: 0.7246 - accuracy: 0.7915 - val_loss: 0.7312 - val_accuracy: 0.7865\n",
            "Epoch 24/30\n",
            "2500/2500 [==============================] - 5s 2ms/step - loss: 0.7186 - accuracy: 0.7929 - val_loss: 0.7253 - val_accuracy: 0.7898\n",
            "Epoch 25/30\n",
            "2500/2500 [==============================] - 5s 2ms/step - loss: 0.7128 - accuracy: 0.7952 - val_loss: 0.7227 - val_accuracy: 0.7909\n",
            "Epoch 26/30\n",
            "2500/2500 [==============================] - 5s 2ms/step - loss: 0.7073 - accuracy: 0.7964 - val_loss: 0.7165 - val_accuracy: 0.7921\n",
            "Epoch 27/30\n",
            "2500/2500 [==============================] - 5s 2ms/step - loss: 0.7020 - accuracy: 0.7982 - val_loss: 0.7120 - val_accuracy: 0.7919\n",
            "Epoch 28/30\n",
            "2500/2500 [==============================] - 5s 2ms/step - loss: 0.6970 - accuracy: 0.7993 - val_loss: 0.7066 - val_accuracy: 0.7940\n",
            "Epoch 29/30\n",
            "2500/2500 [==============================] - 5s 2ms/step - loss: 0.6920 - accuracy: 0.8011 - val_loss: 0.7024 - val_accuracy: 0.7951\n",
            "Epoch 30/30\n",
            "2500/2500 [==============================] - 5s 2ms/step - loss: 0.6874 - accuracy: 0.8019 - val_loss: 0.6986 - val_accuracy: 0.7960\n"
          ],
          "name": "stdout"
        }
      ]
    },
    {
      "cell_type": "code",
      "metadata": {
        "id": "XKJb4SSh3svF",
        "colab_type": "code",
        "colab": {
          "base_uri": "https://localhost:8080/",
          "height": 1000
        },
        "outputId": "855decde-ab8c-4b0a-9cca-14e3e81fd544"
      },
      "source": [
        "default_model_lr0_0001 = create_model(lr=0.0001)\n",
        "batch_default_32_lr0_0001 = default_model_lr0_0001.fit(X_train,y_train, epochs=30,batch_size=32,validation_data=(X_test,y_test))"
      ],
      "execution_count": 72,
      "outputs": [
        {
          "output_type": "stream",
          "text": [
            "Epoch 1/30\n",
            "2500/2500 [==============================] - 5s 2ms/step - loss: 2.3544 - accuracy: 0.0753 - val_loss: 2.3326 - val_accuracy: 0.0912\n",
            "Epoch 2/30\n",
            "2500/2500 [==============================] - 5s 2ms/step - loss: 2.3158 - accuracy: 0.1039 - val_loss: 2.2999 - val_accuracy: 0.1230\n",
            "Epoch 3/30\n",
            "2500/2500 [==============================] - 5s 2ms/step - loss: 2.2847 - accuracy: 0.1380 - val_loss: 2.2696 - val_accuracy: 0.1592\n",
            "Epoch 4/30\n",
            "2500/2500 [==============================] - 5s 2ms/step - loss: 2.2532 - accuracy: 0.1744 - val_loss: 2.2368 - val_accuracy: 0.1931\n",
            "Epoch 5/30\n",
            "2500/2500 [==============================] - 5s 2ms/step - loss: 2.2179 - accuracy: 0.2115 - val_loss: 2.1992 - val_accuracy: 0.2300\n",
            "Epoch 6/30\n",
            "2500/2500 [==============================] - 5s 2ms/step - loss: 2.1767 - accuracy: 0.2513 - val_loss: 2.1544 - val_accuracy: 0.2711\n",
            "Epoch 7/30\n",
            "2500/2500 [==============================] - 5s 2ms/step - loss: 2.1279 - accuracy: 0.2951 - val_loss: 2.1019 - val_accuracy: 0.3157\n",
            "Epoch 8/30\n",
            "2500/2500 [==============================] - 5s 2ms/step - loss: 2.0719 - accuracy: 0.3393 - val_loss: 2.0431 - val_accuracy: 0.3600\n",
            "Epoch 9/30\n",
            "2500/2500 [==============================] - 5s 2ms/step - loss: 2.0105 - accuracy: 0.3783 - val_loss: 1.9800 - val_accuracy: 0.3950\n",
            "Epoch 10/30\n",
            "2500/2500 [==============================] - 5s 2ms/step - loss: 1.9457 - accuracy: 0.4103 - val_loss: 1.9142 - val_accuracy: 0.4255\n",
            "Epoch 11/30\n",
            "2500/2500 [==============================] - 5s 2ms/step - loss: 1.8787 - accuracy: 0.4413 - val_loss: 1.8470 - val_accuracy: 0.4566\n",
            "Epoch 12/30\n",
            "2500/2500 [==============================] - 5s 2ms/step - loss: 1.8109 - accuracy: 0.4707 - val_loss: 1.7794 - val_accuracy: 0.4870\n",
            "Epoch 13/30\n",
            "2500/2500 [==============================] - 5s 2ms/step - loss: 1.7435 - accuracy: 0.4969 - val_loss: 1.7129 - val_accuracy: 0.5104\n",
            "Epoch 14/30\n",
            "2500/2500 [==============================] - 5s 2ms/step - loss: 1.6780 - accuracy: 0.5185 - val_loss: 1.6489 - val_accuracy: 0.5285\n",
            "Epoch 15/30\n",
            "2500/2500 [==============================] - 5s 2ms/step - loss: 1.6157 - accuracy: 0.5373 - val_loss: 1.5887 - val_accuracy: 0.5469\n",
            "Epoch 16/30\n",
            "2500/2500 [==============================] - 5s 2ms/step - loss: 1.5577 - accuracy: 0.5520 - val_loss: 1.5332 - val_accuracy: 0.5597\n",
            "Epoch 17/30\n",
            "2500/2500 [==============================] - 5s 2ms/step - loss: 1.5048 - accuracy: 0.5664 - val_loss: 1.4828 - val_accuracy: 0.5717\n",
            "Epoch 18/30\n",
            "2500/2500 [==============================] - 5s 2ms/step - loss: 1.4570 - accuracy: 0.5769 - val_loss: 1.4375 - val_accuracy: 0.5816\n",
            "Epoch 19/30\n",
            "2500/2500 [==============================] - 5s 2ms/step - loss: 1.4142 - accuracy: 0.5864 - val_loss: 1.3970 - val_accuracy: 0.5921\n",
            "Epoch 20/30\n",
            "2500/2500 [==============================] - 5s 2ms/step - loss: 1.3760 - accuracy: 0.5947 - val_loss: 1.3609 - val_accuracy: 0.6006\n",
            "Epoch 21/30\n",
            "2500/2500 [==============================] - 5s 2ms/step - loss: 1.3419 - accuracy: 0.6028 - val_loss: 1.3286 - val_accuracy: 0.6085\n",
            "Epoch 22/30\n",
            "2500/2500 [==============================] - 5s 2ms/step - loss: 1.3114 - accuracy: 0.6101 - val_loss: 1.2996 - val_accuracy: 0.6151\n",
            "Epoch 23/30\n",
            "2500/2500 [==============================] - 5s 2ms/step - loss: 1.2840 - accuracy: 0.6169 - val_loss: 1.2735 - val_accuracy: 0.6199\n",
            "Epoch 24/30\n",
            "2500/2500 [==============================] - 5s 2ms/step - loss: 1.2593 - accuracy: 0.6230 - val_loss: 1.2499 - val_accuracy: 0.6256\n",
            "Epoch 25/30\n",
            "2500/2500 [==============================] - 4s 2ms/step - loss: 1.2368 - accuracy: 0.6291 - val_loss: 1.2286 - val_accuracy: 0.6321\n",
            "Epoch 26/30\n",
            "2500/2500 [==============================] - 5s 2ms/step - loss: 1.2164 - accuracy: 0.6345 - val_loss: 1.2090 - val_accuracy: 0.6374\n",
            "Epoch 27/30\n",
            "2500/2500 [==============================] - 5s 2ms/step - loss: 1.1977 - accuracy: 0.6392 - val_loss: 1.1910 - val_accuracy: 0.6432\n",
            "Epoch 28/30\n",
            "2500/2500 [==============================] - 5s 2ms/step - loss: 1.1805 - accuracy: 0.6443 - val_loss: 1.1745 - val_accuracy: 0.6472\n",
            "Epoch 29/30\n",
            "2500/2500 [==============================] - 6s 2ms/step - loss: 1.1646 - accuracy: 0.6483 - val_loss: 1.1591 - val_accuracy: 0.6510\n",
            "Epoch 30/30\n",
            "2500/2500 [==============================] - 5s 2ms/step - loss: 1.1498 - accuracy: 0.6528 - val_loss: 1.1448 - val_accuracy: 0.6542\n"
          ],
          "name": "stdout"
        }
      ]
    },
    {
      "cell_type": "code",
      "metadata": {
        "id": "JdULsTafE9wj",
        "colab_type": "code",
        "colab": {
          "base_uri": "https://localhost:8080/",
          "height": 200
        },
        "outputId": "a72b1328-b839-4221-8947-bafd5a5a36e3"
      },
      "source": [
        "learning_rates = []\n",
        "\n",
        "for exp_lr, result_lr in zip([batch_default_32_lr1, batch_default_32_lr0_1,\n",
        "                        batch_default_32_lr0_01, batch_default_32_lr0_001, batch_default_32_lr0_0001], [\"1_\", \"0_1_\",\"0_01_\",\"0_001_\",\"0_0001_\"]):\n",
        "\n",
        "  dflr = pd.DataFrame.from_dict(exp_lr.history)\n",
        "  dflr['epoch'] = dflr.index.values\n",
        "  dflr['learning_rate'] = result_lr\n",
        "\n",
        "  learning_rates.append(dflr)\n",
        "\n",
        "dflr = pd.concat(learning_rates)\n",
        "dflr['learning_rate'] = dflr['learning_rate'].astype('str')\n",
        "dflr.head()"
      ],
      "execution_count": 104,
      "outputs": [
        {
          "output_type": "execute_result",
          "data": {
            "text/html": [
              "<div>\n",
              "<style scoped>\n",
              "    .dataframe tbody tr th:only-of-type {\n",
              "        vertical-align: middle;\n",
              "    }\n",
              "\n",
              "    .dataframe tbody tr th {\n",
              "        vertical-align: top;\n",
              "    }\n",
              "\n",
              "    .dataframe thead th {\n",
              "        text-align: right;\n",
              "    }\n",
              "</style>\n",
              "<table border=\"1\" class=\"dataframe\">\n",
              "  <thead>\n",
              "    <tr style=\"text-align: right;\">\n",
              "      <th></th>\n",
              "      <th>loss</th>\n",
              "      <th>accuracy</th>\n",
              "      <th>val_loss</th>\n",
              "      <th>val_accuracy</th>\n",
              "      <th>epoch</th>\n",
              "      <th>learning_rate</th>\n",
              "    </tr>\n",
              "  </thead>\n",
              "  <tbody>\n",
              "    <tr>\n",
              "      <th>0</th>\n",
              "      <td>1.868795</td>\n",
              "      <td>0.277025</td>\n",
              "      <td>2.245016</td>\n",
              "      <td>0.13735</td>\n",
              "      <td>0</td>\n",
              "      <td>1_</td>\n",
              "    </tr>\n",
              "    <tr>\n",
              "      <th>1</th>\n",
              "      <td>1.949716</td>\n",
              "      <td>0.215750</td>\n",
              "      <td>1.905629</td>\n",
              "      <td>0.23230</td>\n",
              "      <td>1</td>\n",
              "      <td>1_</td>\n",
              "    </tr>\n",
              "    <tr>\n",
              "      <th>2</th>\n",
              "      <td>2.010080</td>\n",
              "      <td>0.191638</td>\n",
              "      <td>1.988125</td>\n",
              "      <td>0.18090</td>\n",
              "      <td>2</td>\n",
              "      <td>1_</td>\n",
              "    </tr>\n",
              "    <tr>\n",
              "      <th>3</th>\n",
              "      <td>2.026944</td>\n",
              "      <td>0.181513</td>\n",
              "      <td>2.020890</td>\n",
              "      <td>0.18825</td>\n",
              "      <td>3</td>\n",
              "      <td>1_</td>\n",
              "    </tr>\n",
              "    <tr>\n",
              "      <th>4</th>\n",
              "      <td>2.010855</td>\n",
              "      <td>0.185000</td>\n",
              "      <td>1.986241</td>\n",
              "      <td>0.19315</td>\n",
              "      <td>4</td>\n",
              "      <td>1_</td>\n",
              "    </tr>\n",
              "  </tbody>\n",
              "</table>\n",
              "</div>"
            ],
            "text/plain": [
              "       loss  accuracy  val_loss  val_accuracy  epoch learning_rate\n",
              "0  1.868795  0.277025  2.245016       0.13735      0            1_\n",
              "1  1.949716  0.215750  1.905629       0.23230      1            1_\n",
              "2  2.010080  0.191638  1.988125       0.18090      2            1_\n",
              "3  2.026944  0.181513  2.020890       0.18825      3            1_\n",
              "4  2.010855  0.185000  1.986241       0.19315      4            1_"
            ]
          },
          "metadata": {
            "tags": []
          },
          "execution_count": 104
        }
      ]
    },
    {
      "cell_type": "code",
      "metadata": {
        "id": "C-44QxeiImvM",
        "colab_type": "code",
        "colab": {
          "base_uri": "https://localhost:8080/",
          "height": 124
        },
        "outputId": "83b49a4d-f5e1-4655-ac9a-9d6b0ef2fef0"
      },
      "source": [
        "dflr['learning_rate'].value_counts()"
      ],
      "execution_count": 105,
      "outputs": [
        {
          "output_type": "execute_result",
          "data": {
            "text/plain": [
              "1_         30\n",
              "0_0001_    30\n",
              "0_1_       30\n",
              "0_01_      30\n",
              "0_001_     30\n",
              "Name: learning_rate, dtype: int64"
            ]
          },
          "metadata": {
            "tags": []
          },
          "execution_count": 105
        }
      ]
    },
    {
      "cell_type": "code",
      "metadata": {
        "colab_type": "code",
        "id": "_Czsza6KIoIt",
        "colab": {
          "base_uri": "https://localhost:8080/",
          "height": 279
        },
        "outputId": "5f5dc3c9-947e-41d7-88ae-35e815a953ea"
      },
      "source": [
        "sns.lineplot(x='epoch', y='val_accuracy', hue='learning_rate', data=dflr);"
      ],
      "execution_count": 106,
      "outputs": [
        {
          "output_type": "display_data",
          "data": {
            "image/png": "[encoded data removed]",
            "text/plain": [
              "<Figure size 432x288 with 1 Axes>"
            ]
          },
          "metadata": {
            "tags": [],
            "needs_background": "light"
          }
        }
      ]
    },
    {
      "cell_type": "code",
      "metadata": {
        "id": "zEuWCeXJMawO",
        "colab_type": "code",
        "colab": {
          "base_uri": "https://localhost:8080/",
          "height": 279
        },
        "outputId": "6836abd0-39e2-46ea-ef0d-ac978c54adc0"
      },
      "source": [
        "sns.lineplot(x='epoch', y='val_loss', hue='learning_rate', data=dflr);"
      ],
      "execution_count": 107,
      "outputs": [
        {
          "output_type": "display_data",
          "data": {
            "image/png": "[encoded data removed]",
            "text/plain": [
              "<Figure size 432x288 with 1 Axes>"
            ]
          },
          "metadata": {
            "tags": [],
            "needs_background": "light"
          }
        }
      ]
    },
    {
      "cell_type": "markdown",
      "metadata": {
        "id": "duH3tDmdfcKL",
        "colab_type": "text"
      },
      "source": [
        "learning rate of 0.01 perform the rest, also within the .85 accuracy similar to yesterday's assignment.. all models chosen today were very close in accuracy. to the default. and some performing worst. "
      ]
    },
    {
      "cell_type": "markdown",
      "metadata": {
        "id": "gxMtSRhV9Q7I",
        "colab_type": "text"
      },
      "source": [
        "### Experiment with different Optimizers\n",
        "* Run 5 experiments with various optimizers available in TensorFlow. See list [here](https://www.tensorflow.org/api_docs/python/tf/keras/optimizers)\n",
        "* Visualize the results\n",
        "* Write up an analysis of the experiments and select the \"best\" performing model among your experiments. Make sure to compare against the previous experiments and your model's performance yesterday.\n",
        "* Repeat the experiment combining Learning Rate and different optimizers. Does the best performing model change? "
      ]
    },
    {
      "cell_type": "code",
      "metadata": {
        "id": "ujLuzdNA91ip",
        "colab_type": "code",
        "colab": {
          "base_uri": "https://localhost:8080/",
          "height": 1000
        },
        "outputId": "f8b83809-ec03-4e2b-9776-23030085ab8f"
      },
      "source": [
        "default_model_lr0_01_SGD = create_model(lr=0.01,opt=SGD)\n",
        "batch_default_32_lr0_01_SGD = default_model_lr0_01_SGD.fit(X_train,y_train, epochs=30,batch_size=32,validation_data=(X_test,y_test))"
      ],
      "execution_count": 115,
      "outputs": [
        {
          "output_type": "stream",
          "text": [
            "Epoch 1/30\n",
            "2500/2500 [==============================] - 5s 2ms/step - loss: 1.2217 - accuracy: 0.6177 - val_loss: 0.8703 - val_accuracy: 0.7417\n",
            "Epoch 2/30\n",
            "2500/2500 [==============================] - 5s 2ms/step - loss: 0.8193 - accuracy: 0.7595 - val_loss: 0.7682 - val_accuracy: 0.7732\n",
            "Epoch 3/30\n",
            "2500/2500 [==============================] - 5s 2ms/step - loss: 0.7422 - accuracy: 0.7812 - val_loss: 0.7168 - val_accuracy: 0.7894\n",
            "Epoch 4/30\n",
            "2500/2500 [==============================] - 5s 2ms/step - loss: 0.6933 - accuracy: 0.7972 - val_loss: 0.6853 - val_accuracy: 0.7966\n",
            "Epoch 5/30\n",
            "2500/2500 [==============================] - 5s 2ms/step - loss: 0.6577 - accuracy: 0.8078 - val_loss: 0.6548 - val_accuracy: 0.8048\n",
            "Epoch 6/30\n",
            "2500/2500 [==============================] - 5s 2ms/step - loss: 0.6273 - accuracy: 0.8170 - val_loss: 0.6307 - val_accuracy: 0.8152\n",
            "Epoch 7/30\n",
            "2500/2500 [==============================] - 5s 2ms/step - loss: 0.6027 - accuracy: 0.8245 - val_loss: 0.6166 - val_accuracy: 0.8188\n",
            "Epoch 8/30\n",
            "2500/2500 [==============================] - 5s 2ms/step - loss: 0.5832 - accuracy: 0.8304 - val_loss: 0.5975 - val_accuracy: 0.8235\n",
            "Epoch 9/30\n",
            "2500/2500 [==============================] - 5s 2ms/step - loss: 0.5658 - accuracy: 0.8352 - val_loss: 0.5887 - val_accuracy: 0.8262\n",
            "Epoch 10/30\n",
            "2500/2500 [==============================] - 5s 2ms/step - loss: 0.5518 - accuracy: 0.8391 - val_loss: 0.5756 - val_accuracy: 0.8299\n",
            "Epoch 11/30\n",
            "2500/2500 [==============================] - 5s 2ms/step - loss: 0.5394 - accuracy: 0.8425 - val_loss: 0.5715 - val_accuracy: 0.8313\n",
            "Epoch 12/30\n",
            "2500/2500 [==============================] - 5s 2ms/step - loss: 0.5284 - accuracy: 0.8457 - val_loss: 0.5615 - val_accuracy: 0.8336\n",
            "Epoch 13/30\n",
            "2500/2500 [==============================] - 5s 2ms/step - loss: 0.5188 - accuracy: 0.8500 - val_loss: 0.5517 - val_accuracy: 0.8357\n",
            "Epoch 14/30\n",
            "2500/2500 [==============================] - 5s 2ms/step - loss: 0.5099 - accuracy: 0.8516 - val_loss: 0.5492 - val_accuracy: 0.8372\n",
            "Epoch 15/30\n",
            "2500/2500 [==============================] - 5s 2ms/step - loss: 0.5020 - accuracy: 0.8538 - val_loss: 0.5454 - val_accuracy: 0.8379\n",
            "Epoch 16/30\n",
            "2500/2500 [==============================] - 5s 2ms/step - loss: 0.4949 - accuracy: 0.8557 - val_loss: 0.5418 - val_accuracy: 0.8400\n",
            "Epoch 17/30\n",
            "2500/2500 [==============================] - 5s 2ms/step - loss: 0.4877 - accuracy: 0.8583 - val_loss: 0.5408 - val_accuracy: 0.8410\n",
            "Epoch 18/30\n",
            "2500/2500 [==============================] - 5s 2ms/step - loss: 0.4819 - accuracy: 0.8603 - val_loss: 0.5381 - val_accuracy: 0.8399\n",
            "Epoch 19/30\n",
            "2500/2500 [==============================] - 5s 2ms/step - loss: 0.4756 - accuracy: 0.8614 - val_loss: 0.5390 - val_accuracy: 0.8401\n",
            "Epoch 20/30\n",
            "2500/2500 [==============================] - 5s 2ms/step - loss: 0.4699 - accuracy: 0.8631 - val_loss: 0.5289 - val_accuracy: 0.8426\n",
            "Epoch 21/30\n",
            "2500/2500 [==============================] - 5s 2ms/step - loss: 0.4642 - accuracy: 0.8649 - val_loss: 0.5332 - val_accuracy: 0.8414\n",
            "Epoch 22/30\n",
            "2500/2500 [==============================] - 5s 2ms/step - loss: 0.4597 - accuracy: 0.8661 - val_loss: 0.5246 - val_accuracy: 0.8442\n",
            "Epoch 23/30\n",
            "2500/2500 [==============================] - 5s 2ms/step - loss: 0.4548 - accuracy: 0.8669 - val_loss: 0.5252 - val_accuracy: 0.8441\n",
            "Epoch 24/30\n",
            "2500/2500 [==============================] - 5s 2ms/step - loss: 0.4510 - accuracy: 0.8689 - val_loss: 0.5219 - val_accuracy: 0.8464\n",
            "Epoch 25/30\n",
            "2500/2500 [==============================] - 5s 2ms/step - loss: 0.4461 - accuracy: 0.8693 - val_loss: 0.5259 - val_accuracy: 0.8443\n",
            "Epoch 26/30\n",
            "2500/2500 [==============================] - 5s 2ms/step - loss: 0.4428 - accuracy: 0.8714 - val_loss: 0.5215 - val_accuracy: 0.8463\n",
            "Epoch 27/30\n",
            "2500/2500 [==============================] - 5s 2ms/step - loss: 0.4388 - accuracy: 0.8725 - val_loss: 0.5200 - val_accuracy: 0.8460\n",
            "Epoch 28/30\n",
            "2500/2500 [==============================] - 5s 2ms/step - loss: 0.4355 - accuracy: 0.8725 - val_loss: 0.5166 - val_accuracy: 0.8474\n",
            "Epoch 29/30\n",
            "2500/2500 [==============================] - 5s 2ms/step - loss: 0.4315 - accuracy: 0.8739 - val_loss: 0.5213 - val_accuracy: 0.8460\n",
            "Epoch 30/30\n",
            "2500/2500 [==============================] - 5s 2ms/step - loss: 0.4286 - accuracy: 0.8750 - val_loss: 0.5204 - val_accuracy: 0.8472\n"
          ],
          "name": "stdout"
        }
      ]
    },
    {
      "cell_type": "code",
      "metadata": {
        "colab_type": "code",
        "id": "dL6epxNGM3JZ",
        "colab": {
          "base_uri": "https://localhost:8080/",
          "height": 1000
        },
        "outputId": "27c96af0-d382-42c9-8efe-461d6cba2be9"
      },
      "source": [
        "default_model_lr0_01_NADAM = create_model(lr=0.01,opt=Nadam)\n",
        "batch_default_32_lr0_01_NADAM = default_model_lr0_01_NADAM.fit(X_train,y_train, epochs=30,batch_size=32,validation_data=(X_test,y_test))"
      ],
      "execution_count": 109,
      "outputs": [
        {
          "output_type": "stream",
          "text": [
            "Epoch 1/30\n",
            "2500/2500 [==============================] - 7s 3ms/step - loss: 0.7397 - accuracy: 0.7766 - val_loss: 0.6677 - val_accuracy: 0.8041\n",
            "Epoch 2/30\n",
            "2500/2500 [==============================] - 7s 3ms/step - loss: 0.6283 - accuracy: 0.8147 - val_loss: 0.6268 - val_accuracy: 0.8120\n",
            "Epoch 3/30\n",
            "2500/2500 [==============================] - 7s 3ms/step - loss: 0.5975 - accuracy: 0.8220 - val_loss: 0.6009 - val_accuracy: 0.8205\n",
            "Epoch 4/30\n",
            "2500/2500 [==============================] - 7s 3ms/step - loss: 0.5832 - accuracy: 0.8266 - val_loss: 0.6327 - val_accuracy: 0.8175\n",
            "Epoch 5/30\n",
            "2500/2500 [==============================] - 7s 3ms/step - loss: 0.5774 - accuracy: 0.8294 - val_loss: 0.5990 - val_accuracy: 0.8241\n",
            "Epoch 6/30\n",
            "2500/2500 [==============================] - 7s 3ms/step - loss: 0.5670 - accuracy: 0.8342 - val_loss: 0.6075 - val_accuracy: 0.8203\n",
            "Epoch 7/30\n",
            "2500/2500 [==============================] - 7s 3ms/step - loss: 0.5621 - accuracy: 0.8339 - val_loss: 0.6355 - val_accuracy: 0.8129\n",
            "Epoch 8/30\n",
            "2500/2500 [==============================] - 7s 3ms/step - loss: 0.5559 - accuracy: 0.8373 - val_loss: 0.6361 - val_accuracy: 0.8127\n",
            "Epoch 9/30\n",
            "2500/2500 [==============================] - 7s 3ms/step - loss: 0.5495 - accuracy: 0.8371 - val_loss: 0.6204 - val_accuracy: 0.8189\n",
            "Epoch 10/30\n",
            "2500/2500 [==============================] - 7s 3ms/step - loss: 0.5437 - accuracy: 0.8393 - val_loss: 0.6086 - val_accuracy: 0.8249\n",
            "Epoch 11/30\n",
            "2500/2500 [==============================] - 7s 3ms/step - loss: 0.5372 - accuracy: 0.8412 - val_loss: 0.6201 - val_accuracy: 0.8198\n",
            "Epoch 12/30\n",
            "2500/2500 [==============================] - 7s 3ms/step - loss: 0.5377 - accuracy: 0.8422 - val_loss: 0.6317 - val_accuracy: 0.8219\n",
            "Epoch 13/30\n",
            "2500/2500 [==============================] - 7s 3ms/step - loss: 0.5313 - accuracy: 0.8443 - val_loss: 0.6412 - val_accuracy: 0.8225\n",
            "Epoch 14/30\n",
            "2500/2500 [==============================] - 7s 3ms/step - loss: 0.5272 - accuracy: 0.8458 - val_loss: 0.6238 - val_accuracy: 0.8223\n",
            "Epoch 15/30\n",
            "2500/2500 [==============================] - 8s 3ms/step - loss: 0.5217 - accuracy: 0.8471 - val_loss: 0.6357 - val_accuracy: 0.8191\n",
            "Epoch 16/30\n",
            "2500/2500 [==============================] - 7s 3ms/step - loss: 0.5221 - accuracy: 0.8461 - val_loss: 0.6264 - val_accuracy: 0.8202\n",
            "Epoch 17/30\n",
            "2500/2500 [==============================] - 7s 3ms/step - loss: 0.5246 - accuracy: 0.8474 - val_loss: 0.6543 - val_accuracy: 0.8138\n",
            "Epoch 18/30\n",
            "2500/2500 [==============================] - 7s 3ms/step - loss: 0.5133 - accuracy: 0.8494 - val_loss: 0.6239 - val_accuracy: 0.8191\n",
            "Epoch 19/30\n",
            "2500/2500 [==============================] - 7s 3ms/step - loss: 0.5196 - accuracy: 0.8488 - val_loss: 0.6218 - val_accuracy: 0.8253\n",
            "Epoch 20/30\n",
            "2500/2500 [==============================] - 7s 3ms/step - loss: 0.5128 - accuracy: 0.8499 - val_loss: 0.6461 - val_accuracy: 0.8192\n",
            "Epoch 21/30\n",
            "2500/2500 [==============================] - 7s 3ms/step - loss: 0.5126 - accuracy: 0.8492 - val_loss: 0.6383 - val_accuracy: 0.8206\n",
            "Epoch 22/30\n",
            "2500/2500 [==============================] - 7s 3ms/step - loss: 0.5090 - accuracy: 0.8517 - val_loss: 0.6529 - val_accuracy: 0.8242\n",
            "Epoch 23/30\n",
            "2500/2500 [==============================] - 7s 3ms/step - loss: 0.5021 - accuracy: 0.8531 - val_loss: 0.6417 - val_accuracy: 0.8187\n",
            "Epoch 24/30\n",
            "2500/2500 [==============================] - 7s 3ms/step - loss: 0.5070 - accuracy: 0.8514 - val_loss: 0.6480 - val_accuracy: 0.8196\n",
            "Epoch 25/30\n",
            "2500/2500 [==============================] - 7s 3ms/step - loss: 0.5025 - accuracy: 0.8530 - val_loss: 0.6426 - val_accuracy: 0.8199\n",
            "Epoch 26/30\n",
            "2500/2500 [==============================] - 7s 3ms/step - loss: 0.4985 - accuracy: 0.8535 - val_loss: 0.6689 - val_accuracy: 0.8194\n",
            "Epoch 27/30\n",
            "2500/2500 [==============================] - 7s 3ms/step - loss: 0.4999 - accuracy: 0.8538 - val_loss: 0.6373 - val_accuracy: 0.8230\n",
            "Epoch 28/30\n",
            "2500/2500 [==============================] - 7s 3ms/step - loss: 0.4961 - accuracy: 0.8548 - val_loss: 0.6445 - val_accuracy: 0.8169\n",
            "Epoch 29/30\n",
            "2500/2500 [==============================] - 7s 3ms/step - loss: 0.4962 - accuracy: 0.8551 - val_loss: 0.6865 - val_accuracy: 0.8173\n",
            "Epoch 30/30\n",
            "2500/2500 [==============================] - 7s 3ms/step - loss: 0.4941 - accuracy: 0.8558 - val_loss: 0.6715 - val_accuracy: 0.8208\n"
          ],
          "name": "stdout"
        }
      ]
    },
    {
      "cell_type": "code",
      "metadata": {
        "id": "htIn750fNIFc",
        "colab_type": "code",
        "colab": {
          "base_uri": "https://localhost:8080/",
          "height": 1000
        },
        "outputId": "3252568b-2cc9-4018-f32e-e682ec3a1eae"
      },
      "source": [
        "default_model_lr0_01_ADAM = create_model(lr=0.01,opt=Adam)\n",
        "batch_default_32_lr0_01_ADAM= default_model_lr0_01_ADAM.fit(X_train,y_train, epochs=30,batch_size=32,validation_data=(X_test,y_test))"
      ],
      "execution_count": 110,
      "outputs": [
        {
          "output_type": "stream",
          "text": [
            "Epoch 1/30\n",
            "2500/2500 [==============================] - 5s 2ms/step - loss: 0.7493 - accuracy: 0.7715 - val_loss: 0.6778 - val_accuracy: 0.7964\n",
            "Epoch 2/30\n",
            "2500/2500 [==============================] - 5s 2ms/step - loss: 0.6443 - accuracy: 0.8071 - val_loss: 0.6425 - val_accuracy: 0.8078\n",
            "Epoch 3/30\n",
            "2500/2500 [==============================] - 5s 2ms/step - loss: 0.6222 - accuracy: 0.8143 - val_loss: 0.6232 - val_accuracy: 0.8142\n",
            "Epoch 4/30\n",
            "2500/2500 [==============================] - 5s 2ms/step - loss: 0.6068 - accuracy: 0.8195 - val_loss: 0.6763 - val_accuracy: 0.8031\n",
            "Epoch 5/30\n",
            "2500/2500 [==============================] - 5s 2ms/step - loss: 0.5947 - accuracy: 0.8240 - val_loss: 0.6436 - val_accuracy: 0.8104\n",
            "Epoch 6/30\n",
            "2500/2500 [==============================] - 5s 2ms/step - loss: 0.5838 - accuracy: 0.8278 - val_loss: 0.6507 - val_accuracy: 0.8092\n",
            "Epoch 7/30\n",
            "2500/2500 [==============================] - 5s 2ms/step - loss: 0.5747 - accuracy: 0.8310 - val_loss: 0.6191 - val_accuracy: 0.8175\n",
            "Epoch 8/30\n",
            "2500/2500 [==============================] - 5s 2ms/step - loss: 0.5699 - accuracy: 0.8321 - val_loss: 0.6209 - val_accuracy: 0.8195\n",
            "Epoch 9/30\n",
            "2500/2500 [==============================] - 5s 2ms/step - loss: 0.5667 - accuracy: 0.8330 - val_loss: 0.6332 - val_accuracy: 0.8151\n",
            "Epoch 10/30\n",
            "2500/2500 [==============================] - 5s 2ms/step - loss: 0.5602 - accuracy: 0.8355 - val_loss: 0.6314 - val_accuracy: 0.8216\n",
            "Epoch 11/30\n",
            "2500/2500 [==============================] - 5s 2ms/step - loss: 0.5563 - accuracy: 0.8357 - val_loss: 0.6480 - val_accuracy: 0.8124\n",
            "Epoch 12/30\n",
            "2500/2500 [==============================] - 5s 2ms/step - loss: 0.5583 - accuracy: 0.8369 - val_loss: 0.6335 - val_accuracy: 0.8213\n",
            "Epoch 13/30\n",
            "2500/2500 [==============================] - 5s 2ms/step - loss: 0.5470 - accuracy: 0.8385 - val_loss: 0.6517 - val_accuracy: 0.8214\n",
            "Epoch 14/30\n",
            "2500/2500 [==============================] - 5s 2ms/step - loss: 0.5491 - accuracy: 0.8383 - val_loss: 0.6537 - val_accuracy: 0.8184\n",
            "Epoch 15/30\n",
            "2500/2500 [==============================] - 5s 2ms/step - loss: 0.5448 - accuracy: 0.8400 - val_loss: 0.6407 - val_accuracy: 0.8221\n",
            "Epoch 16/30\n",
            "2500/2500 [==============================] - 5s 2ms/step - loss: 0.5414 - accuracy: 0.8406 - val_loss: 0.6573 - val_accuracy: 0.8201\n",
            "Epoch 17/30\n",
            "2500/2500 [==============================] - 5s 2ms/step - loss: 0.5373 - accuracy: 0.8411 - val_loss: 0.6775 - val_accuracy: 0.8159\n",
            "Epoch 18/30\n",
            "2500/2500 [==============================] - 5s 2ms/step - loss: 0.5397 - accuracy: 0.8413 - val_loss: 0.6388 - val_accuracy: 0.8173\n",
            "Epoch 19/30\n",
            "2500/2500 [==============================] - 5s 2ms/step - loss: 0.5318 - accuracy: 0.8442 - val_loss: 0.6515 - val_accuracy: 0.8188\n",
            "Epoch 20/30\n",
            "2500/2500 [==============================] - 5s 2ms/step - loss: 0.5331 - accuracy: 0.8435 - val_loss: 0.6630 - val_accuracy: 0.8195\n",
            "Epoch 21/30\n",
            "2500/2500 [==============================] - 5s 2ms/step - loss: 0.5286 - accuracy: 0.8432 - val_loss: 0.6934 - val_accuracy: 0.8103\n",
            "Epoch 22/30\n",
            "2500/2500 [==============================] - 5s 2ms/step - loss: 0.5293 - accuracy: 0.8433 - val_loss: 0.6874 - val_accuracy: 0.8189\n",
            "Epoch 23/30\n",
            "2500/2500 [==============================] - 5s 2ms/step - loss: 0.5268 - accuracy: 0.8443 - val_loss: 0.6882 - val_accuracy: 0.8138\n",
            "Epoch 24/30\n",
            "2500/2500 [==============================] - 5s 2ms/step - loss: 0.5250 - accuracy: 0.8457 - val_loss: 0.6606 - val_accuracy: 0.8183\n",
            "Epoch 25/30\n",
            "2500/2500 [==============================] - 5s 2ms/step - loss: 0.5229 - accuracy: 0.8455 - val_loss: 0.6701 - val_accuracy: 0.8170\n",
            "Epoch 26/30\n",
            "2500/2500 [==============================] - 5s 2ms/step - loss: 0.5195 - accuracy: 0.8476 - val_loss: 0.6699 - val_accuracy: 0.8160\n",
            "Epoch 27/30\n",
            "2500/2500 [==============================] - 5s 2ms/step - loss: 0.5219 - accuracy: 0.8468 - val_loss: 0.6747 - val_accuracy: 0.8174\n",
            "Epoch 28/30\n",
            "2500/2500 [==============================] - 5s 2ms/step - loss: 0.5198 - accuracy: 0.8465 - val_loss: 0.6702 - val_accuracy: 0.8062\n",
            "Epoch 29/30\n",
            "2500/2500 [==============================] - 5s 2ms/step - loss: 0.5180 - accuracy: 0.8470 - val_loss: 0.6795 - val_accuracy: 0.8177\n",
            "Epoch 30/30\n",
            "2500/2500 [==============================] - 5s 2ms/step - loss: 0.5164 - accuracy: 0.8474 - val_loss: 0.6637 - val_accuracy: 0.8168\n"
          ],
          "name": "stdout"
        }
      ]
    },
    {
      "cell_type": "code",
      "metadata": {
        "id": "DyeWpMNfNfSG",
        "colab_type": "code",
        "colab": {
          "base_uri": "https://localhost:8080/",
          "height": 1000
        },
        "outputId": "1a9091ef-4493-4b9e-c0b1-1ef8c861627f"
      },
      "source": [
        "default_model_lr0_01_ADADELTA = create_model(lr=0.01,opt=Adadelta)\n",
        "batch_default_32_lr0_01_ADADELTA = default_model_lr0_01_ADADELTA.fit(X_train,y_train, epochs=30,batch_size=32,validation_data=(X_test,y_test))"
      ],
      "execution_count": 111,
      "outputs": [
        {
          "output_type": "stream",
          "text": [
            "Epoch 1/30\n",
            "2500/2500 [==============================] - 5s 2ms/step - loss: 2.0924 - accuracy: 0.2940 - val_loss: 1.8561 - val_accuracy: 0.4155\n",
            "Epoch 2/30\n",
            "2500/2500 [==============================] - 5s 2ms/step - loss: 1.6498 - accuracy: 0.4693 - val_loss: 1.4787 - val_accuracy: 0.5155\n",
            "Epoch 3/30\n",
            "2500/2500 [==============================] - 5s 2ms/step - loss: 1.3685 - accuracy: 0.5602 - val_loss: 1.2824 - val_accuracy: 0.6013\n",
            "Epoch 4/30\n",
            "2500/2500 [==============================] - 5s 2ms/step - loss: 1.2209 - accuracy: 0.6211 - val_loss: 1.1705 - val_accuracy: 0.6427\n",
            "Epoch 5/30\n",
            "2500/2500 [==============================] - 5s 2ms/step - loss: 1.1296 - accuracy: 0.6539 - val_loss: 1.0952 - val_accuracy: 0.6693\n",
            "Epoch 6/30\n",
            "2500/2500 [==============================] - 5s 2ms/step - loss: 1.0658 - accuracy: 0.6793 - val_loss: 1.0404 - val_accuracy: 0.6894\n",
            "Epoch 7/30\n",
            "2500/2500 [==============================] - 5s 2ms/step - loss: 1.0179 - accuracy: 0.6965 - val_loss: 0.9981 - val_accuracy: 0.7051\n",
            "Epoch 8/30\n",
            "2500/2500 [==============================] - 5s 2ms/step - loss: 0.9805 - accuracy: 0.7085 - val_loss: 0.9646 - val_accuracy: 0.7168\n",
            "Epoch 9/30\n",
            "2500/2500 [==============================] - 5s 2ms/step - loss: 0.9503 - accuracy: 0.7190 - val_loss: 0.9370 - val_accuracy: 0.7265\n",
            "Epoch 10/30\n",
            "2500/2500 [==============================] - 5s 2ms/step - loss: 0.9252 - accuracy: 0.7279 - val_loss: 0.9141 - val_accuracy: 0.7335\n",
            "Epoch 11/30\n",
            "2500/2500 [==============================] - 6s 2ms/step - loss: 0.9035 - accuracy: 0.7356 - val_loss: 0.8933 - val_accuracy: 0.7400\n",
            "Epoch 12/30\n",
            "2500/2500 [==============================] - 5s 2ms/step - loss: 0.8844 - accuracy: 0.7420 - val_loss: 0.8758 - val_accuracy: 0.7467\n",
            "Epoch 13/30\n",
            "2500/2500 [==============================] - 5s 2ms/step - loss: 0.8681 - accuracy: 0.7473 - val_loss: 0.8610 - val_accuracy: 0.7507\n",
            "Epoch 14/30\n",
            "2500/2500 [==============================] - 5s 2ms/step - loss: 0.8542 - accuracy: 0.7517 - val_loss: 0.8482 - val_accuracy: 0.7546\n",
            "Epoch 15/30\n",
            "2500/2500 [==============================] - 5s 2ms/step - loss: 0.8418 - accuracy: 0.7553 - val_loss: 0.8367 - val_accuracy: 0.7591\n",
            "Epoch 16/30\n",
            "2500/2500 [==============================] - 5s 2ms/step - loss: 0.8307 - accuracy: 0.7590 - val_loss: 0.8262 - val_accuracy: 0.7618\n",
            "Epoch 17/30\n",
            "2500/2500 [==============================] - 5s 2ms/step - loss: 0.8206 - accuracy: 0.7625 - val_loss: 0.8170 - val_accuracy: 0.7644\n",
            "Epoch 18/30\n",
            "2500/2500 [==============================] - 5s 2ms/step - loss: 0.8115 - accuracy: 0.7654 - val_loss: 0.8085 - val_accuracy: 0.7674\n",
            "Epoch 19/30\n",
            "2500/2500 [==============================] - 5s 2ms/step - loss: 0.8030 - accuracy: 0.7676 - val_loss: 0.8007 - val_accuracy: 0.7693\n",
            "Epoch 20/30\n",
            "2500/2500 [==============================] - 5s 2ms/step - loss: 0.7951 - accuracy: 0.7703 - val_loss: 0.7937 - val_accuracy: 0.7712\n",
            "Epoch 21/30\n",
            "2500/2500 [==============================] - 5s 2ms/step - loss: 0.7879 - accuracy: 0.7726 - val_loss: 0.7869 - val_accuracy: 0.7733\n",
            "Epoch 22/30\n",
            "2500/2500 [==============================] - 5s 2ms/step - loss: 0.7810 - accuracy: 0.7746 - val_loss: 0.7803 - val_accuracy: 0.7746\n",
            "Epoch 23/30\n",
            "2500/2500 [==============================] - 5s 2ms/step - loss: 0.7746 - accuracy: 0.7765 - val_loss: 0.7745 - val_accuracy: 0.7768\n",
            "Epoch 24/30\n",
            "2500/2500 [==============================] - 5s 2ms/step - loss: 0.7685 - accuracy: 0.7783 - val_loss: 0.7692 - val_accuracy: 0.7781\n",
            "Epoch 25/30\n",
            "2500/2500 [==============================] - 5s 2ms/step - loss: 0.7629 - accuracy: 0.7799 - val_loss: 0.7638 - val_accuracy: 0.7796\n",
            "Epoch 26/30\n",
            "2500/2500 [==============================] - 5s 2ms/step - loss: 0.7575 - accuracy: 0.7822 - val_loss: 0.7591 - val_accuracy: 0.7814\n",
            "Epoch 27/30\n",
            "2500/2500 [==============================] - 5s 2ms/step - loss: 0.7524 - accuracy: 0.7832 - val_loss: 0.7546 - val_accuracy: 0.7827\n",
            "Epoch 28/30\n",
            "2500/2500 [==============================] - 5s 2ms/step - loss: 0.7475 - accuracy: 0.7844 - val_loss: 0.7497 - val_accuracy: 0.7839\n",
            "Epoch 29/30\n",
            "2500/2500 [==============================] - 5s 2ms/step - loss: 0.7429 - accuracy: 0.7857 - val_loss: 0.7455 - val_accuracy: 0.7851\n",
            "Epoch 30/30\n",
            "2500/2500 [==============================] - 5s 2ms/step - loss: 0.7384 - accuracy: 0.7869 - val_loss: 0.7415 - val_accuracy: 0.7866\n"
          ],
          "name": "stdout"
        }
      ]
    },
    {
      "cell_type": "code",
      "metadata": {
        "id": "LWxDAC3TOZ-R",
        "colab_type": "code",
        "colab": {
          "base_uri": "https://localhost:8080/",
          "height": 1000
        },
        "outputId": "41cdbda3-0276-45b9-ae5c-dbc14e3066c2"
      },
      "source": [
        "default_model_lr0_01_ADAMAX = create_model(lr=0.01,opt=Adamax)\n",
        "\n",
        "batch_default_32_lr0_01_ADAMAX = default_model_lr0_01_ADAMAX.fit(X_train,y_train, epochs=30,batch_size=32,validation_data=(X_test,y_test))"
      ],
      "execution_count": 112,
      "outputs": [
        {
          "output_type": "stream",
          "text": [
            "Epoch 1/30\n",
            "2500/2500 [==============================] - 5s 2ms/step - loss: 0.7255 - accuracy: 0.7808 - val_loss: 0.5831 - val_accuracy: 0.8226\n",
            "Epoch 2/30\n",
            "2500/2500 [==============================] - 5s 2ms/step - loss: 0.5629 - accuracy: 0.8307 - val_loss: 0.5590 - val_accuracy: 0.8338\n",
            "Epoch 3/30\n",
            "2500/2500 [==============================] - 5s 2ms/step - loss: 0.5229 - accuracy: 0.8416 - val_loss: 0.5383 - val_accuracy: 0.8364\n",
            "Epoch 4/30\n",
            "2500/2500 [==============================] - 5s 2ms/step - loss: 0.4949 - accuracy: 0.8507 - val_loss: 0.5213 - val_accuracy: 0.8429\n",
            "Epoch 5/30\n",
            "2500/2500 [==============================] - 5s 2ms/step - loss: 0.4797 - accuracy: 0.8543 - val_loss: 0.5199 - val_accuracy: 0.8429\n",
            "Epoch 6/30\n",
            "2500/2500 [==============================] - 5s 2ms/step - loss: 0.4647 - accuracy: 0.8596 - val_loss: 0.5200 - val_accuracy: 0.8389\n",
            "Epoch 7/30\n",
            "2500/2500 [==============================] - 5s 2ms/step - loss: 0.4523 - accuracy: 0.8614 - val_loss: 0.5174 - val_accuracy: 0.8429\n",
            "Epoch 8/30\n",
            "2500/2500 [==============================] - 5s 2ms/step - loss: 0.4425 - accuracy: 0.8640 - val_loss: 0.5115 - val_accuracy: 0.8444\n",
            "Epoch 9/30\n",
            "2500/2500 [==============================] - 5s 2ms/step - loss: 0.4341 - accuracy: 0.8665 - val_loss: 0.5091 - val_accuracy: 0.8456\n",
            "Epoch 10/30\n",
            "2500/2500 [==============================] - 5s 2ms/step - loss: 0.4269 - accuracy: 0.8690 - val_loss: 0.5190 - val_accuracy: 0.8457\n",
            "Epoch 11/30\n",
            "2500/2500 [==============================] - 5s 2ms/step - loss: 0.4204 - accuracy: 0.8723 - val_loss: 0.5237 - val_accuracy: 0.8439\n",
            "Epoch 12/30\n",
            "2500/2500 [==============================] - 5s 2ms/step - loss: 0.4176 - accuracy: 0.8717 - val_loss: 0.5064 - val_accuracy: 0.8454\n",
            "Epoch 13/30\n",
            "2500/2500 [==============================] - 5s 2ms/step - loss: 0.4111 - accuracy: 0.8741 - val_loss: 0.5207 - val_accuracy: 0.8421\n",
            "Epoch 14/30\n",
            "2500/2500 [==============================] - 5s 2ms/step - loss: 0.4068 - accuracy: 0.8747 - val_loss: 0.5227 - val_accuracy: 0.8424\n",
            "Epoch 15/30\n",
            "2500/2500 [==============================] - 5s 2ms/step - loss: 0.4011 - accuracy: 0.8761 - val_loss: 0.5262 - val_accuracy: 0.8465\n",
            "Epoch 16/30\n",
            "2500/2500 [==============================] - 5s 2ms/step - loss: 0.3995 - accuracy: 0.8773 - val_loss: 0.5196 - val_accuracy: 0.8449\n",
            "Epoch 17/30\n",
            "2500/2500 [==============================] - 5s 2ms/step - loss: 0.3959 - accuracy: 0.8785 - val_loss: 0.5475 - val_accuracy: 0.8381\n",
            "Epoch 18/30\n",
            "2500/2500 [==============================] - 5s 2ms/step - loss: 0.3907 - accuracy: 0.8791 - val_loss: 0.5273 - val_accuracy: 0.8453\n",
            "Epoch 19/30\n",
            "2500/2500 [==============================] - 5s 2ms/step - loss: 0.3883 - accuracy: 0.8805 - val_loss: 0.5318 - val_accuracy: 0.8416\n",
            "Epoch 20/30\n",
            "2500/2500 [==============================] - 5s 2ms/step - loss: 0.3852 - accuracy: 0.8815 - val_loss: 0.5426 - val_accuracy: 0.8393\n",
            "Epoch 21/30\n",
            "2500/2500 [==============================] - 5s 2ms/step - loss: 0.3814 - accuracy: 0.8824 - val_loss: 0.5385 - val_accuracy: 0.8400\n",
            "Epoch 22/30\n",
            "2500/2500 [==============================] - 5s 2ms/step - loss: 0.3784 - accuracy: 0.8830 - val_loss: 0.5474 - val_accuracy: 0.8415\n",
            "Epoch 23/30\n",
            "2500/2500 [==============================] - 5s 2ms/step - loss: 0.3764 - accuracy: 0.8839 - val_loss: 0.5444 - val_accuracy: 0.8435\n",
            "Epoch 24/30\n",
            "2500/2500 [==============================] - 5s 2ms/step - loss: 0.3737 - accuracy: 0.8857 - val_loss: 0.5424 - val_accuracy: 0.8428\n",
            "Epoch 25/30\n",
            "2500/2500 [==============================] - 5s 2ms/step - loss: 0.3696 - accuracy: 0.8857 - val_loss: 0.5458 - val_accuracy: 0.8415\n",
            "Epoch 26/30\n",
            "2500/2500 [==============================] - 5s 2ms/step - loss: 0.3680 - accuracy: 0.8862 - val_loss: 0.5616 - val_accuracy: 0.8401\n",
            "Epoch 27/30\n",
            "2500/2500 [==============================] - 5s 2ms/step - loss: 0.3655 - accuracy: 0.8868 - val_loss: 0.5534 - val_accuracy: 0.8418\n",
            "Epoch 28/30\n",
            "2500/2500 [==============================] - 5s 2ms/step - loss: 0.3641 - accuracy: 0.8871 - val_loss: 0.5518 - val_accuracy: 0.8403\n",
            "Epoch 29/30\n",
            "2500/2500 [==============================] - 5s 2ms/step - loss: 0.3613 - accuracy: 0.8886 - val_loss: 0.5620 - val_accuracy: 0.8397\n",
            "Epoch 30/30\n",
            "2500/2500 [==============================] - 5s 2ms/step - loss: 0.3589 - accuracy: 0.8890 - val_loss: 0.5562 - val_accuracy: 0.8389\n"
          ],
          "name": "stdout"
        }
      ]
    },
    {
      "cell_type": "code",
      "metadata": {
        "id": "HeBXsn8iOsa-",
        "colab_type": "code",
        "colab": {
          "base_uri": "https://localhost:8080/",
          "height": 1000
        },
        "outputId": "221c3bbf-9937-4200-da1a-99c72131a209"
      },
      "source": [
        "default_model_lr0_01_FTLR = create_model(lr=0.01,opt=Ftrl)\n",
        "batch_default_32_lr0_01_FTLR = default_model_lr0_01_FTLR.fit(X_train,y_train, epochs=30,batch_size=32,validation_data=(X_test,y_test))"
      ],
      "execution_count": 113,
      "outputs": [
        {
          "output_type": "stream",
          "text": [
            "Epoch 1/30\n",
            "2500/2500 [==============================] - 5s 2ms/step - loss: 2.3027 - accuracy: 0.0980 - val_loss: 2.3026 - val_accuracy: 0.0988\n",
            "Epoch 2/30\n",
            "2500/2500 [==============================] - 5s 2ms/step - loss: 2.3026 - accuracy: 0.0977 - val_loss: 2.3026 - val_accuracy: 0.0988\n",
            "Epoch 3/30\n",
            "2500/2500 [==============================] - 5s 2ms/step - loss: 2.3026 - accuracy: 0.0998 - val_loss: 2.3026 - val_accuracy: 0.0993\n",
            "Epoch 4/30\n",
            "2500/2500 [==============================] - 5s 2ms/step - loss: 2.3026 - accuracy: 0.0997 - val_loss: 2.3025 - val_accuracy: 0.0988\n",
            "Epoch 5/30\n",
            "2500/2500 [==============================] - 5s 2ms/step - loss: 2.1982 - accuracy: 0.1476 - val_loss: 2.0042 - val_accuracy: 0.2196\n",
            "Epoch 6/30\n",
            "2500/2500 [==============================] - 5s 2ms/step - loss: 1.6963 - accuracy: 0.3317 - val_loss: 1.4572 - val_accuracy: 0.4263\n",
            "Epoch 7/30\n",
            "2500/2500 [==============================] - 5s 2ms/step - loss: 1.3518 - accuracy: 0.4835 - val_loss: 1.2865 - val_accuracy: 0.5344\n",
            "Epoch 8/30\n",
            "2500/2500 [==============================] - 5s 2ms/step - loss: 1.1995 - accuracy: 0.5907 - val_loss: 1.0921 - val_accuracy: 0.6492\n",
            "Epoch 9/30\n",
            "2500/2500 [==============================] - 5s 2ms/step - loss: 1.0331 - accuracy: 0.6796 - val_loss: 0.9800 - val_accuracy: 0.7042\n",
            "Epoch 10/30\n",
            "2500/2500 [==============================] - 5s 2ms/step - loss: 0.9483 - accuracy: 0.7171 - val_loss: 0.9166 - val_accuracy: 0.7251\n",
            "Epoch 11/30\n",
            "2500/2500 [==============================] - 5s 2ms/step - loss: 0.9009 - accuracy: 0.7287 - val_loss: 0.8822 - val_accuracy: 0.7315\n",
            "Epoch 12/30\n",
            "2500/2500 [==============================] - 6s 2ms/step - loss: 0.8692 - accuracy: 0.7378 - val_loss: 0.8547 - val_accuracy: 0.7420\n",
            "Epoch 13/30\n",
            "2500/2500 [==============================] - 6s 2ms/step - loss: 0.8419 - accuracy: 0.7456 - val_loss: 0.8283 - val_accuracy: 0.7500\n",
            "Epoch 14/30\n",
            "2500/2500 [==============================] - 5s 2ms/step - loss: 0.8144 - accuracy: 0.7549 - val_loss: 0.8039 - val_accuracy: 0.7553\n",
            "Epoch 15/30\n",
            "2500/2500 [==============================] - 5s 2ms/step - loss: 0.7907 - accuracy: 0.7622 - val_loss: 0.7833 - val_accuracy: 0.7651\n",
            "Epoch 16/30\n",
            "2500/2500 [==============================] - 5s 2ms/step - loss: 0.7718 - accuracy: 0.7681 - val_loss: 0.7676 - val_accuracy: 0.7707\n",
            "Epoch 17/30\n",
            "2500/2500 [==============================] - 5s 2ms/step - loss: 0.7564 - accuracy: 0.7739 - val_loss: 0.7547 - val_accuracy: 0.7757\n",
            "Epoch 18/30\n",
            "2500/2500 [==============================] - 5s 2ms/step - loss: 0.7437 - accuracy: 0.7786 - val_loss: 0.7432 - val_accuracy: 0.7796\n",
            "Epoch 19/30\n",
            "2500/2500 [==============================] - 5s 2ms/step - loss: 0.7326 - accuracy: 0.7823 - val_loss: 0.7336 - val_accuracy: 0.7820\n",
            "Epoch 20/30\n",
            "2500/2500 [==============================] - 5s 2ms/step - loss: 0.7227 - accuracy: 0.7857 - val_loss: 0.7264 - val_accuracy: 0.7818\n",
            "Epoch 21/30\n",
            "2500/2500 [==============================] - 5s 2ms/step - loss: 0.7148 - accuracy: 0.7885 - val_loss: 0.7190 - val_accuracy: 0.7860\n",
            "Epoch 22/30\n",
            "2500/2500 [==============================] - 5s 2ms/step - loss: 0.7073 - accuracy: 0.7908 - val_loss: 0.7152 - val_accuracy: 0.7889\n",
            "Epoch 23/30\n",
            "2500/2500 [==============================] - 5s 2ms/step - loss: 0.7010 - accuracy: 0.7938 - val_loss: 0.7096 - val_accuracy: 0.7885\n",
            "Epoch 24/30\n",
            "2500/2500 [==============================] - 5s 2ms/step - loss: 0.6954 - accuracy: 0.7959 - val_loss: 0.7051 - val_accuracy: 0.7922\n",
            "Epoch 25/30\n",
            "2500/2500 [==============================] - 5s 2ms/step - loss: 0.6903 - accuracy: 0.7973 - val_loss: 0.7012 - val_accuracy: 0.7926\n",
            "Epoch 26/30\n",
            "2500/2500 [==============================] - 5s 2ms/step - loss: 0.6856 - accuracy: 0.7991 - val_loss: 0.6974 - val_accuracy: 0.7940\n",
            "Epoch 27/30\n",
            "2500/2500 [==============================] - 5s 2ms/step - loss: 0.6814 - accuracy: 0.7998 - val_loss: 0.6939 - val_accuracy: 0.7940\n",
            "Epoch 28/30\n",
            "2500/2500 [==============================] - 5s 2ms/step - loss: 0.6776 - accuracy: 0.8011 - val_loss: 0.6909 - val_accuracy: 0.7948\n",
            "Epoch 29/30\n",
            "2500/2500 [==============================] - 5s 2ms/step - loss: 0.6740 - accuracy: 0.8023 - val_loss: 0.6884 - val_accuracy: 0.7972\n",
            "Epoch 30/30\n",
            "2500/2500 [==============================] - 5s 2ms/step - loss: 0.6707 - accuracy: 0.8031 - val_loss: 0.6857 - val_accuracy: 0.7979\n"
          ],
          "name": "stdout"
        }
      ]
    },
    {
      "cell_type": "code",
      "metadata": {
        "id": "Hzvu2OwpXuZq",
        "colab_type": "code",
        "colab": {
          "base_uri": "https://localhost:8080/",
          "height": 200
        },
        "outputId": "80dc6ae2-6e44-4791-8b09-77db78d7045c"
      },
      "source": [
        "optimizer_types = []\n",
        "# batch_default_32_lr0_01_SGD\n",
        "# batch_default_32_lr0_01_NADAM \n",
        "# batch_default_32_lr0_01_ADAM \n",
        "# batch_default_32_lr0_01_ADADELTA\n",
        "# batch_default_32_lr0_01_ADAMAX\n",
        "# batch_default_32_lr0_01_FTLR\n",
        "\n",
        "for exp_opt, result_opt in zip([batch_default_32_lr0_01_SGD, batch_default_32_lr0_01_NADAM,\n",
        "                                batch_default_32_lr0_01_ADAM, batch_default_32_lr0_01_ADADELTA,\n",
        "                                batch_default_32_lr0_01_ADAMAX, batch_default_32_lr0_01_FTLR], [\"SGD\", \"NADAM\",\"ADAM\",\n",
        "                                                                                                \"ADADELTA\",\"ADAMAX\",\"FTLR\"]):\n",
        "\n",
        "  dfopt = pd.DataFrame.from_dict(exp_opt.history)\n",
        "  dfopt['epoch'] = dfopt.index.values\n",
        "  dfopt['optimizer'] = result_opt\n",
        "\n",
        "  optimizer_types.append(dfopt)\n",
        "\n",
        "dfopt = pd.concat(optimizer_types)\n",
        "dfopt['optimizer'] = dfopt['optimizer'].astype('str')\n",
        "dfopt.head()"
      ],
      "execution_count": 116,
      "outputs": [
        {
          "output_type": "execute_result",
          "data": {
            "text/html": [
              "<div>\n",
              "<style scoped>\n",
              "    .dataframe tbody tr th:only-of-type {\n",
              "        vertical-align: middle;\n",
              "    }\n",
              "\n",
              "    .dataframe tbody tr th {\n",
              "        vertical-align: top;\n",
              "    }\n",
              "\n",
              "    .dataframe thead th {\n",
              "        text-align: right;\n",
              "    }\n",
              "</style>\n",
              "<table border=\"1\" class=\"dataframe\">\n",
              "  <thead>\n",
              "    <tr style=\"text-align: right;\">\n",
              "      <th></th>\n",
              "      <th>loss</th>\n",
              "      <th>accuracy</th>\n",
              "      <th>val_loss</th>\n",
              "      <th>val_accuracy</th>\n",
              "      <th>epoch</th>\n",
              "      <th>optimizer</th>\n",
              "    </tr>\n",
              "  </thead>\n",
              "  <tbody>\n",
              "    <tr>\n",
              "      <th>0</th>\n",
              "      <td>1.221651</td>\n",
              "      <td>0.617725</td>\n",
              "      <td>0.870266</td>\n",
              "      <td>0.74170</td>\n",
              "      <td>0</td>\n",
              "      <td>SGD</td>\n",
              "    </tr>\n",
              "    <tr>\n",
              "      <th>1</th>\n",
              "      <td>0.819254</td>\n",
              "      <td>0.759525</td>\n",
              "      <td>0.768164</td>\n",
              "      <td>0.77320</td>\n",
              "      <td>1</td>\n",
              "      <td>SGD</td>\n",
              "    </tr>\n",
              "    <tr>\n",
              "      <th>2</th>\n",
              "      <td>0.742198</td>\n",
              "      <td>0.781200</td>\n",
              "      <td>0.716752</td>\n",
              "      <td>0.78945</td>\n",
              "      <td>2</td>\n",
              "      <td>SGD</td>\n",
              "    </tr>\n",
              "    <tr>\n",
              "      <th>3</th>\n",
              "      <td>0.693310</td>\n",
              "      <td>0.797212</td>\n",
              "      <td>0.685350</td>\n",
              "      <td>0.79660</td>\n",
              "      <td>3</td>\n",
              "      <td>SGD</td>\n",
              "    </tr>\n",
              "    <tr>\n",
              "      <th>4</th>\n",
              "      <td>0.657655</td>\n",
              "      <td>0.807825</td>\n",
              "      <td>0.654765</td>\n",
              "      <td>0.80480</td>\n",
              "      <td>4</td>\n",
              "      <td>SGD</td>\n",
              "    </tr>\n",
              "  </tbody>\n",
              "</table>\n",
              "</div>"
            ],
            "text/plain": [
              "       loss  accuracy  val_loss  val_accuracy  epoch optimizer\n",
              "0  1.221651  0.617725  0.870266       0.74170      0       SGD\n",
              "1  0.819254  0.759525  0.768164       0.77320      1       SGD\n",
              "2  0.742198  0.781200  0.716752       0.78945      2       SGD\n",
              "3  0.693310  0.797212  0.685350       0.79660      3       SGD\n",
              "4  0.657655  0.807825  0.654765       0.80480      4       SGD"
            ]
          },
          "metadata": {
            "tags": []
          },
          "execution_count": 116
        }
      ]
    },
    {
      "cell_type": "code",
      "metadata": {
        "id": "1iz3SzRadQcD",
        "colab_type": "code",
        "colab": {
          "base_uri": "https://localhost:8080/",
          "height": 279
        },
        "outputId": "c74e3807-c666-4ee4-a8eb-ea819f806826"
      },
      "source": [
        "sns.lineplot(x='epoch', y='val_accuracy', hue='optimizer', data=dfopt);"
      ],
      "execution_count": 117,
      "outputs": [
        {
          "output_type": "display_data",
          "data": {
            "image/png": "[encoded data removed]",
            "text/plain": [
              "<Figure size 432x288 with 1 Axes>"
            ]
          },
          "metadata": {
            "tags": [],
            "needs_background": "light"
          }
        }
      ]
    },
    {
      "cell_type": "code",
      "metadata": {
        "id": "JRRw876DdTMG",
        "colab_type": "code",
        "colab": {
          "base_uri": "https://localhost:8080/",
          "height": 279
        },
        "outputId": "337785df-b94f-4b5b-c3d0-46479fec2899"
      },
      "source": [
        "sns.lineplot(x='epoch', y='val_loss', hue='optimizer', data=dfopt);"
      ],
      "execution_count": 118,
      "outputs": [
        {
          "output_type": "display_data",
          "data": {
            "image/png": "[encoded data removed]",
            "text/plain": [
              "<Figure size 432x288 with 1 Axes>"
            ]
          },
          "metadata": {
            "tags": [],
            "needs_background": "light"
          }
        }
      ]
    },
    {
      "cell_type": "markdown",
      "metadata": {
        "id": "iyniGy1Tf1pb",
        "colab_type": "text"
      },
      "source": [
        "sgd and ftlr perform best fora ccuracy. sgd and adamax where close together for minimal loss"
      ]
    },
    {
      "cell_type": "markdown",
      "metadata": {
        "id": "ydAqeY9S8uHA",
        "colab_type": "text"
      },
      "source": [
        "### Additional Written Tasks\n",
        "\n",
        "1. Describe the process of backpropagation in your own words: \n",
        "```\n",
        "back propagation in neural networks is when the it calculates the output and the error,and goes back to the neuron to change the weight to reduce error, goes back and forward for fine tunning \n",
        "```\n",
        "\n"
      ]
    },
    {
      "cell_type": "markdown",
      "metadata": {
        "colab_type": "text",
        "id": "FwlRJSfBlCvy"
      },
      "source": [
        "## Stretch Goals: \n",
        "\n",
        "- Implement GridSearch on anyone of the experiments\n",
        "- On the learning rate experiments, implement [EarlyStopping](https://www.tensorflow.org/api_docs/python/tf/keras/callbacks/EarlyStopping)\n",
        "- Review material on the math behind gradient descent: \n",
        "\n",
        "  - Gradient Descent\n",
        "    - Gradient Descent, Step-by-Step  by StatQuest w/ Josh Starmer. This will help you understand the gradient descent based optimization that happens underneath the hood of neural networks. It uses a non-neural network example, which I believe is a gentler introduction. You will hear me refer to this technique as \"vanilla\" gradient descent. \n",
        "    - Stochastic Gradient Descent, Clearly Explained!!! by StatQuest w/ Josh Starmer. This builds on the techniques in the previous video.  This technique is the one that is actually implemented inside modern 'nets. \n",
        "These are great resources to help you understand tomorrow's material at a deeper level. I highly recommend watching these ahead of tomorrow.\n",
        "\n",
        "  - Background Math\n",
        "    - Dot products and duality by 3Blue1Brown. Explains the core linear algebra operation happening in today's perceptron.\n",
        "The paradox of the derivative by 3Blue1Brown. Does a great job explaining a derivative. \n",
        "    - Visualizing the chain rule and product rule by 3Blue1Brown. Explains the black magic that happens within Stochastic Gradient Descent. \n",
        "These math resources are very much optional. They can be very heady, but I encourage you to explore. Your understanding of neural networks will greatly increase if you understand this math background.\n",
        "\n",
        "\n"
      ]
    }
  ]
}