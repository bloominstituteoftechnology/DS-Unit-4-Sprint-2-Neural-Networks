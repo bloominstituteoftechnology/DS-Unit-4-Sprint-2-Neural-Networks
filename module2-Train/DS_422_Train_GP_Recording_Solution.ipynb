{
 "nbformat": 4,
 "nbformat_minor": 0,
 "metadata": {
  "accelerator": "GPU",
  "celltoolbar": "Create Assignment",
  "colab": {
   "provenance": []
  },
  "kernelspec": {
   "display_name": "Python 3",
   "language": "python",
   "name": "python3"
  },
  "language_info": {
   "codemirror_mode": {
    "name": "ipython",
    "version": 3
   },
   "file_extension": ".py",
   "mimetype": "text/x-python",
   "name": "python",
   "nbconvert_exporter": "python",
   "pygments_lexer": "ipython3",
   "version": "3.8.5"
  }
 },
 "cells": [
  {
   "cell_type": "markdown",
   "metadata": {
    "id": "aS4GZ37Wgcjr"
   },
   "source": [
    "*Unit 4, Sprint 2, Module 2*\n",
    "\n",
    "---"
   ]
  },
  {
   "cell_type": "markdown",
   "metadata": {
    "id": "etFf1WLWgcjt",
    "toc-hr-collapsed": false
   },
   "source": [
    "# Train (Prepare)\n",
    "__*Neural Network Foundations*__"
   ]
  },
  {
   "cell_type": "markdown",
   "metadata": {
    "id": "hXB80QOhgcju"
   },
   "source": [
    "## Learning Objectives\n",
    "* <a href=\"#p1\">Part 1</a>: Student should be able to explain the intuition behind backpropagation and gradient descent\n",
    "* <a href=\"#p2\">Part 2</a>: Student should be able to discuss the importance of the batch size hyperparameter\n",
    "* <a href=\"#p3\">Part 3</a>: Student should be able to discuss the importance of the learning rate hyperparameter"
   ]
  },
  {
   "cell_type": "markdown",
   "metadata": {
    "id": "8YuQu2lfgcju"
   },
   "source": [
    "## Summary of Module 1\n",
    "\n",
    "In Module 1, we learned about Neural Networks and related concepts: Neurons, Weights, Activation Functions, and Layers (input, output, & hidden). Today, we will reinforce our understanding, and learn how a neural network is trained. **Feed-forward neural networks**, such as multi-layer perceptrons (MLPs), are almost always trained using some variation of **gradient descent** where gradients has been calculated by **back-propagation**.\n",
    "\n",
    "  <center><img src=\"https://raw.githubusercontent.com/LambdaSchool/DS-Unit-4-Sprint-2-Neural-Networks/main/module1-Architect/IMG_0167.jpeg\" width=400></center>\n",
    "\n",
    "- There are three kinds of layers: **input**, **hidden**, and **output**\n",
    "- Hidden and output layers are made up of individual neurons (aka activation units) which have a corresponding weight and bias.\n",
    "- Information is passed from layer to layer through a network by:\n",
    " - Taking in inputs from the training data (or previous layer)\n",
    " - Multiplying each input by its corresponding weight (represented by arrows) and adding these products to form a weighted sum\n",
    " - Adding a bias (also represented by arrows)\n",
    " - Passing this weighted sum plus the bias term into an activation function such as sigmoid or relu or some other activation function <br>\n",
    " As an example: for a `perceptron` with three inputs and a sigmoid activation function, the output is calculated as follows: <br><br>\n",
    "\\begin{align}\n",
    " y = \\text{sigmoid} \\left(weight_{1}\\times input_{1} + weight_{2} \\times input_{2} + weight_{3} \\times input_{3} + bias\\right)\n",
    "\\end{align} <br><br>\n",
    " - This \"activated\" neuron output $y$ is the signal that gets passed into the next layer of the network\n",
    " - the \"activated\" neuron output of the output layer is the prediction\n"
   ]
  },
  {
   "cell_type": "markdown",
   "metadata": {
    "id": "bpi4R03rgcjv"
   },
   "source": [
    "## Training a Neural Network for Classification: *Formal Summary*\n",
    "\n",
    "1. Choose a network architecture\n",
    "   - Number of input units = Number of features\n",
    "   - Number of output units = Number of Classes (or categories of expected targets)\n",
    "   - Select the number of hidden layers and the number of neurons within each hidden layer\n",
    "   - set the activation functions for each neuron\n",
    "2. Randomly initialize all the weights and biases\n",
    "3. Forward propagate the weights and biases through the network to compute the output predictions $\\hat y$\n",
    "4. Given the output predictions  $\\hat y$ and the true targets  $y$, compute the loss (cost) function $J(\\theta)$, where $\\theta$ is the set of values of all the weights and biases in the network.\n",
    "5. Perform **back-propagation**, which means computing partial derivatives (gradients) of the cost function with respect to the each of the weights and biases $\\frac{\\partial}{\\partial\\theta}{J(\\theta)}$\n",
    "6. Using the method of **gradient descent** (or other advanced optimizer), adjust the weights and biases so as to decrease the cost function $J(\\theta)$.\n",
    "7. Repeat steps 3 - 6 until the cost function is 'minimized' or some other stopping criteria is met. One pass over steps 3 - 6 is called an iteration.\n",
    "\n",
    "### Highly recommended: Check out this [Neural Networks mini-course from 3Blue1Brown](https://www.3blue1brown.com/topics/neural-networks)<br>\n",
    "\n",
    "\n"
   ]
  },
  {
   "cell_type": "markdown",
   "metadata": {
    "id": "aM4CK1IarId4",
    "toc-hr-collapsed": false
   },
   "source": [
    "------\n",
    "# 1. Backpropagation & Gradient Descent (Learn)\n",
    "<a id=\"p1\"></a>"
   ]
  },
  {
   "cell_type": "markdown",
   "metadata": {
    "id": "Ktm8Fmoagcjy",
    "toc-hr-collapsed": true
   },
   "source": [
    "## Overview\n",
    "\n",
    "Backpropagation is short for [\"Backwards Propagation of errors\"](https://en.wikipedia.org/wiki/Backpropagation) and refers to a specific algorithm using calculus to update the weights and biases in a neural network in reverse order, at the end of each training epoch. Our purpose today is to demonstrate the backpropagation algorithm on a simple Feedforward Neural Network and in so doing help you get a grasp on the main process. If you want to understand all of the underlying calculus of how the gradients are calculated then you'll need to dive into it yourself, watch [Backpropagation calculus ](https://www.youtube.com/watch?v=tIeHLnjs5U8) from 3Blue1Brown. Also highly recommended is this Welch Labs series [Neural Networks Demystified](https://www.youtube.com/watch?v=bxe2T-V8XRs) if you want a rapid yet orderly walk through of the main intuition and math behind the backpropagation algorithm."
   ]
  },
  {
   "cell_type": "markdown",
   "metadata": {
    "id": "NXI2tEO9gcjy"
   },
   "source": [
    "## 1.1 What is a Gradient?\n",
    "\n",
    "> In vector calculus, the gradient is a multi-variable generalization of the derivative.\n",
    "\n",
    "The gradients that we will deal with today will be vector representations of the derivative of the activation function."
   ]
  },
  {
   "cell_type": "markdown",
   "metadata": {
    "id": "n7SvE-6H9G4y"
   },
   "source": [
    "### 1.1.1 Review: Slope of a line\n",
    "\n",
    "![](https://www.mathwarehouse.com/algebra/linear_equation/images/slope-of-a-line/slope-formula-all_no_highlight.png)"
   ]
  },
  {
   "cell_type": "markdown",
   "metadata": {
    "id": "AGYuD9yI9G4z"
   },
   "source": [
    "### 1.1.2 Review: A basic derivative\n",
    "The derivative of a one-dimensional function at any point is defined as the slope of the line tangent to the function at that point.\n",
    "\n",
    "![](https://ginsyblog.files.wordpress.com/2017/02/derivativelimitdef.gif)"
   ]
  },
  {
   "cell_type": "markdown",
   "metadata": {
    "id": "gFs3TG5O9G4z"
   },
   "source": [
    "### 1.1.3 Gradients are multi-dimensional derivatives\n",
    "\n",
    "Each partial derivative can be considered as the component of a vector that lies on the axis of the associated parameter.  <br>\n",
    "Formally, the gradient is the vector sum of these partial derivative vectors.\n",
    "\n",
    "*The gradient of a function at a given point contains information about the magnitude <br>\n",
    "and direction of the sensitivity of the function to change in every parameter.*"
   ]
  },
  {
   "cell_type": "markdown",
   "metadata": {
    "id": "fVN-8elU9G40"
   },
   "source": [
    "##1.2. Gradient Descent Formula for updating neural network parameters\n",
    "\n",
    "Given the values of the current parameters (weights and biases), this formula prescribes how to update them in order to drive down the cost function, given their current values:\n",
    "\n",
    "$$ \\huge{\\theta_j = \\theta_j - \\alpha \\frac{\\partial J(\\theta)}{\\partial \\theta_j}}$$\n",
    "\n",
    "\n",
    "In this formula,\n",
    "- $\\Large{\\theta_j}$ refers to the vector of weights and biases for the $jth$ data point<br><br>\n",
    "- $\\Large{\\theta}$ refers to the combined set of weights and biases of all the data points<br><br>\n",
    "- $\\Large{J(\\theta)}$ represents the cost function, which is a measure of the error between the predicted target values and the true target values<br><br>\n",
    "- $\\Large{\\alpha}$ is the *learning rate*, a positive scalar hyper-parameter<br><br>\n",
    "- $\\Large{\\frac{\\partial J(\\theta)}{\\partial \\theta_j}}$ are the partial derivatives of the cost function, which measure its sensitivity to changes in the parameters $\\Large{\\theta_j}$<br><br>\n",
    "\n",
    "\n",
    "More sophisticated versions of gradient descent are discussed in the excellent article [**An overview of gradient descent optimization algorithms**](https://ruder.io/optimizing-gradient-descent/) by Sebastian Ruder.\n",
    "\n",
    "\n",
    "These versions all build on the Gradient Descent Formula presented above, so it's best to understand this before moving on to more sophisticated versions. <br>\n"
   ]
  },
  {
   "cell_type": "markdown",
   "metadata": {
    "id": "yQc8iy_u9G40"
   },
   "source": [
    "### 1.2.1 Geometry of Gradient Descent\n",
    "in one dimension\n",
    "\n",
    "![](https://i.stack.imgur.com/yk1mk.png)"
   ]
  },
  {
   "cell_type": "markdown",
   "metadata": {
    "id": "QlPoxfuS9G41"
   },
   "source": [
    "### 1.2.2 Convex vs. Non-Convex Loss Functions\n",
    "\n",
    "Loss curves won't always have a single minimum point for gradient descent to converge towards. Sometimes there are multiple minimums.\n",
    "\n",
    "**Global Minimum:** The absolute minimum location of a curve (or surface).\n",
    "\n",
    "**Local Minimum:** The local minimum location of a curve (or surface).\n",
    "\n",
    "\n",
    "### In 3-Dimensions\n",
    "In Calculus, those ambiguous points that take on the form of both local minima and local maxima are known as [**saddle points**](https://en.wikipedia.org/wiki/Saddle_point). It's not necessary to dive into the mathematics, the key take away is that non-convex error curves (and surfaces) have this global/local minimum issue.\n",
    "\n",
    "![](https://www.oreilly.com/radar/wp-content/uploads/sites/3/2019/06/convex-non-convex-9c8cb9320d4b0392c5f67004e8832e85.jpg)\n",
    "\n",
    "\n",
    "**Take Away:** Sometimes the gradient descent algorithm converges but is actually trapped in a local minimum.\n",
    "\n",
    "There are at least 2 possible solutions to this problem:\n",
    "\n",
    "1) Try different approaches to randomly initalizing the model weights\n",
    "For this check out [Keras's docs on Weight Initializers](https://keras.io/api/layers/initializers/). Treat these weight initializers as just another hyper-parameter to include in your gridsearch. It's a good idea to get into the practice of including weight initializers in your gridsearches!\n",
    "\n",
    "\n",
    "2) Try non-gradient descent optimizers such as [Particle Swarm](https://en.wikipedia.org/wiki/Particle_swarm_optimization) or [Genetic Algorithms](https://en.wikipedia.org/wiki/Genetic_algorithm). Feel free to read up on these approaches but know that **you are not expected to know these approaches** and they are outside the scope of this course."
   ]
  },
  {
   "cell_type": "markdown",
   "metadata": {
    "id": "UZY66kiUgcjz",
    "toc-hr-collapsed": true
   },
   "source": [
    "------\n",
    "## 1.3 Let's see how to implement Gradient Descent in Keras for a simple toy problem! (Follow Along)\n",
    "\n",
    "In this section, we will again build a simple neural network using base TensorFlow. <br>\n",
    "We'll train a __Feed Forward Neural Network__ to predict targets,<br> using the method of __Gradient Descent__ to adjust the neural network parameters.<br><br> This is the process of __Back-propagation__!"
   ]
  },
  {
   "cell_type": "markdown",
   "metadata": {
    "id": "4d4tzpwO6B47"
   },
   "source": [
    "### 1.3.1 Generate synthetic (fake) data for a simple linear regression problem<br>\n",
    "$y = \\textbf{w} \\cdot \\textbf{x} + b + \\text{noise}$"
   ]
  },
  {
   "cell_type": "code",
   "metadata": {
    "id": "ERyVgeO_IWyV"
   },
   "source": [
    "# plotting\n",
    "import matplotlib.pyplot as plt\n",
    "\n",
    "# dataset import\n",
    "from keras.datasets import mnist\n",
    "\n",
    "# tensorflow imports for building\n",
    "import tensorflow as tf\n",
    "from keras import Sequential\n",
    "from keras.layers import Dense\n",
    "from keras.optimizers import SGD\n",
    "%matplotlib inline"
   ],
   "execution_count": null,
   "outputs": []
  },
  {
   "cell_type": "code",
   "metadata": {
    "nbgrader": {
     "grade": false,
     "grade_id": "cell-13ede96854baf6e5",
     "locked": false,
     "schema_version": 3,
     "solution": true,
     "task": false
    },
    "id": "_C6O65Q09G43"
   },
   "source": [
    "# Generate samples of a Linear Regression data model\n",
    "# y     =      w  *  x    +  b     + noise\n",
    "\n",
    "### BEGIN SOLUTION\n",
    "# Specify the model parameters: slope(weight) and intercept (bias)\n",
    "w_true = 3.5\n",
    "b_true = 50.0\n",
    "# Specify how many examples we want to generate\n",
    "n_examples = 1000\n",
    "\n",
    "# linear regression assumes normally distributed noise,\n",
    "#    so we'll draw noise values from Gaussian distributions\n",
    "noise = tf.random.normal(mean=0.0, stddev=1.0, shape=[n_examples])\n",
    "\n",
    "# we'll draw input values from a uniform distribution\n",
    "x = tf.random.uniform(minval=-1, maxval=1, shape=[n_examples])\n",
    "# Generate samples from the Linear Regression data model\n",
    "# y     =      w  *  x    +  b     + noise\n",
    "y_true = w_true * x + b_true + noise\n",
    "### END SOLUTION"
   ],
   "execution_count": null,
   "outputs": []
  },
  {
   "cell_type": "markdown",
   "metadata": {
    "id": "bCJesGEUgcj4"
   },
   "source": [
    "### 1.3.2 Loss Function\n",
    "The Mean Squared Error (MSE), is an appropriate loss function for a regression problem. We are trying to predict a continuous target.\n",
    "\n",
    "$$\\huge{\\text{MSE} = \\frac{1}{N}\\sum_{i=1}^{N} (y_i-\\hat{y}_i)^2}$$"
   ]
  },
  {
   "cell_type": "code",
   "metadata": {
    "id": "kyITYhMS9G44"
   },
   "source": [
    "def loss(target_y, predicted_y, model, reg_strength=0.0):\n",
    "    \"\"\"\n",
    "    Implements Mean Square Error (MSE) as the loss function\n",
    "    \"\"\"\n",
    "    return tf.reduce_mean(tf.square(target_y - predicted_y))"
   ],
   "execution_count": null,
   "outputs": []
  },
  {
   "cell_type": "markdown",
   "metadata": {
    "id": "bgTf6vTS69Sw"
   },
   "source": [
    "### 1.3.3 Neural Network Architecture\n",
    "Lets create a Neural Network class called `Model` to feed forward the input to a neural network composed of a single linear layer, with no activation function. Note: This is essentially a linear regression model whose coefficients are trained by gradient descent. In practice, gradient descent works on much more complex functions like the multi-layer networks we constructed in Module 1."
   ]
  },
  {
   "cell_type": "code",
   "metadata": {
    "id": "RUI8VSR5zyBv"
   },
   "source": [
    "class Model(object):\n",
    "\n",
    "    def __init__(self):\n",
    "        self.w = tf.Variable(8.0)\n",
    "        self.b = tf.Variable(40.0)\n",
    "\n",
    "    def __call__(self, x):\n",
    "        # returns w*x + b\n",
    "        return self.w * x + self.b\n",
    "\n",
    "# Instantiate the Model() class\n",
    "model = Model()\n",
    "\n",
    "# test the Model() class\n",
    "#    with parameters w = 8 and b = 40, our model is  y(x) = w*x + b = 8\n",
    "#    with input of x = 3, we expect y = 8*3 + 40 = 64\n",
    "\n",
    "assert model(3.0).numpy() == 64.0"
   ],
   "execution_count": null,
   "outputs": []
  },
  {
   "cell_type": "markdown",
   "metadata": {
    "id": "gbyT_FJ88IlK"
   },
   "source": [
    "### 1.3.4 Prediction with Initial Weights\n",
    "The weights in our model were initialized randomly, so of course our neural network's initial predictions are way off!"
   ]
  },
  {
   "cell_type": "code",
   "metadata": {
    "colab": {
     "base_uri": "https://localhost:8080/",
     "height": 301
    },
    "id": "IreIDe6P8H0H",
    "outputId": "156cd9ba-9a2c-446b-a11a-42baa802fd16"
   },
   "source": [
    "inputs = x\n",
    "outputs = y_true\n",
    "predictions = model(inputs)\n",
    "plt.scatter(inputs, outputs, c='b', label = \"data\")\n",
    "plt.plot(inputs, predictions, c='r', label = \"model predictions\")\n",
    "plt.xlabel('x',FontSize=14)\n",
    "plt.ylabel('y',FontSize=14)\n",
    "plt.legend()\n",
    "plt.grid();\n",
    "\n",
    "print('Current loss: %1.6f' % loss(predictions, outputs, model).numpy())"
   ],
   "execution_count": null,
   "outputs": [
    {
     "output_type": "stream",
     "name": "stdout",
     "text": [
      "Current loss: 106.067238\n"
     ]
    },
    {
     "output_type": "display_data",
     "data": {
      "text/plain": [
       "<Figure size 432x288 with 1 Axes>"
      ],
      "image/png": "[encoded data removed]"
     },
     "metadata": {
      "needs_background": "light"
     }
    }
   ]
  },
  {
   "cell_type": "markdown",
   "metadata": {
    "id": "16Ujj6vNYQyX",
    "toc-hr-collapsed": true
   },
   "source": [
    "### 1.3.5 Back-propagation\n",
    "Means iteratively updating the weights and bias based on the gradients of the loss function.<br>\n",
    "We'll write a helper function to train a model using Keras!\n"
   ]
  },
  {
   "cell_type": "code",
   "metadata": {
    "id": "ZgaGD6YlHoid",
    "nbgrader": {
     "grade": false,
     "grade_id": "cell-100d1b1df12abe63",
     "locked": false,
     "schema_version": 3,
     "solution": true,
     "task": false
    }
   },
   "source": [
    "# this train function updates w and b using partial derivative of the loss function w.r.t. w and b\n",
    "def train(model, inputs, outputs, learning_rate):\n",
    "    with tf.GradientTape() as tape:\n",
    "        # calculate the loss function value from our model's predictions\n",
    "        current_loss = loss(outputs, model(inputs), model)\n",
    "\n",
    "        # calculate dw and db, the gradients of the loss function with respect to w and b\n",
    "        dw, db = tape.gradient(current_loss, [model.w, model.b])\n",
    "\n",
    "        # update the value of w by subtracting (learning rate) * (gradient of the loss function wrt w) from its current value\n",
    "        model.w.assign_sub(learning_rate * dw)\n",
    "\n",
    "        # update the value of b by subtracting (learning rate) * (gradient of the loss function wrt b) from its current value\n",
    "        model.b.assign_sub(learning_rate * db)"
   ],
   "execution_count": null,
   "outputs": []
  },
  {
   "cell_type": "markdown",
   "metadata": {
    "id": "7iziWWURgck8"
   },
   "source": [
    "### 1.3.6 Train the Network\n",
    "At each epoch, we'll print the values of the updated parameters and the loss function"
   ]
  },
  {
   "cell_type": "code",
   "metadata": {
    "colab": {
     "base_uri": "https://localhost:8080/"
    },
    "id": "4zn_HgFuHhTr",
    "outputId": "13cbd348-8f97-4353-b5f8-5dcb88856803"
   },
   "source": [
    "model = Model()\n",
    "\n",
    "# Store parameter history\n",
    "ws, bs = [], []\n",
    "current_loss = []\n",
    "epochs = range(50)\n",
    "\n",
    "for epoch in epochs:\n",
    "\n",
    "    # forward propagate the current parameters through the network to predict targets\n",
    "    y_hat =  model(inputs)\n",
    "\n",
    "    # compute the loss function by comparing target predictions to the true targets\n",
    "    current_loss.append(loss(outputs, y_hat, model))\n",
    "\n",
    "    # update the parameters (weight and bias) based on gradient descent\n",
    "    train(model, inputs, outputs, learning_rate=0.1)\n",
    "\n",
    "    # store the updated values of weight and bias\n",
    "    ws.append(model.w.numpy())\n",
    "    bs.append(model.b.numpy())\n",
    "\n",
    "    print('Epoch %2d: w=%1.2f b=%1.2f loss=%2.5f' % (epoch, ws[-1], bs[-1], current_loss[-1]))\n",
    "\n"
   ],
   "execution_count": null,
   "outputs": [
    {
     "output_type": "stream",
     "name": "stdout",
     "text": [
      "Epoch  0: w=7.74 b=41.98 loss=106.06724\n",
      "Epoch  1: w=7.49 b=43.57 loss=69.94775\n",
      "Epoch  2: w=7.25 b=44.84 loss=46.61726\n",
      "Epoch  3: w=7.02 b=45.86 loss=31.49767\n",
      "Epoch  4: w=6.80 b=46.68 loss=21.65609\n",
      "Epoch  5: w=6.60 b=47.33 loss=15.21281\n",
      "Epoch  6: w=6.40 b=47.85 loss=10.96245\n",
      "Epoch  7: w=6.22 b=48.27 loss=8.13138\n",
      "Epoch  8: w=6.04 b=48.61 loss=6.22252\n",
      "Epoch  9: w=5.88 b=48.88 loss=4.91606\n",
      "Epoch 10: w=5.73 b=49.09 loss=4.00578\n",
      "Epoch 11: w=5.58 b=49.27 loss=3.35841\n",
      "Epoch 12: w=5.45 b=49.41 loss=2.88745\n",
      "Epoch 13: w=5.32 b=49.52 loss=2.53655\n",
      "Epoch 14: w=5.20 b=49.61 loss=2.26872\n",
      "Epoch 15: w=5.09 b=49.68 loss=2.05951\n",
      "Epoch 16: w=4.99 b=49.74 loss=1.89260\n",
      "Epoch 17: w=4.89 b=49.78 loss=1.75692\n",
      "Epoch 18: w=4.80 b=49.82 loss=1.64488\n",
      "Epoch 19: w=4.71 b=49.85 loss=1.55114\n",
      "Epoch 20: w=4.63 b=49.88 loss=1.47191\n",
      "Epoch 21: w=4.56 b=49.90 loss=1.40438\n",
      "Epoch 22: w=4.49 b=49.91 loss=1.34648\n",
      "Epoch 23: w=4.42 b=49.93 loss=1.29658\n",
      "Epoch 24: w=4.36 b=49.94 loss=1.25343\n",
      "Epoch 25: w=4.31 b=49.95 loss=1.21602\n",
      "Epoch 26: w=4.25 b=49.95 loss=1.18352\n",
      "Epoch 27: w=4.20 b=49.96 loss=1.15524\n",
      "Epoch 28: w=4.16 b=49.97 loss=1.13060\n",
      "Epoch 29: w=4.11 b=49.97 loss=1.10913\n",
      "Epoch 30: w=4.07 b=49.97 loss=1.09040\n",
      "Epoch 31: w=4.03 b=49.98 loss=1.07405\n",
      "Epoch 32: w=4.00 b=49.98 loss=1.05978\n",
      "Epoch 33: w=3.96 b=49.98 loss=1.04732\n",
      "Epoch 34: w=3.93 b=49.98 loss=1.03644\n",
      "Epoch 35: w=3.90 b=49.98 loss=1.02694\n",
      "Epoch 36: w=3.88 b=49.99 loss=1.01864\n",
      "Epoch 37: w=3.85 b=49.99 loss=1.01139\n",
      "Epoch 38: w=3.83 b=49.99 loss=1.00506\n",
      "Epoch 39: w=3.80 b=49.99 loss=0.99952\n",
      "Epoch 40: w=3.78 b=49.99 loss=0.99469\n",
      "Epoch 41: w=3.76 b=49.99 loss=0.99047\n",
      "Epoch 42: w=3.74 b=49.99 loss=0.98678\n",
      "Epoch 43: w=3.73 b=49.99 loss=0.98356\n",
      "Epoch 44: w=3.71 b=49.99 loss=0.98074\n",
      "Epoch 45: w=3.70 b=49.99 loss=0.97828\n",
      "Epoch 46: w=3.68 b=49.99 loss=0.97613\n",
      "Epoch 47: w=3.67 b=49.99 loss=0.97425\n",
      "Epoch 48: w=3.66 b=49.99 loss=0.97261\n",
      "Epoch 49: w=3.65 b=49.99 loss=0.97118\n"
     ]
    }
   ]
  },
  {
   "cell_type": "code",
   "metadata": {
    "colab": {
     "base_uri": "https://localhost:8080/",
     "height": 283
    },
    "id": "FSEt07wdHvi2",
    "outputId": "c2b6166d-6e4c-46f8-c7b4-f466b7d8d509"
   },
   "source": [
    "plt.plot(epochs, ws, 'r', epochs, bs, 'b')\n",
    "plt.plot([w_true] * len(epochs), 'r--',\n",
    "         [b_true] * len(epochs), 'b--')\n",
    "plt.xlabel('Epoch number',FontSize=14)\n",
    "plt.ylabel('Parameter value',FontSize=14)\n",
    "plt.legend(['w', 'b', 'True w', 'True b'])\n",
    "plt.grid()"
   ],
   "execution_count": null,
   "outputs": [
    {
     "output_type": "display_data",
     "data": {
      "text/plain": [
       "<Figure size 432x288 with 1 Axes>"
      ],
      "image/png": "[encoded data removed]"
     },
     "metadata": {
      "needs_background": "light"
     }
    }
   ]
  },
  {
   "cell_type": "code",
   "metadata": {
    "colab": {
     "base_uri": "https://localhost:8080/",
     "height": 283
    },
    "id": "8cmu3mtNTVDf",
    "outputId": "838457e8-bbca-49b6-e97a-3f6a18ae5fd3"
   },
   "source": [
    "plt.plot(epochs, current_loss, 'k')\n",
    "plt.xlabel('Epoch number',FontSize=14)\n",
    "plt.ylabel('Loss',FontSize=14)\n",
    "plt.grid()"
   ],
   "execution_count": null,
   "outputs": [
    {
     "output_type": "display_data",
     "data": {
      "text/plain": [
       "<Figure size 432x288 with 1 Axes>"
      ],
      "image/png": "[encoded data removed]"
     },
     "metadata": {
      "needs_background": "light"
     }
    }
   ]
  },
  {
   "cell_type": "code",
   "metadata": {
    "colab": {
     "base_uri": "https://localhost:8080/",
     "height": 301
    },
    "id": "6pKDfpplbUxN",
    "outputId": "7fb96e9a-cf8a-4b53-eb41-511f5c503b00"
   },
   "source": [
    "plt.scatter(inputs, outputs, c='b', label = \"data\")\n",
    "plt.plot(inputs, model(inputs),c='r',label = \"model predictions\")\n",
    "plt.legend()\n",
    "plt.xlabel('x',FontSize=14)\n",
    "plt.ylabel('y',FontSize=14)\n",
    "plt.grid()\n",
    "\n",
    "print('Current loss: %1.6f'% current_loss[-1])"
   ],
   "execution_count": null,
   "outputs": [
    {
     "output_type": "stream",
     "name": "stdout",
     "text": [
      "Current loss: 0.971177\n"
     ]
    },
    {
     "output_type": "display_data",
     "data": {
      "text/plain": [
       "<Figure size 432x288 with 1 Axes>"
      ],
      "image/png": "[encoded data removed]"
     },
     "metadata": {
      "needs_background": "light"
     }
    }
   ]
  },
  {
   "cell_type": "markdown",
   "metadata": {
    "id": "5N4lWxfS6YIQ"
   },
   "source": [
    "### Nice job! Our model closely fits the data.\n",
    "### Congratulations! <br>\n",
    "You've just learned how to train a neural network using gradient descent and back-propagation with Keras!"
   ]
  },
  {
   "cell_type": "markdown",
   "metadata": {
    "id": "iKUVGoRxgck_"
   },
   "source": [
    "## Challenge\n",
    "\n",
    "In the module project, you will be asked to explain the logic of back-propagation and gradient descent."
   ]
  },
  {
   "cell_type": "markdown",
   "metadata": {
    "id": "jFGB1EXNwxM-"
   },
   "source": [
    "## Investigate the effects of the `batch_size` and `learning_rate` hyperparameters.\n",
    "\n",
    "In parts 2 and 3, we'll return to modeling the MNIST handwritten digit data set. <br>\n",
    "Although we'll adjust `batch_size` and `learning_rate` separately, they are in fact related. <br>\n",
    "Larger `batch_size` gives more accurate parameter updates, so we can confidently move toward the minimum of the loss function with larger steps, i.e. we can use larger values of `learning_rate`. Conversely, smaller batch sizes give \"noisier\" updates, so we should take smaller steps, i.e. use smaller values of `learning_rate`.\n",
    "\n"
   ]
  },
  {
   "cell_type": "markdown",
   "metadata": {
    "id": "vTqZg-6igclA",
    "toc-hr-collapsed": true
   },
   "source": [
    "# 2. Effect of the Batch Size Hyperparameter on Training a Neural Network (Learn)"
   ]
  },
  {
   "cell_type": "markdown",
   "metadata": {
    "id": "0nrm-racgclA"
   },
   "source": [
    "## 2.1 Overview\n",
    "\n",
    "### 2.1.1 Stochastic Gradient Descent\n",
    "\n",
    "Stochastic Gradient Descent (SGD) estimates the gradients of the loss function over the entire dataset from the predictions of a **single** randomly chosen sample. With these gradients, we can then update the parameters.\n",
    "\n",
    "Why use a single sample instead of all of the samples (a batch), or a random subset of the samples (a minibatch)?\n",
    "\n",
    "Because calculating the gradient over the entire dataset (or a subset) is expensive computationally compared to using a single sample.\n",
    "\n",
    "So parameter updates in SGD are super-fast. What's the tradeoff? Can't get something for nothing!<br>\n",
    "The tradeoff is that SGD produces a noisy parameter update, because we are only using a small amount of information (a single sample) to compute the update!\n",
    "\n",
    "**Takeaway**: SGD computes *rapid* but *noisy* parameter updates!\n",
    "\n",
    "### 2.1.2 Minibatch Gradient Descent\n",
    "In minibatch Gradient Descent, the parameters are updated based on a batch of data points. Batch size is the number of data points our model uses to update the parameters and predict target values. A batch is a randomly selected subset of an epoch. All observations are eventually used when processing an epoch.\n",
    "\n",
    "* Smaller Batch = Slower Run Time, but potentially better generalization accuracy (due to noisier updates helping against overfitting!)\n",
    "* Default Batch = Balance between speed and generalization accuracy\n",
    "* Large Batch = Faster run time, but potentially worse generalization accuracy due to overfitting\n",
    "\n",
    "### 2.1.3 Batch Gradient Descent\n",
    "Another way to do Gradient Descent is to use all the data to compute each update, so that the parameters get updated only every epoch. But this is often problematic, because the whole dataset would have to fit in memory, and dataset can be huge."
   ]
  },
  {
   "cell_type": "markdown",
   "metadata": {
    "id": "oNQ2ZCi7I4i6"
   },
   "source": [
    "## 2.2 Baseline Model with MNIST data"
   ]
  },
  {
   "cell_type": "code",
   "metadata": {
    "colab": {
     "base_uri": "https://localhost:8080/"
    },
    "id": "mZjW2lYVI9Q2",
    "nbgrader": {
     "grade": false,
     "grade_id": "cell-1c90a81f1eece31b",
     "locked": false,
     "schema_version": 3,
     "solution": true,
     "task": false
    },
    "outputId": "ad8860fa-0651-40ff-b98e-3d28116d3be9"
   },
   "source": [
    "# load data\n",
    "\n",
    "# normalize data\n",
    "\n",
    "### BEGIN SOLUTION\n",
    "(X_train, y_train), (X_test, y_test) = mnist.load_data()\n",
    "\n",
    "# normalize data\n",
    "max_pixel_value = 255\n",
    "X_train = X_train / max_pixel_value\n",
    "X_test = X_test / max_pixel_value\n",
    "\n",
    "X_train = X_train.reshape((60000, 784))\n",
    "X_test = X_test.reshape((10000, 784))\n",
    "### END SOLUTION"
   ],
   "execution_count": null,
   "outputs": [
    {
     "output_type": "stream",
     "name": "stdout",
     "text": [
      "Downloading data from https://storage.googleapis.com/tensorflow/tf-keras-datasets/mnist.npz\n",
      "11493376/11490434 [==============================] - 0s 0us/step\n",
      "11501568/11490434 [==============================] - 0s 0us/step\n"
     ]
    }
   ]
  },
  {
   "cell_type": "markdown",
   "metadata": {
    "id": "Kkvukt_X9G48"
   },
   "source": [
    "### 2.2.1 Normalizing the data can help your model learn faster\n",
    "\n",
    "If your dataset has values ranging across multiple orders of magnitude (i.e. $10^1,~~10^2,~~10^3,~~10^4$), then gradient descent will update the weights and biases in grossly uneven proportions.<br>\n",
    "\n",
    "**Normalizing** the data, i.e shifting and scaling the values to lie within the unit interval $[0,1]$ ensures that all weight and bias updates are on the same scale, which can lead to quicker convergence.\n",
    "\n",
    "![](https://quicktomaster.com/wp-content/uploads/2020/08/contour_plot.png)\n",
    "\n",
    "There's more to be said about Normalization and Gradient Descent <br>\n",
    "If you are interested in going deeper, we highly recommend this well written article [Normalizing your data](https://www.jeremyjordan.me/batch-normalization/) in which Jeremy Jordan explores the impact of normalization on Gradient Descent in greater detail."
   ]
  },
  {
   "cell_type": "markdown",
   "metadata": {
    "id": "GPDPo4LG1gxY"
   },
   "source": [
    "### 2.2.2 Helper function to build our neural network model\n",
    "Since this is a classification problem with 10 classes and the target values are integers the [appropriate loss function](https://stats.stackexchange.com/questions/326065/cross-entropy-vs-sparse-cross-entropy-when-to-use-one-over-the-other) to use in our model is `sparse_categorical_crossentropy`."
   ]
  },
  {
   "cell_type": "code",
   "metadata": {
    "id": "o7x17kDKJSy5",
    "nbgrader": {
     "grade": false,
     "grade_id": "cell-38ed3365b403af52",
     "locked": false,
     "schema_version": 3,
     "solution": true,
     "task": false
    }
   },
   "source": [
    "# write a function called create_model that accepts a learning rate alpha for SGD as an input parameter\n",
    "# it should return a complied, 2 hidden layer neural net that uses SGD as the optimizer\n",
    "# Import SGD as discussed here: https://keras.io/api/optimizers/sgd/\n",
    "\n",
    "\n",
    "\n",
    "# create create_model\n",
    "def create_model(lr=.01):\n",
    "    \"\"\"\n",
    "    Parameters\n",
    "    ----------\n",
    "    lr: float\n",
    "        Learning rate parameter used for Stocastic Gradient Descent\n",
    "\n",
    "    Returns\n",
    "    -------\n",
    "    model: keras object\n",
    "        A complied keras model\n",
    "    \"\"\"\n",
    "### BEGIN SOLUTION\n",
    "    opt = SGD(learning_rate=lr)\n",
    "\n",
    "    # build a model by passing a list of layers to Sequential()\n",
    "    model = Sequential([\n",
    "          # hidden layer 1\n",
    "          Dense(1, activation='relu', input_dim=784),\n",
    "          # hidden layer 2\n",
    "          Dense(32, activation='relu'),\n",
    "          # output layer\n",
    "          Dense(10, activation='softmax')\n",
    "\n",
    "    ])\n",
    "\n",
    "    model.compile(optimizer=opt,\n",
    "                  loss='sparse_categorical_crossentropy',\n",
    "                  metrics=['accuracy'])\n",
    "    return model\n",
    "### END SOLUTION"
   ],
   "execution_count": null,
   "outputs": []
  },
  {
   "cell_type": "code",
   "metadata": {
    "colab": {
     "base_uri": "https://localhost:8080/"
    },
    "id": "W-HsAQ-9jgUM",
    "outputId": "f5882ab4-b3fd-4c31-c726-8e2e80d30967"
   },
   "source": [
    "create_model().summary()"
   ],
   "execution_count": null,
   "outputs": [
    {
     "output_type": "stream",
     "name": "stdout",
     "text": [
      "Model: \"sequential\"\n",
      "_________________________________________________________________\n",
      " Layer (type)                Output Shape              Param #   \n",
      "=================================================================\n",
      " dense (Dense)               (None, 1)                 785       \n",
      "                                                                 \n",
      " dense_1 (Dense)             (None, 32)                64        \n",
      "                                                                 \n",
      " dense_2 (Dense)             (None, 10)                330       \n",
      "                                                                 \n",
      "=================================================================\n",
      "Total params: 1,179\n",
      "Trainable params: 1,179\n",
      "Non-trainable params: 0\n",
      "_________________________________________________________________\n"
     ]
    }
   ]
  },
  {
   "cell_type": "markdown",
   "metadata": {
    "id": "ZF7UE-KluPsX"
   },
   "source": [
    "## 2.3 Experiments to gauge the effect of batch size (Follow Along)\n",
    "Let's run a series of experiments for a default, small, and large batch size."
   ]
  },
  {
   "cell_type": "markdown",
   "metadata": {
    "id": "VhpDaVFRJl3U"
   },
   "source": [
    "### 2.3.1 Default Batch Size\n",
    "Batch Size is 32"
   ]
  },
  {
   "cell_type": "code",
   "metadata": {
    "id": "P-ChVGikgclD",
    "scrolled": true,
    "colab": {
     "base_uri": "https://localhost:8080/"
    },
    "outputId": "015e6c19-9ab2-471a-8243-26722271ffe5"
   },
   "source": [
    "%%time\n",
    "# instantiate a model and fit it with batch size of 32\n",
    "model = create_model()\n",
    "bt_default = model.fit(X_train, y_train, batch_size=32, validation_data=(X_test, y_test), epochs=5)"
   ],
   "execution_count": null,
   "outputs": [
    {
     "output_type": "stream",
     "name": "stdout",
     "text": [
      "Epoch 1/5\n",
      "1875/1875 [==============================] - 11s 4ms/step - loss: 2.0787 - accuracy: 0.1937 - val_loss: 1.9518 - val_accuracy: 0.2302\n",
      "Epoch 2/5\n",
      "1875/1875 [==============================] - 6s 3ms/step - loss: 1.9023 - accuracy: 0.2497 - val_loss: 1.8403 - val_accuracy: 0.2772\n",
      "Epoch 3/5\n",
      "1875/1875 [==============================] - 4s 2ms/step - loss: 1.8143 - accuracy: 0.2714 - val_loss: 1.7716 - val_accuracy: 0.2965\n",
      "Epoch 4/5\n",
      "1875/1875 [==============================] - 4s 2ms/step - loss: 1.7635 - accuracy: 0.2916 - val_loss: 1.7291 - val_accuracy: 0.3187\n",
      "Epoch 5/5\n",
      "1875/1875 [==============================] - 4s 2ms/step - loss: 1.7281 - accuracy: 0.3058 - val_loss: 1.7033 - val_accuracy: 0.3121\n",
      "CPU times: user 26.8 s, sys: 2.3 s, total: 29.1 s\n",
      "Wall time: 42.3 s\n"
     ]
    }
   ]
  },
  {
   "cell_type": "markdown",
   "metadata": {
    "id": "krYQ1XHvnpk_"
   },
   "source": [
    "What's that number 1875? It's the number of batches in the full data set"
   ]
  },
  {
   "cell_type": "code",
   "metadata": {
    "colab": {
     "base_uri": "https://localhost:8080/"
    },
    "id": "knaV6-vBjwNQ",
    "outputId": "f8bc3ab7-fb63-48e2-ab54-547cc8bdfcbd"
   },
   "source": [
    "print(X_train.shape)\n",
    "print(X_train.shape[0]/32)"
   ],
   "execution_count": null,
   "outputs": [
    {
     "output_type": "stream",
     "name": "stdout",
     "text": [
      "(60000, 784)\n",
      "1875.0\n"
     ]
    }
   ]
  },
  {
   "cell_type": "code",
   "metadata": {
    "colab": {
     "base_uri": "https://localhost:8080/"
    },
    "id": "A0hxaeqyj4ye",
    "outputId": "e79f2f6e-08f6-4276-b549-7a03480f2a2d"
   },
   "source": [
    "60000/32"
   ],
   "execution_count": null,
   "outputs": [
    {
     "output_type": "execute_result",
     "data": {
      "text/plain": [
       "1875.0"
      ]
     },
     "metadata": {},
     "execution_count": 16
    }
   ]
  },
  {
   "cell_type": "markdown",
   "metadata": {
    "id": "KvsbOFnDJuG0"
   },
   "source": [
    "### 2.3.2 Small Batch Size\n",
    "Batch Size is 8"
   ]
  },
  {
   "cell_type": "code",
   "metadata": {
    "id": "diDzvb-UJ1je",
    "scrolled": true,
    "colab": {
     "base_uri": "https://localhost:8080/"
    },
    "outputId": "2db78538-fccb-4508-8591-aaf4c1b18530"
   },
   "source": [
    "%%time\n",
    "# instantiate a model and fit it with batch size of 8\n",
    "#YOUR CODE HERE\n",
    "bt_small = model.fit(X_train, y_train, batch_size=8, validation_data=(X_test, y_test), epochs=5)"
   ],
   "execution_count": null,
   "outputs": [
    {
     "output_type": "stream",
     "name": "stdout",
     "text": [
      "Epoch 1/5\n",
      "7500/7500 [==============================] - 20s 3ms/step - loss: 1.6913 - accuracy: 0.3128 - val_loss: 1.6473 - val_accuracy: 0.3199\n",
      "Epoch 2/5\n",
      "7500/7500 [==============================] - 19s 3ms/step - loss: 1.6532 - accuracy: 0.3165 - val_loss: 1.6227 - val_accuracy: 0.3301\n",
      "Epoch 3/5\n",
      "7500/7500 [==============================] - 20s 3ms/step - loss: 1.6359 - accuracy: 0.3195 - val_loss: 1.6158 - val_accuracy: 0.3268\n",
      "Epoch 4/5\n",
      "7500/7500 [==============================] - 21s 3ms/step - loss: 1.6278 - accuracy: 0.3309 - val_loss: 1.6115 - val_accuracy: 0.3440\n",
      "Epoch 5/5\n",
      "7500/7500 [==============================] - 19s 3ms/step - loss: 1.6195 - accuracy: 0.3455 - val_loss: 1.5927 - val_accuracy: 0.3524\n",
      "CPU times: user 1min 44s, sys: 8.73 s, total: 1min 53s\n",
      "Wall time: 1min 40s\n"
     ]
    }
   ]
  },
  {
   "cell_type": "markdown",
   "metadata": {
    "id": "_iPvvvt5J2Xl"
   },
   "source": [
    "### 2.3.3 Large Batch Size\n",
    "Batch Size is 512"
   ]
  },
  {
   "cell_type": "code",
   "metadata": {
    "id": "7h8Z5293KABT",
    "colab": {
     "base_uri": "https://localhost:8080/"
    },
    "outputId": "e42f81af-4443-4229-8eb5-e0aa90bec7aa"
   },
   "source": [
    "# instantiate a model and fit it with batch size of 512\n",
    "#YOUR CODE HERE\n",
    "bt_large = model.fit(X_train, y_train, batch_size=512, validation_data=(X_test, y_test), epochs=5)"
   ],
   "execution_count": null,
   "outputs": [
    {
     "output_type": "stream",
     "name": "stdout",
     "text": [
      "Epoch 1/5\n",
      "118/118 [==============================] - 1s 4ms/step - loss: 1.5958 - accuracy: 0.3562 - val_loss: 1.5843 - val_accuracy: 0.3570\n",
      "Epoch 2/5\n",
      "118/118 [==============================] - 0s 4ms/step - loss: 1.5943 - accuracy: 0.3571 - val_loss: 1.5841 - val_accuracy: 0.3576\n",
      "Epoch 3/5\n",
      "118/118 [==============================] - 0s 4ms/step - loss: 1.5938 - accuracy: 0.3585 - val_loss: 1.5836 - val_accuracy: 0.3577\n",
      "Epoch 4/5\n",
      "118/118 [==============================] - 0s 4ms/step - loss: 1.5934 - accuracy: 0.3596 - val_loss: 1.5843 - val_accuracy: 0.3574\n",
      "Epoch 5/5\n",
      "118/118 [==============================] - 0s 4ms/step - loss: 1.5931 - accuracy: 0.3600 - val_loss: 1.5830 - val_accuracy: 0.3595\n"
     ]
    }
   ]
  },
  {
   "cell_type": "code",
   "metadata": {
    "colab": {
     "base_uri": "https://localhost:8080/"
    },
    "id": "vE2Awnk3aXPv",
    "outputId": "2a860528-8398-45b8-fb8f-4f5f6043ac25"
   },
   "source": [
    "bt_default.history"
   ],
   "execution_count": null,
   "outputs": [
    {
     "output_type": "execute_result",
     "data": {
      "text/plain": [
       "{'accuracy': [0.19370000064373016,\n",
       "  0.2497333288192749,\n",
       "  0.2713666558265686,\n",
       "  0.2915833294391632,\n",
       "  0.30578333139419556],\n",
       " 'loss': [2.078712224960327,\n",
       "  1.9022784233093262,\n",
       "  1.8143298625946045,\n",
       "  1.7634602785110474,\n",
       "  1.7281299829483032],\n",
       " 'val_accuracy': [0.23019999265670776,\n",
       "  0.27720001339912415,\n",
       "  0.29649999737739563,\n",
       "  0.31869998574256897,\n",
       "  0.31209999322891235],\n",
       " 'val_loss': [1.9517954587936401,\n",
       "  1.8402799367904663,\n",
       "  1.7715812921524048,\n",
       "  1.7290571928024292,\n",
       "  1.7032767534255981]}"
      ]
     },
     "metadata": {},
     "execution_count": 19
    }
   ]
  },
  {
   "cell_type": "code",
   "metadata": {
    "id": "YQFCYnUSakDU",
    "colab": {
     "base_uri": "https://localhost:8080/",
     "height": 206
    },
    "outputId": "3ad602e5-bc34-4eb4-d4d2-c99342a00ee9"
   },
   "source": [
    "import pandas as pd\n",
    "\n",
    "dd = pd.DataFrame.from_dict(bt_default.history)\n",
    "dd"
   ],
   "execution_count": null,
   "outputs": [
    {
     "output_type": "execute_result",
     "data": {
      "text/plain": [
       "       loss  accuracy  val_loss  val_accuracy\n",
       "0  2.078712  0.193700  1.951795        0.2302\n",
       "1  1.902278  0.249733  1.840280        0.2772\n",
       "2  1.814330  0.271367  1.771581        0.2965\n",
       "3  1.763460  0.291583  1.729057        0.3187\n",
       "4  1.728130  0.305783  1.703277        0.3121"
      ],
      "text/html": [
       "\n",
       "  <div id=\"df-addc0d47-cf80-49c2-960a-3255e4527df0\">\n",
       "    <div class=\"colab-df-container\">\n",
       "      <div>\n",
       "<style scoped>\n",
       "    .dataframe tbody tr th:only-of-type {\n",
       "        vertical-align: middle;\n",
       "    }\n",
       "\n",
       "    .dataframe tbody tr th {\n",
       "        vertical-align: top;\n",
       "    }\n",
       "\n",
       "    .dataframe thead th {\n",
       "        text-align: right;\n",
       "    }\n",
       "</style>\n",
       "<table border=\"1\" class=\"dataframe\">\n",
       "  <thead>\n",
       "    <tr style=\"text-align: right;\">\n",
       "      <th></th>\n",
       "      <th>loss</th>\n",
       "      <th>accuracy</th>\n",
       "      <th>val_loss</th>\n",
       "      <th>val_accuracy</th>\n",
       "    </tr>\n",
       "  </thead>\n",
       "  <tbody>\n",
       "    <tr>\n",
       "      <th>0</th>\n",
       "      <td>2.078712</td>\n",
       "      <td>0.193700</td>\n",
       "      <td>1.951795</td>\n",
       "      <td>0.2302</td>\n",
       "    </tr>\n",
       "    <tr>\n",
       "      <th>1</th>\n",
       "      <td>1.902278</td>\n",
       "      <td>0.249733</td>\n",
       "      <td>1.840280</td>\n",
       "      <td>0.2772</td>\n",
       "    </tr>\n",
       "    <tr>\n",
       "      <th>2</th>\n",
       "      <td>1.814330</td>\n",
       "      <td>0.271367</td>\n",
       "      <td>1.771581</td>\n",
       "      <td>0.2965</td>\n",
       "    </tr>\n",
       "    <tr>\n",
       "      <th>3</th>\n",
       "      <td>1.763460</td>\n",
       "      <td>0.291583</td>\n",
       "      <td>1.729057</td>\n",
       "      <td>0.3187</td>\n",
       "    </tr>\n",
       "    <tr>\n",
       "      <th>4</th>\n",
       "      <td>1.728130</td>\n",
       "      <td>0.305783</td>\n",
       "      <td>1.703277</td>\n",
       "      <td>0.3121</td>\n",
       "    </tr>\n",
       "  </tbody>\n",
       "</table>\n",
       "</div>\n",
       "      <button class=\"colab-df-convert\" onclick=\"convertToInteractive('df-addc0d47-cf80-49c2-960a-3255e4527df0')\"\n",
       "              title=\"Convert this dataframe to an interactive table.\"\n",
       "              style=\"display:none;\">\n",
       "        \n",
       "  <svg xmlns=\"http://www.w3.org/2000/svg\" height=\"24px\"viewBox=\"0 0 24 24\"\n",
       "       width=\"24px\">\n",
       "    <path d=\"M0 0h24v24H0V0z\" fill=\"none\"/>\n",
       "    <path d=\"M18.56 5.44l.94 2.06.94-2.06 2.06-.94-2.06-.94-.94-2.06-.94 2.06-2.06.94zm-11 1L8.5 8.5l.94-2.06 2.06-.94-2.06-.94L8.5 2.5l-.94 2.06-2.06.94zm10 10l.94 2.06.94-2.06 2.06-.94-2.06-.94-.94-2.06-.94 2.06-2.06.94z\"/><path d=\"M17.41 7.96l-1.37-1.37c-.4-.4-.92-.59-1.43-.59-.52 0-1.04.2-1.43.59L10.3 9.45l-7.72 7.72c-.78.78-.78 2.05 0 2.83L4 21.41c.39.39.9.59 1.41.59.51 0 1.02-.2 1.41-.59l7.78-7.78 2.81-2.81c.8-.78.8-2.07 0-2.86zM5.41 20L4 18.59l7.72-7.72 1.47 1.35L5.41 20z\"/>\n",
       "  </svg>\n",
       "      </button>\n",
       "      \n",
       "  <style>\n",
       "    .colab-df-container {\n",
       "      display:flex;\n",
       "      flex-wrap:wrap;\n",
       "      gap: 12px;\n",
       "    }\n",
       "\n",
       "    .colab-df-convert {\n",
       "      background-color: #E8F0FE;\n",
       "      border: none;\n",
       "      border-radius: 50%;\n",
       "      cursor: pointer;\n",
       "      display: none;\n",
       "      fill: #1967D2;\n",
       "      height: 32px;\n",
       "      padding: 0 0 0 0;\n",
       "      width: 32px;\n",
       "    }\n",
       "\n",
       "    .colab-df-convert:hover {\n",
       "      background-color: #E2EBFA;\n",
       "      box-shadow: 0px 1px 2px rgba(60, 64, 67, 0.3), 0px 1px 3px 1px rgba(60, 64, 67, 0.15);\n",
       "      fill: #174EA6;\n",
       "    }\n",
       "\n",
       "    [theme=dark] .colab-df-convert {\n",
       "      background-color: #3B4455;\n",
       "      fill: #D2E3FC;\n",
       "    }\n",
       "\n",
       "    [theme=dark] .colab-df-convert:hover {\n",
       "      background-color: #434B5C;\n",
       "      box-shadow: 0px 1px 3px 1px rgba(0, 0, 0, 0.15);\n",
       "      filter: drop-shadow(0px 1px 2px rgba(0, 0, 0, 0.3));\n",
       "      fill: #FFFFFF;\n",
       "    }\n",
       "  </style>\n",
       "\n",
       "      <script>\n",
       "        const buttonEl =\n",
       "          document.querySelector('#df-addc0d47-cf80-49c2-960a-3255e4527df0 button.colab-df-convert');\n",
       "        buttonEl.style.display =\n",
       "          google.colab.kernel.accessAllowed ? 'block' : 'none';\n",
       "\n",
       "        async function convertToInteractive(key) {\n",
       "          const element = document.querySelector('#df-addc0d47-cf80-49c2-960a-3255e4527df0');\n",
       "          const dataTable =\n",
       "            await google.colab.kernel.invokeFunction('convertToInteractive',\n",
       "                                                     [key], {});\n",
       "          if (!dataTable) return;\n",
       "\n",
       "          const docLinkHtml = 'Like what you see? Visit the ' +\n",
       "            '<a target=\"_blank\" href=https://colab.research.google.com/notebooks/data_table.ipynb>data table notebook</a>'\n",
       "            + ' to learn more about interactive tables.';\n",
       "          element.innerHTML = '';\n",
       "          dataTable['output_type'] = 'display_data';\n",
       "          await google.colab.output.renderOutput(dataTable, element);\n",
       "          const docLink = document.createElement('div');\n",
       "          docLink.innerHTML = docLinkHtml;\n",
       "          element.appendChild(docLink);\n",
       "        }\n",
       "      </script>\n",
       "    </div>\n",
       "  </div>\n",
       "  "
      ]
     },
     "metadata": {},
     "execution_count": 20
    }
   ]
  },
  {
   "cell_type": "markdown",
   "metadata": {
    "id": "B0ujUz6BKUGz"
   },
   "source": [
    "### 2.3.4 Visualize Results"
   ]
  },
  {
   "cell_type": "code",
   "metadata": {
    "id": "o-5DOZNMKYt-",
    "colab": {
     "base_uri": "https://localhost:8080/",
     "height": 520
    },
    "outputId": "bb50c7d2-9809-406e-952b-253c58e450e8"
   },
   "source": [
    "import seaborn as sns\n",
    "import pandas as pd\n",
    "\n",
    "experiment_dfs = []\n",
    "\n",
    "for experiment, label in zip([bt_default, bt_small, bt_large], [\"32_\", \"8_\", \"512_\"]):\n",
    "\n",
    "    df = pd.DataFrame.from_dict(experiment.history)\n",
    "    df['epoch'] = df.index.values\n",
    "    df['Batch Size'] = label\n",
    "\n",
    "    # append to list of experiment data frames\n",
    "    experiment_dfs.append(df)\n",
    "\n",
    "df = pd.concat(experiment_dfs,ignore_index=True)\n",
    "df['Batch Size'] = df['Batch Size'].astype('str')\n",
    "df"
   ],
   "execution_count": null,
   "outputs": [
    {
     "output_type": "execute_result",
     "data": {
      "text/plain": [
       "        loss  accuracy  val_loss  val_accuracy  epoch Batch Size\n",
       "0   2.078712  0.193700  1.951795        0.2302      0        32_\n",
       "1   1.902278  0.249733  1.840280        0.2772      1        32_\n",
       "2   1.814330  0.271367  1.771581        0.2965      2        32_\n",
       "3   1.763460  0.291583  1.729057        0.3187      3        32_\n",
       "4   1.728130  0.305783  1.703277        0.3121      4        32_\n",
       "5   1.691288  0.312800  1.647328        0.3199      0         8_\n",
       "6   1.653233  0.316500  1.622655        0.3301      1         8_\n",
       "7   1.635861  0.319483  1.615775        0.3268      2         8_\n",
       "8   1.627777  0.330883  1.611518        0.3440      3         8_\n",
       "9   1.619510  0.345483  1.592726        0.3524      4         8_\n",
       "10  1.595763  0.356167  1.584334        0.3570      0       512_\n",
       "11  1.594337  0.357083  1.584128        0.3576      1       512_\n",
       "12  1.593824  0.358500  1.583565        0.3577      2       512_\n",
       "13  1.593437  0.359633  1.584262        0.3574      3       512_\n",
       "14  1.593126  0.359983  1.582996        0.3595      4       512_"
      ],
      "text/html": [
       "\n",
       "  <div id=\"df-d371adcc-0c41-4035-9748-fa1b89709235\">\n",
       "    <div class=\"colab-df-container\">\n",
       "      <div>\n",
       "<style scoped>\n",
       "    .dataframe tbody tr th:only-of-type {\n",
       "        vertical-align: middle;\n",
       "    }\n",
       "\n",
       "    .dataframe tbody tr th {\n",
       "        vertical-align: top;\n",
       "    }\n",
       "\n",
       "    .dataframe thead th {\n",
       "        text-align: right;\n",
       "    }\n",
       "</style>\n",
       "<table border=\"1\" class=\"dataframe\">\n",
       "  <thead>\n",
       "    <tr style=\"text-align: right;\">\n",
       "      <th></th>\n",
       "      <th>loss</th>\n",
       "      <th>accuracy</th>\n",
       "      <th>val_loss</th>\n",
       "      <th>val_accuracy</th>\n",
       "      <th>epoch</th>\n",
       "      <th>Batch Size</th>\n",
       "    </tr>\n",
       "  </thead>\n",
       "  <tbody>\n",
       "    <tr>\n",
       "      <th>0</th>\n",
       "      <td>2.078712</td>\n",
       "      <td>0.193700</td>\n",
       "      <td>1.951795</td>\n",
       "      <td>0.2302</td>\n",
       "      <td>0</td>\n",
       "      <td>32_</td>\n",
       "    </tr>\n",
       "    <tr>\n",
       "      <th>1</th>\n",
       "      <td>1.902278</td>\n",
       "      <td>0.249733</td>\n",
       "      <td>1.840280</td>\n",
       "      <td>0.2772</td>\n",
       "      <td>1</td>\n",
       "      <td>32_</td>\n",
       "    </tr>\n",
       "    <tr>\n",
       "      <th>2</th>\n",
       "      <td>1.814330</td>\n",
       "      <td>0.271367</td>\n",
       "      <td>1.771581</td>\n",
       "      <td>0.2965</td>\n",
       "      <td>2</td>\n",
       "      <td>32_</td>\n",
       "    </tr>\n",
       "    <tr>\n",
       "      <th>3</th>\n",
       "      <td>1.763460</td>\n",
       "      <td>0.291583</td>\n",
       "      <td>1.729057</td>\n",
       "      <td>0.3187</td>\n",
       "      <td>3</td>\n",
       "      <td>32_</td>\n",
       "    </tr>\n",
       "    <tr>\n",
       "      <th>4</th>\n",
       "      <td>1.728130</td>\n",
       "      <td>0.305783</td>\n",
       "      <td>1.703277</td>\n",
       "      <td>0.3121</td>\n",
       "      <td>4</td>\n",
       "      <td>32_</td>\n",
       "    </tr>\n",
       "    <tr>\n",
       "      <th>5</th>\n",
       "      <td>1.691288</td>\n",
       "      <td>0.312800</td>\n",
       "      <td>1.647328</td>\n",
       "      <td>0.3199</td>\n",
       "      <td>0</td>\n",
       "      <td>8_</td>\n",
       "    </tr>\n",
       "    <tr>\n",
       "      <th>6</th>\n",
       "      <td>1.653233</td>\n",
       "      <td>0.316500</td>\n",
       "      <td>1.622655</td>\n",
       "      <td>0.3301</td>\n",
       "      <td>1</td>\n",
       "      <td>8_</td>\n",
       "    </tr>\n",
       "    <tr>\n",
       "      <th>7</th>\n",
       "      <td>1.635861</td>\n",
       "      <td>0.319483</td>\n",
       "      <td>1.615775</td>\n",
       "      <td>0.3268</td>\n",
       "      <td>2</td>\n",
       "      <td>8_</td>\n",
       "    </tr>\n",
       "    <tr>\n",
       "      <th>8</th>\n",
       "      <td>1.627777</td>\n",
       "      <td>0.330883</td>\n",
       "      <td>1.611518</td>\n",
       "      <td>0.3440</td>\n",
       "      <td>3</td>\n",
       "      <td>8_</td>\n",
       "    </tr>\n",
       "    <tr>\n",
       "      <th>9</th>\n",
       "      <td>1.619510</td>\n",
       "      <td>0.345483</td>\n",
       "      <td>1.592726</td>\n",
       "      <td>0.3524</td>\n",
       "      <td>4</td>\n",
       "      <td>8_</td>\n",
       "    </tr>\n",
       "    <tr>\n",
       "      <th>10</th>\n",
       "      <td>1.595763</td>\n",
       "      <td>0.356167</td>\n",
       "      <td>1.584334</td>\n",
       "      <td>0.3570</td>\n",
       "      <td>0</td>\n",
       "      <td>512_</td>\n",
       "    </tr>\n",
       "    <tr>\n",
       "      <th>11</th>\n",
       "      <td>1.594337</td>\n",
       "      <td>0.357083</td>\n",
       "      <td>1.584128</td>\n",
       "      <td>0.3576</td>\n",
       "      <td>1</td>\n",
       "      <td>512_</td>\n",
       "    </tr>\n",
       "    <tr>\n",
       "      <th>12</th>\n",
       "      <td>1.593824</td>\n",
       "      <td>0.358500</td>\n",
       "      <td>1.583565</td>\n",
       "      <td>0.3577</td>\n",
       "      <td>2</td>\n",
       "      <td>512_</td>\n",
       "    </tr>\n",
       "    <tr>\n",
       "      <th>13</th>\n",
       "      <td>1.593437</td>\n",
       "      <td>0.359633</td>\n",
       "      <td>1.584262</td>\n",
       "      <td>0.3574</td>\n",
       "      <td>3</td>\n",
       "      <td>512_</td>\n",
       "    </tr>\n",
       "    <tr>\n",
       "      <th>14</th>\n",
       "      <td>1.593126</td>\n",
       "      <td>0.359983</td>\n",
       "      <td>1.582996</td>\n",
       "      <td>0.3595</td>\n",
       "      <td>4</td>\n",
       "      <td>512_</td>\n",
       "    </tr>\n",
       "  </tbody>\n",
       "</table>\n",
       "</div>\n",
       "      <button class=\"colab-df-convert\" onclick=\"convertToInteractive('df-d371adcc-0c41-4035-9748-fa1b89709235')\"\n",
       "              title=\"Convert this dataframe to an interactive table.\"\n",
       "              style=\"display:none;\">\n",
       "        \n",
       "  <svg xmlns=\"http://www.w3.org/2000/svg\" height=\"24px\"viewBox=\"0 0 24 24\"\n",
       "       width=\"24px\">\n",
       "    <path d=\"M0 0h24v24H0V0z\" fill=\"none\"/>\n",
       "    <path d=\"M18.56 5.44l.94 2.06.94-2.06 2.06-.94-2.06-.94-.94-2.06-.94 2.06-2.06.94zm-11 1L8.5 8.5l.94-2.06 2.06-.94-2.06-.94L8.5 2.5l-.94 2.06-2.06.94zm10 10l.94 2.06.94-2.06 2.06-.94-2.06-.94-.94-2.06-.94 2.06-2.06.94z\"/><path d=\"M17.41 7.96l-1.37-1.37c-.4-.4-.92-.59-1.43-.59-.52 0-1.04.2-1.43.59L10.3 9.45l-7.72 7.72c-.78.78-.78 2.05 0 2.83L4 21.41c.39.39.9.59 1.41.59.51 0 1.02-.2 1.41-.59l7.78-7.78 2.81-2.81c.8-.78.8-2.07 0-2.86zM5.41 20L4 18.59l7.72-7.72 1.47 1.35L5.41 20z\"/>\n",
       "  </svg>\n",
       "      </button>\n",
       "      \n",
       "  <style>\n",
       "    .colab-df-container {\n",
       "      display:flex;\n",
       "      flex-wrap:wrap;\n",
       "      gap: 12px;\n",
       "    }\n",
       "\n",
       "    .colab-df-convert {\n",
       "      background-color: #E8F0FE;\n",
       "      border: none;\n",
       "      border-radius: 50%;\n",
       "      cursor: pointer;\n",
       "      display: none;\n",
       "      fill: #1967D2;\n",
       "      height: 32px;\n",
       "      padding: 0 0 0 0;\n",
       "      width: 32px;\n",
       "    }\n",
       "\n",
       "    .colab-df-convert:hover {\n",
       "      background-color: #E2EBFA;\n",
       "      box-shadow: 0px 1px 2px rgba(60, 64, 67, 0.3), 0px 1px 3px 1px rgba(60, 64, 67, 0.15);\n",
       "      fill: #174EA6;\n",
       "    }\n",
       "\n",
       "    [theme=dark] .colab-df-convert {\n",
       "      background-color: #3B4455;\n",
       "      fill: #D2E3FC;\n",
       "    }\n",
       "\n",
       "    [theme=dark] .colab-df-convert:hover {\n",
       "      background-color: #434B5C;\n",
       "      box-shadow: 0px 1px 3px 1px rgba(0, 0, 0, 0.15);\n",
       "      filter: drop-shadow(0px 1px 2px rgba(0, 0, 0, 0.3));\n",
       "      fill: #FFFFFF;\n",
       "    }\n",
       "  </style>\n",
       "\n",
       "      <script>\n",
       "        const buttonEl =\n",
       "          document.querySelector('#df-d371adcc-0c41-4035-9748-fa1b89709235 button.colab-df-convert');\n",
       "        buttonEl.style.display =\n",
       "          google.colab.kernel.accessAllowed ? 'block' : 'none';\n",
       "\n",
       "        async function convertToInteractive(key) {\n",
       "          const element = document.querySelector('#df-d371adcc-0c41-4035-9748-fa1b89709235');\n",
       "          const dataTable =\n",
       "            await google.colab.kernel.invokeFunction('convertToInteractive',\n",
       "                                                     [key], {});\n",
       "          if (!dataTable) return;\n",
       "\n",
       "          const docLinkHtml = 'Like what you see? Visit the ' +\n",
       "            '<a target=\"_blank\" href=https://colab.research.google.com/notebooks/data_table.ipynb>data table notebook</a>'\n",
       "            + ' to learn more about interactive tables.';\n",
       "          element.innerHTML = '';\n",
       "          dataTable['output_type'] = 'display_data';\n",
       "          await google.colab.output.renderOutput(dataTable, element);\n",
       "          const docLink = document.createElement('div');\n",
       "          docLink.innerHTML = docLinkHtml;\n",
       "          element.appendChild(docLink);\n",
       "        }\n",
       "      </script>\n",
       "    </div>\n",
       "  </div>\n",
       "  "
      ]
     },
     "metadata": {},
     "execution_count": 21
    }
   ]
  },
  {
   "cell_type": "code",
   "metadata": {
    "id": "Dlg9uSEEmIJB",
    "colab": {
     "base_uri": "https://localhost:8080/",
     "height": 279
    },
    "outputId": "6cbfa420-1711-45c2-844f-85488b33b650"
   },
   "source": [
    "sns.lineplot(x='epoch', y='val_accuracy', hue='Batch Size', data=df);\n",
    "plt.grid()"
   ],
   "execution_count": null,
   "outputs": [
    {
     "output_type": "display_data",
     "data": {
      "text/plain": [
       "<Figure size 432x288 with 1 Axes>"
      ],
      "image/png": "[encoded data removed]"
     },
     "metadata": {
      "needs_background": "light"
     }
    }
   ]
  },
  {
   "cell_type": "code",
   "metadata": {
    "id": "94bJYgz3nkp0",
    "colab": {
     "base_uri": "https://localhost:8080/",
     "height": 279
    },
    "outputId": "133372a7-2909-469e-e541-2e05de122dd6"
   },
   "source": [
    "sns.lineplot(x='epoch', y='val_loss', hue='Batch Size', data=df);\n",
    "plt.grid()"
   ],
   "execution_count": null,
   "outputs": [
    {
     "output_type": "display_data",
     "data": {
      "text/plain": [
       "<Figure size 432x288 with 1 Axes>"
      ],
      "image/png": "[encoded data removed]"
     },
     "metadata": {
      "needs_background": "light"
     }
    }
   ]
  },
  {
   "cell_type": "markdown",
   "metadata": {
    "id": "4kZ2vUYYgclS"
   },
   "source": [
    "## Challenge\n",
    "\n",
    "You will be expected to experiment with batch size on today's assignment."
   ]
  },
  {
   "cell_type": "markdown",
   "metadata": {
    "id": "46cP9Pm_gclS"
   },
   "source": [
    "# 3. The Effect of the Learning Rate Hyperparameter on Neural Network Training (Learn)"
   ]
  },
  {
   "cell_type": "markdown",
   "metadata": {
    "id": "SXBoghYG9G5A"
   },
   "source": [
    "![](https://www.jeremyjordan.me/content/images/2018/02/Screen-Shot-2018-02-24-at-11.47.09-AM.png)"
   ]
  },
  {
   "cell_type": "markdown",
   "metadata": {
    "id": "Bna67ADZgclT",
    "toc-hr-collapsed": true
   },
   "source": [
    "## 3.1 Overview\n",
    "\n",
    "Learning Rate controls the size of the update to our weights that the optimization algorithm makes. VERY IMPORTANT hyperparameter.\n",
    "\n",
    "* If the learning rate is too high, the model will not find the minimum\n",
    "* If the learning rate is too low, the model will underfit or take too long to converge\n",
    "* Goldilocks learning rate is \"just right\", the model converges rapidly\n",
    "* Scale of 0-1"
   ]
  },
  {
   "cell_type": "markdown",
   "metadata": {
    "id": "gsVYOn7bgcle",
    "toc-hr-collapsed": true
   },
   "source": [
    "## 3.2 Experiments to gauge the effect of learning rate (Follow Along)\n",
    "\n",
    "Try experiments with same Batch Size = 32 but different Learning Rates:\n",
    "* High Learning Rate = .75\n",
    "* Default Learning Rate = .01\n",
    "* Low Learning Rate = .0001"
   ]
  },
  {
   "cell_type": "markdown",
   "metadata": {
    "id": "CI_H8Em1NOii"
   },
   "source": [
    "### 3.2.1 Default Learning Rate"
   ]
  },
  {
   "cell_type": "code",
   "metadata": {
    "id": "Se8cb_ZUNVtL",
    "colab": {
     "base_uri": "https://localhost:8080/"
    },
    "outputId": "442abc29-32f5-464f-ee74-8af1f6cfd988"
   },
   "source": [
    "# instantiate a model and fit it with a learning rate value of 0.01\n",
    "model = create_model(lr=.01)\n",
    "lr_default = model.fit(X_train, y_train, batch_size=32, validation_data=(X_test, y_test), epochs=5)"
   ],
   "execution_count": null,
   "outputs": [
    {
     "output_type": "stream",
     "name": "stdout",
     "text": [
      "Epoch 1/5\n",
      "1875/1875 [==============================] - 5s 2ms/step - loss: 2.0991 - accuracy: 0.2033 - val_loss: 1.9285 - val_accuracy: 0.2574\n",
      "Epoch 2/5\n",
      "1875/1875 [==============================] - 4s 2ms/step - loss: 1.8371 - accuracy: 0.2698 - val_loss: 1.7687 - val_accuracy: 0.2846\n",
      "Epoch 3/5\n",
      "1875/1875 [==============================] - 4s 2ms/step - loss: 1.7338 - accuracy: 0.2900 - val_loss: 1.7046 - val_accuracy: 0.2950\n",
      "Epoch 4/5\n",
      "1875/1875 [==============================] - 4s 2ms/step - loss: 1.6875 - accuracy: 0.3000 - val_loss: 1.6766 - val_accuracy: 0.3070\n",
      "Epoch 5/5\n",
      "1875/1875 [==============================] - 4s 2ms/step - loss: 1.6615 - accuracy: 0.3033 - val_loss: 1.6555 - val_accuracy: 0.3101\n"
     ]
    }
   ]
  },
  {
   "cell_type": "markdown",
   "metadata": {
    "id": "IQZ4SZdKNMRO"
   },
   "source": [
    "### 3.2.2 High Learning Rate"
   ]
  },
  {
   "cell_type": "code",
   "metadata": {
    "id": "Ny72mU_dNWMR",
    "colab": {
     "base_uri": "https://localhost:8080/"
    },
    "outputId": "86973564-e08e-4eed-c9ca-a123f4e47c55"
   },
   "source": [
    "# instantiate a model and fit it with a learning rate value of 0.75\n",
    "model = create_model(lr=0.75)\n",
    "lr_high = model.fit(X_train, y_train, batch_size=32, validation_data=(X_test, y_test), epochs=5)"
   ],
   "execution_count": null,
   "outputs": [
    {
     "output_type": "stream",
     "name": "stdout",
     "text": [
      "Epoch 1/5\n",
      "1875/1875 [==============================] - 5s 2ms/step - loss: 2.2839 - accuracy: 0.1165 - val_loss: 2.3040 - val_accuracy: 0.1135\n",
      "Epoch 2/5\n",
      "1875/1875 [==============================] - 4s 2ms/step - loss: 2.3069 - accuracy: 0.1044 - val_loss: 2.3040 - val_accuracy: 0.1135\n",
      "Epoch 3/5\n",
      "1875/1875 [==============================] - 4s 2ms/step - loss: 2.3067 - accuracy: 0.1047 - val_loss: 2.3068 - val_accuracy: 0.1135\n",
      "Epoch 4/5\n",
      "1875/1875 [==============================] - 4s 2ms/step - loss: 2.3063 - accuracy: 0.1054 - val_loss: 2.3088 - val_accuracy: 0.0980\n",
      "Epoch 5/5\n",
      "1875/1875 [==============================] - 4s 2ms/step - loss: 2.3067 - accuracy: 0.1046 - val_loss: 2.3054 - val_accuracy: 0.1135\n"
     ]
    }
   ]
  },
  {
   "cell_type": "markdown",
   "metadata": {
    "id": "kAqDmTVBNSMR"
   },
   "source": [
    "### 3.2.3 Low Learning Rate"
   ]
  },
  {
   "cell_type": "code",
   "metadata": {
    "id": "Ech1ER64NXBn",
    "jupyter": {
     "outputs_hidden": true
    },
    "colab": {
     "base_uri": "https://localhost:8080/"
    },
    "outputId": "ed0a25a3-4e0b-4b10-bd4f-afd4a727d6a0"
   },
   "source": [
    "# instantiate a model and fit it with a learning rate value of 0.0001\n",
    "model = create_model(lr=0.0001)\n",
    "lr_low = model.fit(X_train, y_train, batch_size=32, validation_data=(X_test, y_test), epochs=5)"
   ],
   "execution_count": null,
   "outputs": [
    {
     "output_type": "stream",
     "name": "stdout",
     "text": [
      "Epoch 1/5\n",
      "1875/1875 [==============================] - 5s 2ms/step - loss: 2.3024 - accuracy: 0.1446 - val_loss: 2.3015 - val_accuracy: 0.1508\n",
      "Epoch 2/5\n",
      "1875/1875 [==============================] - 4s 2ms/step - loss: 2.3005 - accuracy: 0.1535 - val_loss: 2.2994 - val_accuracy: 0.1585\n",
      "Epoch 3/5\n",
      "1875/1875 [==============================] - 4s 2ms/step - loss: 2.2980 - accuracy: 0.1608 - val_loss: 2.2966 - val_accuracy: 0.1631\n",
      "Epoch 4/5\n",
      "1875/1875 [==============================] - 4s 2ms/step - loss: 2.2948 - accuracy: 0.1662 - val_loss: 2.2930 - val_accuracy: 0.1669\n",
      "Epoch 5/5\n",
      "1875/1875 [==============================] - 4s 2ms/step - loss: 2.2908 - accuracy: 0.1683 - val_loss: 2.2889 - val_accuracy: 0.1678\n"
     ]
    }
   ]
  },
  {
   "cell_type": "markdown",
   "metadata": {
    "id": "sZe6DyhANXdU"
   },
   "source": [
    "### 3.2.4 Visualize Results"
   ]
  },
  {
   "cell_type": "code",
   "metadata": {
    "id": "Bn-BdFdMNph-",
    "colab": {
     "base_uri": "https://localhost:8080/",
     "height": 520
    },
    "outputId": "a3132a35-2e44-4cd6-8fe3-2fcb14326fa5"
   },
   "source": [
    "import seaborn as sns\n",
    "import pandas as pd\n",
    "\n",
    "experiments = []\n",
    "\n",
    "for experiment, label in zip([lr_default, lr_low, lr_high], [\".01_\", \".0001_\", \".75_\"]):\n",
    "\n",
    "    df = pd.DataFrame.from_dict(experiment.history)\n",
    "    df['epoch'] = df.index.values\n",
    "    df['Learning Rate'] = label\n",
    "\n",
    "    experiments.append(df)\n",
    "\n",
    "df = pd.concat(experiments,ignore_index=True)\n",
    "df['Learning Rate'] = df['Learning Rate'].astype('str')\n",
    "df"
   ],
   "execution_count": null,
   "outputs": [
    {
     "output_type": "execute_result",
     "data": {
      "text/plain": [
       "        loss  accuracy  val_loss  val_accuracy  epoch Learning Rate\n",
       "0   2.099146  0.203300  1.928548        0.2574      0          .01_\n",
       "1   1.837079  0.269800  1.768748        0.2846      1          .01_\n",
       "2   1.733797  0.289950  1.704623        0.2950      2          .01_\n",
       "3   1.687485  0.299983  1.676615        0.3070      3          .01_\n",
       "4   1.661475  0.303283  1.655500        0.3101      4          .01_\n",
       "5   2.302437  0.144617  2.301485        0.1508      0        .0001_\n",
       "6   2.300515  0.153500  2.299414        0.1585      1        .0001_\n",
       "7   2.298034  0.160800  2.296597        0.1631      2        .0001_\n",
       "8   2.294773  0.166150  2.293015        0.1669      3        .0001_\n",
       "9   2.290829  0.168283  2.288884        0.1678      4        .0001_\n",
       "10  2.283945  0.116483  2.304022        0.1135      0          .75_\n",
       "11  2.306868  0.104417  2.304012        0.1135      1          .75_\n",
       "12  2.306652  0.104700  2.306844        0.1135      2          .75_\n",
       "13  2.306255  0.105400  2.308794        0.0980      3          .75_\n",
       "14  2.306694  0.104633  2.305434        0.1135      4          .75_"
      ],
      "text/html": [
       "\n",
       "  <div id=\"df-63e7de3b-9480-45e8-93ff-a599d1d10f9a\">\n",
       "    <div class=\"colab-df-container\">\n",
       "      <div>\n",
       "<style scoped>\n",
       "    .dataframe tbody tr th:only-of-type {\n",
       "        vertical-align: middle;\n",
       "    }\n",
       "\n",
       "    .dataframe tbody tr th {\n",
       "        vertical-align: top;\n",
       "    }\n",
       "\n",
       "    .dataframe thead th {\n",
       "        text-align: right;\n",
       "    }\n",
       "</style>\n",
       "<table border=\"1\" class=\"dataframe\">\n",
       "  <thead>\n",
       "    <tr style=\"text-align: right;\">\n",
       "      <th></th>\n",
       "      <th>loss</th>\n",
       "      <th>accuracy</th>\n",
       "      <th>val_loss</th>\n",
       "      <th>val_accuracy</th>\n",
       "      <th>epoch</th>\n",
       "      <th>Learning Rate</th>\n",
       "    </tr>\n",
       "  </thead>\n",
       "  <tbody>\n",
       "    <tr>\n",
       "      <th>0</th>\n",
       "      <td>2.099146</td>\n",
       "      <td>0.203300</td>\n",
       "      <td>1.928548</td>\n",
       "      <td>0.2574</td>\n",
       "      <td>0</td>\n",
       "      <td>.01_</td>\n",
       "    </tr>\n",
       "    <tr>\n",
       "      <th>1</th>\n",
       "      <td>1.837079</td>\n",
       "      <td>0.269800</td>\n",
       "      <td>1.768748</td>\n",
       "      <td>0.2846</td>\n",
       "      <td>1</td>\n",
       "      <td>.01_</td>\n",
       "    </tr>\n",
       "    <tr>\n",
       "      <th>2</th>\n",
       "      <td>1.733797</td>\n",
       "      <td>0.289950</td>\n",
       "      <td>1.704623</td>\n",
       "      <td>0.2950</td>\n",
       "      <td>2</td>\n",
       "      <td>.01_</td>\n",
       "    </tr>\n",
       "    <tr>\n",
       "      <th>3</th>\n",
       "      <td>1.687485</td>\n",
       "      <td>0.299983</td>\n",
       "      <td>1.676615</td>\n",
       "      <td>0.3070</td>\n",
       "      <td>3</td>\n",
       "      <td>.01_</td>\n",
       "    </tr>\n",
       "    <tr>\n",
       "      <th>4</th>\n",
       "      <td>1.661475</td>\n",
       "      <td>0.303283</td>\n",
       "      <td>1.655500</td>\n",
       "      <td>0.3101</td>\n",
       "      <td>4</td>\n",
       "      <td>.01_</td>\n",
       "    </tr>\n",
       "    <tr>\n",
       "      <th>5</th>\n",
       "      <td>2.302437</td>\n",
       "      <td>0.144617</td>\n",
       "      <td>2.301485</td>\n",
       "      <td>0.1508</td>\n",
       "      <td>0</td>\n",
       "      <td>.0001_</td>\n",
       "    </tr>\n",
       "    <tr>\n",
       "      <th>6</th>\n",
       "      <td>2.300515</td>\n",
       "      <td>0.153500</td>\n",
       "      <td>2.299414</td>\n",
       "      <td>0.1585</td>\n",
       "      <td>1</td>\n",
       "      <td>.0001_</td>\n",
       "    </tr>\n",
       "    <tr>\n",
       "      <th>7</th>\n",
       "      <td>2.298034</td>\n",
       "      <td>0.160800</td>\n",
       "      <td>2.296597</td>\n",
       "      <td>0.1631</td>\n",
       "      <td>2</td>\n",
       "      <td>.0001_</td>\n",
       "    </tr>\n",
       "    <tr>\n",
       "      <th>8</th>\n",
       "      <td>2.294773</td>\n",
       "      <td>0.166150</td>\n",
       "      <td>2.293015</td>\n",
       "      <td>0.1669</td>\n",
       "      <td>3</td>\n",
       "      <td>.0001_</td>\n",
       "    </tr>\n",
       "    <tr>\n",
       "      <th>9</th>\n",
       "      <td>2.290829</td>\n",
       "      <td>0.168283</td>\n",
       "      <td>2.288884</td>\n",
       "      <td>0.1678</td>\n",
       "      <td>4</td>\n",
       "      <td>.0001_</td>\n",
       "    </tr>\n",
       "    <tr>\n",
       "      <th>10</th>\n",
       "      <td>2.283945</td>\n",
       "      <td>0.116483</td>\n",
       "      <td>2.304022</td>\n",
       "      <td>0.1135</td>\n",
       "      <td>0</td>\n",
       "      <td>.75_</td>\n",
       "    </tr>\n",
       "    <tr>\n",
       "      <th>11</th>\n",
       "      <td>2.306868</td>\n",
       "      <td>0.104417</td>\n",
       "      <td>2.304012</td>\n",
       "      <td>0.1135</td>\n",
       "      <td>1</td>\n",
       "      <td>.75_</td>\n",
       "    </tr>\n",
       "    <tr>\n",
       "      <th>12</th>\n",
       "      <td>2.306652</td>\n",
       "      <td>0.104700</td>\n",
       "      <td>2.306844</td>\n",
       "      <td>0.1135</td>\n",
       "      <td>2</td>\n",
       "      <td>.75_</td>\n",
       "    </tr>\n",
       "    <tr>\n",
       "      <th>13</th>\n",
       "      <td>2.306255</td>\n",
       "      <td>0.105400</td>\n",
       "      <td>2.308794</td>\n",
       "      <td>0.0980</td>\n",
       "      <td>3</td>\n",
       "      <td>.75_</td>\n",
       "    </tr>\n",
       "    <tr>\n",
       "      <th>14</th>\n",
       "      <td>2.306694</td>\n",
       "      <td>0.104633</td>\n",
       "      <td>2.305434</td>\n",
       "      <td>0.1135</td>\n",
       "      <td>4</td>\n",
       "      <td>.75_</td>\n",
       "    </tr>\n",
       "  </tbody>\n",
       "</table>\n",
       "</div>\n",
       "      <button class=\"colab-df-convert\" onclick=\"convertToInteractive('df-63e7de3b-9480-45e8-93ff-a599d1d10f9a')\"\n",
       "              title=\"Convert this dataframe to an interactive table.\"\n",
       "              style=\"display:none;\">\n",
       "        \n",
       "  <svg xmlns=\"http://www.w3.org/2000/svg\" height=\"24px\"viewBox=\"0 0 24 24\"\n",
       "       width=\"24px\">\n",
       "    <path d=\"M0 0h24v24H0V0z\" fill=\"none\"/>\n",
       "    <path d=\"M18.56 5.44l.94 2.06.94-2.06 2.06-.94-2.06-.94-.94-2.06-.94 2.06-2.06.94zm-11 1L8.5 8.5l.94-2.06 2.06-.94-2.06-.94L8.5 2.5l-.94 2.06-2.06.94zm10 10l.94 2.06.94-2.06 2.06-.94-2.06-.94-.94-2.06-.94 2.06-2.06.94z\"/><path d=\"M17.41 7.96l-1.37-1.37c-.4-.4-.92-.59-1.43-.59-.52 0-1.04.2-1.43.59L10.3 9.45l-7.72 7.72c-.78.78-.78 2.05 0 2.83L4 21.41c.39.39.9.59 1.41.59.51 0 1.02-.2 1.41-.59l7.78-7.78 2.81-2.81c.8-.78.8-2.07 0-2.86zM5.41 20L4 18.59l7.72-7.72 1.47 1.35L5.41 20z\"/>\n",
       "  </svg>\n",
       "      </button>\n",
       "      \n",
       "  <style>\n",
       "    .colab-df-container {\n",
       "      display:flex;\n",
       "      flex-wrap:wrap;\n",
       "      gap: 12px;\n",
       "    }\n",
       "\n",
       "    .colab-df-convert {\n",
       "      background-color: #E8F0FE;\n",
       "      border: none;\n",
       "      border-radius: 50%;\n",
       "      cursor: pointer;\n",
       "      display: none;\n",
       "      fill: #1967D2;\n",
       "      height: 32px;\n",
       "      padding: 0 0 0 0;\n",
       "      width: 32px;\n",
       "    }\n",
       "\n",
       "    .colab-df-convert:hover {\n",
       "      background-color: #E2EBFA;\n",
       "      box-shadow: 0px 1px 2px rgba(60, 64, 67, 0.3), 0px 1px 3px 1px rgba(60, 64, 67, 0.15);\n",
       "      fill: #174EA6;\n",
       "    }\n",
       "\n",
       "    [theme=dark] .colab-df-convert {\n",
       "      background-color: #3B4455;\n",
       "      fill: #D2E3FC;\n",
       "    }\n",
       "\n",
       "    [theme=dark] .colab-df-convert:hover {\n",
       "      background-color: #434B5C;\n",
       "      box-shadow: 0px 1px 3px 1px rgba(0, 0, 0, 0.15);\n",
       "      filter: drop-shadow(0px 1px 2px rgba(0, 0, 0, 0.3));\n",
       "      fill: #FFFFFF;\n",
       "    }\n",
       "  </style>\n",
       "\n",
       "      <script>\n",
       "        const buttonEl =\n",
       "          document.querySelector('#df-63e7de3b-9480-45e8-93ff-a599d1d10f9a button.colab-df-convert');\n",
       "        buttonEl.style.display =\n",
       "          google.colab.kernel.accessAllowed ? 'block' : 'none';\n",
       "\n",
       "        async function convertToInteractive(key) {\n",
       "          const element = document.querySelector('#df-63e7de3b-9480-45e8-93ff-a599d1d10f9a');\n",
       "          const dataTable =\n",
       "            await google.colab.kernel.invokeFunction('convertToInteractive',\n",
       "                                                     [key], {});\n",
       "          if (!dataTable) return;\n",
       "\n",
       "          const docLinkHtml = 'Like what you see? Visit the ' +\n",
       "            '<a target=\"_blank\" href=https://colab.research.google.com/notebooks/data_table.ipynb>data table notebook</a>'\n",
       "            + ' to learn more about interactive tables.';\n",
       "          element.innerHTML = '';\n",
       "          dataTable['output_type'] = 'display_data';\n",
       "          await google.colab.output.renderOutput(dataTable, element);\n",
       "          const docLink = document.createElement('div');\n",
       "          docLink.innerHTML = docLinkHtml;\n",
       "          element.appendChild(docLink);\n",
       "        }\n",
       "      </script>\n",
       "    </div>\n",
       "  </div>\n",
       "  "
      ]
     },
     "metadata": {},
     "execution_count": 27
    }
   ]
  },
  {
   "cell_type": "code",
   "metadata": {
    "id": "QgDX7htLpTlQ",
    "colab": {
     "base_uri": "https://localhost:8080/",
     "height": 279
    },
    "outputId": "f1b2f4a2-ebbb-4687-8b94-3e91cd0442c3"
   },
   "source": [
    "sns.lineplot(x='epoch', y='val_loss', hue='Learning Rate', data=df);\n",
    "plt.grid()"
   ],
   "execution_count": null,
   "outputs": [
    {
     "output_type": "display_data",
     "data": {
      "text/plain": [
       "<Figure size 432x288 with 1 Axes>"
      ],
      "image/png": "[encoded data removed]"
     },
     "metadata": {
      "needs_background": "light"
     }
    }
   ]
  },
  {
   "cell_type": "code",
   "metadata": {
    "id": "D8GPXqf_qGs9",
    "colab": {
     "base_uri": "https://localhost:8080/",
     "height": 279
    },
    "outputId": "a6ec73e5-2ae5-4341-cef7-8db82ad2b63f"
   },
   "source": [
    "sns.lineplot(x='epoch', y='val_accuracy', hue='Learning Rate', data=df);\n",
    "plt.grid()"
   ],
   "execution_count": null,
   "outputs": [
    {
     "output_type": "display_data",
     "data": {
      "text/plain": [
       "<Figure size 432x288 with 1 Axes>"
      ],
      "image/png": "[encoded data removed]"
     },
     "metadata": {
      "needs_background": "light"
     }
    }
   ]
  },
  {
   "cell_type": "markdown",
   "metadata": {
    "id": "Hp1jHQ95swhy"
   },
   "source": [
    "##3.3 Learning Rate Scheduler Callback\n",
    "A great way to tune the learning rate is to use a learning rate scheduler, which adjusts the learning rate at each epoch according to a user-supplied \"schedule\". We'll show how to introduce an exponentially increasing schedule.\n",
    "The idea is you do a trial run with the scheduler, plot the loss vs. epoch, and choose a good learning rate by inspecting the plot. <br>_Rule of thumb: choose a learning rate that is a factor of 10 lower than the learning rate at the minimum of the loss vs. learning rate curve._"
   ]
  },
  {
   "cell_type": "markdown",
   "metadata": {
    "id": "o6SnRB9Cupwo"
   },
   "source": [
    "Here is a learning rate scheduler that starts the learning rate at 1.e-6 and increases by a factor of ten every 5 epochs. So that over 30 epochs, the learning rate goes from 1.e-6 up to 1.0"
   ]
  },
  {
   "cell_type": "code",
   "metadata": {
    "id": "m3-iOvmmulKa"
   },
   "source": [
    "def scheduler(epoch):\n",
    "    lr = 1e-6 * 10**(epoch/5)\n",
    "    return lr\n",
    "\n",
    "# Here is the callback\n",
    "lr_schedule = tf.keras.callbacks.LearningRateScheduler(scheduler)"
   ],
   "execution_count": null,
   "outputs": []
  },
  {
   "cell_type": "markdown",
   "metadata": {
    "id": "z8i6vHFuvIA9"
   },
   "source": [
    "Let's try it out!"
   ]
  },
  {
   "cell_type": "code",
   "metadata": {
    "colab": {
     "base_uri": "https://localhost:8080/"
    },
    "id": "Pw3qyG1jt7y2",
    "outputId": "7ba4340a-11b1-469e-85db-4d80997e54c4"
   },
   "source": [
    "# create the model and fit it, passing in the learning rate scheduler callback that we created\n",
    "epochs = 30\n",
    "batch_size = 32\n",
    "model_for_lr_schedule = create_model()\n",
    "history_for_lr_schedule = model_for_lr_schedule.fit(X_train, y_train, batch_size=batch_size,callbacks=[lr_schedule] , epochs=epochs)"
   ],
   "execution_count": null,
   "outputs": [
    {
     "output_type": "stream",
     "name": "stdout",
     "text": [
      "Epoch 1/30\n",
      "1875/1875 [==============================] - 4s 2ms/step - loss: 2.3129 - accuracy: 0.1142 - lr: 1.0000e-06\n",
      "Epoch 2/30\n",
      "1875/1875 [==============================] - 4s 2ms/step - loss: 2.3127 - accuracy: 0.1124 - lr: 1.5849e-06\n",
      "Epoch 3/30\n",
      "1875/1875 [==============================] - 4s 2ms/step - loss: 2.3125 - accuracy: 0.1124 - lr: 2.5119e-06\n",
      "Epoch 4/30\n",
      "1875/1875 [==============================] - 4s 2ms/step - loss: 2.3121 - accuracy: 0.1124 - lr: 3.9811e-06\n",
      "Epoch 5/30\n",
      "1875/1875 [==============================] - 4s 2ms/step - loss: 2.3115 - accuracy: 0.1124 - lr: 6.3096e-06\n",
      "Epoch 6/30\n",
      "1875/1875 [==============================] - 4s 2ms/step - loss: 2.3106 - accuracy: 0.1124 - lr: 1.0000e-05\n",
      "Epoch 7/30\n",
      "1875/1875 [==============================] - 4s 2ms/step - loss: 2.3092 - accuracy: 0.1124 - lr: 1.5849e-05\n",
      "Epoch 8/30\n",
      "1875/1875 [==============================] - 4s 2ms/step - loss: 2.3074 - accuracy: 0.1124 - lr: 2.5119e-05\n",
      "Epoch 9/30\n",
      "1875/1875 [==============================] - 4s 2ms/step - loss: 2.3049 - accuracy: 0.1124 - lr: 3.9811e-05\n",
      "Epoch 10/30\n",
      "1875/1875 [==============================] - 4s 2ms/step - loss: 2.3018 - accuracy: 0.1124 - lr: 6.3096e-05\n",
      "Epoch 11/30\n",
      "1875/1875 [==============================] - 4s 2ms/step - loss: 2.2980 - accuracy: 0.1124 - lr: 1.0000e-04\n",
      "Epoch 12/30\n",
      "1875/1875 [==============================] - 4s 2ms/step - loss: 2.2924 - accuracy: 0.1124 - lr: 1.5849e-04\n",
      "Epoch 13/30\n",
      "1875/1875 [==============================] - 4s 2ms/step - loss: 2.2820 - accuracy: 0.1124 - lr: 2.5119e-04\n",
      "Epoch 14/30\n",
      "1875/1875 [==============================] - 4s 2ms/step - loss: 2.2608 - accuracy: 0.1156 - lr: 3.9811e-04\n",
      "Epoch 15/30\n",
      "1875/1875 [==============================] - 4s 2ms/step - loss: 2.2171 - accuracy: 0.1639 - lr: 6.3096e-04\n",
      "Epoch 16/30\n",
      "1875/1875 [==============================] - 4s 2ms/step - loss: 2.1489 - accuracy: 0.1815 - lr: 0.0010\n",
      "Epoch 17/30\n",
      "1875/1875 [==============================] - 4s 2ms/step - loss: 2.0909 - accuracy: 0.1951 - lr: 0.0016\n",
      "Epoch 18/30\n",
      "1875/1875 [==============================] - 4s 2ms/step - loss: 2.0506 - accuracy: 0.2044 - lr: 0.0025\n",
      "Epoch 19/30\n",
      "1875/1875 [==============================] - 4s 2ms/step - loss: 2.0160 - accuracy: 0.2172 - lr: 0.0040\n",
      "Epoch 20/30\n",
      "1875/1875 [==============================] - 4s 2ms/step - loss: 1.9782 - accuracy: 0.2232 - lr: 0.0063\n",
      "Epoch 21/30\n",
      "1875/1875 [==============================] - 4s 2ms/step - loss: 1.9345 - accuracy: 0.2483 - lr: 0.0100\n",
      "Epoch 22/30\n",
      "1875/1875 [==============================] - 4s 2ms/step - loss: 1.8551 - accuracy: 0.2798 - lr: 0.0158\n",
      "Epoch 23/30\n",
      "1875/1875 [==============================] - 4s 2ms/step - loss: 1.7639 - accuracy: 0.2982 - lr: 0.0251\n",
      "Epoch 24/30\n",
      "1875/1875 [==============================] - 4s 2ms/step - loss: 1.6988 - accuracy: 0.3206 - lr: 0.0398\n",
      "Epoch 25/30\n",
      "1875/1875 [==============================] - 4s 2ms/step - loss: 1.6740 - accuracy: 0.3357 - lr: 0.0631\n",
      "Epoch 26/30\n",
      "1875/1875 [==============================] - 4s 2ms/step - loss: 1.6671 - accuracy: 0.3391 - lr: 0.1000\n",
      "Epoch 27/30\n",
      "1875/1875 [==============================] - 4s 2ms/step - loss: 1.6937 - accuracy: 0.3268 - lr: 0.1585\n",
      "Epoch 28/30\n",
      "1875/1875 [==============================] - 4s 2ms/step - loss: 1.8666 - accuracy: 0.2752 - lr: 0.2512\n",
      "Epoch 29/30\n",
      "1875/1875 [==============================] - 4s 2ms/step - loss: 1.8991 - accuracy: 0.2092 - lr: 0.3981\n",
      "Epoch 30/30\n",
      "1875/1875 [==============================] - 4s 2ms/step - loss: 1.9828 - accuracy: 0.2029 - lr: 0.6310\n"
     ]
    }
   ]
  },
  {
   "cell_type": "markdown",
   "metadata": {
    "id": "swY-13T94ZlS"
   },
   "source": [
    "Since the minimum in the loss vs learning rate curve below is at learning rate of 0.1, we should choose a learning rate of 0.01"
   ]
  },
  {
   "cell_type": "code",
   "metadata": {
    "colab": {
     "base_uri": "https://localhost:8080/",
     "height": 299
    },
    "id": "1BXA30jw1YhV",
    "outputId": "7bfb4580-c829-4f38-b584-a9b8e4e51fec"
   },
   "source": [
    "# plot the result\n",
    "plt.semilogx(history_for_lr_schedule.history[\"lr\"], history_for_lr_schedule.history[\"loss\"])\n",
    "plt.axis([1e-6, 1, 1.0, 2.5])\n",
    "plt.title('learning rate schedule')\n",
    "plt.xlabel('learning rate')\n",
    "plt.ylabel('loss')\n",
    "plt.grid()"
   ],
   "execution_count": null,
   "outputs": [
    {
     "output_type": "display_data",
     "data": {
      "text/plain": [
       "<Figure size 432x288 with 1 Axes>"
      ],
      "image/png": "[encoded data removed]"
     },
     "metadata": {
      "needs_background": "light"
     }
    }
   ]
  },
  {
   "cell_type": "markdown",
   "metadata": {
    "id": "Kb2aiw_Sgcl7"
   },
   "source": [
    "## Challenge\n",
    "\n",
    "You will be expected to experiment with different learning rates today.\n",
    "\n",
    "---\n"
   ]
  }
 ]
}
