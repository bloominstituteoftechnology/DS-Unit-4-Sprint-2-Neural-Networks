{
 "nbformat": 4,
 "nbformat_minor": 0,
 "metadata": {
  "accelerator": "GPU",
  "celltoolbar": "Create Assignment",
  "colab": {
   "name": "DS_422_Train_Lecture.ipynb",
   "provenance": [],
   "collapsed_sections": []
  },
  "kernelspec": {
   "display_name": "Python 3",
   "language": "python",
   "name": "python3"
  },
  "language_info": {
   "codemirror_mode": {
    "name": "ipython",
    "version": 3
   },
   "file_extension": ".py",
   "mimetype": "text/x-python",
   "name": "python",
   "nbconvert_exporter": "python",
   "pygments_lexer": "ipython3",
   "version": "3.8.5"
  }
 },
 "cells": [
  {
   "cell_type": "markdown",
   "metadata": {
    "id": "aS4GZ37Wgcjr"
   },
   "source": [
    "*Unit 4, Sprint 2, Module 2*\n",
    "\n",
    "---"
   ]
  },
  {
   "cell_type": "markdown",
   "metadata": {
    "id": "etFf1WLWgcjt",
    "toc-hr-collapsed": false
   },
   "source": [
    "# Train (Prepare)\n",
    "__*Neural Network Foundations*__"
   ]
  },
  {
   "cell_type": "markdown",
   "metadata": {
    "id": "hXB80QOhgcju"
   },
   "source": [
    "## Learning Objectives\n",
    "* <a href=\"#p1\">Part 1</a>: Student should be able to explain the intuition behind backpropagation and gradient descent\n",
    "* <a href=\"#p2\">Part 2</a>: Student should be able to discuss the importance of the batch size hyperparameter\n",
    "* <a href=\"#p3\">Part 3</a>: Student should be able to discuss the importance of the learning rate hyperparameter"
   ]
  },
  {
   "cell_type": "markdown",
   "metadata": {
    "id": "8YuQu2lfgcju"
   },
   "source": [
    "## Summary of Module 1\n",
    "\n",
    "In Module 1, we learned about Neural Networks and related concepts: Neurons, Weights, Activation Functions, and Layers (input, output, & hidden). Today, we will reinforce our understanding, and learn how a neural network is trained. **Feed-forward neural networks**, such as multi-layer perceptrons (MLPs), are almost always trained using some variation of **gradient descent** where gradients has been calculated by **back-propagation**.\n",
    "\n",
    "  <center><img src=\"https://raw.githubusercontent.com/LambdaSchool/DS-Unit-4-Sprint-2-Neural-Networks/main/module1-Architect/IMG_0167.jpeg\" width=400></center>\n",
    "\n",
    "- There are three kinds of layers: **input**, **hidden**, and **output**\n",
    "- Hidden and output layers are made up of individual neurons (aka activation units) which have a corresponding weight and bias.\n",
    "- Information is passed from layer to layer through a network by:\n",
    " - Taking in inputs from the training data (or previous layer)\n",
    " - Multiplying each input by its corresponding weight (represented by arrows) and adding these products to form a weighted sum\n",
    " - Adding a bias (also represented by arrows)\n",
    " - Passing this weighted sum plus the bias term into an activation function such as sigmoid or relu or some other activation function <br>\n",
    " As an example: for a `perceptron` with three inputs and a sigmoid activation function, the output is calculated as follows: <br><br>\n",
    "\\begin{align}\n",
    " y = \\text{sigmoid} \\left(weight_{1}\\times input_{1} + weight_{2} \\times input_{2} + weight_{3} \\times input_{3} + bias\\right)\n",
    "\\end{align} <br><br>\n",
    " - This \"activated\" neuron output $y$ is the signal that gets passed into the next layer of the network\n",
    " - the \"activated\" neuron output of the output layer is the prediction\n",
    " "
   ]
  },
  {
   "cell_type": "markdown",
   "metadata": {
    "id": "bpi4R03rgcjv"
   },
   "source": [
    "## Training a Neural Network for Classification: *Formal Summary*\n",
    "\n",
    "1. Choose a network architecture\n",
    "   - Number of input units = Number of features\n",
    "   - Number of output units = Number of Classes (or categories of expected targets)\n",
    "   - Select the number of hidden layers and the number of neurons within each hidden layer\n",
    "   - set the activation functions for each neuron\n",
    "2. Randomly initialize all the weights and biases\n",
    "3. Forward propagate the weights and biases through the network to compute the output predictions $\\hat y$\n",
    "4. Given the output predictions  $\\hat y$ and the true targets  $y$, compute the loss (cost) function $J(\\theta)$, where $\\theta$ is the set of values of all the weights and biases in the network.\n",
    "5. Perform **back-propagation**, which means computing partial derivatives (gradients) of the cost function with respect to the each of the weights and biases $\\frac{\\partial}{\\partial\\theta}{J(\\theta)}$\n",
    "6. Using the method of **gradient descent** (or other advanced optimizer), adjust the weights and biases so as to decrease the cost function $J(\\theta)$.\n",
    "7. Repeat steps 3 - 6 until the cost function is 'minimized' or some other stopping criteria is met. One pass over steps 3 - 6 is called an iteration.\n",
    "\n",
    "### Highly recommended: Check out this [Neural Networks mini-course from 3Blue1Brown](https://www.3blue1brown.com/topics/neural-networks)<br>\n",
    " \n",
    "\n"
   ]
  },
  {
   "cell_type": "markdown",
   "metadata": {
    "id": "aM4CK1IarId4",
    "toc-hr-collapsed": false
   },
   "source": [
    "------\n",
    "# 1. Backpropagation & Gradient Descent (Learn)\n",
    "<a id=\"p1\"></a>"
   ]
  },
  {
   "cell_type": "markdown",
   "metadata": {
    "id": "Ktm8Fmoagcjy",
    "toc-hr-collapsed": true
   },
   "source": [
    "## Overview\n",
    "\n",
    "Backpropagation is short for [\"Backwards Propagation of errors\"](https://en.wikipedia.org/wiki/Backpropagation) and refers to a specific algorithm using calculus to update the weights and biases in a neural network in reverse order, at the end of each training epoch. Our purpose today is to demonstrate the backpropagation algorithm on a simple Feedforward Neural Network and in so doing help you get a grasp on the main process. If you want to understand all of the underlying calculus of how the gradients are calculated then you'll need to dive into it yourself, watch [Backpropagation calculus ](https://www.youtube.com/watch?v=tIeHLnjs5U8) from 3Blue1Brown. Also highly recommended is this Welch Labs series [Neural Networks Demystified](https://www.youtube.com/watch?v=bxe2T-V8XRs) if you want a rapid yet orderly walk through of the main intuition and math behind the backpropagation algorithm. "
   ]
  },
  {
   "cell_type": "markdown",
   "metadata": {
    "id": "NXI2tEO9gcjy"
   },
   "source": [
    "## 1.1 What is a Gradient?\n",
    "\n",
    "> In vector calculus, the gradient is a multi-variable generalization of the derivative. \n",
    "\n",
    "The gradients that we will deal with today will be vector representations of the derivative of the activation function. "
   ]
  },
  {
   "cell_type": "markdown",
   "metadata": {
    "id": "n7SvE-6H9G4y"
   },
   "source": [
    "### 1.1.1 Review: Slope of a line \n",
    "\n",
    "![](https://www.mathwarehouse.com/algebra/linear_equation/images/slope-of-a-line/slope-formula-all_no_highlight.png)"
   ]
  },
  {
   "cell_type": "markdown",
   "metadata": {
    "id": "AGYuD9yI9G4z"
   },
   "source": [
    "### 1.1.2 Review: A basic derivative \n",
    "The derivative of a one-dimensional function at any point is defined as the slope of the line tangent to the function at that point.\n",
    "\n",
    "![](https://ginsyblog.files.wordpress.com/2017/02/derivativelimitdef.gif)"
   ]
  },
  {
   "cell_type": "markdown",
   "metadata": {
    "id": "gFs3TG5O9G4z"
   },
   "source": [
    "### 1.1.3 Gradients are multi-dimensional derivatives\n",
    "\n",
    "Each partial derivative can be considered as the component of a vector that lies on the axis of the associated parameter.  <br>\n",
    "Formally, the gradient is the vector sum of these partial derivative vectors.\n",
    "\n",
    "*The gradient of a function at a given point contains information about the magnitude <br>\n",
    "and direction of the sensitivity of the function to change in every parameter.*"
   ]
  },
  {
   "cell_type": "markdown",
   "metadata": {
    "id": "fVN-8elU9G40"
   },
   "source": [
    "##1.2. Gradient Descent Formula for updating neural network parameters\n",
    "\n",
    "Given the values of the current parameters (weights and biases), this formula prescribes how to update them in order to drive down the cost function, given their current values:\n",
    "\n",
    "$$ \\huge{\\theta_j = \\theta_j - \\alpha \\frac{\\partial J(\\theta)}{\\partial \\theta_j}}$$\n",
    "\n",
    "\n",
    "In this formula, \n",
    "- $\\Large{\\theta_j}$ refers to the vector of weights and biases for the $jth$ data point<br><br>\n",
    "- $\\Large{\\theta}$ refers to the combined set of weights and biases of all the data points<br><br>\n",
    "- $\\Large{J(\\theta)}$ represents the cost function, which is a measure of the error between the predicted target values and the true target values<br><br>\n",
    "- $\\Large{\\alpha}$ is the *learning rate*, a positive scalar hyper-parameter<br><br>\n",
    "- $\\Large{\\frac{\\partial J(\\theta)}{\\partial \\theta_j}}$ are the partial derivatives of the cost function, which measure its sensitivity to changes in the parameters $\\Large{\\theta_j}$<br><br>\n",
    "\n",
    "\n",
    "More sophisticated versions of gradient descent are discussed in the excellent article [**An overview of gradient descent optimization algorithms**](https://ruder.io/optimizing-gradient-descent/) by Sebastian Ruder.\n",
    "\n",
    "\n",
    "These versions all build on the Gradient Descent Formula presented above, so it's best to understand this before moving on to more sophisticated versions. <br>\n"
   ]
  },
  {
   "cell_type": "markdown",
   "metadata": {
    "id": "yQc8iy_u9G40"
   },
   "source": [
    "### 1.2.1 Geometry of Gradient Descent \n",
    "in one dimension\n",
    "\n",
    "![](https://i.stack.imgur.com/yk1mk.png)"
   ]
  },
  {
   "cell_type": "markdown",
   "metadata": {
    "id": "QlPoxfuS9G41"
   },
   "source": [
    "### 1.2.2 Convex vs. Non-Convex Loss Functions\n",
    "\n",
    "Loss curves won't always have a single minimum point for gradient descent to converge towards. Sometimes there are multiple minimums. \n",
    "\n",
    "**Global Minimum:** The absolute minimum location of a curve (or surface). \n",
    "\n",
    "**Local Minimum:** The local minimum location of a curve (or surface). \n",
    "\n",
    "\n",
    "### In 3-Dimensions \n",
    "In Calculus, those ambiguous points that take on the form of both local minima and local maxima are known as [**saddle points**](https://en.wikipedia.org/wiki/Saddle_point). It's not necessary to dive into the mathematics, the key take away is that non-convex error curves (and surfaces) have this global/local minimum issue. \n",
    "\n",
    "![](https://www.oreilly.com/radar/wp-content/uploads/sites/3/2019/06/convex-non-convex-9c8cb9320d4b0392c5f67004e8832e85.jpg)\n",
    "\n",
    "\n",
    "**Take Away:** Sometimes the gradient descent algorithm converges but is actually trapped in a local minimum. \n",
    "\n",
    "There are at least 2 possible solutions to this problem: \n",
    "\n",
    "1) Try different approaches to randomly initalizing the model weights\n",
    "For this check out [Keras's docs on Weight Initializers](https://keras.io/api/layers/initializers/). Treat these weight initializers as just another hyper-parameter to include in your gridsearch. It's a good idea to get into the practice of including weight initializers in your gridsearches! \n",
    "\n",
    "\n",
    "2) Try non-gradient descent optimizers such as [Particle Swarm](https://en.wikipedia.org/wiki/Particle_swarm_optimization) or [Genetic Algorithms](https://en.wikipedia.org/wiki/Genetic_algorithm). Feel free to read up on these approaches but know that **you are not expected to know these approaches** and they are outside the scope of this course. "
   ]
  },
  {
   "cell_type": "markdown",
   "metadata": {
    "id": "UZY66kiUgcjz",
    "toc-hr-collapsed": true
   },
   "source": [
    "------\n",
    "## 1.3 Let's see how to implement Gradient Descent in Keras for a simple toy problem! (Follow Along)\n",
    "\n",
    "In this section, we will again build a simple neural network using base TensorFlow. <br>\n",
    "We'll train a __Feed Forward Neural Network__ to predict targets,<br> using the method of __Gradient Descent__ to adjust the neural network parameters.<br><br> This is the process of __Back-propagation__!"
   ]
  },
  {
   "cell_type": "markdown",
   "metadata": {
    "id": "4d4tzpwO6B47"
   },
   "source": [
    "### 1.3.1 Generate synthetic (fake) data for a simple linear regression problem<br>\n",
    "$y = \\textbf{w} \\cdot \\textbf{x} + b + \\text{noise}$"
   ]
  },
  {
   "cell_type": "code",
   "metadata": {
    "id": "ERyVgeO_IWyV",
    "executionInfo": {
     "status": "ok",
     "timestamp": 1638894911675,
     "user_tz": 480,
     "elapsed": 3775,
     "user": {
      "displayName": "Joseph catanzarite",
      "photoUrl": "https://lh3.googleusercontent.com/a-/AOh14GgmMRaw8NgoEDqzevEZ6b18iOYdEH9nWTZeaFBW=s64",
      "userId": "16649206137414945374"
     }
    }
   },
   "source": [
    "# plotting \n",
    "import matplotlib.pyplot as plt\n",
    "\n",
    "# dataset import\n",
    "from keras.datasets import mnist\n",
    "\n",
    "# tensorflow imports for building \n",
    "import tensorflow as tf\n",
    "from keras import Sequential\n",
    "from keras.layers import Dense\n",
    "from keras.optimizers import SGD\n",
    "%matplotlib inline"
   ],
   "execution_count": 1,
   "outputs": []
  },
  {
   "cell_type": "code",
   "metadata": {
    "nbgrader": {
     "grade": false,
     "grade_id": "cell-13ede96854baf6e5",
     "locked": false,
     "schema_version": 3,
     "solution": true,
     "task": false
    },
    "id": "_C6O65Q09G43",
    "executionInfo": {
     "status": "ok",
     "timestamp": 1638901395763,
     "user_tz": 480,
     "elapsed": 496,
     "user": {
      "displayName": "Joseph catanzarite",
      "photoUrl": "https://lh3.googleusercontent.com/a-/AOh14GgmMRaw8NgoEDqzevEZ6b18iOYdEH9nWTZeaFBW=s64",
      "userId": "16649206137414945374"
     }
    }
   },
   "source": [
    "# Generate samples of a Linear Regression data model\n",
    "# y     =      w  *  x    +  b     + noise\n",
    "\n",
    "### BEGIN SOLUTION\n",
    "# Specify the model parameters: slope(weight) and intercept (bias)\n",
    "w_true = 3.5\n",
    "b_true = 50.0\n",
    "# Specify how many examples we want to generate\n",
    "n_examples = 1000\n",
    "\n",
    "# linear regression assumes normally distributed noise, \n",
    "#    so we'll draw noise values from Gaussian distributions \n",
    "noise = tf.random.normal(mean=0.0, stddev=1.0, shape=[n_examples])\n",
    "\n",
    "# we'll draw input values from a uniform distribution\n",
    "x = tf.random.uniform(minval=-1, maxval=1, shape=[n_examples])\n",
    "# Generate samples from the Linear Regression data model\n",
    "# y     =      w  *  x    +  b     + noise\n",
    "y_true = w_true * x + b_true + noise\n",
    "### END SOLUTION"
   ],
   "execution_count": 44,
   "outputs": []
  },
  {
   "cell_type": "markdown",
   "metadata": {
    "id": "bCJesGEUgcj4"
   },
   "source": [
    "### 1.3.2 Loss Function\n",
    "The Mean Squared Error (MSE), is an appropriate loss function for a regression problem. We are trying to predict a continuous target.\n",
    "\n",
    "$$\\huge{\\text{MSE} = \\frac{1}{N}\\sum_{i=1}^{N} (y_i-\\hat{y}_i)^2}$$"
   ]
  },
  {
   "cell_type": "code",
   "metadata": {
    "id": "kyITYhMS9G44",
    "executionInfo": {
     "status": "ok",
     "timestamp": 1638901399740,
     "user_tz": 480,
     "elapsed": 495,
     "user": {
      "displayName": "Joseph catanzarite",
      "photoUrl": "https://lh3.googleusercontent.com/a-/AOh14GgmMRaw8NgoEDqzevEZ6b18iOYdEH9nWTZeaFBW=s64",
      "userId": "16649206137414945374"
     }
    }
   },
   "source": [
    "def loss(target_y, predicted_y, model, reg_strength=0.0):\n",
    "    \"\"\"\n",
    "    Implements Mean Square Error (MSE) as the loss function\n",
    "    \"\"\"\n",
    "    return tf.reduce_mean(tf.square(target_y - predicted_y))"
   ],
   "execution_count": 45,
   "outputs": []
  },
  {
   "cell_type": "markdown",
   "metadata": {
    "id": "bgTf6vTS69Sw"
   },
   "source": [
    "### 1.3.3 Neural Network Architecture\n",
    "Lets create a Neural Network class called `Model` to feed forward the input to a neural network composed of a single linear layer, with no activation function. Note: This is essentially a linear regression model whose coefficients are trained by gradient descent. In practice, gradient descent works on much more complex functions like the multi-layer networks we constructed in Module 1."
   ]
  },
  {
   "cell_type": "code",
   "metadata": {
    "id": "RUI8VSR5zyBv",
    "executionInfo": {
     "status": "ok",
     "timestamp": 1638901402469,
     "user_tz": 480,
     "elapsed": 535,
     "user": {
      "displayName": "Joseph catanzarite",
      "photoUrl": "https://lh3.googleusercontent.com/a-/AOh14GgmMRaw8NgoEDqzevEZ6b18iOYdEH9nWTZeaFBW=s64",
      "userId": "16649206137414945374"
     }
    }
   },
   "source": [
    "class Model(object):\n",
    "\n",
    "    def __init__(self):\n",
    "        self.w = tf.Variable(8.0)\n",
    "        self.b = tf.Variable(40.0)\n",
    "\n",
    "    def __call__(self, x):\n",
    "        # returns w*x + b \n",
    "        return self.w * x + self.b\n",
    "\n",
    "# Instantiate the Model() class\n",
    "model = Model()\n",
    "\n",
    "# test the Model() class\n",
    "#    with parameters w = 8 and b = 40, our model is  y(x) = w*x + b = 8\n",
    "#    with input of x = 3, we expect y = 8*3 + 40 = 64\n",
    "\n",
    "assert model(3.0).numpy() == 64.0"
   ],
   "execution_count": 46,
   "outputs": []
  },
  {
   "cell_type": "markdown",
   "metadata": {
    "id": "gbyT_FJ88IlK"
   },
   "source": [
    "### 1.3.4 Prediction with Initial Weights\n",
    "The weights in our model were initialized randomly, so of course our neural network's initial predictions are way off!"
   ]
  },
  {
   "cell_type": "code",
   "metadata": {
    "colab": {
     "base_uri": "https://localhost:8080/",
     "height": 301
    },
    "id": "IreIDe6P8H0H",
    "executionInfo": {
     "status": "ok",
     "timestamp": 1638901407093,
     "user_tz": 480,
     "elapsed": 727,
     "user": {
      "displayName": "Joseph catanzarite",
      "photoUrl": "https://lh3.googleusercontent.com/a-/AOh14GgmMRaw8NgoEDqzevEZ6b18iOYdEH9nWTZeaFBW=s64",
      "userId": "16649206137414945374"
     }
    },
    "outputId": "b0f26f53-35d5-48ef-e18a-8f8330c4aec8"
   },
   "source": [
    "inputs = x\n",
    "outputs = y_true\n",
    "predictions = model(inputs)\n",
    "plt.scatter(inputs, outputs, c='b', label = \"data\")\n",
    "plt.plot(inputs, predictions, c='r', label = \"model predictions\")\n",
    "plt.xlabel('x',FontSize=14)\n",
    "plt.ylabel('y',FontSize=14)\n",
    "plt.legend()\n",
    "plt.grid();\n",
    "\n",
    "print('Current loss: %1.6f' % loss(predictions, outputs, model).numpy())"
   ],
   "execution_count": 47,
   "outputs": [
    {
     "output_type": "stream",
     "name": "stdout",
     "text": [
      "Current loss: 106.874207\n"
     ]
    },
    {
     "output_type": "display_data",
     "data": {
      "image/png": "[encoded data removed]",
      "text/plain": [
       "<Figure size 432x288 with 1 Axes>"
      ]
     },
     "metadata": {
      "needs_background": "light"
     }
    }
   ]
  },
  {
   "cell_type": "markdown",
   "metadata": {
    "id": "16Ujj6vNYQyX",
    "toc-hr-collapsed": true
   },
   "source": [
    "### 1.3.5 Back-propagation\n",
    "Means iteratively updating the weights and bias based on the gradients of the loss function.<br>\n",
    "We'll write a helper function to train a model using Keras!\n"
   ]
  },
  {
   "cell_type": "code",
   "metadata": {
    "id": "ZgaGD6YlHoid",
    "nbgrader": {
     "grade": false,
     "grade_id": "cell-100d1b1df12abe63",
     "locked": false,
     "schema_version": 3,
     "solution": true,
     "task": false
    },
    "executionInfo": {
     "status": "ok",
     "timestamp": 1638901412695,
     "user_tz": 480,
     "elapsed": 470,
     "user": {
      "displayName": "Joseph catanzarite",
      "photoUrl": "https://lh3.googleusercontent.com/a-/AOh14GgmMRaw8NgoEDqzevEZ6b18iOYdEH9nWTZeaFBW=s64",
      "userId": "16649206137414945374"
     }
    }
   },
   "source": [
    "# this train function updates w and b using partial derivative of the loss function w.r.t. w and b\n",
    "def train(model, inputs, outputs, learning_rate):\n",
    "    with tf.GradientTape() as tape:\n",
    "        # calculate the loss function value from our model's predictions\n",
    "        current_loss = loss(outputs, model(inputs), model)\n",
    "\n",
    "        # calculate dw and db, the gradients of the loss function with respect to w and b\n",
    "        dw, db = tape.gradient(current_loss, [model.w, model.b])\n",
    "\n",
    "        # update the value of w by subtracting (learning rate) * (gradient of the loss function wrt w) from its current value\n",
    "        model.w.assign_sub(learning_rate * dw)\n",
    "\n",
    "        # update the value of b by subtracting (learning rate) * (gradient of the loss function wrt b) from its current value\n",
    "        model.b.assign_sub(learning_rate * db)"
   ],
   "execution_count": 48,
   "outputs": []
  },
  {
   "cell_type": "markdown",
   "metadata": {
    "id": "7iziWWURgck8"
   },
   "source": [
    "### 1.3.6 Train the Network\n",
    "At each epoch, we'll print the values of the updated parameters and the loss function"
   ]
  },
  {
   "cell_type": "code",
   "metadata": {
    "colab": {
     "base_uri": "https://localhost:8080/"
    },
    "id": "4zn_HgFuHhTr",
    "executionInfo": {
     "status": "ok",
     "timestamp": 1638901419056,
     "user_tz": 480,
     "elapsed": 465,
     "user": {
      "displayName": "Joseph catanzarite",
      "photoUrl": "https://lh3.googleusercontent.com/a-/AOh14GgmMRaw8NgoEDqzevEZ6b18iOYdEH9nWTZeaFBW=s64",
      "userId": "16649206137414945374"
     }
    },
    "outputId": "8e9e7697-7662-4774-86ea-efc707a03fba"
   },
   "source": [
    "model = Model()\n",
    "\n",
    "# Store parameter history\n",
    "ws, bs = [], []\n",
    "current_loss = []\n",
    "epochs = range(50)\n",
    "\n",
    "for epoch in epochs:\n",
    "\n",
    "    # forward propagate the current parameters through the network to predict targets\n",
    "    y_hat =  model(inputs)\n",
    "\n",
    "    # compute the loss function by comparing target predictions to the true targets\n",
    "    current_loss.append(loss(outputs, y_hat, model))\n",
    "\n",
    "    # update the parameters (weight and bias) based on gradient descent\n",
    "    train(model, inputs, outputs, learning_rate=0.1)\n",
    "\n",
    "    # store the updated values of weight and bias\n",
    "    ws.append(model.w.numpy())\n",
    "    bs.append(model.b.numpy())\n",
    "\n",
    "    print('Epoch %2d: w=%1.2f b=%1.2f loss=%2.5f' % (epoch, ws[-1], bs[-1], current_loss[-1]))\n",
    "\n"
   ],
   "execution_count": 49,
   "outputs": [
    {
     "output_type": "stream",
     "name": "stdout",
     "text": [
      "Epoch  0: w=7.72 b=41.99 loss=106.87421\n",
      "Epoch  1: w=7.46 b=43.58 loss=70.44911\n",
      "Epoch  2: w=7.21 b=44.86 loss=46.91736\n",
      "Epoch  3: w=6.97 b=45.88 loss=31.66564\n",
      "Epoch  4: w=6.75 b=46.70 loss=21.73794\n",
      "Epoch  5: w=6.54 b=47.35 loss=15.23931\n",
      "Epoch  6: w=6.34 b=47.88 loss=10.95421\n",
      "Epoch  7: w=6.15 b=48.30 loss=8.10224\n",
      "Epoch  8: w=5.98 b=48.63 loss=6.18185\n",
      "Epoch  9: w=5.82 b=48.90 loss=4.87017\n",
      "Epoch 10: w=5.66 b=49.12 loss=3.95894\n",
      "Epoch 11: w=5.52 b=49.29 loss=3.31342\n",
      "Epoch 12: w=5.39 b=49.43 loss=2.84616\n",
      "Epoch 13: w=5.26 b=49.54 loss=2.50012\n",
      "Epoch 14: w=5.15 b=49.63 loss=2.23785\n",
      "Epoch 15: w=5.04 b=49.70 loss=2.03456\n",
      "Epoch 16: w=4.94 b=49.76 loss=1.87370\n",
      "Epoch 17: w=4.84 b=49.81 loss=1.74404\n",
      "Epoch 18: w=4.75 b=49.84 loss=1.63786\n",
      "Epoch 19: w=4.67 b=49.87 loss=1.54978\n",
      "Epoch 20: w=4.59 b=49.90 loss=1.47593\n",
      "Epoch 21: w=4.52 b=49.92 loss=1.41349\n",
      "Epoch 22: w=4.46 b=49.93 loss=1.36036\n",
      "Epoch 23: w=4.39 b=49.95 loss=1.31491\n",
      "Epoch 24: w=4.33 b=49.96 loss=1.27590\n",
      "Epoch 25: w=4.28 b=49.97 loss=1.24231\n",
      "Epoch 26: w=4.23 b=49.97 loss=1.21332\n",
      "Epoch 27: w=4.18 b=49.98 loss=1.18828\n",
      "Epoch 28: w=4.14 b=49.98 loss=1.16660\n",
      "Epoch 29: w=4.10 b=49.99 loss=1.14784\n",
      "Epoch 30: w=4.06 b=49.99 loss=1.13157\n",
      "Epoch 31: w=4.02 b=49.99 loss=1.11747\n",
      "Epoch 32: w=3.99 b=50.00 loss=1.10524\n",
      "Epoch 33: w=3.96 b=50.00 loss=1.09463\n",
      "Epoch 34: w=3.93 b=50.00 loss=1.08543\n",
      "Epoch 35: w=3.91 b=50.00 loss=1.07744\n",
      "Epoch 36: w=3.88 b=50.00 loss=1.07050\n",
      "Epoch 37: w=3.86 b=50.00 loss=1.06449\n",
      "Epoch 38: w=3.84 b=50.00 loss=1.05926\n",
      "Epoch 39: w=3.82 b=50.00 loss=1.05473\n",
      "Epoch 40: w=3.80 b=50.00 loss=1.05079\n",
      "Epoch 41: w=3.78 b=50.01 loss=1.04737\n",
      "Epoch 42: w=3.76 b=50.01 loss=1.04440\n",
      "Epoch 43: w=3.75 b=50.01 loss=1.04183\n",
      "Epoch 44: w=3.73 b=50.01 loss=1.03959\n",
      "Epoch 45: w=3.72 b=50.01 loss=1.03765\n",
      "Epoch 46: w=3.71 b=50.01 loss=1.03597\n",
      "Epoch 47: w=3.70 b=50.01 loss=1.03450\n",
      "Epoch 48: w=3.69 b=50.01 loss=1.03323\n",
      "Epoch 49: w=3.68 b=50.01 loss=1.03213\n"
     ]
    }
   ]
  },
  {
   "cell_type": "code",
   "metadata": {
    "colab": {
     "base_uri": "https://localhost:8080/",
     "height": 283
    },
    "id": "FSEt07wdHvi2",
    "executionInfo": {
     "status": "ok",
     "timestamp": 1638901436676,
     "user_tz": 480,
     "elapsed": 566,
     "user": {
      "displayName": "Joseph catanzarite",
      "photoUrl": "https://lh3.googleusercontent.com/a-/AOh14GgmMRaw8NgoEDqzevEZ6b18iOYdEH9nWTZeaFBW=s64",
      "userId": "16649206137414945374"
     }
    },
    "outputId": "ffe4dbcc-d716-4807-8457-724bb198b102"
   },
   "source": [
    "plt.plot(epochs, ws, 'r', epochs, bs, 'b')\n",
    "plt.plot([w_true] * len(epochs), 'r--',\n",
    "         [b_true] * len(epochs), 'b--')\n",
    "plt.xlabel('Epoch number',FontSize=14)\n",
    "plt.ylabel('Parameter value',FontSize=14)\n",
    "plt.legend(['w', 'b', 'True w', 'True b'])\n",
    "plt.grid()"
   ],
   "execution_count": 50,
   "outputs": [
    {
     "output_type": "display_data",
     "data": {
      "image/png": "[encoded data removed]",
      "text/plain": [
       "<Figure size 432x288 with 1 Axes>"
      ]
     },
     "metadata": {
      "needs_background": "light"
     }
    }
   ]
  },
  {
   "cell_type": "code",
   "metadata": {
    "colab": {
     "base_uri": "https://localhost:8080/",
     "height": 283
    },
    "id": "8cmu3mtNTVDf",
    "executionInfo": {
     "status": "ok",
     "timestamp": 1638901441398,
     "user_tz": 480,
     "elapsed": 434,
     "user": {
      "displayName": "Joseph catanzarite",
      "photoUrl": "https://lh3.googleusercontent.com/a-/AOh14GgmMRaw8NgoEDqzevEZ6b18iOYdEH9nWTZeaFBW=s64",
      "userId": "16649206137414945374"
     }
    },
    "outputId": "10f52204-0669-4b04-a755-c448ce4fb181"
   },
   "source": [
    "plt.plot(epochs, current_loss, 'k')\n",
    "plt.xlabel('Epoch number',FontSize=14)\n",
    "plt.ylabel('Loss',FontSize=14)\n",
    "plt.grid()"
   ],
   "execution_count": 51,
   "outputs": [
    {
     "output_type": "display_data",
     "data": {
      "image/png": "[encoded data removed]",
      "text/plain": [
       "<Figure size 432x288 with 1 Axes>"
      ]
     },
     "metadata": {
      "needs_background": "light"
     }
    }
   ]
  },
  {
   "cell_type": "code",
   "metadata": {
    "colab": {
     "base_uri": "https://localhost:8080/",
     "height": 301
    },
    "id": "6pKDfpplbUxN",
    "executionInfo": {
     "status": "ok",
     "timestamp": 1638901450529,
     "user_tz": 480,
     "elapsed": 589,
     "user": {
      "displayName": "Joseph catanzarite",
      "photoUrl": "https://lh3.googleusercontent.com/a-/AOh14GgmMRaw8NgoEDqzevEZ6b18iOYdEH9nWTZeaFBW=s64",
      "userId": "16649206137414945374"
     }
    },
    "outputId": "ebb17322-7445-4738-f990-e6cf7673dd2e"
   },
   "source": [
    "plt.scatter(inputs, outputs, c='b', label = \"data\")\n",
    "plt.plot(inputs, model(inputs),c='r',label = \"model predictions\")\n",
    "plt.legend()\n",
    "plt.xlabel('x',FontSize=14)\n",
    "plt.ylabel('y',FontSize=14)\n",
    "plt.grid()\n",
    "\n",
    "print('Current loss: %1.6f'% current_loss[-1])"
   ],
   "execution_count": 52,
   "outputs": [
    {
     "output_type": "stream",
     "name": "stdout",
     "text": [
      "Current loss: 1.032129\n"
     ]
    },
    {
     "output_type": "display_data",
     "data": {
      "image/png": "[encoded data removed]",
      "text/plain": [
       "<Figure size 432x288 with 1 Axes>"
      ]
     },
     "metadata": {
      "needs_background": "light"
     }
    }
   ]
  },
  {
   "cell_type": "markdown",
   "metadata": {
    "id": "5N4lWxfS6YIQ"
   },
   "source": [
    "### Nice job! Our model closely fits the data. \n",
    "### Congratulations! <br>\n",
    "You've just learned how to train a neural network using gradient descent and back-propagation with Keras!"
   ]
  },
  {
   "cell_type": "markdown",
   "metadata": {
    "id": "iKUVGoRxgck_"
   },
   "source": [
    "## Challenge\n",
    "\n",
    "In the module project, you will be asked to explain the logic of back-propagation and gradient descent."
   ]
  },
  {
   "cell_type": "markdown",
   "metadata": {
    "id": "jFGB1EXNwxM-"
   },
   "source": [
    "## Investigate the effects of the `batch_size` and `learning_rate` hyperparameters.\n",
    "\n",
    "In parts 2 and 3, we'll return to modeling the MNIST handwritten digit data set. <br>\n",
    "Although we'll adjust `batch_size` and `learning_rate` separately, they are in fact related. <br>\n",
    "Larger `batch_size` gives more accurate parameter updates, so we can confidently move toward the minimum of the loss function with larger steps, i.e. we can use larger values of `learning_rate`. Conversely, smaller batch sizes give \"noisier\" updates, so we should take smaller steps, i.e. use smaller values of `learning_rate`. \n",
    "\n"
   ]
  },
  {
   "cell_type": "markdown",
   "metadata": {
    "id": "vTqZg-6igclA",
    "toc-hr-collapsed": true
   },
   "source": [
    "# 2. Effect of the Batch Size Hyperparameter on Training a Neural Network (Learn)"
   ]
  },
  {
   "cell_type": "markdown",
   "metadata": {
    "id": "0nrm-racgclA"
   },
   "source": [
    "## 2.1 Overview\n",
    "\n",
    "### 2.1.1 Stochastic Gradient Descent\n",
    "\n",
    "Stochastic Gradient Descent (SGD) estimates the gradients of the loss function over the entire dataset from the predictions of a **single** randomly chosen sample. With these gradients, we can then update the parameters. \n",
    "\n",
    "Why use a single sample instead of all of the samples (a batch), or a random subset of the samples (a minibatch)?\n",
    "\n",
    "Because calculating the gradient over the entire dataset (or a subset) is expensive computationally compared to using a single sample.\n",
    "\n",
    "So parameter updates in SGD are super-fast. What's the tradeoff? Can't get something for nothing!<br>\n",
    "The tradeoff is that SGD produces a noisy parameter update, because we are only using a small amount of information (a single sample) to compute the update!\n",
    "\n",
    "**Takeaway**: SGD computes *rapid* but *noisy* parameter updates!\n",
    "\n",
    "### 2.1.2 Minibatch Gradient Descent\n",
    "In minibatch Gradient Descent, the parameters are updated based on a batch of data points. Batch size is the number of data points our model uses to update the parameters and predict target values. A batch is a randomly selected subset of an epoch. All observations are eventually used when processing an epoch.\n",
    "\n",
    "* Smaller Batch = Slower Run Time, but potentially better generalization accuracy (due to noisier updates helping against overfitting!)\n",
    "* Default Batch = Balance between speed and generalization accuracy\n",
    "* Large Batch = Faster run time, but potentially worse generalization accuracy due to overfitting\n",
    "\n",
    "### 2.1.3 Batch Gradient Descent\n",
    "Another way to do Gradient Descent is to use all the data to compute each update, so that the parameters get updated only every epoch. But this is often problematic, because the whole dataset would have to fit in memory, and dataset can be huge."
   ]
  },
  {
   "cell_type": "markdown",
   "metadata": {
    "id": "oNQ2ZCi7I4i6"
   },
   "source": [
    "## 2.2 Baseline Model with MNIST data"
   ]
  },
  {
   "cell_type": "code",
   "metadata": {
    "colab": {
     "base_uri": "https://localhost:8080/"
    },
    "id": "mZjW2lYVI9Q2",
    "nbgrader": {
     "grade": false,
     "grade_id": "cell-1c90a81f1eece31b",
     "locked": false,
     "schema_version": 3,
     "solution": true,
     "task": false
    },
    "executionInfo": {
     "status": "ok",
     "timestamp": 1638901644577,
     "user_tz": 480,
     "elapsed": 1274,
     "user": {
      "displayName": "Joseph catanzarite",
      "photoUrl": "https://lh3.googleusercontent.com/a-/AOh14GgmMRaw8NgoEDqzevEZ6b18iOYdEH9nWTZeaFBW=s64",
      "userId": "16649206137414945374"
     }
    },
    "outputId": "5ebb8d2d-2645-41d7-b9f9-439f4fc443b7"
   },
   "source": [
    "# load data\n",
    "\n",
    "# normalize data\n",
    "\n",
    "### BEGIN SOLUTION\n",
    "(X_train, y_train), (X_test, y_test) = mnist.load_data()\n",
    "\n",
    "# normalize data \n",
    "max_pixel_value = 255\n",
    "X_train = X_train / max_pixel_value\n",
    "X_test = X_test / max_pixel_value\n",
    "\n",
    "X_train = X_train.reshape((60000, 784))\n",
    "X_test = X_test.reshape((10000, 784))\n",
    "### END SOLUTION"
   ],
   "execution_count": 53,
   "outputs": [
    {
     "output_type": "stream",
     "name": "stdout",
     "text": [
      "Downloading data from https://storage.googleapis.com/tensorflow/tf-keras-datasets/mnist.npz\n",
      "11493376/11490434 [==============================] - 0s 0us/step\n",
      "11501568/11490434 [==============================] - 0s 0us/step\n"
     ]
    }
   ]
  },
  {
   "cell_type": "markdown",
   "metadata": {
    "id": "Kkvukt_X9G48"
   },
   "source": [
    "### 2.2.1 Normalizing the data can help your model learn faster\n",
    "\n",
    "If your dataset has values ranging across multiple orders of magnitude (i.e. $10^1,~~10^2,~~10^3,~~10^4$), then gradient descent will update the weights and biases in grossly uneven proportions.<br> \n",
    "\n",
    "**Normalizing** the data, i.e shifting and scaling the values to lie within the unit interval $[0,1]$ ensures that all weight and bias updates are on the same scale, which can lead to quicker convergence. \n",
    "\n",
    "![](https://quicktomaster.com/wp-content/uploads/2020/08/contour_plot.png)\n",
    "\n",
    "There's more to be said about Normalization and Gradient Descent <br>\n",
    "If you are interested in going deeper, we highly recommend this well written article [Normalizing your data](https://www.jeremyjordan.me/batch-normalization/) in which Jeremy Jordan explores the impact of normalization on Gradient Descent in greater detail."
   ]
  },
  {
   "cell_type": "markdown",
   "metadata": {
    "id": "GPDPo4LG1gxY"
   },
   "source": [
    "### 2.2.2 Helper function to build our neural network model\n",
    "Since this is a classification problem with 10 classes and the target values are integers the [appropriate loss function](https://stats.stackexchange.com/questions/326065/cross-entropy-vs-sparse-cross-entropy-when-to-use-one-over-the-other) to use in our model is `sparse_categorical_crossentropy`."
   ]
  },
  {
   "cell_type": "code",
   "metadata": {
    "id": "o7x17kDKJSy5",
    "nbgrader": {
     "grade": false,
     "grade_id": "cell-38ed3365b403af52",
     "locked": false,
     "schema_version": 3,
     "solution": true,
     "task": false
    },
    "executionInfo": {
     "status": "ok",
     "timestamp": 1638902120227,
     "user_tz": 480,
     "elapsed": 471,
     "user": {
      "displayName": "Joseph catanzarite",
      "photoUrl": "https://lh3.googleusercontent.com/a-/AOh14GgmMRaw8NgoEDqzevEZ6b18iOYdEH9nWTZeaFBW=s64",
      "userId": "16649206137414945374"
     }
    }
   },
   "source": [
    "# write a function called create_model that accepts a learning rate alpha for SGD as an input parameter \n",
    "# it should return a complied, 2 hidden layer neural net that uses SGD as the optimizer \n",
    "# Import SGD as discussed here: https://keras.io/api/optimizers/sgd/\n",
    "\n",
    "\n",
    "\n",
    "# create create_model\n",
    "def create_model(lr=.01):\n",
    "    \"\"\"\n",
    "    Parameters\n",
    "    ----------\n",
    "    lr: float\n",
    "        Learning rate parameter used for Stocastic Gradient Descent \n",
    "        \n",
    "    Returns\n",
    "    -------\n",
    "    model: keras object \n",
    "        A complied keras model \n",
    "    \"\"\"\n",
    "### BEGIN SOLUTION\n",
    "    opt = SGD(learning_rate=lr)\n",
    "\n",
    "    # build a model by passing a list of layers to Sequential()\n",
    "    model = Sequential([\n",
    "          # hidden layer 1 \n",
    "          Dense(1, activation='relu', input_dim=784),\n",
    "          # hidden layer 2 \n",
    "          Dense(32, activation='relu'),\n",
    "          # output layer \n",
    "          Dense(10, activation='softmax')\n",
    "\n",
    "    ])\n",
    "\n",
    "    model.compile(optimizer=opt, \n",
    "                  loss='sparse_categorical_crossentropy',\n",
    "                  metrics=['accuracy'])\n",
    "    return model\n",
    "### END SOLUTION "
   ],
   "execution_count": 54,
   "outputs": []
  },
  {
   "cell_type": "code",
   "metadata": {
    "colab": {
     "base_uri": "https://localhost:8080/"
    },
    "id": "W-HsAQ-9jgUM",
    "executionInfo": {
     "status": "ok",
     "timestamp": 1638902124681,
     "user_tz": 480,
     "elapsed": 496,
     "user": {
      "displayName": "Joseph catanzarite",
      "photoUrl": "https://lh3.googleusercontent.com/a-/AOh14GgmMRaw8NgoEDqzevEZ6b18iOYdEH9nWTZeaFBW=s64",
      "userId": "16649206137414945374"
     }
    },
    "outputId": "07a90000-22fd-4ec2-9419-0279a24ef3e8"
   },
   "source": [
    "create_model().summary()"
   ],
   "execution_count": 55,
   "outputs": [
    {
     "output_type": "stream",
     "name": "stdout",
     "text": [
      "Model: \"sequential\"\n",
      "_________________________________________________________________\n",
      " Layer (type)                Output Shape              Param #   \n",
      "=================================================================\n",
      " dense (Dense)               (None, 1)                 785       \n",
      "                                                                 \n",
      " dense_1 (Dense)             (None, 32)                64        \n",
      "                                                                 \n",
      " dense_2 (Dense)             (None, 10)                330       \n",
      "                                                                 \n",
      "=================================================================\n",
      "Total params: 1,179\n",
      "Trainable params: 1,179\n",
      "Non-trainable params: 0\n",
      "_________________________________________________________________\n"
     ]
    }
   ]
  },
  {
   "cell_type": "markdown",
   "metadata": {
    "id": "ZF7UE-KluPsX"
   },
   "source": [
    "## 2.3 Experiments to gauge the effect of batch size (Follow Along)\n",
    "Let's run a series of experiments for a default, small, and large batch size."
   ]
  },
  {
   "cell_type": "markdown",
   "metadata": {
    "id": "VhpDaVFRJl3U"
   },
   "source": [
    "### 2.3.1 Default Batch Size\n",
    "Batch Size is 32"
   ]
  },
  {
   "cell_type": "code",
   "metadata": {
    "id": "P-ChVGikgclD",
    "scrolled": true,
    "colab": {
     "base_uri": "https://localhost:8080/"
    },
    "executionInfo": {
     "status": "ok",
     "timestamp": 1638902253758,
     "user_tz": 480,
     "elapsed": 42341,
     "user": {
      "displayName": "Joseph catanzarite",
      "photoUrl": "https://lh3.googleusercontent.com/a-/AOh14GgmMRaw8NgoEDqzevEZ6b18iOYdEH9nWTZeaFBW=s64",
      "userId": "16649206137414945374"
     }
    },
    "outputId": "54e6d9ae-4774-42e7-8cbd-a3dbeaab5f01"
   },
   "source": [
    "%%time\n",
    "# instantiate a model and fit it with batch size of 32\n",
    "model = create_model()\n",
    "bt_default = model.fit(X_train, y_train, batch_size=32, validation_data=(X_test, y_test), epochs=5)"
   ],
   "execution_count": 56,
   "outputs": [
    {
     "output_type": "stream",
     "name": "stdout",
     "text": [
      "Epoch 1/5\n",
      "1875/1875 [==============================] - 8s 3ms/step - loss: 2.1769 - accuracy: 0.1830 - val_loss: 1.9707 - val_accuracy: 0.2204\n",
      "Epoch 2/5\n",
      "1875/1875 [==============================] - 6s 3ms/step - loss: 1.8852 - accuracy: 0.2429 - val_loss: 1.8285 - val_accuracy: 0.2625\n",
      "Epoch 3/5\n",
      "1875/1875 [==============================] - 6s 3ms/step - loss: 1.7971 - accuracy: 0.2824 - val_loss: 1.7764 - val_accuracy: 0.3080\n",
      "Epoch 4/5\n",
      "1875/1875 [==============================] - 6s 3ms/step - loss: 1.7577 - accuracy: 0.3123 - val_loss: 1.7484 - val_accuracy: 0.3312\n",
      "Epoch 5/5\n",
      "1875/1875 [==============================] - 6s 3ms/step - loss: 1.7343 - accuracy: 0.3273 - val_loss: 1.7345 - val_accuracy: 0.3356\n",
      "CPU times: user 31.3 s, sys: 4.92 s, total: 36.2 s\n",
      "Wall time: 41.8 s\n"
     ]
    }
   ]
  },
  {
   "cell_type": "markdown",
   "metadata": {
    "id": "krYQ1XHvnpk_"
   },
   "source": [
    "What's that number 1875? It's the number of batches in the full data set"
   ]
  },
  {
   "cell_type": "code",
   "metadata": {
    "colab": {
     "base_uri": "https://localhost:8080/"
    },
    "id": "knaV6-vBjwNQ",
    "executionInfo": {
     "status": "ok",
     "timestamp": 1635875489521,
     "user_tz": 420,
     "elapsed": 535,
     "user": {
      "displayName": "Joseph catanzarite",
      "photoUrl": "https://lh3.googleusercontent.com/a-/AOh14GgmMRaw8NgoEDqzevEZ6b18iOYdEH9nWTZeaFBW=s64",
      "userId": "16649206137414945374"
     }
    },
    "outputId": "7fdf03fe-fa25-476e-cf32-1e63f88fee25"
   },
   "source": [
    "print(X_train.shape)\n",
    "print(X_train.shape[0]/32)"
   ],
   "execution_count": null,
   "outputs": [
    {
     "output_type": "stream",
     "name": "stdout",
     "text": [
      "(60000, 784)\n",
      "1875.0\n"
     ]
    }
   ]
  },
  {
   "cell_type": "code",
   "metadata": {
    "colab": {
     "base_uri": "https://localhost:8080/"
    },
    "id": "A0hxaeqyj4ye",
    "executionInfo": {
     "status": "ok",
     "timestamp": 1633481533850,
     "user_tz": 420,
     "elapsed": 14,
     "user": {
      "displayName": "Joseph catanzarite",
      "photoUrl": "https://lh3.googleusercontent.com/a-/AOh14GgmMRaw8NgoEDqzevEZ6b18iOYdEH9nWTZeaFBW=s64",
      "userId": "16649206137414945374"
     }
    },
    "outputId": "3a9daa49-48c1-4cf3-9a53-69583773acdc"
   },
   "source": [
    "60000/32"
   ],
   "execution_count": null,
   "outputs": [
    {
     "output_type": "execute_result",
     "data": {
      "text/plain": [
       "1875.0"
      ]
     },
     "metadata": {},
     "execution_count": 15
    }
   ]
  },
  {
   "cell_type": "markdown",
   "metadata": {
    "id": "KvsbOFnDJuG0"
   },
   "source": [
    "### 2.3.2 Small Batch Size\n",
    "Batch Size is 8"
   ]
  },
  {
   "cell_type": "code",
   "metadata": {
    "id": "diDzvb-UJ1je",
    "scrolled": true,
    "colab": {
     "base_uri": "https://localhost:8080/"
    },
    "executionInfo": {
     "status": "ok",
     "timestamp": 1638902498419,
     "user_tz": 480,
     "elapsed": 141052,
     "user": {
      "displayName": "Joseph catanzarite",
      "photoUrl": "https://lh3.googleusercontent.com/a-/AOh14GgmMRaw8NgoEDqzevEZ6b18iOYdEH9nWTZeaFBW=s64",
      "userId": "16649206137414945374"
     }
    },
    "outputId": "bb9e9b37-4cf3-419f-c07e-f63045c7af0f"
   },
   "source": [
    "%%time\n",
    "# instantiate a model and fit it with batch size of 8\n",
    "#YOUR CODE HERE\n",
    "bt_small = model.fit(X_train, y_train, batch_size=8, validation_data=(X_test, y_test), epochs=5)"
   ],
   "execution_count": 60,
   "outputs": [
    {
     "output_type": "stream",
     "name": "stdout",
     "text": [
      "Epoch 1/5\n",
      "7500/7500 [==============================] - 29s 4ms/step - loss: 1.7132 - accuracy: 0.3388 - val_loss: 1.6767 - val_accuracy: 0.3744\n",
      "Epoch 2/5\n",
      "7500/7500 [==============================] - 28s 4ms/step - loss: 1.6461 - accuracy: 0.3695 - val_loss: 1.6319 - val_accuracy: 0.3725\n",
      "Epoch 3/5\n",
      "7500/7500 [==============================] - 26s 3ms/step - loss: 1.6156 - accuracy: 0.3815 - val_loss: 1.6093 - val_accuracy: 0.3852\n",
      "Epoch 4/5\n",
      "7500/7500 [==============================] - 29s 4ms/step - loss: 1.6017 - accuracy: 0.3879 - val_loss: 1.6028 - val_accuracy: 0.3988\n",
      "Epoch 5/5\n",
      "7500/7500 [==============================] - 28s 4ms/step - loss: 1.5938 - accuracy: 0.3929 - val_loss: 1.6020 - val_accuracy: 0.3705\n",
      "CPU times: user 2min 15s, sys: 18.9 s, total: 2min 33s\n",
      "Wall time: 2min 20s\n"
     ]
    }
   ]
  },
  {
   "cell_type": "markdown",
   "metadata": {
    "id": "_iPvvvt5J2Xl"
   },
   "source": [
    "### 2.3.3 Large Batch Size\n",
    "Batch Size is 512"
   ]
  },
  {
   "cell_type": "code",
   "metadata": {
    "id": "7h8Z5293KABT",
    "colab": {
     "base_uri": "https://localhost:8080/"
    },
    "executionInfo": {
     "status": "ok",
     "timestamp": 1638902534865,
     "user_tz": 480,
     "elapsed": 6266,
     "user": {
      "displayName": "Joseph catanzarite",
      "photoUrl": "https://lh3.googleusercontent.com/a-/AOh14GgmMRaw8NgoEDqzevEZ6b18iOYdEH9nWTZeaFBW=s64",
      "userId": "16649206137414945374"
     }
    },
    "outputId": "11331c55-4c1a-4707-94b3-d1dbd61e9030"
   },
   "source": [
    "# instantiate a model and fit it with batch size of 512\n",
    "#YOUR CODE HERE\n",
    "bt_large = model.fit(X_train, y_train, batch_size=512, validation_data=(X_test, y_test), epochs=5)"
   ],
   "execution_count": 61,
   "outputs": [
    {
     "output_type": "stream",
     "name": "stdout",
     "text": [
      "Epoch 1/5\n",
      "118/118 [==============================] - 1s 5ms/step - loss: 1.5749 - accuracy: 0.3935 - val_loss: 1.5868 - val_accuracy: 0.3963\n",
      "Epoch 2/5\n",
      "118/118 [==============================] - 1s 5ms/step - loss: 1.5714 - accuracy: 0.4004 - val_loss: 1.5859 - val_accuracy: 0.3968\n",
      "Epoch 3/5\n",
      "118/118 [==============================] - 1s 5ms/step - loss: 1.5707 - accuracy: 0.4014 - val_loss: 1.5855 - val_accuracy: 0.3984\n",
      "Epoch 4/5\n",
      "118/118 [==============================] - 1s 5ms/step - loss: 1.5702 - accuracy: 0.4022 - val_loss: 1.5849 - val_accuracy: 0.4016\n",
      "Epoch 5/5\n",
      "118/118 [==============================] - 1s 5ms/step - loss: 1.5698 - accuracy: 0.4030 - val_loss: 1.5850 - val_accuracy: 0.4001\n"
     ]
    }
   ]
  },
  {
   "cell_type": "code",
   "metadata": {
    "colab": {
     "base_uri": "https://localhost:8080/"
    },
    "id": "vE2Awnk3aXPv",
    "executionInfo": {
     "status": "ok",
     "timestamp": 1635875728382,
     "user_tz": 420,
     "elapsed": 557,
     "user": {
      "displayName": "Joseph catanzarite",
      "photoUrl": "https://lh3.googleusercontent.com/a-/AOh14GgmMRaw8NgoEDqzevEZ6b18iOYdEH9nWTZeaFBW=s64",
      "userId": "16649206137414945374"
     }
    },
    "outputId": "cc7452bd-e41e-4c32-94ac-3bc41d7b853c"
   },
   "source": [
    "bt_default.history"
   ],
   "execution_count": null,
   "outputs": [
    {
     "output_type": "execute_result",
     "data": {
      "text/plain": [
       "{'accuracy': [0.17238333821296692,\n",
       "  0.24461667239665985,\n",
       "  0.26460000872612,\n",
       "  0.28068333864212036,\n",
       "  0.2906833291053772],\n",
       " 'loss': [2.1541659832000732,\n",
       "  1.9055898189544678,\n",
       "  1.8357499837875366,\n",
       "  1.7850828170776367,\n",
       "  1.7363734245300293],\n",
       " 'val_accuracy': [0.22869999706745148,\n",
       "  0.26109999418258667,\n",
       "  0.28029999136924744,\n",
       "  0.28760001063346863,\n",
       "  0.2992999851703644],\n",
       " 'val_loss': [1.963626742362976,\n",
       "  1.8602591753005981,\n",
       "  1.8049832582473755,\n",
       "  1.7618074417114258,\n",
       "  1.7148324251174927]}"
      ]
     },
     "metadata": {},
     "execution_count": 21
    }
   ]
  },
  {
   "cell_type": "code",
   "metadata": {
    "id": "YQFCYnUSakDU",
    "executionInfo": {
     "status": "ok",
     "timestamp": 1638902326230,
     "user_tz": 480,
     "elapsed": 497,
     "user": {
      "displayName": "Joseph catanzarite",
      "photoUrl": "https://lh3.googleusercontent.com/a-/AOh14GgmMRaw8NgoEDqzevEZ6b18iOYdEH9nWTZeaFBW=s64",
      "userId": "16649206137414945374"
     }
    }
   },
   "source": [
    "import pandas as pd\n",
    "dd = pd.DataFrame.from_dict(bt_default.history)"
   ],
   "execution_count": 57,
   "outputs": []
  },
  {
   "cell_type": "code",
   "metadata": {
    "colab": {
     "base_uri": "https://localhost:8080/",
     "height": 206
    },
    "id": "lZaxTfmNauCw",
    "executionInfo": {
     "status": "ok",
     "timestamp": 1638902329759,
     "user_tz": 480,
     "elapsed": 527,
     "user": {
      "displayName": "Joseph catanzarite",
      "photoUrl": "https://lh3.googleusercontent.com/a-/AOh14GgmMRaw8NgoEDqzevEZ6b18iOYdEH9nWTZeaFBW=s64",
      "userId": "16649206137414945374"
     }
    },
    "outputId": "61b04804-b9c6-48dd-917a-5585a1f4fdee"
   },
   "source": [
    "dd"
   ],
   "execution_count": 58,
   "outputs": [
    {
     "output_type": "execute_result",
     "data": {
      "text/html": [
       "<div>\n",
       "<style scoped>\n",
       "    .dataframe tbody tr th:only-of-type {\n",
       "        vertical-align: middle;\n",
       "    }\n",
       "\n",
       "    .dataframe tbody tr th {\n",
       "        vertical-align: top;\n",
       "    }\n",
       "\n",
       "    .dataframe thead th {\n",
       "        text-align: right;\n",
       "    }\n",
       "</style>\n",
       "<table border=\"1\" class=\"dataframe\">\n",
       "  <thead>\n",
       "    <tr style=\"text-align: right;\">\n",
       "      <th></th>\n",
       "      <th>loss</th>\n",
       "      <th>accuracy</th>\n",
       "      <th>val_loss</th>\n",
       "      <th>val_accuracy</th>\n",
       "    </tr>\n",
       "  </thead>\n",
       "  <tbody>\n",
       "    <tr>\n",
       "      <th>0</th>\n",
       "      <td>2.176944</td>\n",
       "      <td>0.183000</td>\n",
       "      <td>1.970711</td>\n",
       "      <td>0.2204</td>\n",
       "    </tr>\n",
       "    <tr>\n",
       "      <th>1</th>\n",
       "      <td>1.885193</td>\n",
       "      <td>0.242933</td>\n",
       "      <td>1.828516</td>\n",
       "      <td>0.2625</td>\n",
       "    </tr>\n",
       "    <tr>\n",
       "      <th>2</th>\n",
       "      <td>1.797114</td>\n",
       "      <td>0.282417</td>\n",
       "      <td>1.776366</td>\n",
       "      <td>0.3080</td>\n",
       "    </tr>\n",
       "    <tr>\n",
       "      <th>3</th>\n",
       "      <td>1.757708</td>\n",
       "      <td>0.312333</td>\n",
       "      <td>1.748377</td>\n",
       "      <td>0.3312</td>\n",
       "    </tr>\n",
       "    <tr>\n",
       "      <th>4</th>\n",
       "      <td>1.734289</td>\n",
       "      <td>0.327267</td>\n",
       "      <td>1.734467</td>\n",
       "      <td>0.3356</td>\n",
       "    </tr>\n",
       "  </tbody>\n",
       "</table>\n",
       "</div>"
      ],
      "text/plain": [
       "       loss  accuracy  val_loss  val_accuracy\n",
       "0  2.176944  0.183000  1.970711        0.2204\n",
       "1  1.885193  0.242933  1.828516        0.2625\n",
       "2  1.797114  0.282417  1.776366        0.3080\n",
       "3  1.757708  0.312333  1.748377        0.3312\n",
       "4  1.734289  0.327267  1.734467        0.3356"
      ]
     },
     "metadata": {},
     "execution_count": 58
    }
   ]
  },
  {
   "cell_type": "markdown",
   "metadata": {
    "id": "B0ujUz6BKUGz"
   },
   "source": [
    "### 2.3.4 Visualize Results"
   ]
  },
  {
   "cell_type": "code",
   "metadata": {
    "id": "o-5DOZNMKYt-",
    "colab": {
     "base_uri": "https://localhost:8080/",
     "height": 246
    },
    "executionInfo": {
     "status": "error",
     "timestamp": 1638902343408,
     "user_tz": 480,
     "elapsed": 481,
     "user": {
      "displayName": "Joseph catanzarite",
      "photoUrl": "https://lh3.googleusercontent.com/a-/AOh14GgmMRaw8NgoEDqzevEZ6b18iOYdEH9nWTZeaFBW=s64",
      "userId": "16649206137414945374"
     }
    },
    "outputId": "998417ad-7071-4683-dd77-f7fe3e814a1b"
   },
   "source": [
    "import seaborn as sns\n",
    "import pandas as pd\n",
    "\n",
    "experiment_dfs = []\n",
    "\n",
    "for experiment, label in zip([bt_default, bt_small, bt_large], [\"32_\", \"8_\", \"512_\"]):\n",
    "\n",
    "    df = pd.DataFrame.from_dict(experiment.history)\n",
    "    df['epoch'] = df.index.values\n",
    "    df['Batch Size'] = label\n",
    "\n",
    "    # append to list of experiment data frames\n",
    "    experiment_dfs.append(df)\n",
    "\n",
    "df = pd.concat(experiment_dfs,ignore_index=True)\n",
    "df['Batch Size'] = df['Batch Size'].astype('str')\n",
    "df"
   ],
   "execution_count": 59,
   "outputs": [
    {
     "output_type": "error",
     "ename": "NameError",
     "evalue": "ignored",
     "traceback": [
      "\u001B[0;31m---------------------------------------------------------------------------\u001B[0m",
      "\u001B[0;31mNameError\u001B[0m                                 Traceback (most recent call last)",
      "\u001B[0;32m<ipython-input-59-04957041ddaa>\u001B[0m in \u001B[0;36m<module>\u001B[0;34m()\u001B[0m\n\u001B[1;32m      4\u001B[0m \u001B[0mexperiment_dfs\u001B[0m \u001B[0;34m=\u001B[0m \u001B[0;34m[\u001B[0m\u001B[0;34m]\u001B[0m\u001B[0;34m\u001B[0m\u001B[0;34m\u001B[0m\u001B[0m\n\u001B[1;32m      5\u001B[0m \u001B[0;34m\u001B[0m\u001B[0m\n\u001B[0;32m----> 6\u001B[0;31m \u001B[0;32mfor\u001B[0m \u001B[0mexperiment\u001B[0m\u001B[0;34m,\u001B[0m \u001B[0mlabel\u001B[0m \u001B[0;32min\u001B[0m \u001B[0mzip\u001B[0m\u001B[0;34m(\u001B[0m\u001B[0;34m[\u001B[0m\u001B[0mbt_default\u001B[0m\u001B[0;34m,\u001B[0m \u001B[0mbt_small\u001B[0m\u001B[0;34m,\u001B[0m \u001B[0mbt_large\u001B[0m\u001B[0;34m]\u001B[0m\u001B[0;34m,\u001B[0m \u001B[0;34m[\u001B[0m\u001B[0;34m\"32_\"\u001B[0m\u001B[0;34m,\u001B[0m \u001B[0;34m\"8_\"\u001B[0m\u001B[0;34m,\u001B[0m \u001B[0;34m\"512_\"\u001B[0m\u001B[0;34m]\u001B[0m\u001B[0;34m)\u001B[0m\u001B[0;34m:\u001B[0m\u001B[0;34m\u001B[0m\u001B[0;34m\u001B[0m\u001B[0m\n\u001B[0m\u001B[1;32m      7\u001B[0m \u001B[0;34m\u001B[0m\u001B[0m\n\u001B[1;32m      8\u001B[0m     \u001B[0mdf\u001B[0m \u001B[0;34m=\u001B[0m \u001B[0mpd\u001B[0m\u001B[0;34m.\u001B[0m\u001B[0mDataFrame\u001B[0m\u001B[0;34m.\u001B[0m\u001B[0mfrom_dict\u001B[0m\u001B[0;34m(\u001B[0m\u001B[0mexperiment\u001B[0m\u001B[0;34m.\u001B[0m\u001B[0mhistory\u001B[0m\u001B[0;34m)\u001B[0m\u001B[0;34m\u001B[0m\u001B[0;34m\u001B[0m\u001B[0m\n",
      "\u001B[0;31mNameError\u001B[0m: name 'bt_small' is not defined"
     ]
    }
   ]
  },
  {
   "cell_type": "code",
   "metadata": {
    "id": "Dlg9uSEEmIJB",
    "colab": {
     "base_uri": "https://localhost:8080/",
     "height": 279
    },
    "executionInfo": {
     "status": "ok",
     "timestamp": 1633481652479,
     "user_tz": 420,
     "elapsed": 575,
     "user": {
      "displayName": "Joseph catanzarite",
      "photoUrl": "https://lh3.googleusercontent.com/a-/AOh14GgmMRaw8NgoEDqzevEZ6b18iOYdEH9nWTZeaFBW=s64",
      "userId": "16649206137414945374"
     }
    },
    "outputId": "1dda0f16-7c8c-4625-a07f-046bbcbe0979"
   },
   "source": [
    "sns.lineplot(x='epoch', y='val_accuracy', hue='Batch Size', data=df);\n",
    "plt.grid()"
   ],
   "execution_count": null,
   "outputs": [
    {
     "output_type": "display_data",
     "data": {
      "image/png": "[encoded data removed]",
      "text/plain": [
       "<Figure size 432x288 with 1 Axes>"
      ]
     },
     "metadata": {
      "needs_background": "light"
     }
    }
   ]
  },
  {
   "cell_type": "code",
   "metadata": {
    "id": "94bJYgz3nkp0",
    "colab": {
     "base_uri": "https://localhost:8080/",
     "height": 282
    },
    "executionInfo": {
     "status": "ok",
     "timestamp": 1633481652826,
     "user_tz": 420,
     "elapsed": 349,
     "user": {
      "displayName": "Joseph catanzarite",
      "photoUrl": "https://lh3.googleusercontent.com/a-/AOh14GgmMRaw8NgoEDqzevEZ6b18iOYdEH9nWTZeaFBW=s64",
      "userId": "16649206137414945374"
     }
    },
    "outputId": "b5d7738a-06e8-45e7-ec9f-78d033904ac4"
   },
   "source": [
    "sns.lineplot(x='epoch', y='val_loss', hue='Batch Size', data=df);\n",
    "plt.grid()"
   ],
   "execution_count": null,
   "outputs": [
    {
     "output_type": "display_data",
     "data": {
      "image/png": "[encoded data removed]",
      "text/plain": [
       "<Figure size 432x288 with 1 Axes>"
      ]
     },
     "metadata": {
      "needs_background": "light"
     }
    }
   ]
  },
  {
   "cell_type": "markdown",
   "metadata": {
    "id": "4kZ2vUYYgclS"
   },
   "source": [
    "## Challenge\n",
    "\n",
    "You will be expected to experiment with batch size on today's assignment."
   ]
  },
  {
   "cell_type": "markdown",
   "metadata": {
    "id": "46cP9Pm_gclS"
   },
   "source": [
    "# 3. The Effect of the Learning Rate Hyperparameter on Neural Network Training (Learn)"
   ]
  },
  {
   "cell_type": "markdown",
   "metadata": {
    "id": "SXBoghYG9G5A"
   },
   "source": [
    "![](https://www.jeremyjordan.me/content/images/2018/02/Screen-Shot-2018-02-24-at-11.47.09-AM.png)"
   ]
  },
  {
   "cell_type": "markdown",
   "metadata": {
    "id": "Bna67ADZgclT",
    "toc-hr-collapsed": true
   },
   "source": [
    "## 3.1 Overview\n",
    "\n",
    "Learning Rate controls the size of the update to our weights that the optimization algorithm makes. VERY IMPORTANT hyperparameter.\n",
    "\n",
    "* If the learning rate is too high, the model will not find the minimum\n",
    "* If the learning rate is too low, the model will underfit or take too long to converge\n",
    "* Goldilocks learning rate is \"just right\", the model converges rapidly\n",
    "* Scale of 0-1"
   ]
  },
  {
   "cell_type": "markdown",
   "metadata": {
    "id": "gsVYOn7bgcle",
    "toc-hr-collapsed": true
   },
   "source": [
    "## 3.2 Experiments to gauge the effect of learning rate (Follow Along)\n",
    "\n",
    "Try experiments with same Batch Size = 32 but different Learning Rates:\n",
    "* High Learning Rate = .75\n",
    "* Default Learning Rate = .01\n",
    "* Low Learning Rate = .0001"
   ]
  },
  {
   "cell_type": "markdown",
   "metadata": {
    "id": "CI_H8Em1NOii"
   },
   "source": [
    "### 3.2.1 Default Learning Rate"
   ]
  },
  {
   "cell_type": "code",
   "metadata": {
    "id": "Se8cb_ZUNVtL",
    "colab": {
     "base_uri": "https://localhost:8080/"
    },
    "executionInfo": {
     "status": "ok",
     "timestamp": 1635875858173,
     "user_tz": 420,
     "elapsed": 20048,
     "user": {
      "displayName": "Joseph catanzarite",
      "photoUrl": "https://lh3.googleusercontent.com/a-/AOh14GgmMRaw8NgoEDqzevEZ6b18iOYdEH9nWTZeaFBW=s64",
      "userId": "16649206137414945374"
     }
    },
    "outputId": "62109807-75ed-420d-9417-951a2d1df6fb"
   },
   "source": [
    "# instantiate a model and fit it with a learning rate value of 0.01\n",
    "model = create_model(lr=.01)\n",
    "lr_default = model.fit(X_train, y_train, batch_size=32, validation_data=(X_test, y_test), epochs=5)"
   ],
   "execution_count": null,
   "outputs": [
    {
     "output_type": "stream",
     "name": "stdout",
     "text": [
      "Epoch 1/5\n",
      "1875/1875 [==============================] - 4s 2ms/step - loss: 2.0427 - accuracy: 0.2214 - val_loss: 1.9277 - val_accuracy: 0.2489\n",
      "Epoch 2/5\n",
      "1875/1875 [==============================] - 4s 2ms/step - loss: 1.8657 - accuracy: 0.2733 - val_loss: 1.7931 - val_accuracy: 0.2993\n",
      "Epoch 3/5\n",
      "1875/1875 [==============================] - 4s 2ms/step - loss: 1.7198 - accuracy: 0.3079 - val_loss: 1.6709 - val_accuracy: 0.3015\n",
      "Epoch 4/5\n",
      "1875/1875 [==============================] - 4s 2ms/step - loss: 1.6417 - accuracy: 0.3180 - val_loss: 1.6311 - val_accuracy: 0.3110\n",
      "Epoch 5/5\n",
      "1875/1875 [==============================] - 4s 2ms/step - loss: 1.6091 - accuracy: 0.3374 - val_loss: 1.5965 - val_accuracy: 0.3528\n"
     ]
    }
   ]
  },
  {
   "cell_type": "markdown",
   "metadata": {
    "id": "IQZ4SZdKNMRO"
   },
   "source": [
    "### 3.2.2 High Learning Rate"
   ]
  },
  {
   "cell_type": "code",
   "metadata": {
    "id": "Ny72mU_dNWMR",
    "colab": {
     "base_uri": "https://localhost:8080/"
    },
    "executionInfo": {
     "status": "ok",
     "timestamp": 1635875921324,
     "user_tz": 420,
     "elapsed": 21307,
     "user": {
      "displayName": "Joseph catanzarite",
      "photoUrl": "https://lh3.googleusercontent.com/a-/AOh14GgmMRaw8NgoEDqzevEZ6b18iOYdEH9nWTZeaFBW=s64",
      "userId": "16649206137414945374"
     }
    },
    "outputId": "45b39fce-a5d6-4ce7-a1cb-3c2bf74726b3"
   },
   "source": [
    "# instantiate a model and fit it with a learning rate value of 0.75\n",
    "model = create_model(lr=0.75)\n",
    "lr_high = model.fit(X_train, y_train, batch_size=32, validation_data=(X_test, y_test), epochs=5)"
   ],
   "execution_count": null,
   "outputs": [
    {
     "output_type": "stream",
     "name": "stdout",
     "text": [
      "Epoch 1/5\n",
      "1875/1875 [==============================] - 4s 2ms/step - loss: 2.3068 - accuracy: 0.1068 - val_loss: 2.3085 - val_accuracy: 0.1028\n",
      "Epoch 2/5\n",
      "1875/1875 [==============================] - 4s 2ms/step - loss: 2.3070 - accuracy: 0.1021 - val_loss: 2.3088 - val_accuracy: 0.1135\n",
      "Epoch 3/5\n",
      "1875/1875 [==============================] - 4s 2ms/step - loss: 2.3068 - accuracy: 0.1051 - val_loss: 2.3049 - val_accuracy: 0.0958\n",
      "Epoch 4/5\n",
      "1875/1875 [==============================] - 3s 2ms/step - loss: 2.3069 - accuracy: 0.1040 - val_loss: 2.3035 - val_accuracy: 0.1028\n",
      "Epoch 5/5\n",
      "1875/1875 [==============================] - 4s 2ms/step - loss: 2.3068 - accuracy: 0.1058 - val_loss: 2.3112 - val_accuracy: 0.0958\n"
     ]
    }
   ]
  },
  {
   "cell_type": "markdown",
   "metadata": {
    "id": "kAqDmTVBNSMR"
   },
   "source": [
    "### 3.2.3 Low Learning Rate"
   ]
  },
  {
   "cell_type": "code",
   "metadata": {
    "id": "Ech1ER64NXBn",
    "jupyter": {
     "outputs_hidden": true
    },
    "colab": {
     "base_uri": "https://localhost:8080/"
    },
    "executionInfo": {
     "status": "ok",
     "timestamp": 1635875881530,
     "user_tz": 420,
     "elapsed": 21327,
     "user": {
      "displayName": "Joseph catanzarite",
      "photoUrl": "https://lh3.googleusercontent.com/a-/AOh14GgmMRaw8NgoEDqzevEZ6b18iOYdEH9nWTZeaFBW=s64",
      "userId": "16649206137414945374"
     }
    },
    "outputId": "5a42b2e2-54c2-4a27-a9ff-a3519a6a19ce"
   },
   "source": [
    "# instantiate a model and fit it with a learning rate value of 0.0001\n",
    "model = create_model(lr=0.0001)\n",
    "lr_low = model.fit(X_train, y_train, batch_size=32, validation_data=(X_test, y_test), epochs=5)"
   ],
   "execution_count": null,
   "outputs": [
    {
     "output_type": "stream",
     "name": "stdout",
     "text": [
      "Epoch 1/5\n",
      "1875/1875 [==============================] - 4s 2ms/step - loss: 2.3006 - accuracy: 0.0613 - val_loss: 2.2973 - val_accuracy: 0.0506\n",
      "Epoch 2/5\n",
      "1875/1875 [==============================] - 4s 2ms/step - loss: 2.2947 - accuracy: 0.0612 - val_loss: 2.2915 - val_accuracy: 0.0635\n",
      "Epoch 3/5\n",
      "1875/1875 [==============================] - 4s 2ms/step - loss: 2.2891 - accuracy: 0.0821 - val_loss: 2.2858 - val_accuracy: 0.0938\n",
      "Epoch 4/5\n",
      "1875/1875 [==============================] - 3s 2ms/step - loss: 2.2833 - accuracy: 0.1059 - val_loss: 2.2797 - val_accuracy: 0.1128\n",
      "Epoch 5/5\n",
      "1875/1875 [==============================] - 4s 2ms/step - loss: 2.2771 - accuracy: 0.1441 - val_loss: 2.2730 - val_accuracy: 0.1490\n"
     ]
    }
   ]
  },
  {
   "cell_type": "markdown",
   "metadata": {
    "id": "sZe6DyhANXdU"
   },
   "source": [
    "### 3.2.4 Visualize Results"
   ]
  },
  {
   "cell_type": "code",
   "metadata": {
    "id": "Bn-BdFdMNph-",
    "colab": {
     "base_uri": "https://localhost:8080/",
     "height": 520
    },
    "executionInfo": {
     "status": "ok",
     "timestamp": 1635875925817,
     "user_tz": 420,
     "elapsed": 580,
     "user": {
      "displayName": "Joseph catanzarite",
      "photoUrl": "https://lh3.googleusercontent.com/a-/AOh14GgmMRaw8NgoEDqzevEZ6b18iOYdEH9nWTZeaFBW=s64",
      "userId": "16649206137414945374"
     }
    },
    "outputId": "ccc22ada-b0cf-4d85-b4fd-c00709066356"
   },
   "source": [
    "import seaborn as sns\n",
    "import pandas as pd\n",
    "\n",
    "experiments = []\n",
    "\n",
    "for experiment, label in zip([lr_default, lr_low, lr_high], [\".01_\", \".0001_\", \".75_\"]):\n",
    "\n",
    "    df = pd.DataFrame.from_dict(experiment.history)\n",
    "    df['epoch'] = df.index.values\n",
    "    df['Learning Rate'] = label\n",
    "\n",
    "    experiments.append(df)\n",
    "\n",
    "df = pd.concat(experiments,ignore_index=True)\n",
    "df['Learning Rate'] = df['Learning Rate'].astype('str')\n",
    "df"
   ],
   "execution_count": null,
   "outputs": [
    {
     "output_type": "execute_result",
     "data": {
      "text/html": [
       "<div>\n",
       "<style scoped>\n",
       "    .dataframe tbody tr th:only-of-type {\n",
       "        vertical-align: middle;\n",
       "    }\n",
       "\n",
       "    .dataframe tbody tr th {\n",
       "        vertical-align: top;\n",
       "    }\n",
       "\n",
       "    .dataframe thead th {\n",
       "        text-align: right;\n",
       "    }\n",
       "</style>\n",
       "<table border=\"1\" class=\"dataframe\">\n",
       "  <thead>\n",
       "    <tr style=\"text-align: right;\">\n",
       "      <th></th>\n",
       "      <th>loss</th>\n",
       "      <th>accuracy</th>\n",
       "      <th>val_loss</th>\n",
       "      <th>val_accuracy</th>\n",
       "      <th>epoch</th>\n",
       "      <th>Learning Rate</th>\n",
       "    </tr>\n",
       "  </thead>\n",
       "  <tbody>\n",
       "    <tr>\n",
       "      <th>0</th>\n",
       "      <td>2.042748</td>\n",
       "      <td>0.221383</td>\n",
       "      <td>1.927688</td>\n",
       "      <td>0.2489</td>\n",
       "      <td>0</td>\n",
       "      <td>.01_</td>\n",
       "    </tr>\n",
       "    <tr>\n",
       "      <th>1</th>\n",
       "      <td>1.865727</td>\n",
       "      <td>0.273267</td>\n",
       "      <td>1.793136</td>\n",
       "      <td>0.2993</td>\n",
       "      <td>1</td>\n",
       "      <td>.01_</td>\n",
       "    </tr>\n",
       "    <tr>\n",
       "      <th>2</th>\n",
       "      <td>1.719807</td>\n",
       "      <td>0.307933</td>\n",
       "      <td>1.670906</td>\n",
       "      <td>0.3015</td>\n",
       "      <td>2</td>\n",
       "      <td>.01_</td>\n",
       "    </tr>\n",
       "    <tr>\n",
       "      <th>3</th>\n",
       "      <td>1.641659</td>\n",
       "      <td>0.318000</td>\n",
       "      <td>1.631062</td>\n",
       "      <td>0.3110</td>\n",
       "      <td>3</td>\n",
       "      <td>.01_</td>\n",
       "    </tr>\n",
       "    <tr>\n",
       "      <th>4</th>\n",
       "      <td>1.609124</td>\n",
       "      <td>0.337400</td>\n",
       "      <td>1.596534</td>\n",
       "      <td>0.3528</td>\n",
       "      <td>4</td>\n",
       "      <td>.01_</td>\n",
       "    </tr>\n",
       "    <tr>\n",
       "      <th>5</th>\n",
       "      <td>2.300604</td>\n",
       "      <td>0.061267</td>\n",
       "      <td>2.297306</td>\n",
       "      <td>0.0506</td>\n",
       "      <td>0</td>\n",
       "      <td>.0001_</td>\n",
       "    </tr>\n",
       "    <tr>\n",
       "      <th>6</th>\n",
       "      <td>2.294688</td>\n",
       "      <td>0.061233</td>\n",
       "      <td>2.291546</td>\n",
       "      <td>0.0635</td>\n",
       "      <td>1</td>\n",
       "      <td>.0001_</td>\n",
       "    </tr>\n",
       "    <tr>\n",
       "      <th>7</th>\n",
       "      <td>2.289127</td>\n",
       "      <td>0.082050</td>\n",
       "      <td>2.285793</td>\n",
       "      <td>0.0938</td>\n",
       "      <td>2</td>\n",
       "      <td>.0001_</td>\n",
       "    </tr>\n",
       "    <tr>\n",
       "      <th>8</th>\n",
       "      <td>2.283313</td>\n",
       "      <td>0.105900</td>\n",
       "      <td>2.279679</td>\n",
       "      <td>0.1128</td>\n",
       "      <td>3</td>\n",
       "      <td>.0001_</td>\n",
       "    </tr>\n",
       "    <tr>\n",
       "      <th>9</th>\n",
       "      <td>2.277057</td>\n",
       "      <td>0.144067</td>\n",
       "      <td>2.273045</td>\n",
       "      <td>0.1490</td>\n",
       "      <td>4</td>\n",
       "      <td>.0001_</td>\n",
       "    </tr>\n",
       "    <tr>\n",
       "      <th>10</th>\n",
       "      <td>2.306796</td>\n",
       "      <td>0.106850</td>\n",
       "      <td>2.308532</td>\n",
       "      <td>0.1028</td>\n",
       "      <td>0</td>\n",
       "      <td>.75_</td>\n",
       "    </tr>\n",
       "    <tr>\n",
       "      <th>11</th>\n",
       "      <td>2.307016</td>\n",
       "      <td>0.102133</td>\n",
       "      <td>2.308773</td>\n",
       "      <td>0.1135</td>\n",
       "      <td>1</td>\n",
       "      <td>.75_</td>\n",
       "    </tr>\n",
       "    <tr>\n",
       "      <th>12</th>\n",
       "      <td>2.306790</td>\n",
       "      <td>0.105117</td>\n",
       "      <td>2.304949</td>\n",
       "      <td>0.0958</td>\n",
       "      <td>2</td>\n",
       "      <td>.75_</td>\n",
       "    </tr>\n",
       "    <tr>\n",
       "      <th>13</th>\n",
       "      <td>2.306852</td>\n",
       "      <td>0.104000</td>\n",
       "      <td>2.303487</td>\n",
       "      <td>0.1028</td>\n",
       "      <td>3</td>\n",
       "      <td>.75_</td>\n",
       "    </tr>\n",
       "    <tr>\n",
       "      <th>14</th>\n",
       "      <td>2.306796</td>\n",
       "      <td>0.105833</td>\n",
       "      <td>2.311179</td>\n",
       "      <td>0.0958</td>\n",
       "      <td>4</td>\n",
       "      <td>.75_</td>\n",
       "    </tr>\n",
       "  </tbody>\n",
       "</table>\n",
       "</div>"
      ],
      "text/plain": [
       "        loss  accuracy  val_loss  val_accuracy  epoch Learning Rate\n",
       "0   2.042748  0.221383  1.927688        0.2489      0          .01_\n",
       "1   1.865727  0.273267  1.793136        0.2993      1          .01_\n",
       "2   1.719807  0.307933  1.670906        0.3015      2          .01_\n",
       "3   1.641659  0.318000  1.631062        0.3110      3          .01_\n",
       "4   1.609124  0.337400  1.596534        0.3528      4          .01_\n",
       "5   2.300604  0.061267  2.297306        0.0506      0        .0001_\n",
       "6   2.294688  0.061233  2.291546        0.0635      1        .0001_\n",
       "7   2.289127  0.082050  2.285793        0.0938      2        .0001_\n",
       "8   2.283313  0.105900  2.279679        0.1128      3        .0001_\n",
       "9   2.277057  0.144067  2.273045        0.1490      4        .0001_\n",
       "10  2.306796  0.106850  2.308532        0.1028      0          .75_\n",
       "11  2.307016  0.102133  2.308773        0.1135      1          .75_\n",
       "12  2.306790  0.105117  2.304949        0.0958      2          .75_\n",
       "13  2.306852  0.104000  2.303487        0.1028      3          .75_\n",
       "14  2.306796  0.105833  2.311179        0.0958      4          .75_"
      ]
     },
     "metadata": {},
     "execution_count": 29
    }
   ]
  },
  {
   "cell_type": "code",
   "metadata": {
    "id": "QgDX7htLpTlQ",
    "colab": {
     "base_uri": "https://localhost:8080/",
     "height": 279
    },
    "executionInfo": {
     "status": "ok",
     "timestamp": 1633471507945,
     "user_tz": 420,
     "elapsed": 881,
     "user": {
      "displayName": "Joseph catanzarite",
      "photoUrl": "https://lh3.googleusercontent.com/a-/AOh14GgmMRaw8NgoEDqzevEZ6b18iOYdEH9nWTZeaFBW=s64",
      "userId": "16649206137414945374"
     }
    },
    "outputId": "b5e74b5d-c8ae-4b54-e84e-44f07d830e7a"
   },
   "source": [
    "sns.lineplot(x='epoch', y='val_loss', hue='Learning Rate', data=df);\n",
    "plt.grid()"
   ],
   "execution_count": null,
   "outputs": [
    {
     "output_type": "display_data",
     "data": {
      "image/png": "[encoded data removed]",
      "text/plain": [
       "<Figure size 432x288 with 1 Axes>"
      ]
     },
     "metadata": {
      "needs_background": "light"
     }
    }
   ]
  },
  {
   "cell_type": "code",
   "metadata": {
    "id": "D8GPXqf_qGs9",
    "colab": {
     "base_uri": "https://localhost:8080/",
     "height": 279
    },
    "executionInfo": {
     "status": "ok",
     "timestamp": 1633471588803,
     "user_tz": 420,
     "elapsed": 871,
     "user": {
      "displayName": "Joseph catanzarite",
      "photoUrl": "https://lh3.googleusercontent.com/a-/AOh14GgmMRaw8NgoEDqzevEZ6b18iOYdEH9nWTZeaFBW=s64",
      "userId": "16649206137414945374"
     }
    },
    "outputId": "8eedbe28-ec55-4778-e203-0be0d1601784"
   },
   "source": [
    "sns.lineplot(x='epoch', y='val_accuracy', hue='Learning Rate', data=df);\n",
    "plt.grid()"
   ],
   "execution_count": null,
   "outputs": [
    {
     "output_type": "display_data",
     "data": {
      "image/png": "[encoded data removed]",
      "text/plain": [
       "<Figure size 432x288 with 1 Axes>"
      ]
     },
     "metadata": {
      "needs_background": "light"
     }
    }
   ]
  },
  {
   "cell_type": "markdown",
   "metadata": {
    "id": "Hp1jHQ95swhy"
   },
   "source": [
    "##3.3 Learning Rate Scheduler Callback\n",
    "A great way to tune the learning rate is to use a learning rate scheduler, which adjusts the learning rate at each epoch according to a user-supplied \"schedule\". We'll show how to introduce an exponentially increasing schedule.\n",
    "The idea is you do a trial run with the scheduler, plot the loss vs. epoch, and choose a good learning rate by inspecting the plot. <br>_Rule of thumb: choose a learning rate that is a factor of 10 lower than the learning rate at the minimum of the loss vs. learning rate curve._"
   ]
  },
  {
   "cell_type": "markdown",
   "metadata": {
    "id": "o6SnRB9Cupwo"
   },
   "source": [
    "Here is a learning rate scheduler that starts the learning rate at 1.e-6 and increases by a factor of ten every 5 epochs. So that over 30 epochs, the learning rate goes from 1.e-6 up to 1.0 "
   ]
  },
  {
   "cell_type": "code",
   "metadata": {
    "id": "m3-iOvmmulKa",
    "executionInfo": {
     "status": "ok",
     "timestamp": 1638902829282,
     "user_tz": 480,
     "elapsed": 481,
     "user": {
      "displayName": "Joseph catanzarite",
      "photoUrl": "https://lh3.googleusercontent.com/a-/AOh14GgmMRaw8NgoEDqzevEZ6b18iOYdEH9nWTZeaFBW=s64",
      "userId": "16649206137414945374"
     }
    }
   },
   "source": [
    "def scheduler(epoch):\n",
    "    lr = 1e-6 * 10**(epoch/5)\n",
    "    return lr\n",
    "\n",
    "# Here is the callback\n",
    "lr_schedule = tf.keras.callbacks.LearningRateScheduler(scheduler)"
   ],
   "execution_count": 62,
   "outputs": []
  },
  {
   "cell_type": "markdown",
   "metadata": {
    "id": "z8i6vHFuvIA9"
   },
   "source": [
    "Let's try it out!"
   ]
  },
  {
   "cell_type": "code",
   "metadata": {
    "colab": {
     "base_uri": "https://localhost:8080/"
    },
    "id": "Pw3qyG1jt7y2",
    "executionInfo": {
     "status": "ok",
     "timestamp": 1638903069555,
     "user_tz": 480,
     "elapsed": 203094,
     "user": {
      "displayName": "Joseph catanzarite",
      "photoUrl": "https://lh3.googleusercontent.com/a-/AOh14GgmMRaw8NgoEDqzevEZ6b18iOYdEH9nWTZeaFBW=s64",
      "userId": "16649206137414945374"
     }
    },
    "outputId": "805fa693-b6c4-4497-b07d-da7cbeefd345"
   },
   "source": [
    "# create the model and fit it, passing in the learning rate scheduler callback that we created\n",
    "epochs = 30\n",
    "batch_size = 32\n",
    "model_for_lr_schedule = create_model()\n",
    "history_for_lr_schedule = model_for_lr_schedule.fit(X_train, y_train, batch_size=batch_size,callbacks=[lr_schedule] , epochs=epochs)"
   ],
   "execution_count": 63,
   "outputs": [
    {
     "output_type": "stream",
     "name": "stdout",
     "text": [
      "Epoch 1/30\n",
      "1875/1875 [==============================] - 5s 3ms/step - loss: 2.3028 - accuracy: 0.1167 - lr: 1.0000e-06\n",
      "Epoch 2/30\n",
      "1875/1875 [==============================] - 5s 3ms/step - loss: 2.3026 - accuracy: 0.1174 - lr: 1.5849e-06\n",
      "Epoch 3/30\n",
      "1875/1875 [==============================] - 5s 3ms/step - loss: 2.3023 - accuracy: 0.1183 - lr: 2.5119e-06\n",
      "Epoch 4/30\n",
      "1875/1875 [==============================] - 5s 3ms/step - loss: 2.3019 - accuracy: 0.1196 - lr: 3.9811e-06\n",
      "Epoch 5/30\n",
      "1875/1875 [==============================] - 5s 3ms/step - loss: 2.3012 - accuracy: 0.1212 - lr: 6.3096e-06\n",
      "Epoch 6/30\n",
      "1875/1875 [==============================] - 5s 3ms/step - loss: 2.3002 - accuracy: 0.1243 - lr: 1.0000e-05\n",
      "Epoch 7/30\n",
      "1875/1875 [==============================] - 5s 3ms/step - loss: 2.2987 - accuracy: 0.1294 - lr: 1.5849e-05\n",
      "Epoch 8/30\n",
      "1875/1875 [==============================] - 5s 3ms/step - loss: 2.2964 - accuracy: 0.1367 - lr: 2.5119e-05\n",
      "Epoch 9/30\n",
      "1875/1875 [==============================] - 5s 3ms/step - loss: 2.2932 - accuracy: 0.1459 - lr: 3.9811e-05\n",
      "Epoch 10/30\n",
      "1875/1875 [==============================] - 5s 3ms/step - loss: 2.2887 - accuracy: 0.1586 - lr: 6.3096e-05\n",
      "Epoch 11/30\n",
      "1875/1875 [==============================] - 5s 3ms/step - loss: 2.2820 - accuracy: 0.1736 - lr: 1.0000e-04\n",
      "Epoch 12/30\n",
      "1875/1875 [==============================] - 5s 3ms/step - loss: 2.2719 - accuracy: 0.1876 - lr: 1.5849e-04\n",
      "Epoch 13/30\n",
      "1875/1875 [==============================] - 5s 3ms/step - loss: 2.2561 - accuracy: 0.1979 - lr: 2.5119e-04\n",
      "Epoch 14/30\n",
      "1875/1875 [==============================] - 5s 3ms/step - loss: 2.2309 - accuracy: 0.2052 - lr: 3.9811e-04\n",
      "Epoch 15/30\n",
      "1875/1875 [==============================] - 5s 3ms/step - loss: 2.1909 - accuracy: 0.2122 - lr: 6.3096e-04\n",
      "Epoch 16/30\n",
      "1875/1875 [==============================] - 5s 3ms/step - loss: 2.1355 - accuracy: 0.2172 - lr: 0.0010\n",
      "Epoch 17/30\n",
      "1875/1875 [==============================] - 5s 3ms/step - loss: 2.0727 - accuracy: 0.2239 - lr: 0.0016\n",
      "Epoch 18/30\n",
      "1875/1875 [==============================] - 5s 3ms/step - loss: 2.0059 - accuracy: 0.2314 - lr: 0.0025\n",
      "Epoch 19/30\n",
      "1875/1875 [==============================] - 5s 3ms/step - loss: 1.9384 - accuracy: 0.2378 - lr: 0.0040\n",
      "Epoch 20/30\n",
      "1875/1875 [==============================] - 5s 3ms/step - loss: 1.8726 - accuracy: 0.2540 - lr: 0.0063\n",
      "Epoch 21/30\n",
      "1875/1875 [==============================] - 5s 3ms/step - loss: 1.8046 - accuracy: 0.2832 - lr: 0.0100\n",
      "Epoch 22/30\n",
      "1875/1875 [==============================] - 5s 3ms/step - loss: 1.7301 - accuracy: 0.3170 - lr: 0.0158\n",
      "Epoch 23/30\n",
      "1875/1875 [==============================] - 5s 3ms/step - loss: 1.6546 - accuracy: 0.3455 - lr: 0.0251\n",
      "Epoch 24/30\n",
      "1875/1875 [==============================] - 5s 3ms/step - loss: 1.6258 - accuracy: 0.3548 - lr: 0.0398\n",
      "Epoch 25/30\n",
      "1875/1875 [==============================] - 5s 3ms/step - loss: 1.6275 - accuracy: 0.3458 - lr: 0.0631\n",
      "Epoch 26/30\n",
      "1875/1875 [==============================] - 5s 3ms/step - loss: 1.6354 - accuracy: 0.3367 - lr: 0.1000\n",
      "Epoch 27/30\n",
      "1875/1875 [==============================] - 5s 3ms/step - loss: 1.6439 - accuracy: 0.3294 - lr: 0.1585\n",
      "Epoch 28/30\n",
      "1875/1875 [==============================] - 5s 3ms/step - loss: 1.7687 - accuracy: 0.2865 - lr: 0.2512\n",
      "Epoch 29/30\n",
      "1875/1875 [==============================] - 5s 3ms/step - loss: 1.9008 - accuracy: 0.2084 - lr: 0.3981\n",
      "Epoch 30/30\n",
      "1875/1875 [==============================] - 5s 3ms/step - loss: 1.8985 - accuracy: 0.1972 - lr: 0.6310\n"
     ]
    }
   ]
  },
  {
   "cell_type": "markdown",
   "metadata": {
    "id": "swY-13T94ZlS"
   },
   "source": [
    "Since the minimum in the loss vs learning rate curve below is at learning rate of 0.1, we should choose a learning rate of 0.01"
   ]
  },
  {
   "cell_type": "code",
   "metadata": {
    "colab": {
     "base_uri": "https://localhost:8080/",
     "height": 273
    },
    "id": "1BXA30jw1YhV",
    "executionInfo": {
     "status": "ok",
     "timestamp": 1635876487322,
     "user_tz": 420,
     "elapsed": 859,
     "user": {
      "displayName": "Joseph catanzarite",
      "photoUrl": "https://lh3.googleusercontent.com/a-/AOh14GgmMRaw8NgoEDqzevEZ6b18iOYdEH9nWTZeaFBW=s64",
      "userId": "16649206137414945374"
     }
    },
    "outputId": "a73ad0a3-8205-43fa-a13a-e1aa63719ed2"
   },
   "source": [
    "# plot the result\n",
    "plt.semilogx(history_for_lr_schedule.history[\"lr\"], history_for_lr_schedule.history[\"loss\"])\n",
    "plt.axis([1e-6, 1, 1.0, 2.5])\n",
    "plt.title('learning rate schedule')\n",
    "plt.xlabel('learning rate')\n",
    "plt.ylabel('loss')\n",
    "plt.grid()"
   ],
   "execution_count": null,
   "outputs": [
    {
     "output_type": "display_data",
     "data": {
      "image/png": "[encoded data removed]",
      "text/plain": [
       "<Figure size 432x288 with 1 Axes>"
      ]
     },
     "metadata": {
      "needs_background": "light"
     }
    }
   ]
  },
  {
   "cell_type": "markdown",
   "metadata": {
    "id": "Kb2aiw_Sgcl7"
   },
   "source": [
    "## Challenge\n",
    "\n",
    "You will be expected to experiment with different learning rates today.\n",
    "\n",
    "---"
   ]
  },
  {
   "cell_type": "markdown",
   "metadata": {
    "id": "GszSNVwUrmXy"
   },
   "source": [
    "# 4. Stretch: How do I know if my neural net is overfitting ?\n",
    "\n",
    "Compare train losses vs. test losses (or use a metric such as `accuracy` instead of `loss`) and look for the gap between the curves. <br>\n",
    "This is for the results of section 3.2.4<br>\n",
    "\n",
    "\n",
    "See [How to use Learning Curves to Diagnose Machine Learning Model Performance](https://machinelearningmastery.com/learning-curves-for-diagnosing-machine-learning-model-performance/) for further details "
   ]
  },
  {
   "cell_type": "code",
   "metadata": {
    "id": "eP5u3_ZWr3Mn"
   },
   "source": [
    "sns.lineplot(x='epoch', y='val_loss', data=df[df['Learning Rate']=='.01_'], label=\"test_loss\")\n",
    "sns.lineplot(x='epoch', y='loss', data=df[df['Learning Rate']=='.01_'], label=\"train_loss\");"
   ],
   "execution_count": null,
   "outputs": []
  },
  {
   "cell_type": "code",
   "metadata": {
    "id": "aBt1q68UsHoq"
   },
   "source": [
    "sns.lineplot(x='epoch', y='val_accuracy', data=df[df['Learning Rate']=='.01_'])\n",
    "sns.lineplot(x='epoch', y='accuracy', data=df[df['Learning Rate']=='.01_']);\n"
   ],
   "execution_count": null,
   "outputs": []
  }
 ]
}
