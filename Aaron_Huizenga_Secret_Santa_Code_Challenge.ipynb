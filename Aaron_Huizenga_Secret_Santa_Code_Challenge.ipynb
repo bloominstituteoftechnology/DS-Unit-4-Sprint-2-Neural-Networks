{
  "nbformat": 4,
  "nbformat_minor": 0,
  "metadata": {
    "colab": {
      "name": "Aaron_Huizenga_Secret Santa_Code_Challenge.ipynb",
      "provenance": [],
      "collapsed_sections": [],
      "include_colab_link": true
    },
    "kernelspec": {
      "name": "python3",
      "display_name": "Python 3"
    }
  },
  "cells": [
    {
      "cell_type": "markdown",
      "metadata": {
        "id": "view-in-github",
        "colab_type": "text"
      },
      "source": [
        "<a href=\"https://colab.research.google.com/github/nusc2016/DS-Unit-4-Sprint-2-Neural-Networks/blob/main/Aaron_Huizenga_Secret_Santa_Code_Challenge.ipynb\" target=\"_parent\"><img src=\"https://colab.research.google.com/assets/colab-badge.svg\" alt=\"Open In Colab\"/></a>"
      ]
    },
    {
      "cell_type": "markdown",
      "metadata": {
        "id": "bY2uVlnjdvRE",
        "colab_type": "text"
      },
      "source": [
        "Anika wants to run a Secret Santa for Christmas but has a lot of friends and doesn't want to have to assign everyone by hand. Write a function that takes in an ordered list of names, shuffles it, and then assigns each person a Secret Santa. Per the rules of Secret Santa, no one should be recieving from someone they gave to.\n",
        "\n",
        "Example:\n",
        "```\n",
        "santas = ['a','b','c','d','e']\n",
        "secret_santafy(santas) ->\n",
        "c b\n",
        "b e\n",
        "e a\n",
        "a d\n",
        "d c\n",
        "```"
      ]
    },
    {
      "cell_type": "code",
      "metadata": {
        "id": "qmrB8TuzaIXC",
        "colab_type": "code",
        "colab": {
          "base_uri": "https://localhost:8080/",
          "height": 108
        },
        "outputId": "c202bae0-fc65-44d1-fc16-11422c005ca2"
      },
      "source": [
        "from random import shuffle\n",
        "\n",
        "santas = ['a','b','c','d','e']\n",
        "\n",
        "def secret_santafy(santas):\n",
        "  shuffle(santas)\n",
        "  for i, santa in enumerate(santas):\n",
        "    if i < len(santas)-1:\n",
        "      print(santa, santas[i+1])\n",
        "    else:\n",
        "      print(santa, santas[0])\n",
        "\n",
        "secret_santafy(santas)"
      ],
      "execution_count": null,
      "outputs": [
        {
          "output_type": "stream",
          "text": [
            "a c\n",
            "c b\n",
            "b d\n",
            "d e\n",
            "e a\n"
          ],
          "name": "stdout"
        }
      ]
    },
    {
      "cell_type": "code",
      "metadata": {
        "id": "pNOKv-te6-ed",
        "colab_type": "code",
        "colab": {}
      },
      "source": [
        "####### My code begin here"
      ],
      "execution_count": 1,
      "outputs": []
    },
    {
      "cell_type": "code",
      "metadata": {
        "id": "yCGiqF4N6nkp",
        "colab_type": "code",
        "colab": {}
      },
      "source": [
        "import copy\n",
        "import random"
      ],
      "execution_count": 12,
      "outputs": []
    },
    {
      "cell_type": "code",
      "metadata": {
        "id": "hPF3byVK7I-U",
        "colab_type": "code",
        "colab": {}
      },
      "source": [
        "names = ['Anika', 'Aaron', 'Melanie', 'Kael', 'Braylon', 'Morgan', 'Jeff']"
      ],
      "execution_count": 29,
      "outputs": []
    },
    {
      "cell_type": "code",
      "metadata": {
        "id": "uW0YMJVw8e7w",
        "colab_type": "code",
        "colab": {}
      },
      "source": [
        "def secret_santa(names):\n",
        "  my_list = names\n",
        "  choose = copy.copy(my_list)\n",
        "  result = []\n",
        "  for i in my_list:\n",
        "    names = copy.copy(my_list)\n",
        "    names.pop(names.index(i))\n",
        "    chosen = random.choice(list(set(choose) &set(names)))\n",
        "    result.append((i, chosen))\n",
        "    choose.pop(choose.index(chosen))\n",
        "  return result"
      ],
      "execution_count": 30,
      "outputs": []
    },
    {
      "cell_type": "code",
      "metadata": {
        "id": "KU5y99ox9JEH",
        "colab_type": "code",
        "colab": {}
      },
      "source": [
        "ss_result = secret_santa(names)"
      ],
      "execution_count": 31,
      "outputs": []
    },
    {
      "cell_type": "code",
      "metadata": {
        "id": "fYypAliA9Sft",
        "colab_type": "code",
        "colab": {
          "base_uri": "https://localhost:8080/",
          "height": 136
        },
        "outputId": "d0feff76-b78f-4fb0-a475-add79f872667"
      },
      "source": [
        "ss_result"
      ],
      "execution_count": 32,
      "outputs": [
        {
          "output_type": "execute_result",
          "data": {
            "text/plain": [
              "[('Anika', 'Morgan'),\n",
              " ('Aaron', 'Braylon'),\n",
              " ('Melanie', 'Kael'),\n",
              " ('Kael', 'Jeff'),\n",
              " ('Braylon', 'Melanie'),\n",
              " ('Morgan', 'Aaron'),\n",
              " ('Jeff', 'Anika')]"
            ]
          },
          "metadata": {
            "tags": []
          },
          "execution_count": 32
        }
      ]
    },
    {
      "cell_type": "code",
      "metadata": {
        "id": "trTN8uF79UDF",
        "colab_type": "code",
        "colab": {}
      },
      "source": [
        "# There is a way that you can include emails \n",
        "# You would include the emails and would need to import necessary libraries for \n",
        "# it too work\n",
        "\n",
        "\n",
        "# You have to be careful with the amount of names that you enter.\n",
        "# If you have a high number of people and an even number of said people, then the \n",
        "# chances of you recieving a gift from the person you gifted becomes higher."
      ],
      "execution_count": null,
      "outputs": []
    }
  ]
}