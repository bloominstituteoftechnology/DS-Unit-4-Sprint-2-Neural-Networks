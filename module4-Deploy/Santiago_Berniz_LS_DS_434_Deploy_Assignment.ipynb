{
  "nbformat": 4,
  "nbformat_minor": 0,
  "metadata": {
    "colab": {
      "name": "Santiago_Berniz_LS_DS_434_Deploy_Assignment.ipynb",
      "provenance": [],
      "collapsed_sections": [],
      "toc_visible": true,
      "include_colab_link": true
    },
    "kernelspec": {
      "display_name": "Python 3",
      "language": "python",
      "name": "python3"
    },
    "language_info": {
      "codemirror_mode": {
        "name": "ipython",
        "version": 3
      },
      "file_extension": ".py",
      "mimetype": "text/x-python",
      "name": "python",
      "nbconvert_exporter": "python",
      "pygments_lexer": "ipython3",
      "version": "3.7.3"
    },
    "nteract": {
      "version": "0.22.4"
    },
    "accelerator": "GPU"
  },
  "cells": [
    {
      "cell_type": "markdown",
      "metadata": {
        "id": "view-in-github",
        "colab_type": "text"
      },
      "source": [
        "<a href=\"https://colab.research.google.com/github/sberniz/DS-Unit-4-Sprint-2-Neural-Networks/blob/main/module4-Deploy/Santiago_Berniz_LS_DS_434_Deploy_Assignment.ipynb\" target=\"_parent\"><img src=\"https://colab.research.google.com/assets/colab-badge.svg\" alt=\"Open In Colab\"/></a>"
      ]
    },
    {
      "cell_type": "markdown",
      "metadata": {
        "colab_type": "text",
        "id": "NGGrt9EYlCqY"
      },
      "source": [
        "<img align=\"left\" src=\"https://lever-client-logos.s3.amazonaws.com/864372b1-534c-480e-acd5-9711f850815c-1524247202159.png\" width=200>\n",
        "<br></br>\n",
        "<br></br>\n",
        "\n",
        "# Train Practice\n",
        "\n",
        "## *Data Science Unit 4 Sprint 2 Assignment 4*\n",
        "\n",
        "Continue to use TensorFlow Keras & a sample of the [Quickdraw dataset](https://github.com/googlecreativelab/quickdraw-dataset) to build a sketch classification model. The dataset has been sampled to only 10 classes and 10000 observations per class. Apply regularization techniques to your model. \n",
        "\n",
        "*Don't forgot to switch to GPU on Colab!*"
      ]
    },
    {
      "cell_type": "code",
      "metadata": {
        "id": "mpG7YzOcoeEB",
        "colab_type": "code",
        "colab": {}
      },
      "source": [
        "# Imports\n",
        "from tensorflow.keras.callbacks import EarlyStopping, TensorBoard\n",
        "from tensorflow.keras.layers import Flatten, Dense\n",
        "from tensorflow.keras.layers import ReLU\n",
        "import tensorflow as tf\n",
        "import os\n",
        "import numpy as np\n",
        "import pandas as pd\n",
        "from sklearn.model_selection import train_test_split"
      ],
      "execution_count": 2,
      "outputs": []
    },
    {
      "cell_type": "code",
      "metadata": {
        "id": "Eb8MoUW3ooij",
        "colab_type": "code",
        "colab": {
          "base_uri": "https://localhost:8080/",
          "height": 35
        },
        "outputId": "04dec861-a13a-410b-f8ee-d9862394cbb3"
      },
      "source": [
        "\n",
        "def load_quickdraw10(path):\n",
        "  data = np.load(path)\n",
        "  X = data['arr_0']\n",
        "  y = data['arr_1']\n",
        "  X = X.astype('float32') / 255.\n",
        "\n",
        "  return train_test_split(X,y,test_size=0.2, train_size=0.8, random_state=42)\n",
        "\n",
        "\n",
        "X_train, X_test, y_train, y_test = load_quickdraw10('quickdraw10.npz')\n",
        "X_train.shape,y_train.shape,X_test.shape,y_test.shape"
      ],
      "execution_count": 3,
      "outputs": [
        {
          "output_type": "execute_result",
          "data": {
            "text/plain": [
              "((80000, 784), (80000,), (20000, 784), (20000,))"
            ]
          },
          "metadata": {
            "tags": []
          },
          "execution_count": 3
        }
      ]
    },
    {
      "cell_type": "code",
      "metadata": {
        "id": "iwvDpyml39us",
        "colab_type": "code",
        "colab": {
          "base_uri": "https://localhost:8080/",
          "height": 1000
        },
        "outputId": "8d85635d-1aa9-4780-fa6f-a16b6ed202ad"
      },
      "source": [
        "X_train[0]"
      ],
      "execution_count": 4,
      "outputs": [
        {
          "output_type": "execute_result",
          "data": {
            "text/plain": [
              "array([0.        , 0.        , 0.        , 0.        , 0.        ,\n",
              "       0.        , 0.        , 0.        , 0.        , 0.        ,\n",
              "       0.        , 0.        , 0.        , 0.        , 0.        ,\n",
              "       0.        , 0.        , 0.        , 0.        , 0.        ,\n",
              "       0.        , 0.        , 0.        , 0.        , 0.        ,\n",
              "       0.        , 0.        , 0.        , 0.        , 0.        ,\n",
              "       0.        , 0.        , 0.        , 0.        , 0.        ,\n",
              "       0.        , 0.        , 0.        , 0.        , 0.        ,\n",
              "       0.        , 0.1882353 , 0.42745098, 0.42745098, 0.27450982,\n",
              "       0.04705882, 0.        , 0.        , 0.        , 0.        ,\n",
              "       0.        , 0.        , 0.        , 0.        , 0.        ,\n",
              "       0.        , 0.        , 0.        , 0.        , 0.        ,\n",
              "       0.        , 0.        , 0.        , 0.        , 0.        ,\n",
              "       0.        , 0.        , 0.24313726, 0.7882353 , 1.        ,\n",
              "       1.        , 1.        , 1.        , 0.8627451 , 0.1764706 ,\n",
              "       0.        , 0.        , 0.        , 0.        , 0.        ,\n",
              "       0.        , 0.        , 0.        , 0.        , 0.        ,\n",
              "       0.        , 0.        , 0.        , 0.        , 0.        ,\n",
              "       0.        , 0.        , 0.        , 0.00392157, 0.45490196,\n",
              "       0.9843137 , 0.8392157 , 0.39607844, 0.07058824, 0.05882353,\n",
              "       0.2627451 , 0.8745098 , 0.9372549 , 0.07058824, 0.        ,\n",
              "       0.        , 0.        , 0.        , 0.        , 0.        ,\n",
              "       0.        , 0.        , 0.        , 0.        , 0.        ,\n",
              "       0.        , 0.        , 0.        , 0.        , 0.        ,\n",
              "       0.        , 0.5176471 , 1.        , 0.6313726 , 0.03921569,\n",
              "       0.        , 0.        , 0.        , 0.        , 0.14901961,\n",
              "       0.99215686, 0.4745098 , 0.        , 0.        , 0.        ,\n",
              "       0.        , 0.        , 0.        , 0.        , 0.        ,\n",
              "       0.        , 0.        , 0.        , 0.        , 0.        ,\n",
              "       0.        , 0.        , 0.        , 0.24313726, 0.9882353 ,\n",
              "       0.5803922 , 0.        , 0.        , 0.        , 0.        ,\n",
              "       0.        , 0.        , 0.03529412, 0.72156864, 0.9098039 ,\n",
              "       0.03921569, 0.        , 0.        , 0.        , 0.        ,\n",
              "       0.        , 0.        , 0.        , 0.        , 0.        ,\n",
              "       0.        , 0.        , 0.        , 0.        , 0.        ,\n",
              "       0.01568628, 0.8784314 , 0.83137256, 0.03529412, 0.        ,\n",
              "       0.17254902, 0.47058824, 0.7647059 , 0.9098039 , 0.972549  ,\n",
              "       1.        , 1.        , 1.        , 0.9882353 , 0.84313726,\n",
              "       0.4392157 , 0.04313726, 0.        , 0.        , 0.        ,\n",
              "       0.        , 0.        , 0.        , 0.        , 0.        ,\n",
              "       0.        , 0.        , 0.        , 0.20784314, 1.        ,\n",
              "       0.32941177, 0.3372549 , 0.7764706 , 1.        , 0.9882353 ,\n",
              "       0.76862746, 0.61960787, 0.61960787, 0.54509807, 0.3764706 ,\n",
              "       0.92941177, 0.99215686, 0.7294118 , 1.        , 0.8745098 ,\n",
              "       0.11372549, 0.        , 0.        , 0.        , 0.        ,\n",
              "       0.        , 0.        , 0.        , 0.        , 0.        ,\n",
              "       0.        , 0.11764706, 0.98039216, 0.8862745 , 1.        ,\n",
              "       0.95686275, 0.9019608 , 0.09803922, 0.6313726 , 1.        ,\n",
              "       1.        , 0.9647059 , 0.        , 0.62352943, 1.        ,\n",
              "       0.01176471, 0.21960784, 0.92156863, 0.84705883, 0.07058824,\n",
              "       0.        , 0.        , 0.        , 0.        , 0.        ,\n",
              "       0.        , 0.        , 0.        , 0.        , 0.3137255 ,\n",
              "       0.95686275, 1.        , 0.99607843, 0.99607843, 1.        ,\n",
              "       0.56078434, 0.99215686, 0.49411765, 0.7294118 , 0.9254902 ,\n",
              "       0.        , 0.43137255, 1.        , 0.04313726, 0.        ,\n",
              "       0.20784314, 0.9843137 , 0.50980395, 0.        , 0.        ,\n",
              "       0.        , 0.        , 0.        , 0.        , 0.        ,\n",
              "       0.        , 0.36078432, 0.9843137 , 1.        , 1.        ,\n",
              "       0.84705883, 0.6509804 , 1.        , 0.58431375, 0.4745098 ,\n",
              "       0.10980392, 0.9647059 , 0.5921569 , 0.        , 0.38431373,\n",
              "       1.        , 0.08627451, 0.        , 0.        , 0.654902  ,\n",
              "       0.9254902 , 0.03921569, 0.        , 0.        , 0.        ,\n",
              "       0.        , 0.        , 0.        , 0.3882353 , 0.99215686,\n",
              "       1.        , 0.9019608 , 0.40392157, 0.01568628, 0.16862746,\n",
              "       1.        , 0.3254902 , 0.        , 0.60784316, 0.99607843,\n",
              "       0.36862746, 0.1882353 , 0.3137255 , 1.        , 0.10196079,\n",
              "       0.        , 0.        , 0.27450982, 1.        , 0.23137255,\n",
              "       0.        , 0.        , 0.        , 0.        , 0.        ,\n",
              "       0.11372549, 0.9254902 , 0.9647059 , 0.49411765, 0.04313726,\n",
              "       0.        , 0.        , 0.01960784, 0.9764706 , 0.49019608,\n",
              "       0.00392157, 0.9529412 , 1.        , 1.        , 0.9843137 ,\n",
              "       0.05882353, 0.20392157, 0.        , 0.01176471, 0.21176471,\n",
              "       0.41960785, 1.        , 0.30588236, 0.        , 0.        ,\n",
              "       0.        , 0.        , 0.09411765, 0.88235295, 0.93333334,\n",
              "       0.38431373, 0.07058824, 0.        , 0.        , 0.        ,\n",
              "       0.        , 0.827451  , 0.6313726 , 0.        , 0.1254902 ,\n",
              "       0.2       , 0.2       , 0.14117648, 0.        , 0.30980393,\n",
              "       0.63529414, 0.9254902 , 1.        , 1.        , 1.        ,\n",
              "       0.37254903, 0.        , 0.        , 0.        , 0.01960784,\n",
              "       0.7647059 , 0.94509804, 0.16862746, 0.18039216, 0.98039216,\n",
              "       0.25490198, 0.        , 0.        , 0.        , 0.20392157,\n",
              "       0.15686275, 0.        , 0.        , 0.        , 0.        ,\n",
              "       0.        , 0.07843138, 0.9882353 , 0.9019608 , 0.6039216 ,\n",
              "       0.8156863 , 0.99607843, 1.        , 0.31764707, 0.        ,\n",
              "       0.        , 0.        , 0.47058824, 0.99607843, 0.30980393,\n",
              "       0.39607844, 0.84313726, 0.99607843, 0.10588235, 0.        ,\n",
              "       0.        , 0.        , 0.        , 0.        , 0.        ,\n",
              "       0.        , 0.        , 0.        , 0.        , 0.        ,\n",
              "       0.07843138, 0.00784314, 0.3019608 , 1.        , 0.7058824 ,\n",
              "       1.        , 0.23921569, 0.        , 0.        , 0.01568628,\n",
              "       0.8862745 , 0.69803923, 0.4745098 , 1.        , 1.        ,\n",
              "       0.8039216 , 0.        , 0.        , 0.        , 0.        ,\n",
              "       0.        , 0.        , 0.        , 0.        , 0.        ,\n",
              "       0.        , 0.        , 0.        , 0.        , 0.3019608 ,\n",
              "       0.8392157 , 1.        , 0.8745098 , 0.90588236, 0.04705882,\n",
              "       0.        , 0.        , 0.28627452, 1.        , 0.46666667,\n",
              "       0.99607843, 1.        , 1.        , 0.5137255 , 0.        ,\n",
              "       0.        , 0.        , 0.        , 0.        , 0.        ,\n",
              "       0.        , 0.        , 0.        , 0.        , 0.        ,\n",
              "       0.23529412, 0.76862746, 1.        , 0.83137256, 0.5764706 ,\n",
              "       1.        , 0.36862746, 0.        , 0.        , 0.        ,\n",
              "       0.33333334, 1.        , 0.8       , 1.        , 1.        ,\n",
              "       1.        , 0.38039216, 0.        , 0.        , 0.        ,\n",
              "       0.        , 0.        , 0.        , 0.        , 0.        ,\n",
              "       0.        , 0.        , 0.08627451, 0.99215686, 0.8784314 ,\n",
              "       0.37254903, 0.27450982, 0.9764706 , 0.70980394, 0.00392157,\n",
              "       0.        , 0.        , 0.        , 0.24313726, 1.        ,\n",
              "       1.        , 1.        , 0.8235294 , 1.        , 0.34901962,\n",
              "       0.        , 0.        , 0.        , 0.        , 0.        ,\n",
              "       0.02352941, 0.7294118 , 0.3254902 , 0.        , 0.        ,\n",
              "       0.        , 0.20784314, 0.02745098, 0.39607844, 0.95686275,\n",
              "       0.79607844, 0.04705882, 0.        , 0.        , 0.        ,\n",
              "       0.        , 0.15686275, 1.        , 0.99607843, 0.72156864,\n",
              "       0.07058824, 0.9411765 , 0.5764706 , 0.        , 0.        ,\n",
              "       0.        , 0.        , 0.        , 0.45882353, 1.        ,\n",
              "       0.39607844, 0.29411766, 0.06666667, 0.        , 0.08627451,\n",
              "       0.69411767, 1.        , 0.7058824 , 0.07843138, 0.        ,\n",
              "       0.        , 0.        , 0.        , 0.        , 0.07058824,\n",
              "       1.        , 0.43529412, 0.        , 0.        , 0.34117648,\n",
              "       0.28235295, 0.        , 0.        , 0.        , 0.        ,\n",
              "       0.        , 0.8980392 , 0.9372549 , 0.98039216, 1.        ,\n",
              "       0.57254905, 0.3019608 , 0.9098039 , 0.95686275, 0.40392157,\n",
              "       0.00392157, 0.        , 0.        , 0.        , 0.        ,\n",
              "       0.        , 0.        , 0.00392157, 0.8627451 , 0.7647059 ,\n",
              "       0.        , 0.        , 0.        , 0.        , 0.        ,\n",
              "       0.        , 0.        , 0.        , 0.13333334, 1.        ,\n",
              "       1.        , 0.90588236, 0.98039216, 0.8627451 , 1.        ,\n",
              "       0.7882353 , 0.14901961, 0.        , 0.        , 0.        ,\n",
              "       0.        , 0.        , 0.        , 0.        , 0.        ,\n",
              "       0.        , 0.3882353 , 1.        , 0.3647059 , 0.        ,\n",
              "       0.        , 0.        , 0.        , 0.        , 0.        ,\n",
              "       0.        , 0.10196079, 0.92941177, 1.        , 1.        ,\n",
              "       1.        , 0.95686275, 0.49803922, 0.01568628, 0.        ,\n",
              "       0.        , 0.        , 0.        , 0.        , 0.        ,\n",
              "       0.        , 0.        , 0.        , 0.        , 0.01960784,\n",
              "       0.7294118 , 0.99607843, 0.59607846, 0.22745098, 0.00392157,\n",
              "       0.        , 0.02352941, 0.16078432, 0.32156864, 0.6392157 ,\n",
              "       0.99607843, 1.        , 0.84705883, 0.4509804 , 0.04705882,\n",
              "       0.        , 0.        , 0.        , 0.        , 0.        ,\n",
              "       0.        , 0.        , 0.        , 0.        , 0.        ,\n",
              "       0.        , 0.        , 0.        , 0.01960784, 0.56078434,\n",
              "       0.9490196 , 1.        , 1.        , 1.        , 1.        ,\n",
              "       1.        , 1.        , 0.91764706, 0.73333335, 0.29411766,\n",
              "       0.        , 0.        , 0.        , 0.        , 0.        ,\n",
              "       0.        , 0.        , 0.        , 0.        , 0.        ,\n",
              "       0.        , 0.        , 0.        , 0.        , 0.        ,\n",
              "       0.        , 0.        , 0.        , 0.03529412, 0.32941177,\n",
              "       0.46666667, 0.46666667, 0.45490196, 0.33333334, 0.18431373,\n",
              "       0.02352941, 0.        , 0.        , 0.        , 0.        ,\n",
              "       0.        , 0.        , 0.        , 0.        , 0.        ,\n",
              "       0.        , 0.        , 0.        , 0.        , 0.        ,\n",
              "       0.        , 0.        , 0.        , 0.        , 0.        ,\n",
              "       0.        , 0.        , 0.        , 0.        , 0.        ,\n",
              "       0.        , 0.        , 0.        , 0.        , 0.        ,\n",
              "       0.        , 0.        , 0.        , 0.        , 0.        ,\n",
              "       0.        , 0.        , 0.        , 0.        , 0.        ,\n",
              "       0.        , 0.        , 0.        , 0.        ], dtype=float32)"
            ]
          },
          "metadata": {
            "tags": []
          },
          "execution_count": 4
        }
      ]
    },
    {
      "cell_type": "markdown",
      "metadata": {
        "id": "ptJ2b3wk62Ud",
        "colab_type": "text"
      },
      "source": [
        "## Regularization\n",
        "\n",
        "Using your best performing model from the previous module, apply each of the following regularization strategies: \n",
        "* Early Stopping\n",
        "* Dropout\n",
        "* Weight Decay\n",
        "* Weight Constraint\n"
      ]
    },
    {
      "cell_type": "code",
      "metadata": {
        "id": "USXjs7Hk71Hy",
        "colab_type": "code",
        "colab": {}
      },
      "source": [
        "#Early Stopping \n",
        "logdir = os.path.join(\"logs\",\"EarlyStopping-loss\")\n",
        "\n",
        "tensorboard_callback = tf.keras.callbacks.TensorBoard(logdir,histogram_freq=1)\n",
        "stop = EarlyStopping(monitor='val_loss', min_delta=0.01, patience=3)"
      ],
      "execution_count": 5,
      "outputs": []
    },
    {
      "cell_type": "code",
      "metadata": {
        "id": "q2fx7u3LpqWe",
        "colab_type": "code",
        "colab": {
          "base_uri": "https://localhost:8080/",
          "height": 339
        },
        "outputId": "8d4714e8-ae9b-47e4-bbb8-17c6c70049d8"
      },
      "source": [
        "#Train Model with callback\n",
        "model = tf.keras.Sequential([\n",
        "  Dense(128, input_dim=784),\n",
        "  ReLU(negative_slope=.01),\n",
        "  Dense(128),\n",
        "  ReLU(negative_slope=0.01),\n",
        "  Dense(128),\n",
        "  ReLU(negative_slope=.01),\n",
        "  Dense(10,activation='softmax')\n",
        "])\n",
        "#Compile Model \n",
        "model.compile(loss='sparse_categorical_crossentropy',optimizer='nadam',metrics=['accuracy'])\n",
        "#Fit model\n",
        "model.fit(X_train,y_train, epochs=99, validation_data=(X_test,y_test), callbacks=[tensorboard_callback,stop])"
      ],
      "execution_count": 6,
      "outputs": [
        {
          "output_type": "stream",
          "text": [
            "Epoch 1/99\n",
            "   1/2500 [..............................] - ETA: 0s - loss: 2.3790 - accuracy: 0.0625WARNING:tensorflow:From /usr/local/lib/python3.6/dist-packages/tensorflow/python/ops/summary_ops_v2.py:1277: stop (from tensorflow.python.eager.profiler) is deprecated and will be removed after 2020-07-01.\n",
            "Instructions for updating:\n",
            "use `tf.profiler.experimental.stop` instead.\n",
            "   2/2500 [..............................] - ETA: 2:15 - loss: 2.3368 - accuracy: 0.1094WARNING:tensorflow:Callbacks method `on_train_batch_end` is slow compared to the batch time (batch time: 0.0093s vs `on_train_batch_end` time: 0.0990s). Check your callbacks.\n",
            "2500/2500 [==============================] - 10s 4ms/step - loss: 0.6312 - accuracy: 0.8083 - val_loss: 0.4924 - val_accuracy: 0.8485\n",
            "Epoch 2/99\n",
            "2500/2500 [==============================] - 10s 4ms/step - loss: 0.4490 - accuracy: 0.8630 - val_loss: 0.4472 - val_accuracy: 0.8625\n",
            "Epoch 3/99\n",
            "2500/2500 [==============================] - 10s 4ms/step - loss: 0.3871 - accuracy: 0.8801 - val_loss: 0.4256 - val_accuracy: 0.8748\n",
            "Epoch 4/99\n",
            "2500/2500 [==============================] - 9s 4ms/step - loss: 0.3445 - accuracy: 0.8933 - val_loss: 0.4264 - val_accuracy: 0.8730\n",
            "Epoch 5/99\n",
            "2500/2500 [==============================] - 9s 4ms/step - loss: 0.3126 - accuracy: 0.9026 - val_loss: 0.4457 - val_accuracy: 0.8705\n",
            "Epoch 6/99\n",
            "2500/2500 [==============================] - 9s 4ms/step - loss: 0.2829 - accuracy: 0.9110 - val_loss: 0.4537 - val_accuracy: 0.8736\n"
          ],
          "name": "stdout"
        },
        {
          "output_type": "execute_result",
          "data": {
            "text/plain": [
              "<tensorflow.python.keras.callbacks.History at 0x7fdb503c1588>"
            ]
          },
          "metadata": {
            "tags": []
          },
          "execution_count": 6
        }
      ]
    },
    {
      "cell_type": "code",
      "metadata": {
        "id": "foI6bAITsBxX",
        "colab_type": "code",
        "colab": {
          "base_uri": "https://localhost:8080/",
          "height": 52
        },
        "outputId": "7b237aa5-78c2-4078-fd03-049b3675c93a"
      },
      "source": [
        "model.evaluate(X_test,y_test)"
      ],
      "execution_count": 7,
      "outputs": [
        {
          "output_type": "stream",
          "text": [
            "625/625 [==============================] - 1s 2ms/step - loss: 0.4537 - accuracy: 0.8736\n"
          ],
          "name": "stdout"
        },
        {
          "output_type": "execute_result",
          "data": {
            "text/plain": [
              "[0.4536511301994324, 0.8736000061035156]"
            ]
          },
          "metadata": {
            "tags": []
          },
          "execution_count": 7
        }
      ]
    },
    {
      "cell_type": "code",
      "metadata": {
        "id": "8XhbDjfEvA3c",
        "colab_type": "code",
        "colab": {
          "base_uri": "https://localhost:8080/",
          "height": 428
        },
        "outputId": "4c65c81a-46f6-4898-e173-9be6b4f8c219"
      },
      "source": [
        "#Dropout Only\n",
        "from tensorflow.keras.layers import Dropout\n",
        "\n",
        "logdir = os.path.join(\"logs\", \"EarlyStopping+WeightConstraint+Dropout\")\n",
        "\n",
        "tensorboard_callback = tf.keras.callbacks.TensorBoard(logdir, histogram_freq=1)\n",
        "stop = EarlyStopping(monitor='val_loss', min_delta=0.001, patience=3)\n",
        "\n",
        "model_w_dropout = tf.keras.Sequential([\n",
        "    Dense(512, input_dim=784),\n",
        "    ReLU(negative_slope=.01),\n",
        "    Dropout(.2),\n",
        "    Dense(512),\n",
        "    ReLU(negative_slope=.01),\n",
        "    Dropout(.2),\n",
        "    Dense(512),\n",
        "    ReLU(negative_slope=.01),\n",
        "    Dropout(.2),\n",
        "    Dense(10, activation='softmax')\n",
        "])\n",
        "\n",
        "model_w_dropout.compile(loss='sparse_categorical_crossentropy', optimizer='nadam', metrics=['accuracy'])\n",
        "\n",
        "model_w_dropout.fit(X_train, y_train, epochs=99, \n",
        "          validation_data=(X_test,y_test),\n",
        "          callbacks=[tensorboard_callback, stop])"
      ],
      "execution_count": 8,
      "outputs": [
        {
          "output_type": "stream",
          "text": [
            "Epoch 1/99\n",
            "   2/2500 [..............................] - ETA: 1:47 - loss: 2.3397 - accuracy: 0.1250WARNING:tensorflow:Callbacks method `on_train_batch_end` is slow compared to the batch time (batch time: 0.0092s vs `on_train_batch_end` time: 0.0765s). Check your callbacks.\n",
            "2500/2500 [==============================] - 11s 4ms/step - loss: 0.6487 - accuracy: 0.8019 - val_loss: 0.4850 - val_accuracy: 0.8495\n",
            "Epoch 2/99\n",
            "2500/2500 [==============================] - 10s 4ms/step - loss: 0.4845 - accuracy: 0.8543 - val_loss: 0.4386 - val_accuracy: 0.8675\n",
            "Epoch 3/99\n",
            "2500/2500 [==============================] - 11s 4ms/step - loss: 0.4305 - accuracy: 0.8679 - val_loss: 0.4346 - val_accuracy: 0.8672\n",
            "Epoch 4/99\n",
            "2500/2500 [==============================] - 10s 4ms/step - loss: 0.3942 - accuracy: 0.8813 - val_loss: 0.4262 - val_accuracy: 0.8784\n",
            "Epoch 5/99\n",
            "2500/2500 [==============================] - 10s 4ms/step - loss: 0.3624 - accuracy: 0.8905 - val_loss: 0.4246 - val_accuracy: 0.8770\n",
            "Epoch 6/99\n",
            "2500/2500 [==============================] - 10s 4ms/step - loss: 0.3391 - accuracy: 0.8967 - val_loss: 0.4237 - val_accuracy: 0.8778\n",
            "Epoch 7/99\n",
            "2500/2500 [==============================] - 10s 4ms/step - loss: 0.3198 - accuracy: 0.9027 - val_loss: 0.4213 - val_accuracy: 0.8800\n",
            "Epoch 8/99\n",
            "2500/2500 [==============================] - 11s 4ms/step - loss: 0.3068 - accuracy: 0.9062 - val_loss: 0.4292 - val_accuracy: 0.8819\n",
            "Epoch 9/99\n",
            "2500/2500 [==============================] - 10s 4ms/step - loss: 0.2887 - accuracy: 0.9111 - val_loss: 0.4429 - val_accuracy: 0.8802\n",
            "Epoch 10/99\n",
            "2500/2500 [==============================] - 10s 4ms/step - loss: 0.2772 - accuracy: 0.9142 - val_loss: 0.4429 - val_accuracy: 0.8798\n"
          ],
          "name": "stdout"
        },
        {
          "output_type": "execute_result",
          "data": {
            "text/plain": [
              "<tensorflow.python.keras.callbacks.History at 0x7fdb500b7780>"
            ]
          },
          "metadata": {
            "tags": []
          },
          "execution_count": 8
        }
      ]
    },
    {
      "cell_type": "code",
      "metadata": {
        "id": "PXalwJ-ay-vG",
        "colab_type": "code",
        "colab": {
          "base_uri": "https://localhost:8080/",
          "height": 52
        },
        "outputId": "93fadaab-f5c1-4e42-a442-579488adb861"
      },
      "source": [
        "model_w_dropout.evaluate(X_test,y_test)"
      ],
      "execution_count": 9,
      "outputs": [
        {
          "output_type": "stream",
          "text": [
            "625/625 [==============================] - 1s 2ms/step - loss: 0.4429 - accuracy: 0.8798\n"
          ],
          "name": "stdout"
        },
        {
          "output_type": "execute_result",
          "data": {
            "text/plain": [
              "[0.4428623914718628, 0.8798499703407288]"
            ]
          },
          "metadata": {
            "tags": []
          },
          "execution_count": 9
        }
      ]
    },
    {
      "cell_type": "code",
      "metadata": {
        "id": "0gm1Ipcuzh4m",
        "colab_type": "code",
        "colab": {
          "base_uri": "https://localhost:8080/",
          "height": 357
        },
        "outputId": "8baa78fb-6e78-4eff-dd50-2711e636ac25"
      },
      "source": [
        "#Decay Only\n",
        "from tensorflow.keras import regularizers\n",
        "\n",
        "logdir = os.path.join(\"logs\", \"EarlyStopping+L2_WeightDecay\")\n",
        "tensorboard_callback = tf.keras.callbacks.TensorBoard(logdir, histogram_freq=1)\n",
        "\n",
        "stop = EarlyStopping(monitor='val_loss', min_delta=0.01, patience=3)\n",
        "\n",
        "model_w_decay = tf.keras.Sequential([\n",
        "    Dense(512, input_dim=784, kernel_regularizer=regularizers.l2(0.01)),\n",
        "    ReLU(negative_slope=.01),\n",
        "    Dense(512, kernel_regularizer=regularizers.l2(0.01)),\n",
        "    ReLU(negative_slope=.01),\n",
        "    Dense(512, kernel_regularizer=regularizers.l2(0.01)),\n",
        "    ReLU(negative_slope=.01),\n",
        "    Dense(10, activation='softmax')\n",
        "])\n",
        "\n",
        "model_w_decay.compile(loss='sparse_categorical_crossentropy', optimizer='nadam',\n",
        "              metrics=['accuracy'])\n",
        "\n",
        "model_w_decay.fit(X_train, y_train, epochs=99, \n",
        "          validation_data=(X_test,y_test),\n",
        "          callbacks=[tensorboard_callback, stop])\n"
      ],
      "execution_count": 10,
      "outputs": [
        {
          "output_type": "stream",
          "text": [
            "Epoch 1/99\n",
            "   2/2500 [..............................] - ETA: 1:41 - loss: 18.5853 - accuracy: 0.1875WARNING:tensorflow:Callbacks method `on_train_batch_end` is slow compared to the batch time (batch time: 0.0076s vs `on_train_batch_end` time: 0.0732s). Check your callbacks.\n",
            "2500/2500 [==============================] - 11s 4ms/step - loss: 1.4320 - accuracy: 0.7564 - val_loss: 0.9424 - val_accuracy: 0.8007\n",
            "Epoch 2/99\n",
            "2500/2500 [==============================] - 11s 4ms/step - loss: 0.9016 - accuracy: 0.8047 - val_loss: 0.8551 - val_accuracy: 0.8126\n",
            "Epoch 3/99\n",
            "2500/2500 [==============================] - 11s 4ms/step - loss: 0.8430 - accuracy: 0.8169 - val_loss: 0.8123 - val_accuracy: 0.8218\n",
            "Epoch 4/99\n",
            "2500/2500 [==============================] - 11s 4ms/step - loss: 0.8177 - accuracy: 0.8206 - val_loss: 0.8094 - val_accuracy: 0.8271\n",
            "Epoch 5/99\n",
            "2500/2500 [==============================] - 11s 4ms/step - loss: 0.8016 - accuracy: 0.8230 - val_loss: 0.7741 - val_accuracy: 0.8254\n",
            "Epoch 6/99\n",
            "2500/2500 [==============================] - 11s 4ms/step - loss: 0.7960 - accuracy: 0.8229 - val_loss: 0.7811 - val_accuracy: 0.8224\n",
            "Epoch 7/99\n",
            "2500/2500 [==============================] - 11s 4ms/step - loss: 0.7795 - accuracy: 0.8242 - val_loss: 0.7900 - val_accuracy: 0.8170\n",
            "Epoch 8/99\n",
            "2500/2500 [==============================] - 11s 4ms/step - loss: 0.7741 - accuracy: 0.8246 - val_loss: 0.7904 - val_accuracy: 0.8177\n"
          ],
          "name": "stdout"
        },
        {
          "output_type": "execute_result",
          "data": {
            "text/plain": [
              "<tensorflow.python.keras.callbacks.History at 0x7fdaf8e96080>"
            ]
          },
          "metadata": {
            "tags": []
          },
          "execution_count": 10
        }
      ]
    },
    {
      "cell_type": "code",
      "metadata": {
        "id": "knbWetzk1dBd",
        "colab_type": "code",
        "colab": {
          "base_uri": "https://localhost:8080/",
          "height": 52
        },
        "outputId": "5a464ee2-1596-49b4-cd3e-54370f6ca35c"
      },
      "source": [
        "model_w_decay.evaluate(X_test,y_test)"
      ],
      "execution_count": 11,
      "outputs": [
        {
          "output_type": "stream",
          "text": [
            "625/625 [==============================] - 1s 2ms/step - loss: 0.7904 - accuracy: 0.8177\n"
          ],
          "name": "stdout"
        },
        {
          "output_type": "execute_result",
          "data": {
            "text/plain": [
              "[0.7903968095779419, 0.8177499771118164]"
            ]
          },
          "metadata": {
            "tags": []
          },
          "execution_count": 11
        }
      ]
    },
    {
      "cell_type": "code",
      "metadata": {
        "id": "Zd31yw2a1gOv",
        "colab_type": "code",
        "colab": {
          "base_uri": "https://localhost:8080/",
          "height": 250
        },
        "outputId": "35e046a9-82ee-400b-e480-885357098b4b"
      },
      "source": [
        "#Constrain Only with early stop \n",
        "from tensorflow.keras.constraints import MaxNorm\n",
        "\n",
        "weight_constrain = MaxNorm(max_value=2)\n",
        "\n",
        "logdir = os.path.join(\"logs\", \"EarlyStopping+WeightConstraint\")\n",
        "\n",
        "tensorboard_callback = tf.keras.callbacks.TensorBoard(logdir, histogram_freq=1)\n",
        "stop = EarlyStopping(monitor='val_loss', min_delta=0.01, patience=3)\n",
        "\n",
        "model_w_constrain = tf.keras.Sequential([\n",
        "    Dense(512, input_dim=784, kernel_constraint=weight_constrain),\n",
        "    ReLU(negative_slope=.01),\n",
        "    Dense(512, kernel_constraint=weight_constrain),\n",
        "    ReLU(negative_slope=.01),\n",
        "    Dense(512, kernel_constraint=weight_constrain),\n",
        "    ReLU(negative_slope=.01),\n",
        "    Dense(10, activation='softmax')\n",
        "])\n",
        "\n",
        "model_w_constrain.compile(loss='sparse_categorical_crossentropy', optimizer='nadam', metrics=['accuracy'])\n",
        "\n",
        "model_w_constrain.fit(X_train, y_train, epochs=99, \n",
        "          validation_data=(X_test,y_test),\n",
        "          callbacks=[tensorboard_callback, stop])"
      ],
      "execution_count": 12,
      "outputs": [
        {
          "output_type": "stream",
          "text": [
            "Epoch 1/99\n",
            "   2/2500 [..............................] - ETA: 1:56 - loss: 2.2877 - accuracy: 0.0625WARNING:tensorflow:Callbacks method `on_train_batch_end` is slow compared to the batch time (batch time: 0.0099s vs `on_train_batch_end` time: 0.0829s). Check your callbacks.\n",
            "2500/2500 [==============================] - 11s 4ms/step - loss: 0.5827 - accuracy: 0.8212 - val_loss: 0.4857 - val_accuracy: 0.8494\n",
            "Epoch 2/99\n",
            "2500/2500 [==============================] - 10s 4ms/step - loss: 0.4150 - accuracy: 0.8737 - val_loss: 0.4267 - val_accuracy: 0.8695\n",
            "Epoch 3/99\n",
            "2500/2500 [==============================] - 10s 4ms/step - loss: 0.3531 - accuracy: 0.8908 - val_loss: 0.4396 - val_accuracy: 0.8708\n",
            "Epoch 4/99\n",
            "2500/2500 [==============================] - 10s 4ms/step - loss: 0.3188 - accuracy: 0.9003 - val_loss: 0.4179 - val_accuracy: 0.8792\n",
            "Epoch 5/99\n",
            "2500/2500 [==============================] - 10s 4ms/step - loss: 0.2954 - accuracy: 0.9068 - val_loss: 0.4309 - val_accuracy: 0.8752\n"
          ],
          "name": "stdout"
        },
        {
          "output_type": "execute_result",
          "data": {
            "text/plain": [
              "<tensorflow.python.keras.callbacks.History at 0x7fdaf8c0a668>"
            ]
          },
          "metadata": {
            "tags": []
          },
          "execution_count": 12
        }
      ]
    },
    {
      "cell_type": "code",
      "metadata": {
        "id": "77qxC9lo81MJ",
        "colab_type": "code",
        "colab": {
          "base_uri": "https://localhost:8080/",
          "height": 52
        },
        "outputId": "9475bf98-6792-4f5c-dee2-c256a99b6dea"
      },
      "source": [
        "model_w_constrain.evaluate(X_test,y_test)"
      ],
      "execution_count": 17,
      "outputs": [
        {
          "output_type": "stream",
          "text": [
            "625/625 [==============================] - 1s 2ms/step - loss: 0.4309 - accuracy: 0.8752\n"
          ],
          "name": "stdout"
        },
        {
          "output_type": "execute_result",
          "data": {
            "text/plain": [
              "[0.43086132407188416, 0.875249981880188]"
            ]
          },
          "metadata": {
            "tags": []
          },
          "execution_count": 17
        }
      ]
    },
    {
      "cell_type": "markdown",
      "metadata": {
        "id": "pScpa3nRRxCN",
        "colab_type": "text"
      },
      "source": [
        "## Deploy\n",
        "\n",
        "Save your model's weights using the Checkpoint function. Try reloading the model and making inference on your validation dataset."
      ]
    },
    {
      "cell_type": "code",
      "metadata": {
        "id": "3cqpHQt_SIbW",
        "colab_type": "code",
        "colab": {
          "base_uri": "https://localhost:8080/",
          "height": 177
        },
        "outputId": "24111e68-dd02-40a1-fdbc-680e22ad643a"
      },
      "source": [
        "#Train Model \n",
        "import tensorflow as tf\n",
        "#Save weights\n",
        "cpoint = tf.keras.callbacks.ModelCheckpoint(\"weights_best.h5\",\n",
        "                                            verbose=1, \n",
        "                                            save_weights_only=True)\n",
        "\n",
        "def create_model():\n",
        "\n",
        "  model = tf.keras.Sequential([\n",
        "      Dense(128, input_dim=784),\n",
        "      ReLU(negative_slope=.01),\n",
        "      Dense(128),\n",
        "      ReLU(negative_slope=.01),\n",
        "      Dense(128),\n",
        "      ReLU(negative_slope=.01),\n",
        "      Dense(10, activation='softmax')\n",
        "  ])\n",
        "\n",
        "  model.compile(loss='sparse_categorical_crossentropy', optimizer='nadam',\n",
        "                metrics=['accuracy'])\n",
        "\n",
        "  return model\n",
        "\n",
        "model = create_model()\n",
        "\n",
        "model.fit(X_train, y_train, epochs=2, \n",
        "          validation_data=(X_test,y_test),\n",
        "          verbose=2,\n",
        "          callbacks=[cpoint])"
      ],
      "execution_count": 22,
      "outputs": [
        {
          "output_type": "stream",
          "text": [
            "Epoch 1/2\n",
            "\n",
            "Epoch 00001: saving model to weights_best.h5\n",
            "2500/2500 - 9s - loss: 0.6233 - accuracy: 0.8093 - val_loss: 0.5000 - val_accuracy: 0.8474\n",
            "Epoch 2/2\n",
            "\n",
            "Epoch 00002: saving model to weights_best.h5\n",
            "2500/2500 - 9s - loss: 0.4467 - accuracy: 0.8632 - val_loss: 0.4568 - val_accuracy: 0.8610\n"
          ],
          "name": "stdout"
        },
        {
          "output_type": "execute_result",
          "data": {
            "text/plain": [
              "<tensorflow.python.keras.callbacks.History at 0x7fdae4adac18>"
            ]
          },
          "metadata": {
            "tags": []
          },
          "execution_count": 22
        }
      ]
    },
    {
      "cell_type": "code",
      "metadata": {
        "id": "maSQNlgk8k0-",
        "colab_type": "code",
        "colab": {
          "base_uri": "https://localhost:8080/",
          "height": 408
        },
        "outputId": "7432ddad-7266-4bfc-f58e-9aa9499c9a09"
      },
      "source": [
        "model2 = create_model()\n",
        "model2.load_weights('./weights_best.h5') #Loads weights\n",
        "model2.summary()"
      ],
      "execution_count": 23,
      "outputs": [
        {
          "output_type": "stream",
          "text": [
            "Model: \"sequential_9\"\n",
            "_________________________________________________________________\n",
            "Layer (type)                 Output Shape              Param #   \n",
            "=================================================================\n",
            "dense_36 (Dense)             (None, 128)               100480    \n",
            "_________________________________________________________________\n",
            "re_lu_27 (ReLU)              (None, 128)               0         \n",
            "_________________________________________________________________\n",
            "dense_37 (Dense)             (None, 128)               16512     \n",
            "_________________________________________________________________\n",
            "re_lu_28 (ReLU)              (None, 128)               0         \n",
            "_________________________________________________________________\n",
            "dense_38 (Dense)             (None, 128)               16512     \n",
            "_________________________________________________________________\n",
            "re_lu_29 (ReLU)              (None, 128)               0         \n",
            "_________________________________________________________________\n",
            "dense_39 (Dense)             (None, 10)                1290      \n",
            "=================================================================\n",
            "Total params: 134,794\n",
            "Trainable params: 134,794\n",
            "Non-trainable params: 0\n",
            "_________________________________________________________________\n"
          ],
          "name": "stdout"
        }
      ]
    },
    {
      "cell_type": "code",
      "metadata": {
        "id": "M7eZV7nbABIM",
        "colab_type": "code",
        "colab": {
          "base_uri": "https://localhost:8080/",
          "height": 52
        },
        "outputId": "1f089f41-04fb-4f89-a390-2ed9f029e0f5"
      },
      "source": [
        "model2.evaluate(X_test,y_test)"
      ],
      "execution_count": 36,
      "outputs": [
        {
          "output_type": "stream",
          "text": [
            "625/625 [==============================] - 1s 2ms/step - loss: 0.4568 - accuracy: 0.8610\n"
          ],
          "name": "stdout"
        },
        {
          "output_type": "execute_result",
          "data": {
            "text/plain": [
              "[0.4568011164665222, 0.8610000014305115]"
            ]
          },
          "metadata": {
            "tags": []
          },
          "execution_count": 36
        }
      ]
    },
    {
      "cell_type": "code",
      "metadata": {
        "id": "rvumD6gd-YWI",
        "colab_type": "code",
        "colab": {
          "base_uri": "https://localhost:8080/",
          "height": 232
        },
        "outputId": "1d37d8f7-6bd3-4fce-eef3-ebeb50ca0111"
      },
      "source": [
        "# Save entire model\n",
        "# i.e. both weights and architecture\n",
        "# Create and train a new model instance.\n",
        "model = create_model()\n",
        "model.fit(X_train, y_train, validation_data=(X_test,y_test), epochs=5)\n",
        "\n",
        "# Save the entire model as a SavedModel.\n",
        "!mkdir -p saved_model\n",
        "model.save('saved_model/my_model') "
      ],
      "execution_count": 31,
      "outputs": [
        {
          "output_type": "stream",
          "text": [
            "Epoch 1/5\n",
            "2500/2500 [==============================] - 10s 4ms/step - loss: 0.6355 - accuracy: 0.8057 - val_loss: 0.5076 - val_accuracy: 0.8432\n",
            "Epoch 2/5\n",
            "2500/2500 [==============================] - 10s 4ms/step - loss: 0.4523 - accuracy: 0.8609 - val_loss: 0.4571 - val_accuracy: 0.8581\n",
            "Epoch 3/5\n",
            "2500/2500 [==============================] - 10s 4ms/step - loss: 0.3896 - accuracy: 0.8800 - val_loss: 0.4521 - val_accuracy: 0.8649\n",
            "Epoch 4/5\n",
            "2500/2500 [==============================] - 10s 4ms/step - loss: 0.3473 - accuracy: 0.8928 - val_loss: 0.4343 - val_accuracy: 0.8710\n",
            "Epoch 5/5\n",
            "2500/2500 [==============================] - 10s 4ms/step - loss: 0.3117 - accuracy: 0.9031 - val_loss: 0.4353 - val_accuracy: 0.8724\n",
            "INFO:tensorflow:Assets written to: saved_model/my_model/assets\n"
          ],
          "name": "stdout"
        }
      ]
    },
    {
      "cell_type": "code",
      "metadata": {
        "id": "yACf9jLv-mRV",
        "colab_type": "code",
        "colab": {
          "base_uri": "https://localhost:8080/",
          "height": 52
        },
        "outputId": "3a2893db-ea91-49de-d96e-dbe144768a06"
      },
      "source": [
        "model.evaluate(X_test, y_test)"
      ],
      "execution_count": 32,
      "outputs": [
        {
          "output_type": "stream",
          "text": [
            "625/625 [==============================] - 1s 2ms/step - loss: 0.4353 - accuracy: 0.8724\n"
          ],
          "name": "stdout"
        },
        {
          "output_type": "execute_result",
          "data": {
            "text/plain": [
              "[0.4353192448616028, 0.8724499940872192]"
            ]
          },
          "metadata": {
            "tags": []
          },
          "execution_count": 32
        }
      ]
    },
    {
      "cell_type": "code",
      "metadata": {
        "id": "w8GuFpgO-qv5",
        "colab_type": "code",
        "colab": {
          "base_uri": "https://localhost:8080/",
          "height": 408
        },
        "outputId": "676167c1-539e-453e-a57d-a0b05e4e7bec"
      },
      "source": [
        "# Load it back fresh, including weights and architecture\n",
        "\n",
        "new_model = tf.keras.models.load_model('saved_model/my_model')\n",
        "new_model.compile(loss='sparse_categorical_crossentropy',metrics=['accuracy'])\n",
        "new_model.summary()"
      ],
      "execution_count": 37,
      "outputs": [
        {
          "output_type": "stream",
          "text": [
            "Model: \"sequential_11\"\n",
            "_________________________________________________________________\n",
            "Layer (type)                 Output Shape              Param #   \n",
            "=================================================================\n",
            "dense_44 (Dense)             (None, 128)               100480    \n",
            "_________________________________________________________________\n",
            "re_lu_33 (ReLU)              (None, 128)               0         \n",
            "_________________________________________________________________\n",
            "dense_45 (Dense)             (None, 128)               16512     \n",
            "_________________________________________________________________\n",
            "re_lu_34 (ReLU)              (None, 128)               0         \n",
            "_________________________________________________________________\n",
            "dense_46 (Dense)             (None, 128)               16512     \n",
            "_________________________________________________________________\n",
            "re_lu_35 (ReLU)              (None, 128)               0         \n",
            "_________________________________________________________________\n",
            "dense_47 (Dense)             (None, 10)                1290      \n",
            "=================================================================\n",
            "Total params: 134,794\n",
            "Trainable params: 134,794\n",
            "Non-trainable params: 0\n",
            "_________________________________________________________________\n"
          ],
          "name": "stdout"
        }
      ]
    },
    {
      "cell_type": "code",
      "metadata": {
        "id": "IzsrHP05_H-l",
        "colab_type": "code",
        "colab": {
          "base_uri": "https://localhost:8080/",
          "height": 52
        },
        "outputId": "b0241f2b-71a3-4e68-e105-840e1368a0e8"
      },
      "source": [
        "new_model.evaluate(X_test,y_test)"
      ],
      "execution_count": 39,
      "outputs": [
        {
          "output_type": "stream",
          "text": [
            "625/625 [==============================] - 1s 2ms/step - loss: 0.4353 - accuracy: 0.8724\n"
          ],
          "name": "stdout"
        },
        {
          "output_type": "execute_result",
          "data": {
            "text/plain": [
              "[0.4353192448616028, 0.8724499940872192]"
            ]
          },
          "metadata": {
            "tags": []
          },
          "execution_count": 39
        }
      ]
    },
    {
      "cell_type": "code",
      "metadata": {
        "id": "qsITwAEL-49v",
        "colab_type": "code",
        "colab": {
          "base_uri": "https://localhost:8080/",
          "height": 177
        },
        "outputId": "59229138-986c-4ea4-f07e-da038daf7f4c"
      },
      "source": [
        "!ls -alh  # Half a meg for a model"
      ],
      "execution_count": 28,
      "outputs": [
        {
          "output_type": "stream",
          "text": [
            "total 25M\n",
            "drwxr-xr-x 1 root root 4.0K Sep 10 21:45 .\n",
            "drwxr-xr-x 1 root root 4.0K Sep 10 21:24 ..\n",
            "drwxr-xr-x 1 root root 4.0K Aug 31 16:13 .config\n",
            "drwxr-xr-x 6 root root 4.0K Sep 10 21:33 logs\n",
            "-rw-r--r-- 1 root root  25M Sep 10 21:28 quickdraw10.npz\n",
            "drwxr-xr-x 1 root root 4.0K Aug 27 16:39 sample_data\n",
            "drwxr-xr-x 3 root root 4.0K Sep 10 21:45 saved_model\n",
            "-rw-r--r-- 1 root root 546K Sep 10 21:41 weights_best.h5\n"
          ],
          "name": "stdout"
        }
      ]
    },
    {
      "cell_type": "markdown",
      "metadata": {
        "id": "LKbr1gRg9BXs",
        "colab_type": "text"
      },
      "source": [
        "### Stretch Goals\n",
        "- Mount your Google Drive to Colab to persist your model checkpoint files. \n",
        "- Research L2 normalization (weight decay)\n",
        "- Write a custom callback function to stop training after you reach .88 validation accuracy. \n",
        "- Select a new dataset and apply a neural network to it.\n",
        "- Research TensorFlow Serving\n",
        "- Play [QuickDraw](https://quickdraw.withgoogle.com/data)\n",
        "- Create a static webpage using TensorFlow.js to serve a model. Check out [Teachable Machine Learning](https://teachablemachine.withgoogle.com/) for ideas. "
      ]
    }
  ]
}