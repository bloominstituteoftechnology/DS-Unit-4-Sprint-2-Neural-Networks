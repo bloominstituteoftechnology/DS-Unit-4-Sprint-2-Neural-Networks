{
 "cells": [
  {
   "cell_type": "code",
   "execution_count": 1,
   "metadata": {},
   "outputs": [
    {
     "name": "stderr",
     "output_type": "stream",
     "text": [
      "2022-04-06 20:57:54.197871: W tensorflow/stream_executor/platform/default/dso_loader.cc:64] Could not load dynamic library 'libcudart.so.11.0'; dlerror: libcudart.so.11.0: cannot open shared object file: No such file or directory\n",
      "2022-04-06 20:57:54.197937: I tensorflow/stream_executor/cuda/cudart_stub.cc:29] Ignore above cudart dlerror if you do not have a GPU set up on your machine.\n",
      "2022-04-06 20:57:56.007451: W tensorflow/stream_executor/platform/default/dso_loader.cc:64] Could not load dynamic library 'libcuda.so.1'; dlerror: libcuda.so.1: cannot open shared object file: No such file or directory\n",
      "2022-04-06 20:57:56.007573: W tensorflow/stream_executor/cuda/cuda_driver.cc:269] failed call to cuInit: UNKNOWN ERROR (303)\n",
      "2022-04-06 20:57:56.007627: I tensorflow/stream_executor/cuda/cuda_diagnostics.cc:156] kernel driver does not appear to be running on this host (Opti17): /proc/driver/nvidia/version does not exist\n",
      "2022-04-06 20:57:56.008874: I tensorflow/core/platform/cpu_feature_guard.cc:151] This TensorFlow binary is optimized with oneAPI Deep Neural Network Library (oneDNN) to use the following CPU instructions in performance-critical operations:  AVX2 FMA\n",
      "To enable them in other operations, rebuild TensorFlow with the appropriate compiler flags.\n"
     ]
    },
    {
     "name": "stdout",
     "output_type": "stream",
     "text": [
      "Epoch 1/10\n",
      "5/5 [==============================] - 0s 2ms/step - loss: 128153801113731072.0000\n",
      "Epoch 2/10\n",
      "5/5 [==============================] - 0s 2ms/step - loss: 5339699616952577143243009949696000.0000\n",
      "Epoch 3/10\n",
      "5/5 [==============================] - 0s 2ms/step - loss: inf                                    \n",
      "Epoch 4/10\n",
      "5/5 [==============================] - 0s 2ms/step - loss: inf\n"
     ]
    }
   ],
   "source": [
    "# Example: Keras EarlyStopping documentation\n",
    "\n",
    "# Imports\n",
    "import tensorflow as tf\n",
    "import numpy as np\n",
    "\n",
    "# \n",
    "callback = tf.keras.callbacks.EarlyStopping(monitor='loss', patience=3)\n",
    "# This callback will stop the training when there is no improvement in  \n",
    "# the validation loss for three consecutive epochs.  \n",
    "model = tf.keras.models.Sequential([tf.keras.layers.Dense(10)])\n",
    "model.compile(tf.keras.optimizers.SGD(), loss='mse')\n",
    "\n",
    "# Create some data\n",
    "# X: sequence from 0 to 99\n",
    "X = np.arange(100).reshape(5, 20)\n",
    "\n",
    "# y: an array of zeroes\n",
    "y = np.zeros(5)\n",
    "\n",
    "# Model this data using the EarlyStopping callback\n",
    "history = model.fit(X, y, epochs=10, batch_size=1, callbacks=[callback])"
   ]
  }
 ],
 "metadata": {
  "interpreter": {
   "hash": "197b4b3b7e4e7cf2cb1e2df97753f20b126ca79c47e8ad655a5130b1a1137e29"
  },
  "kernelspec": {
   "display_name": "Python 3.8.10 ('.venv': venv)",
   "language": "python",
   "name": "python3"
  },
  "language_info": {
   "codemirror_mode": {
    "name": "ipython",
    "version": 3
   },
   "file_extension": ".py",
   "mimetype": "text/x-python",
   "name": "python",
   "nbconvert_exporter": "python",
   "pygments_lexer": "ipython3",
   "version": "3.8.10"
  },
  "orig_nbformat": 4
 },
 "nbformat": 4,
 "nbformat_minor": 2
}
